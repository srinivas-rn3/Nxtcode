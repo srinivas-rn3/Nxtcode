{
 "cells": [
  {
   "cell_type": "code",
   "execution_count": 1,
   "id": "eb65f496",
   "metadata": {},
   "outputs": [],
   "source": [
    "#https://www.geeksforgeeks.org/numpy-mathematical-function/?ref=rp"
   ]
  },
  {
   "cell_type": "markdown",
   "id": "c3f55a97",
   "metadata": {},
   "source": [
    "NumPy contains a large number of various mathematical operations. \n",
    "NumPy provides standard trigonometric functions, functions for arithmetic operations,\n",
    "handling complex numbers, etc.\n",
    "\n",
    "Trigonometric Functions –\n",
    "NumPy has standard trigonometric functions which return trigonometric ratios for a given angle in radians.\n",
    "\n",
    "numpy.sin"
   ]
  },
  {
   "cell_type": "code",
   "execution_count": 2,
   "id": "2dc31388",
   "metadata": {},
   "outputs": [],
   "source": [
    "import numpy as np\n",
    "import math\n"
   ]
  },
  {
   "cell_type": "code",
   "execution_count": 7,
   "id": "b3807daf",
   "metadata": {},
   "outputs": [
    {
     "name": "stdout",
     "output_type": "stream",
     "text": [
      "[0, 1.5707963267948966, 1.0471975511965976, 3.141592653589793]\n",
      "\n",
      " Sine Values:\n",
      " [0.00000000e+00 1.00000000e+00 8.66025404e-01 1.22464680e-16]\n",
      "\n",
      " Cosine Values:\n",
      " [ 1.000000e+00  6.123234e-17  5.000000e-01 -1.000000e+00]\n"
     ]
    }
   ],
   "source": [
    "in_array = [0,math.pi/2,np.pi/3,np.pi]\n",
    "print(in_array)\n",
    "Sin_values = np.sin(in_array)\n",
    "print(\"\\n Sine Values:\\n\",Sin_values)\n",
    "Cos_values = np.cos(in_array)\n",
    "print(\"\\n Cosine Values:\\n\",Cos_values)"
   ]
  },
  {
   "cell_type": "markdown",
   "id": "1cd74c8c",
   "metadata": {},
   "source": [
    "***Hyperbolic Functions –***\n",
    "numpy.sinh(x[, out]) = ufunc ‘sin’) : This mathematical function helps user to calculate hyperbolic sine for all x(being the array elements)."
   ]
  },
  {
   "cell_type": "code",
   "execution_count": 8,
   "id": "4a8472a1",
   "metadata": {},
   "outputs": [
    {
     "name": "stdout",
     "output_type": "stream",
     "text": [
      "[0, 1.5707963267948966, 1.0471975511965976, 3.141592653589793]\n",
      "\n",
      "Sine Hyperbolic values: [ 0.          2.3012989   1.24936705 11.54873936]\n"
     ]
    }
   ],
   "source": [
    "in_array = [0,math.pi/2,np.pi/3,np.pi]\n",
    "print(in_array)\n",
    "sin_values = np.sinh(in_array)\n",
    "print(\"\\nSine Hyperbolic values:\",sin_values)"
   ]
  },
  {
   "cell_type": "markdown",
   "id": "ee9afaed",
   "metadata": {},
   "source": [
    "***numpy.cosh(x[, out]) = ufunc ‘cos’) :*** \n",
    "This mathematical function helps user to calculate hyperbolic cosine for all x(being the array elements).\n",
    "\n",
    "Equivalent to 1/2 * (np.exp(x) - np.exp(-x)) and np.cos(1j*x)"
   ]
  },
  {
   "cell_type": "code",
   "execution_count": 9,
   "id": "e776a15d",
   "metadata": {},
   "outputs": [
    {
     "name": "stdout",
     "output_type": "stream",
     "text": [
      "\n",
      "Cosine Hyperbolic values:\n",
      " [ 1.          2.50917848  1.60028686 11.59195328]\n"
     ]
    }
   ],
   "source": [
    "in_array = [0,math.pi/2,np.pi/3,np.pi]\n",
    "cosh_values = np.cosh(in_array)\n",
    "print(\"\\nCosine Hyperbolic values:\\n\",cosh_values)"
   ]
  },
  {
   "cell_type": "markdown",
   "id": "8d674b14",
   "metadata": {},
   "source": [
    "***Functions for Rounding –***\n",
    "numpy.around(arr, decimals = 0, out = None) : This mathematical function helps user to evenly round \n",
    "array elements to the given number of decimals."
   ]
  },
  {
   "cell_type": "code",
   "execution_count": 22,
   "id": "b72edcf9",
   "metadata": {},
   "outputs": [
    {
     "name": "stdout",
     "output_type": "stream",
     "text": [
      "Input array is \n",
      " [1.5, 0.5, 2.5, 3.5, 4.5, 10.1]\n",
      "\n",
      "Round of values:\n",
      " [ 2.  0.  2.  4.  4. 10.]\n",
      "\n",
      "Input array : \n",
      " [0.53, 1.54, 0.71]\n",
      "\n",
      "Rounded values : \n",
      " [1. 2. 1.]\n",
      "\n",
      "Input array : \n",
      " [0.5538, 1.33354, 0.71445]\n",
      "\n",
      "Rounded values : \n",
      " [0.554 1.334 0.714]\n"
     ]
    }
   ],
   "source": [
    "in_array = [1.5,0.5,2.5,3.5,4.5,10.1]\n",
    "print(\"Input array is \\n\", in_array)\n",
    "\n",
    "round_off_values = np.around(in_array)\n",
    "print(\"\\nRound of values:\\n\",round_off_values)\n",
    "\n",
    "in_array1 = [.53,1.54,.71]\n",
    "print (\"\\nInput array : \\n\", in_array1)\n",
    "\n",
    "round_off_values = np.around(in_array1)\n",
    "print (\"\\nRounded values : \\n\", round_off_values)\n",
    "\n",
    "in_array3 = [.5538, 1.33354, .71445]\n",
    "print (\"\\nInput array : \\n\", in_array3)\n",
    "\n",
    "round_of_values3= np.around(in_array3,decimals = 3)\n",
    "print (\"\\nRounded values : \\n\", round_of_values3)\n",
    "\n"
   ]
  },
  {
   "cell_type": "markdown",
   "id": "fe5c2908",
   "metadata": {},
   "source": [
    "***numpy.round_(arr, decimals = 0, out = None) :***\n",
    "This mathematical function round an array to the given number of decimals."
   ]
  },
  {
   "cell_type": "code",
   "execution_count": 30,
   "id": "38d84880",
   "metadata": {},
   "outputs": [
    {
     "name": "stdout",
     "output_type": "stream",
     "text": [
      "[0.5, 1.5, 2.5, 3.5, 4.5, 10.1]\n",
      "[ 0.  2.  2.  4.  4. 10.]\n",
      "\n",
      "Input array : \n",
      " [0.53, 1.54, 0.71]\n",
      "[1. 2. 1.]\n",
      "\n",
      "Input array : \n",
      " [0.5538, 1.33354, 0.71445]\n",
      "[0.554 1.334 0.714]\n"
     ]
    }
   ],
   "source": [
    "# Python program explaining\n",
    "# round_() function\n",
    "in_arr1 = [.5, 1.5, 2.5, 3.5, 4.5, 10.1]\n",
    "print(in_arr1)\n",
    "r1 = np.round_(in_arr1)\n",
    "print(r1)\n",
    "\n",
    "in_arr2 = [.53, 1.54, .71]\n",
    "print (\"\\nInput array : \\n\", in_arr2)\n",
    "r2 = np.round_(in_arr2)\n",
    "print(r2)\n",
    "\n",
    "in_arr3 = [.5538, 1.33354, .71445]\n",
    "print (\"\\nInput array : \\n\", in_arr3)\n",
    "\n",
    "r3 = np.round_(in_arr3,decimals=3)\n",
    "print(r3)"
   ]
  },
  {
   "cell_type": "markdown",
   "id": "8899f816",
   "metadata": {},
   "source": [
    "***Exponents and logarithms Functions –***"
   ]
  },
  {
   "cell_type": "code",
   "execution_count": 31,
   "id": "f6ebf048",
   "metadata": {},
   "outputs": [
    {
     "name": "stdout",
     "output_type": "stream",
     "text": [
      "in Arr : [1, 3, 5]\n",
      "[  2.71828183  20.08553692 148.4131591 ]\n"
     ]
    }
   ],
   "source": [
    "# Python program explaining\n",
    "# exp() function\n",
    "\n",
    "in_ar1 = [1,3,5]\n",
    "print(\"in Arr :\",in_ar1)\n",
    "oa = np.exp(in_ar1)\n",
    "print(oa)"
   ]
  },
  {
   "cell_type": "markdown",
   "id": "6f91bcf9",
   "metadata": {},
   "source": [
    "\n",
    "***numpy.log(x[, out] = ufunc ‘log1p’) :*** \n",
    "\n",
    "This mathematical function helps user to calculate Natural logarithm of x where x belongs to all the input array elements.\n",
    "Natural logarithm log is the inverse of the exp(), so that log(exp(x)) = x. The natural logarithm is log in base e"
   ]
  },
  {
   "cell_type": "code",
   "execution_count": 35,
   "id": "e8452baf",
   "metadata": {},
   "outputs": [
    {
     "name": "stdout",
     "output_type": "stream",
     "text": [
      "Input array :  [1, 3, 5, 256]\n",
      "[0.         1.09861229 1.60943791 5.54517744]\n",
      "5.545177444479562\n",
      "5.545177444479562\n"
     ]
    }
   ],
   "source": [
    "i3 = [1, 3, 5, 2**8]\n",
    "print (\"Input array : \", i3)\n",
    "l = np.log(i3)\n",
    "print(l)\n",
    "print(np.log(4**4))\n",
    "print(np.log(2**8))\n"
   ]
  },
  {
   "cell_type": "markdown",
   "id": "a0e6b5cd",
   "metadata": {},
   "source": [
    "***Arithmetic Functions –*** \n",
    "\n",
    "numpy.reciprocal(x, /, out=None, *, where=True) : This mathematical function is used to calculate reciprocal of all the elements in the input array."
   ]
  },
  {
   "cell_type": "code",
   "execution_count": 36,
   "id": "3c558b5c",
   "metadata": {},
   "outputs": [
    {
     "data": {
      "text/plain": [
       "0.5"
      ]
     },
     "execution_count": 36,
     "metadata": {},
     "output_type": "execute_result"
    }
   ],
   "source": [
    "in_sum = 2.0\n",
    "out_sum = np.reciprocal(in_sum)\n",
    "out_sum"
   ]
  },
  {
   "cell_type": "markdown",
   "id": "fefc42d1",
   "metadata": {},
   "source": [
    "***numpy.divide(arr1, arr2, out = None, where = True, casting = ‘same_kind’, order = ‘K’, dtype = None) :***"
   ]
  },
  {
   "cell_type": "code",
   "execution_count": 37,
   "id": "e46e6b92",
   "metadata": {},
   "outputs": [
    {
     "name": "stdout",
     "output_type": "stream",
     "text": [
      "arr1         :  [2, 27, 2, 21, 23]\n",
      "arr2         :  [2, 3, 4, 5, 6]\n"
     ]
    },
    {
     "data": {
      "text/plain": [
       "array([1.        , 9.        , 0.5       , 4.2       , 3.83333333])"
      ]
     },
     "execution_count": 37,
     "metadata": {},
     "output_type": "execute_result"
    }
   ],
   "source": [
    " # input_array\n",
    "arr1 = [2, 27, 2, 21, 23]\n",
    "arr2 = [2, 3, 4, 5, 6]\n",
    "print (\"arr1         : \", arr1)\n",
    "print (\"arr2         : \", arr2)\n",
    "out = np.divide(arr1,arr2)\n",
    "out"
   ]
  },
  {
   "cell_type": "markdown",
   "id": "f15c5422",
   "metadata": {},
   "source": [
    "***Complex number Function –*** \n",
    "\n",
    "numpy.isreal(array) : Test element-wise whether it is a real number or not(not infinity or not Not a Number) and return the result as a boolean array."
   ]
  },
  {
   "cell_type": "code",
   "execution_count": 40,
   "id": "553c5e7b",
   "metadata": {},
   "outputs": [
    {
     "name": "stdout",
     "output_type": "stream",
     "text": [
      "[False  True]\n",
      "[ True  True]\n"
     ]
    }
   ],
   "source": [
    "a = np.isreal([1+1j,0j])\n",
    "print(a)\n",
    "b = np.isreal([1,0])\n",
    "print(b)"
   ]
  },
  {
   "cell_type": "markdown",
   "id": "ced56978",
   "metadata": {},
   "source": [
    "***numpy.conj(x[, out] = ufunc ‘conjugate’) :*** \n",
    "This function helps the user to conjugate any complex number.\n",
    "The conjugate of a complex number is obtained by changing the sign of its imaginary part. If the complex number is 2+5j then its conjugate is 2-5j."
   ]
  },
  {
   "cell_type": "code",
   "execution_count": 41,
   "id": "7453d38a",
   "metadata": {},
   "outputs": [
    {
     "data": {
      "text/plain": [
       "(2-4j)"
      ]
     },
     "execution_count": 41,
     "metadata": {},
     "output_type": "execute_result"
    }
   ],
   "source": [
    "n_complx1 = 2+4j\n",
    "out= np.conj(n_complx1)\n",
    "out"
   ]
  },
  {
   "cell_type": "code",
   "execution_count": 42,
   "id": "b631a6d7",
   "metadata": {},
   "outputs": [
    {
     "data": {
      "text/plain": [
       "(5+8j)"
      ]
     },
     "execution_count": 42,
     "metadata": {},
     "output_type": "execute_result"
    }
   ],
   "source": [
    "in_com2 =5-8j\n",
    "out = np.conj(in_com2)\n",
    "out"
   ]
  },
  {
   "cell_type": "markdown",
   "id": "38637961",
   "metadata": {},
   "source": [
    "***numpy.cbrt(arr, out = None, ufunc ‘cbrt’) :***\n",
    "This mathematical function helps user to calculate cube root of x for all x being the array elements"
   ]
  },
  {
   "cell_type": "code",
   "execution_count": 43,
   "id": "52e542b2",
   "metadata": {},
   "outputs": [
    {
     "name": "stdout",
     "output_type": "stream",
     "text": [
      "[  1.  30.   4. -10.]\n"
     ]
    }
   ],
   "source": [
    "arr1 = [1, 27000, 64, -1000]\n",
    "print(np.cbrt(arr1))"
   ]
  },
  {
   "cell_type": "code",
   "execution_count": 44,
   "id": "561d68f4",
   "metadata": {},
   "outputs": [
    {
     "name": "stdout",
     "output_type": "stream",
     "text": [
      "[10.0793684 -5.0396842]\n"
     ]
    }
   ],
   "source": [
    "arr2 = [1024 ,-128]\n",
    "print(np.cbrt(arr2))"
   ]
  },
  {
   "cell_type": "markdown",
   "id": "00c62531",
   "metadata": {},
   "source": [
    "***numpy.clip() :***\n",
    "This function is used to Clip (limit) the values in an array.\n",
    "Given an interval, values outside the interval are clipped to the interval edges. For example, if an interval of [0, 1] is specified, values smaller than 0 become 0, and values larger than 1 become 1."
   ]
  },
  {
   "cell_type": "code",
   "execution_count": 45,
   "id": "261d3a96",
   "metadata": {},
   "outputs": [
    {
     "name": "stdout",
     "output_type": "stream",
     "text": [
      "Input array :  [1.5, 0.5, 2.5, 3.5, 4.5, 10.1]\n"
     ]
    }
   ],
   "source": [
    "in_a1 = [1, 2, 3, 4, 5, 6, 7, 8 ]\n",
    "print (\"Input array : \", in_array)\n",
    "\n",
    "out = np.clip(in_a1, a_min=2 , a_max=6)\n"
   ]
  },
  {
   "cell_type": "code",
   "execution_count": 54,
   "id": "acb46315",
   "metadata": {},
   "outputs": [
    {
     "name": "stdout",
     "output_type": "stream",
     "text": [
      "[ 0  1  2  3  4  5  6  7  8  9 10 11 12 13 14 15 16 17 18 19]\n",
      "[1 1 2 3 4 5 6 7 8 8 8 8 8 8 8 8 8 8 8 8]\n"
     ]
    }
   ],
   "source": [
    "clip = np.arange(20)\n",
    "print(clip)\n",
    "print(np.clip(clip,1,8))"
   ]
  },
  {
   "cell_type": "code",
   "execution_count": null,
   "id": "61d87348",
   "metadata": {},
   "outputs": [],
   "source": []
  }
 ],
 "metadata": {
  "kernelspec": {
   "display_name": "Python 3 (ipykernel)",
   "language": "python",
   "name": "python3"
  },
  "language_info": {
   "codemirror_mode": {
    "name": "ipython",
    "version": 3
   },
   "file_extension": ".py",
   "mimetype": "text/x-python",
   "name": "python",
   "nbconvert_exporter": "python",
   "pygments_lexer": "ipython3",
   "version": "3.11.1"
  }
 },
 "nbformat": 4,
 "nbformat_minor": 5
}
