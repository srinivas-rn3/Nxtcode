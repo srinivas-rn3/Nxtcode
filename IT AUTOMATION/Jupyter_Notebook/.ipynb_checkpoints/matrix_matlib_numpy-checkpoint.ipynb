{
 "cells": [
  {
   "cell_type": "markdown",
   "id": "54275c29",
   "metadata": {},
   "source": [
    "### numpy matrix operations"
   ]
  },
  {
   "cell_type": "markdown",
   "id": "de343637",
   "metadata": {},
   "source": [
    "***numpy.matlib.empty()*** is another function for doing matrix operations in numpy.\n",
    "It returns a new matrix of given shape and type, without initializing entries."
   ]
  },
  {
   "cell_type": "code",
   "execution_count": 5,
   "id": "16d93ef2",
   "metadata": {},
   "outputs": [],
   "source": [
    "import numpy as np\n",
    "import numpy.matlib"
   ]
  },
  {
   "cell_type": "code",
   "execution_count": 7,
   "id": "b50e28d5",
   "metadata": {},
   "outputs": [
    {
     "name": "stdout",
     "output_type": "stream",
     "text": [
      "Ouput matrix:\n",
      " [[0. 0. 0.]\n",
      " [0. 0. 0.]]\n"
     ]
    }
   ],
   "source": [
    "out_mat = np.matlib.empty((2,3))\n",
    "print(\"Ouput matrix:\\n\",out_mat)"
   ]
  },
  {
   "cell_type": "code",
   "execution_count": 10,
   "id": "638c9829",
   "metadata": {},
   "outputs": [
    {
     "name": "stdout",
     "output_type": "stream",
     "text": [
      "output matrix:\n",
      " [[ 225388624        397          0]\n",
      " [         0     131074 -267321085]]\n"
     ]
    }
   ],
   "source": [
    "out_mat1 = np.matlib.empty((2,3),dtype=int,order = 'C')\n",
    "print(\"output matrix:\\n\",out_mat1)"
   ]
  },
  {
   "cell_type": "markdown",
   "id": "1267c13b",
   "metadata": {},
   "source": [
    "***numpy matrix operations | zeros() function***"
   ]
  },
  {
   "cell_type": "markdown",
   "id": "6e2df171",
   "metadata": {},
   "source": [
    "***numpy.matlib.zeros()*** is another function for doing matrix operations in numpy. It returns a matrix of given shape and type, filled with zeros."
   ]
  },
  {
   "cell_type": "markdown",
   "id": "0783ccf8",
   "metadata": {},
   "source": [
    "o = np.matlib.zeros((3,4))\n",
    "print(\"Output Matrix:\\n\",o)"
   ]
  },
  {
   "cell_type": "code",
   "execution_count": 13,
   "id": "c801037f",
   "metadata": {},
   "outputs": [
    {
     "name": "stdout",
     "output_type": "stream",
     "text": [
      "[[0 0 0 0 0]]\n"
     ]
    }
   ],
   "source": [
    "o1 = np.matlib.zeros(shape = 5,dtype = int,order='C')\n",
    "print(o1)"
   ]
  },
  {
   "cell_type": "markdown",
   "id": "5ff7355a",
   "metadata": {},
   "source": [
    "***numpy.matlib.ones()*** is another function for doing matrix operations in numpy.\n",
    "It returns a matrix of given shape and type, filled with ones."
   ]
  },
  {
   "cell_type": "code",
   "execution_count": 14,
   "id": "17c7c226",
   "metadata": {},
   "outputs": [
    {
     "name": "stdout",
     "output_type": "stream",
     "text": [
      "[[1. 1. 1. 1.]\n",
      " [1. 1. 1. 1.]\n",
      " [1. 1. 1. 1.]]\n"
     ]
    }
   ],
   "source": [
    "e = np.matlib.ones((3,4))\n",
    "print(e)"
   ]
  },
  {
   "cell_type": "code",
   "execution_count": 16,
   "id": "9f645105",
   "metadata": {},
   "outputs": [
    {
     "name": "stdout",
     "output_type": "stream",
     "text": [
      "[[1 1 1 1 1]]\n"
     ]
    }
   ],
   "source": [
    "e = np.matlib.ones(shape  =5 ,dtype = int)\n",
    "print(e)"
   ]
  },
  {
   "cell_type": "markdown",
   "id": "5db58a5c",
   "metadata": {},
   "source": [
    "***numpy matrix operations | identity() function***"
   ]
  },
  {
   "cell_type": "code",
   "execution_count": 17,
   "id": "02ab77b6",
   "metadata": {},
   "outputs": [
    {
     "name": "stdout",
     "output_type": "stream",
     "text": [
      "[[1. 0. 0.]\n",
      " [0. 1. 0.]\n",
      " [0. 0. 1.]]\n"
     ]
    }
   ],
   "source": [
    "i = np.matlib.identity(3)\n",
    "print(i)"
   ]
  },
  {
   "cell_type": "code",
   "execution_count": 20,
   "id": "be6fafba",
   "metadata": {},
   "outputs": [
    {
     "name": "stdout",
     "output_type": "stream",
     "text": [
      "[[1 0 0 0 0]\n",
      " [0 1 0 0 0]\n",
      " [0 0 1 0 0]\n",
      " [0 0 0 1 0]\n",
      " [0 0 0 0 1]]\n"
     ]
    }
   ],
   "source": [
    "i = np.matlib.identity(n=5,dtype=int) #n : [int] Number of rows and columns in the output matrix. dtype : [optional] Desired output data-type.\n",
    "print(i)"
   ]
  },
  {
   "cell_type": "markdown",
   "id": "e5e21561",
   "metadata": {},
   "source": [
    "***Matrix Multiplication in NumPy***"
   ]
  },
  {
   "cell_type": "markdown",
   "id": "803f029f",
   "metadata": {},
   "source": [
    "***In Python numpy.dot()*** method is used to calculate the dot product between two arrays.\n",
    "For example, for two matrices A and B.\n",
    "\n",
    "A = [[1, 2], [2, 3]]\n",
    "B = [[4, 5], [6, 7]]\n",
    "\n",
    "So, A.B = [[1*4 + 2*6, 2*4 + 3*6], [1*5 + 2*7, 2*5 + 3*7]\n",
    "So the computed answer will be: [[16, 26], [19, 31]]"
   ]
  },
  {
   "cell_type": "code",
   "execution_count": 22,
   "id": "540ad231",
   "metadata": {},
   "outputs": [
    {
     "name": "stdout",
     "output_type": "stream",
     "text": [
      "Matrix:\n",
      " [[1, 2], [2, 3]]\n",
      "Matrix:\n",
      " [[4, 5], [6, 7]]\n",
      "[[16 19]\n",
      " [26 31]]\n"
     ]
    }
   ],
   "source": [
    "p = [[1, 2], [2, 3]]\n",
    "q = [[4, 5], [6, 7]]\n",
    "\n",
    "print(\"Matrix:\\n\",p)\n",
    "print(\"Matrix:\\n\",q)\n",
    "result =np.dot(p,q)\n",
    "print(result)"
   ]
  },
  {
   "cell_type": "code",
   "execution_count": 23,
   "id": "396c7db2",
   "metadata": {},
   "outputs": [
    {
     "name": "stdout",
     "output_type": "stream",
     "text": [
      "Matrix p :\n",
      " [[1, 2], [2, 3], [4, 5]]\n",
      "Matrix q:\n",
      " [[4, 5, 1], [6, 7, 2]]\n",
      "The Matrix multiplcation:\n",
      " [[16 19  5]\n",
      " [26 31  8]\n",
      " [46 55 14]]\n"
     ]
    }
   ],
   "source": [
    "p = [[1, 2], [2, 3], [4, 5]]\n",
    "q = [[4, 5, 1], [6, 7, 2]]\n",
    "\n",
    "print(\"Matrix p :\\n\",p)\n",
    "print(\"Matrix q:\\n\",q)\n",
    "\n",
    "result = np.dot(p,q)\n",
    "print(\"The Matrix multiplcation:\\n\",result)\n"
   ]
  },
  {
   "cell_type": "code",
   "execution_count": 24,
   "id": "69bc0d4b",
   "metadata": {},
   "outputs": [
    {
     "data": {
      "text/plain": [
       "array([[4, 1],\n",
       "       [2, 2]])"
      ]
     },
     "execution_count": 24,
     "metadata": {},
     "output_type": "execute_result"
    }
   ],
   "source": [
    "a = [[1, 0], [0, 1]]\n",
    "b = [[4, 1], [2, 2]]\n",
    "np.dot(a, b)"
   ]
  },
  {
   "cell_type": "code",
   "execution_count": null,
   "id": "920dfa56",
   "metadata": {},
   "outputs": [],
   "source": [
    "#https://www.geeksforgeeks.org/numpy-tutorial/"
   ]
  }
 ],
 "metadata": {
  "kernelspec": {
   "display_name": "Python 3 (ipykernel)",
   "language": "python",
   "name": "python3"
  },
  "language_info": {
   "codemirror_mode": {
    "name": "ipython",
    "version": 3
   },
   "file_extension": ".py",
   "mimetype": "text/x-python",
   "name": "python",
   "nbconvert_exporter": "python",
   "pygments_lexer": "ipython3",
   "version": "3.11.1"
  }
 },
 "nbformat": 4,
 "nbformat_minor": 5
}
