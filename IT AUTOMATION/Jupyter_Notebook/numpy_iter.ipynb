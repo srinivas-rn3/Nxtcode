{
 "cells": [
  {
   "cell_type": "code",
   "execution_count": 1,
   "id": "f812f6dd",
   "metadata": {},
   "outputs": [],
   "source": [
    "# Python program for\n",
    "# iterating over array\n",
    "import numpy as np"
   ]
  },
  {
   "cell_type": "code",
   "execution_count": 3,
   "id": "bbd1e4ef",
   "metadata": {},
   "outputs": [
    {
     "data": {
      "text/plain": [
       "array([[ 0,  1,  2,  3],\n",
       "       [ 4,  5,  6,  7],\n",
       "       [ 8,  9, 10, 11]])"
      ]
     },
     "execution_count": 3,
     "metadata": {},
     "output_type": "execute_result"
    }
   ],
   "source": [
    "# creating an array using arrange \n",
    "# method\n",
    "a = np.arange(12).reshape(3,4)\n",
    "a"
   ]
  },
  {
   "cell_type": "code",
   "execution_count": 4,
   "id": "b17f7097",
   "metadata": {},
   "outputs": [
    {
     "name": "stdout",
     "output_type": "stream",
     "text": [
      "Modified array is:\n"
     ]
    }
   ],
   "source": [
    "print(\"Modified array is:\")"
   ]
  },
  {
   "cell_type": "code",
   "execution_count": 6,
   "id": "7dc72611",
   "metadata": {},
   "outputs": [
    {
     "name": "stdout",
     "output_type": "stream",
     "text": [
      "0\n",
      "1\n",
      "2\n",
      "3\n",
      "4\n",
      "5\n",
      "6\n",
      "7\n",
      "8\n",
      "9\n",
      "10\n",
      "11\n"
     ]
    }
   ],
   "source": [
    "for x in np.nditer(a):\n",
    "    print(x)"
   ]
  },
  {
   "cell_type": "code",
   "execution_count": 10,
   "id": "a7abb675",
   "metadata": {},
   "outputs": [
    {
     "name": "stdout",
     "output_type": "stream",
     "text": [
      "[[ 0  1  2  3]\n",
      " [ 4  5  6  7]\n",
      " [ 8  9 10 11]]\n",
      "Modified array in C-style order:\n",
      "0\n",
      "1\n",
      "2\n",
      "3\n",
      "4\n",
      "5\n",
      "6\n",
      "7\n",
      "8\n",
      "9\n",
      "10\n",
      "11\n"
     ]
    }
   ],
   "source": [
    "# creating an array using arrange \n",
    "# method\n",
    "a = np.arange(12)\n",
    "# shape array with 3 rows and \n",
    "# 4 columns\n",
    "a = a.reshape(3,4)\n",
    "print(a)\n",
    "print('Modified array in C-style order:')\n",
    "# iterating an array in a given\n",
    "# order \n",
    "for x in np.nditer(a,order='C'):\n",
    "    print(x)"
   ]
  },
  {
   "cell_type": "code",
   "execution_count": 11,
   "id": "f8a79d50",
   "metadata": {},
   "outputs": [
    {
     "name": "stdout",
     "output_type": "stream",
     "text": [
      "[[ 0  1  2  3]\n",
      " [ 4  5  6  7]\n",
      " [ 8  9 10 11]]\n",
      "Modified array in F-style order:\n",
      "0\n",
      "4\n",
      "8\n",
      "1\n",
      "5\n",
      "9\n",
      "2\n",
      "6\n",
      "10\n",
      "3\n",
      "7\n",
      "11\n"
     ]
    }
   ],
   "source": [
    "a = np.arange(12).reshape(3,4)\n",
    "print(a)\n",
    "print('Modified array in F-style order:')\n",
    "for x in np.nditer(a,order='F'):\n",
    "    print(x)"
   ]
  },
  {
   "cell_type": "markdown",
   "id": "92f6c860",
   "metadata": {},
   "source": [
    "***Modifying Array Values:***\n",
    "\n",
    "The nditer object has another optional parameter called op_flags.\n",
    "Its default value is read-only, but can be set to read-write\n",
    "or write-only mode.This will enable modifying array elements using this iterator."
   ]
  },
  {
   "cell_type": "code",
   "execution_count": 14,
   "id": "bbbcce88",
   "metadata": {},
   "outputs": [
    {
     "name": "stdout",
     "output_type": "stream",
     "text": [
      "Original array is:\n",
      "[[ 0  1  2  3]\n",
      " [ 4  5  6  7]\n",
      " [ 8  9 10 11]]\n",
      "Modified array is:\n",
      "[[ 0  5 10 15]\n",
      " [20 25 30 35]\n",
      " [40 45 50 55]]\n"
     ]
    }
   ],
   "source": [
    "a = np.arange(12).reshape(3,4)\n",
    "print(\"Original array is:\")\n",
    "print(a)\n",
    "# modifying array values\n",
    "for x in np.nditer(a,op_flags =['readwrite']):\n",
    "    x[...] = 5 *x\n",
    "print(\"Modified array is:\")\n",
    "print(a)\n"
   ]
  },
  {
   "cell_type": "code",
   "execution_count": 20,
   "id": "b79b8416",
   "metadata": {},
   "outputs": [
    {
     "name": "stdout",
     "output_type": "stream",
     "text": [
      "[[ 0  1  2  3]\n",
      " [ 4  5  6  7]\n",
      " [ 8  9 10 11]]\n",
      "Modified array is:\n",
      "[ 0  1  2  3  4  5  6  7  8  9 10 11]\n"
     ]
    }
   ],
   "source": [
    "a = np.arange(12)\n",
    "a = a.reshape(3,4)\n",
    "print(a)\n",
    "print('Modified array is:',end='\\n')\n",
    "for x  in np.nditer(a,flags=['external_loop'], order = 'C'):\n",
    "    print(x)"
   ]
  },
  {
   "cell_type": "markdown",
   "id": "70b535cd",
   "metadata": {},
   "source": [
    "a = np.arange(6)\n",
    "a=a.reshape(2,3)\n",
    "print(a)\n",
    "it = np.nditer(a, flags=['f_index'])\n",
    "while not it.finished:\n",
    "    print(\"%d <%d>\"% (it[0],it.index),end =\" \")\n",
    "    it.iternext()"
   ]
  },
  {
   "cell_type": "markdown",
   "id": "e6da9724",
   "metadata": {},
   "source": [
    "***Broadcasting Iteration:***\n",
    "    \n",
    "If two arrays are broadcastable, a combined nditer object is able\n",
    "to iterate upon them concurrently. Assuming that an array a has dimension 3X4, \n",
    "and there is another array b of dimension 1X4, the iterator of following\n",
    "type is used (array b is broadcast to size of a)."
   ]
  },
  {
   "cell_type": "code",
   "execution_count": 24,
   "id": "7b3ef4a3",
   "metadata": {},
   "outputs": [
    {
     "name": "stdout",
     "output_type": "stream",
     "text": [
      "First array is:\n",
      "[[ 0  1  2  3]\n",
      " [ 4  5  6  7]\n",
      " [ 8  9 10 11]]\n",
      "\n",
      "Second array is:\n",
      "[5 6 7 8]\n",
      "\n",
      "Modified array is :\n",
      "0:5\n",
      "1:6\n",
      "2:7\n",
      "3:8\n",
      "4:5\n",
      "5:6\n",
      "6:7\n",
      "7:8\n",
      "8:5\n",
      "9:6\n",
      "10:7\n",
      "11:8\n"
     ]
    }
   ],
   "source": [
    "# Python program for\n",
    "# iterating array\n",
    "a=np.arange(12)\n",
    "a=a.reshape(3,4)\n",
    "print(\"First array is:\")\n",
    "print(a)\n",
    "print()\n",
    "# Creating second array using \n",
    "# array method\n",
    "print('Second array is:')\n",
    "b = np.array([5,6,7,8],dtype =int)\n",
    "print(b)\n",
    "print()\n",
    "\n",
    "print(\"Modified array is :\",end ='\\n')\n",
    "for x,y in np.nditer([a,b]):\n",
    "    print(\"%d:%d\" %(x,y))\n",
    "    \n"
   ]
  },
  {
   "cell_type": "code",
   "execution_count": null,
   "id": "b32f463d",
   "metadata": {},
   "outputs": [],
   "source": []
  }
 ],
 "metadata": {
  "kernelspec": {
   "display_name": "Python 3 (ipykernel)",
   "language": "python",
   "name": "python3"
  },
  "language_info": {
   "codemirror_mode": {
    "name": "ipython",
    "version": 3
   },
   "file_extension": ".py",
   "mimetype": "text/x-python",
   "name": "python",
   "nbconvert_exporter": "python",
   "pygments_lexer": "ipython3",
   "version": "3.11.1"
  }
 },
 "nbformat": 4,
 "nbformat_minor": 5
}
