{
 "cells": [
  {
   "cell_type": "code",
   "execution_count": 1,
   "id": "30b1c834",
   "metadata": {},
   "outputs": [],
   "source": [
    "import pandas as pd"
   ]
  },
  {
   "cell_type": "code",
   "execution_count": 2,
   "id": "bbf3f8f5",
   "metadata": {},
   "outputs": [],
   "source": [
    "sales_data = pd.read_csv(r\"C:\\Users\\srini\\OneDrive\\Documents\\pythonFiles\\sales1.csv\")"
   ]
  },
  {
   "cell_type": "code",
   "execution_count": 16,
   "id": "f271d689",
   "metadata": {},
   "outputs": [
    {
     "data": {
      "text/html": [
       "<div>\n",
       "<style scoped>\n",
       "    .dataframe tbody tr th:only-of-type {\n",
       "        vertical-align: middle;\n",
       "    }\n",
       "\n",
       "    .dataframe tbody tr th {\n",
       "        vertical-align: top;\n",
       "    }\n",
       "\n",
       "    .dataframe thead th {\n",
       "        text-align: right;\n",
       "    }\n",
       "</style>\n",
       "<table border=\"1\" class=\"dataframe\">\n",
       "  <thead>\n",
       "    <tr style=\"text-align: right;\">\n",
       "      <th></th>\n",
       "      <th>date</th>\n",
       "      <th>region</th>\n",
       "      <th>rep</th>\n",
       "      <th>product</th>\n",
       "      <th>sales</th>\n",
       "    </tr>\n",
       "  </thead>\n",
       "  <tbody>\n",
       "    <tr>\n",
       "      <th>0</th>\n",
       "      <td>01-01-2022</td>\n",
       "      <td>North</td>\n",
       "      <td>John Doe</td>\n",
       "      <td>Product A</td>\n",
       "      <td>100</td>\n",
       "    </tr>\n",
       "    <tr>\n",
       "      <th>1</th>\n",
       "      <td>02-01-2022</td>\n",
       "      <td>North</td>\n",
       "      <td>John Doe</td>\n",
       "      <td>Product A</td>\n",
       "      <td>120</td>\n",
       "    </tr>\n",
       "    <tr>\n",
       "      <th>2</th>\n",
       "      <td>03-01-2022</td>\n",
       "      <td>North</td>\n",
       "      <td>Jane Smith</td>\n",
       "      <td>Product B</td>\n",
       "      <td>150</td>\n",
       "    </tr>\n",
       "    <tr>\n",
       "      <th>3</th>\n",
       "      <td>04-01-2022</td>\n",
       "      <td>South</td>\n",
       "      <td>Jim Brown</td>\n",
       "      <td>Product C</td>\n",
       "      <td>80</td>\n",
       "    </tr>\n",
       "    <tr>\n",
       "      <th>4</th>\n",
       "      <td>05-01-2022</td>\n",
       "      <td>South</td>\n",
       "      <td>Jim Brown</td>\n",
       "      <td>Product C</td>\n",
       "      <td>90</td>\n",
       "    </tr>\n",
       "    <tr>\n",
       "      <th>5</th>\n",
       "      <td>06-01-2022</td>\n",
       "      <td>East</td>\n",
       "      <td>Robert Johnson</td>\n",
       "      <td>Product D</td>\n",
       "      <td>130</td>\n",
       "    </tr>\n",
       "    <tr>\n",
       "      <th>6</th>\n",
       "      <td>07-01-2022</td>\n",
       "      <td>East</td>\n",
       "      <td>Robert Johnson</td>\n",
       "      <td>Product D</td>\n",
       "      <td>140</td>\n",
       "    </tr>\n",
       "    <tr>\n",
       "      <th>7</th>\n",
       "      <td>08-01-2022</td>\n",
       "      <td>West</td>\n",
       "      <td>Emily Davis</td>\n",
       "      <td>Product A</td>\n",
       "      <td>110</td>\n",
       "    </tr>\n",
       "    <tr>\n",
       "      <th>8</th>\n",
       "      <td>09-01-2022</td>\n",
       "      <td>West</td>\n",
       "      <td>Emily Davis</td>\n",
       "      <td>Product A</td>\n",
       "      <td>120</td>\n",
       "    </tr>\n",
       "    <tr>\n",
       "      <th>9</th>\n",
       "      <td>10-01-2022</td>\n",
       "      <td>West</td>\n",
       "      <td>Michael Lee</td>\n",
       "      <td>Product B</td>\n",
       "      <td>160</td>\n",
       "    </tr>\n",
       "  </tbody>\n",
       "</table>\n",
       "</div>"
      ],
      "text/plain": [
       "         date region             rep    product  sales\n",
       "0  01-01-2022  North        John Doe  Product A    100\n",
       "1  02-01-2022  North        John Doe  Product A    120\n",
       "2  03-01-2022  North      Jane Smith  Product B    150\n",
       "3  04-01-2022  South       Jim Brown  Product C     80\n",
       "4  05-01-2022  South       Jim Brown  Product C     90\n",
       "5  06-01-2022   East  Robert Johnson  Product D    130\n",
       "6  07-01-2022   East  Robert Johnson  Product D    140\n",
       "7  08-01-2022   West     Emily Davis  Product A    110\n",
       "8  09-01-2022   West     Emily Davis  Product A    120\n",
       "9  10-01-2022   West     Michael Lee  Product B    160"
      ]
     },
     "execution_count": 16,
     "metadata": {},
     "output_type": "execute_result"
    }
   ],
   "source": [
    "sales_data.head(100)"
   ]
  },
  {
   "cell_type": "code",
   "execution_count": 4,
   "id": "2a568561",
   "metadata": {},
   "outputs": [
    {
     "data": {
      "text/plain": [
       "region\n",
       "East     270\n",
       "North    370\n",
       "South    170\n",
       "West     390\n",
       "Name: sales, dtype: int64"
      ]
     },
     "execution_count": 4,
     "metadata": {},
     "output_type": "execute_result"
    }
   ],
   "source": [
    "region_sales = sales_data.groupby('region')['sales'].sum()\n",
    "region_sales"
   ]
  },
  {
   "cell_type": "code",
   "execution_count": 5,
   "id": "80818b19",
   "metadata": {},
   "outputs": [
    {
     "data": {
      "text/html": [
       "<div>\n",
       "<style scoped>\n",
       "    .dataframe tbody tr th:only-of-type {\n",
       "        vertical-align: middle;\n",
       "    }\n",
       "\n",
       "    .dataframe tbody tr th {\n",
       "        vertical-align: top;\n",
       "    }\n",
       "\n",
       "    .dataframe thead th {\n",
       "        text-align: right;\n",
       "    }\n",
       "</style>\n",
       "<table border=\"1\" class=\"dataframe\">\n",
       "  <thead>\n",
       "    <tr style=\"text-align: right;\">\n",
       "      <th></th>\n",
       "      <th>product</th>\n",
       "      <th>sales</th>\n",
       "    </tr>\n",
       "  </thead>\n",
       "  <tbody>\n",
       "    <tr>\n",
       "      <th>0</th>\n",
       "      <td>Product A</td>\n",
       "      <td>112.5</td>\n",
       "    </tr>\n",
       "    <tr>\n",
       "      <th>1</th>\n",
       "      <td>Product B</td>\n",
       "      <td>155.0</td>\n",
       "    </tr>\n",
       "    <tr>\n",
       "      <th>2</th>\n",
       "      <td>Product C</td>\n",
       "      <td>85.0</td>\n",
       "    </tr>\n",
       "    <tr>\n",
       "      <th>3</th>\n",
       "      <td>Product D</td>\n",
       "      <td>135.0</td>\n",
       "    </tr>\n",
       "  </tbody>\n",
       "</table>\n",
       "</div>"
      ],
      "text/plain": [
       "     product  sales\n",
       "0  Product A  112.5\n",
       "1  Product B  155.0\n",
       "2  Product C   85.0\n",
       "3  Product D  135.0"
      ]
     },
     "execution_count": 5,
     "metadata": {},
     "output_type": "execute_result"
    }
   ],
   "source": [
    "product_sales = sales_data.groupby('product')['sales'].mean().reset_index()\n",
    "product_sales"
   ]
  },
  {
   "cell_type": "code",
   "execution_count": 6,
   "id": "3073dfb6",
   "metadata": {},
   "outputs": [],
   "source": [
    "data1 = {'region': ['North', 'South', 'East', 'West'],\n",
    "        'sales': [400, 200, 150, 250]}"
   ]
  },
  {
   "cell_type": "code",
   "execution_count": 7,
   "id": "c1ebe659",
   "metadata": {},
   "outputs": [
    {
     "data": {
      "text/html": [
       "<div>\n",
       "<style scoped>\n",
       "    .dataframe tbody tr th:only-of-type {\n",
       "        vertical-align: middle;\n",
       "    }\n",
       "\n",
       "    .dataframe tbody tr th {\n",
       "        vertical-align: top;\n",
       "    }\n",
       "\n",
       "    .dataframe thead th {\n",
       "        text-align: right;\n",
       "    }\n",
       "</style>\n",
       "<table border=\"1\" class=\"dataframe\">\n",
       "  <thead>\n",
       "    <tr style=\"text-align: right;\">\n",
       "      <th></th>\n",
       "      <th>region</th>\n",
       "      <th>sales</th>\n",
       "    </tr>\n",
       "  </thead>\n",
       "  <tbody>\n",
       "    <tr>\n",
       "      <th>0</th>\n",
       "      <td>North</td>\n",
       "      <td>400</td>\n",
       "    </tr>\n",
       "    <tr>\n",
       "      <th>1</th>\n",
       "      <td>South</td>\n",
       "      <td>200</td>\n",
       "    </tr>\n",
       "    <tr>\n",
       "      <th>2</th>\n",
       "      <td>East</td>\n",
       "      <td>150</td>\n",
       "    </tr>\n",
       "    <tr>\n",
       "      <th>3</th>\n",
       "      <td>West</td>\n",
       "      <td>250</td>\n",
       "    </tr>\n",
       "  </tbody>\n",
       "</table>\n",
       "</div>"
      ],
      "text/plain": [
       "  region  sales\n",
       "0  North    400\n",
       "1  South    200\n",
       "2   East    150\n",
       "3   West    250"
      ]
     },
     "execution_count": 7,
     "metadata": {},
     "output_type": "execute_result"
    }
   ],
   "source": [
    "pf = pd.DataFrame(data1)\n",
    "pf"
   ]
  },
  {
   "cell_type": "code",
   "execution_count": 8,
   "id": "3ceb0572",
   "metadata": {},
   "outputs": [],
   "source": [
    "pf.set_index('region',inplace=True)"
   ]
  },
  {
   "cell_type": "code",
   "execution_count": 9,
   "id": "8f4f6a96",
   "metadata": {},
   "outputs": [
    {
     "data": {
      "text/html": [
       "<div>\n",
       "<style scoped>\n",
       "    .dataframe tbody tr th:only-of-type {\n",
       "        vertical-align: middle;\n",
       "    }\n",
       "\n",
       "    .dataframe tbody tr th {\n",
       "        vertical-align: top;\n",
       "    }\n",
       "\n",
       "    .dataframe thead th {\n",
       "        text-align: right;\n",
       "    }\n",
       "</style>\n",
       "<table border=\"1\" class=\"dataframe\">\n",
       "  <thead>\n",
       "    <tr style=\"text-align: right;\">\n",
       "      <th></th>\n",
       "      <th>sales</th>\n",
       "    </tr>\n",
       "    <tr>\n",
       "      <th>region</th>\n",
       "      <th></th>\n",
       "    </tr>\n",
       "  </thead>\n",
       "  <tbody>\n",
       "    <tr>\n",
       "      <th>North</th>\n",
       "      <td>400</td>\n",
       "    </tr>\n",
       "    <tr>\n",
       "      <th>South</th>\n",
       "      <td>200</td>\n",
       "    </tr>\n",
       "    <tr>\n",
       "      <th>East</th>\n",
       "      <td>150</td>\n",
       "    </tr>\n",
       "    <tr>\n",
       "      <th>West</th>\n",
       "      <td>250</td>\n",
       "    </tr>\n",
       "  </tbody>\n",
       "</table>\n",
       "</div>"
      ],
      "text/plain": [
       "        sales\n",
       "region       \n",
       "North     400\n",
       "South     200\n",
       "East      150\n",
       "West      250"
      ]
     },
     "execution_count": 9,
     "metadata": {},
     "output_type": "execute_result"
    }
   ],
   "source": [
    "pf"
   ]
  },
  {
   "cell_type": "code",
   "execution_count": 10,
   "id": "207b6765",
   "metadata": {},
   "outputs": [],
   "source": [
    "# Reset the index of the DataFrame\n",
    "de_reset = pf.reset_index()"
   ]
  },
  {
   "cell_type": "code",
   "execution_count": 11,
   "id": "b8648710",
   "metadata": {},
   "outputs": [
    {
     "data": {
      "text/html": [
       "<div>\n",
       "<style scoped>\n",
       "    .dataframe tbody tr th:only-of-type {\n",
       "        vertical-align: middle;\n",
       "    }\n",
       "\n",
       "    .dataframe tbody tr th {\n",
       "        vertical-align: top;\n",
       "    }\n",
       "\n",
       "    .dataframe thead th {\n",
       "        text-align: right;\n",
       "    }\n",
       "</style>\n",
       "<table border=\"1\" class=\"dataframe\">\n",
       "  <thead>\n",
       "    <tr style=\"text-align: right;\">\n",
       "      <th></th>\n",
       "      <th>sales</th>\n",
       "    </tr>\n",
       "    <tr>\n",
       "      <th>region</th>\n",
       "      <th></th>\n",
       "    </tr>\n",
       "  </thead>\n",
       "  <tbody>\n",
       "    <tr>\n",
       "      <th>North</th>\n",
       "      <td>400</td>\n",
       "    </tr>\n",
       "    <tr>\n",
       "      <th>South</th>\n",
       "      <td>200</td>\n",
       "    </tr>\n",
       "    <tr>\n",
       "      <th>East</th>\n",
       "      <td>150</td>\n",
       "    </tr>\n",
       "    <tr>\n",
       "      <th>West</th>\n",
       "      <td>250</td>\n",
       "    </tr>\n",
       "  </tbody>\n",
       "</table>\n",
       "</div>"
      ],
      "text/plain": [
       "        sales\n",
       "region       \n",
       "North     400\n",
       "South     200\n",
       "East      150\n",
       "West      250"
      ]
     },
     "execution_count": 11,
     "metadata": {},
     "output_type": "execute_result"
    }
   ],
   "source": [
    "pf"
   ]
  },
  {
   "cell_type": "code",
   "execution_count": 12,
   "id": "dfe352a5",
   "metadata": {},
   "outputs": [
    {
     "data": {
      "text/html": [
       "<div>\n",
       "<style scoped>\n",
       "    .dataframe tbody tr th:only-of-type {\n",
       "        vertical-align: middle;\n",
       "    }\n",
       "\n",
       "    .dataframe tbody tr th {\n",
       "        vertical-align: top;\n",
       "    }\n",
       "\n",
       "    .dataframe thead th {\n",
       "        text-align: right;\n",
       "    }\n",
       "</style>\n",
       "<table border=\"1\" class=\"dataframe\">\n",
       "  <thead>\n",
       "    <tr style=\"text-align: right;\">\n",
       "      <th></th>\n",
       "      <th>region</th>\n",
       "      <th>sales</th>\n",
       "    </tr>\n",
       "  </thead>\n",
       "  <tbody>\n",
       "    <tr>\n",
       "      <th>0</th>\n",
       "      <td>North</td>\n",
       "      <td>400</td>\n",
       "    </tr>\n",
       "    <tr>\n",
       "      <th>1</th>\n",
       "      <td>South</td>\n",
       "      <td>200</td>\n",
       "    </tr>\n",
       "    <tr>\n",
       "      <th>2</th>\n",
       "      <td>East</td>\n",
       "      <td>150</td>\n",
       "    </tr>\n",
       "    <tr>\n",
       "      <th>3</th>\n",
       "      <td>West</td>\n",
       "      <td>250</td>\n",
       "    </tr>\n",
       "  </tbody>\n",
       "</table>\n",
       "</div>"
      ],
      "text/plain": [
       "  region  sales\n",
       "0  North    400\n",
       "1  South    200\n",
       "2   East    150\n",
       "3   West    250"
      ]
     },
     "execution_count": 12,
     "metadata": {},
     "output_type": "execute_result"
    }
   ],
   "source": [
    "de_reset"
   ]
  },
  {
   "cell_type": "markdown",
   "id": "ffb0a00b",
   "metadata": {},
   "source": [
    "#https://www.blackbox.ai/share/b20acf84-4559-40f1-9733-37937f14ec02"
   ]
  },
  {
   "cell_type": "markdown",
   "id": "b8b18571",
   "metadata": {},
   "source": [
    "<b>Groupby</b>\n",
    "\n",
    "The groupby method in pandas is used to group a DataFrame by one or more columns. It returns a GroupBy object that can be used to perform various operations on the groups.\n",
    "\n",
    "In the example code, we used the groupby method to group the sales_data DataFrame by the region column:"
   ]
  },
  {
   "cell_type": "code",
   "execution_count": 23,
   "id": "136a4c93",
   "metadata": {
    "scrolled": true
   },
   "outputs": [
    {
     "data": {
      "text/plain": [
       "dtype('int64')"
      ]
     },
     "execution_count": 23,
     "metadata": {},
     "output_type": "execute_result"
    }
   ],
   "source": [
    "region_sales = sales_data.groupby('region')['sales'].sum()\n",
    "region_sales.dtypes"
   ]
  },
  {
   "cell_type": "markdown",
   "id": "d54ff782",
   "metadata": {},
   "source": [
    "<b>Reset Index</b>\n",
    "\n",
    "The reset_index method in pandas is used to reset the index of a DataFrame or Series. It returns a new DataFrame or Series with the original index values as a column.\n",
    "\n",
    "In the example code, we used the reset_index method to convert the region_sales Series into a DataFrame:"
   ]
  },
  {
   "cell_type": "code",
   "execution_count": 22,
   "id": "e31b85d9",
   "metadata": {},
   "outputs": [
    {
     "data": {
      "text/plain": [
       "region    object\n",
       "sales      int64\n",
       "dtype: object"
      ]
     },
     "execution_count": 22,
     "metadata": {},
     "output_type": "execute_result"
    }
   ],
   "source": [
    "region_sales = sales_data.groupby('region')['sales'].sum().reset_index()\n",
    "region_sales.dtypes"
   ]
  },
  {
   "cell_type": "markdown",
   "id": "cbac3ccd",
   "metadata": {},
   "source": [
    "<b>Renaming Columns</b>\n",
    "\n",
    "The rename method in pandas is used to rename the columns of a DataFrame. It returns a new DataFrame with the renamed columns.\n",
    "\n",
    "In the example code, we used the rename method to rename the region column to region_name in the region_sales DataFrame:"
   ]
  },
  {
   "cell_type": "code",
   "execution_count": 34,
   "id": "8a867d73",
   "metadata": {},
   "outputs": [
    {
     "ename": "TypeError",
     "evalue": "Series.rename() got an unexpected keyword argument 'columns'",
     "output_type": "error",
     "traceback": [
      "\u001b[1;31m---------------------------------------------------------------------------\u001b[0m",
      "\u001b[1;31mTypeError\u001b[0m                                 Traceback (most recent call last)",
      "Cell \u001b[1;32mIn[34], line 2\u001b[0m\n\u001b[0;32m      1\u001b[0m region_sales1 \u001b[38;5;241m=\u001b[39m pd\u001b[38;5;241m.\u001b[39mDataFrame(region_sales)\n\u001b[1;32m----> 2\u001b[0m \u001b[43mregion_sales\u001b[49m\u001b[38;5;241;43m.\u001b[39;49m\u001b[43mrename\u001b[49m\u001b[43m(\u001b[49m\u001b[43mcolumns\u001b[49m\u001b[38;5;241;43m=\u001b[39;49m\u001b[43m{\u001b[49m\u001b[38;5;124;43m'\u001b[39;49m\u001b[38;5;124;43mregion\u001b[39;49m\u001b[38;5;124;43m'\u001b[39;49m\u001b[43m:\u001b[49m\u001b[38;5;124;43m'\u001b[39;49m\u001b[38;5;124;43mregion_sales\u001b[39;49m\u001b[38;5;124;43m'\u001b[39;49m\u001b[43m}\u001b[49m\u001b[43m)\u001b[49m\n",
      "\u001b[1;31mTypeError\u001b[0m: Series.rename() got an unexpected keyword argument 'columns'"
     ]
    }
   ],
   "source": [
    "region_sales1 = pd.DataFrame(region_sales)\n",
    "region_sales.rename(columns={'region':'region_sales'})"
   ]
  },
  {
   "cell_type": "code",
   "execution_count": null,
   "id": "8ae668fe",
   "metadata": {},
   "outputs": [],
   "source": []
  },
  {
   "cell_type": "code",
   "execution_count": null,
   "id": "19724039",
   "metadata": {},
   "outputs": [],
   "source": []
  }
 ],
 "metadata": {
  "kernelspec": {
   "display_name": "Python 3 (ipykernel)",
   "language": "python",
   "name": "python3"
  },
  "language_info": {
   "codemirror_mode": {
    "name": "ipython",
    "version": 3
   },
   "file_extension": ".py",
   "mimetype": "text/x-python",
   "name": "python",
   "nbconvert_exporter": "python",
   "pygments_lexer": "ipython3",
   "version": "3.11.1"
  }
 },
 "nbformat": 4,
 "nbformat_minor": 5
}
