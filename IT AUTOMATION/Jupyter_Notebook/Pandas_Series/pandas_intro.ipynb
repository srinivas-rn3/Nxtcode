{
 "cells": [
  {
   "cell_type": "markdown",
   "id": "f0ebe9da",
   "metadata": {},
   "source": [
    "### Pandas Intro ###"
   ]
  },
  {
   "cell_type": "markdown",
   "id": "7afbe474",
   "metadata": {},
   "source": [
    "(https://www.geeksforgeeks.org/pandas-tutorial/)"
   ]
  },
  {
   "cell_type": "markdown",
   "id": "2f0af9ca",
   "metadata": {},
   "source": [
    "(https://www.geeksforgeeks.org/introduction-to-pandas-in-python/)"
   ]
  },
  {
   "cell_type": "markdown",
   "id": "f41d6d61",
   "metadata": {},
   "source": [
    "<b>Series</b>\n",
    "Pandas Series is a one-dimensional labeled array capable of holding data of any type (integer, string, float, python objects, etc.). The axis labels are collectively called indexes.\n",
    "Pandas Series is nothing but a column in an Excel sheet. Labels need not be unique but must be a hashable type. The object supports both integer and label-based indexing and provides a host of methods for performing operations involving the index."
   ]
  },
  {
   "cell_type": "markdown",
   "id": "9ed4dae8",
   "metadata": {},
   "source": [
    "***Creating a Series***"
   ]
  },
  {
   "cell_type": "code",
   "execution_count": 1,
   "id": "1e735f1c",
   "metadata": {},
   "outputs": [],
   "source": [
    "import pandas as pd\n",
    "import numpy as np "
   ]
  },
  {
   "cell_type": "code",
   "execution_count": 2,
   "id": "fb9cf3dc",
   "metadata": {},
   "outputs": [
    {
     "name": "stdout",
     "output_type": "stream",
     "text": [
      "Series are : Series([], dtype: object)\n"
     ]
    }
   ],
   "source": [
    "ser = pd.Series()\n",
    "print(\"Series are :\",ser)"
   ]
  },
  {
   "cell_type": "code",
   "execution_count": 3,
   "id": "3e45fa0e",
   "metadata": {},
   "outputs": [
    {
     "name": "stdout",
     "output_type": "stream",
     "text": [
      "Series is: \n",
      " 0    s\n",
      "1    r\n",
      "2    i\n",
      "3    n\n",
      "4    i\n",
      "dtype: object\n"
     ]
    }
   ],
   "source": [
    "data1 =  np.array(['s','r','i','n','i'])\n",
    "ser = pd.Series(data1)\n",
    "print(\"Series is: \\n\",ser)"
   ]
  },
  {
   "cell_type": "markdown",
   "id": "06f82089",
   "metadata": {},
   "source": [
    "<b>Creating Data Frame</b>\n",
    "In the real world, a Pandas DataFrame will be created by loading the datasets from existing storage, storage can be SQL Database, CSV file, or an Excel file. Pandas DataFrame can be created from lists, dictionaries, and from a list of dictionaries, etc."
   ]
  },
  {
   "cell_type": "markdown",
   "id": "ee209f9a",
   "metadata": {},
   "source": [
    "<b>DataFrame</b> is a 2-dimensional labeled data structure with columns of potentially different types. You can think of it like a spreadsheet or SQL table, or a dict of Series objects. It is generally the most commonly used pandas object."
   ]
  },
  {
   "cell_type": "code",
   "execution_count": 4,
   "id": "0cc021a2",
   "metadata": {},
   "outputs": [
    {
     "name": "stdout",
     "output_type": "stream",
     "text": [
      "Empty DataFrame\n",
      "Columns: []\n",
      "Index: []\n"
     ]
    }
   ],
   "source": [
    "df = pd.DataFrame()\n",
    "print(df)"
   ]
  },
  {
   "cell_type": "code",
   "execution_count": 5,
   "id": "82cc0918",
   "metadata": {},
   "outputs": [
    {
     "name": "stdout",
     "output_type": "stream",
     "text": [
      "        0\n",
      "0     cat\n",
      "1     dog\n",
      "2    fish\n",
      "3  turtle\n"
     ]
    }
   ],
   "source": [
    "lst = ['cat','dog','fish','turtle']\n",
    "df = pd.DataFrame(lst)\n",
    "print(df)"
   ]
  },
  {
   "cell_type": "markdown",
   "id": "89daeefb",
   "metadata": {},
   "source": [
    "***Creating a Pandas DataFrame***"
   ]
  },
  {
   "cell_type": "markdown",
   "id": "f6c3b0ce",
   "metadata": {},
   "source": [
    "(https://www.geeksforgeeks.org/creating-a-pandas-dataframe/)"
   ]
  },
  {
   "cell_type": "markdown",
   "id": "79b8cbae",
   "metadata": {},
   "source": [
    "<b>Pandas DataFrame</b> is a two-dimensional size-mutable, potentially heterogeneous tabular data structure with labeled axes (rows and columns). A Data frame is a two-dimensional data structure, i.e., data is aligned in a tabular fashion in rows and columns. Pandas DataFrame consists of three principal components, the data, rows, and columns.\n",
    "\n",
    "In the real world, a Pandas DataFrame will be created by loading the datasets from existing storage, storage can be SQL Database, CSV file, or an Excel file. Pandas DataFrame can be created from lists, dictionaries, and from a list of dictionaries, etc.\n",
    "\n"
   ]
  },
  {
   "cell_type": "code",
   "execution_count": 6,
   "id": "60d750ca",
   "metadata": {},
   "outputs": [],
   "source": [
    "df = pd.DataFrame()"
   ]
  },
  {
   "cell_type": "code",
   "execution_count": 7,
   "id": "a7ee6db8",
   "metadata": {},
   "outputs": [
    {
     "name": "stdout",
     "output_type": "stream",
     "text": [
      "              0\n",
      "0         greek\n",
      "1         roman\n",
      "2  indus valley\n",
      "3      egyptian\n"
     ]
    }
   ],
   "source": [
    "lst = ['greek','roman','indus valley',\"egyptian\"]\n",
    "df = pd.DataFrame(lst)\n",
    "print(df)"
   ]
  },
  {
   "cell_type": "code",
   "execution_count": 8,
   "id": "44505064",
   "metadata": {},
   "outputs": [],
   "source": [
    "dict1 = {'name':['Shun','Riley','Joe','Anna'],'Age':[20,23,44,45]}"
   ]
  },
  {
   "cell_type": "code",
   "execution_count": 9,
   "id": "f3a79c43",
   "metadata": {},
   "outputs": [
    {
     "name": "stdout",
     "output_type": "stream",
     "text": [
      "    name  Age\n",
      "0   Shun   20\n",
      "1  Riley   23\n",
      "2    Joe   44\n",
      "3   Anna   45\n"
     ]
    }
   ],
   "source": [
    "df = pd.DataFrame(dict1)\n",
    "print(df)"
   ]
  },
  {
   "cell_type": "code",
   "execution_count": 10,
   "id": "a9a9b422",
   "metadata": {},
   "outputs": [
    {
     "name": "stdout",
     "output_type": "stream",
     "text": [
      "    name  Age  tscore\n",
      "0   Shun   20    1.99\n",
      "1  Riley   23    2.55\n",
      "2    Joe   44    1.23\n",
      "3   Anna   25    3.00\n",
      "4   Adam   23    1.78\n"
     ]
    }
   ],
   "source": [
    "dict2 = {\n",
    "         'name':['Shun','Riley','Joe','Anna','Adam'],\n",
    "         'Age':[20,23,44,25,23],\n",
    "         'tscore':[1.99,2.55,1.23,3.0,1.78]}\n",
    "df = pd.DataFrame(dict2)\n",
    "print(df)"
   ]
  },
  {
   "cell_type": "markdown",
   "id": "92efa2ef",
   "metadata": {},
   "source": [
    "***Python Pandas Series***"
   ]
  },
  {
   "cell_type": "markdown",
   "id": "e39e95e6",
   "metadata": {},
   "source": [
    "Pandas Series is a one-dimensional labeled array capable of holding data of any type (integer, string, float, python objects, etc.)"
   ]
  },
  {
   "cell_type": "code",
   "execution_count": 11,
   "id": "11fce944",
   "metadata": {},
   "outputs": [
    {
     "name": "stdout",
     "output_type": "stream",
     "text": [
      "   0\n",
      "0  1\n",
      "1  2\n",
      "2  3\n",
      "3  4\n",
      "4  5\n"
     ]
    }
   ],
   "source": [
    "data1 = [1,2,3,4,5]\n",
    "ser = pd.DataFrame(data1)\n",
    "print(ser)"
   ]
  },
  {
   "cell_type": "markdown",
   "id": "34bded79",
   "metadata": {},
   "source": [
    "The axis labels are collectively called index. Pandas Series is nothing but a column in an excel sheet."
   ]
  },
  {
   "cell_type": "markdown",
   "id": "03b75950",
   "metadata": {},
   "source": [
    "***Python Pandas Series***"
   ]
  },
  {
   "cell_type": "code",
   "execution_count": 12,
   "id": "6fee229e",
   "metadata": {},
   "outputs": [
    {
     "name": "stdout",
     "output_type": "stream",
     "text": [
      "0    s\n",
      "1    r\n",
      "2    i\n",
      "3    n\n",
      "4    i\n",
      "5    v\n",
      "6    a\n",
      "7    s\n",
      "dtype: object\n"
     ]
    }
   ],
   "source": [
    "dt = np.array(['s','r','i','n','i','v','a','s'])\n",
    "ser = pd.Series(dt)\n",
    "print(ser)"
   ]
  },
  {
   "cell_type": "code",
   "execution_count": 13,
   "id": "64100c9c",
   "metadata": {},
   "outputs": [
    {
     "name": "stdout",
     "output_type": "stream",
     "text": [
      "object\n"
     ]
    }
   ],
   "source": [
    "print(ser.dtype)"
   ]
  },
  {
   "cell_type": "code",
   "execution_count": 14,
   "id": "759b81e7",
   "metadata": {},
   "outputs": [
    {
     "name": "stdout",
     "output_type": "stream",
     "text": [
      "0     alpha\n",
      "1      beta\n",
      "2     gamma\n",
      "3    lambda\n",
      "dtype: object\n"
     ]
    }
   ],
   "source": [
    "#Creating a series from Lists\n",
    "lst = ['alpha','beta','gamma','lambda']\n",
    "ser = pd.Series(lst)\n",
    "print(ser)"
   ]
  },
  {
   "cell_type": "markdown",
   "id": "2440d1fc",
   "metadata": {},
   "source": [
    "<b>Accessing element of Series</b>\n",
    "\n",
    "Accessing Element from Series with Position : In order to access the series element refers to the index number. Use the index operator [ ] to access an element in a series. The index must be an integer. In order to access multiple elements from a series, we use Slice operation."
   ]
  },
  {
   "cell_type": "code",
   "execution_count": 15,
   "id": "125af28d",
   "metadata": {},
   "outputs": [
    {
     "name": "stdout",
     "output_type": "stream",
     "text": [
      "0    s\n",
      "1    r\n",
      "2    i\n",
      "3    n\n",
      "4    i\n",
      "5    v\n",
      "6    a\n",
      "7    s\n",
      "dtype: object\n",
      "0    s\n",
      "1    r\n",
      "2    i\n",
      "3    n\n",
      "4    i\n",
      "dtype: object\n"
     ]
    }
   ],
   "source": [
    "s = ['s','r','i','n','i','v','a','s']\n",
    "ser = pd.Series(s)\n",
    "print(ser)\n",
    "print(ser[:5])"
   ]
  },
  {
   "cell_type": "markdown",
   "id": "b62945c6",
   "metadata": {},
   "source": [
    "<b>Accessing Element Using Label (index) :</b>\n",
    "In order to access an element from series, we have to set values by index label. A Series is like a fixed-size dictionary in that you can get and set values by index label."
   ]
  },
  {
   "cell_type": "code",
   "execution_count": 16,
   "id": "e98f774a",
   "metadata": {},
   "outputs": [
    {
     "name": "stdout",
     "output_type": "stream",
     "text": [
      "['b', 'l', 'a', 'c', 'k', 'h', 'o', 'l', 'e']\n",
      "9\n"
     ]
    }
   ],
   "source": [
    "lst = 'blackhole'\n",
    "lst1 =[i for i in lst]\n",
    "print(lst1)\n",
    "print(len(lst))\n"
   ]
  },
  {
   "cell_type": "code",
   "execution_count": 17,
   "id": "9efb5ddb",
   "metadata": {},
   "outputs": [
    {
     "name": "stdout",
     "output_type": "stream",
     "text": [
      "17    b\n",
      "23    l\n",
      "55    a\n",
      "24    c\n",
      "63    k\n",
      "98    h\n",
      "13    o\n",
      "93    l\n",
      "0     e\n",
      "dtype: object\n"
     ]
    }
   ],
   "source": [
    "arr = np.array(lst1)\n",
    "rand = np.random.randint(100,size=(9))\n",
    "#print(rand)\n",
    "ser = pd.Series(arr,index=rand)\n",
    "print(ser)"
   ]
  },
  {
   "cell_type": "code",
   "execution_count": 19,
   "id": "edd264ee",
   "metadata": {},
   "outputs": [
    {
     "name": "stdout",
     "output_type": "stream",
     "text": [
      "l\n"
     ]
    }
   ],
   "source": [
    "print(ser[93])"
   ]
  },
  {
   "cell_type": "markdown",
   "id": "ebb3873f",
   "metadata": {},
   "source": [
    "<b>Indexing and Selecting Data in Series</b>\n",
    "\n",
    "(https://www.geeksforgeeks.org/python-pandas-series/)"
   ]
  },
  {
   "cell_type": "markdown",
   "id": "0aa507c9",
   "metadata": {},
   "source": [
    "Indexing in pandas means simply selecting particular data from a Series. Indexing could mean selecting all the data, some of the data from particular columns. Indexing can also be known as Subset"
   ]
  },
  {
   "cell_type": "code",
   "execution_count": 20,
   "id": "63ca5b1e",
   "metadata": {},
   "outputs": [],
   "source": [
    "read_csv = pd.read_csv(r\"C:\\Users\\srini\\OneDrive\\kaggle\\lunar_mission_project\\Moonlanding.csv\", encoding=\"ISO-8859-1\")"
   ]
  },
  {
   "cell_type": "code",
   "execution_count": 21,
   "id": "bd921b90",
   "metadata": {},
   "outputs": [
    {
     "data": {
      "text/plain": [
       "Index(['Mission', 'Spacecraft', 'Launch Date', 'Carrier Rocket', 'Operator',\n",
       "       'Mission Type', 'Outcome', 'Additional Information'],\n",
       "      dtype='object')"
      ]
     },
     "execution_count": 21,
     "metadata": {},
     "output_type": "execute_result"
    }
   ],
   "source": [
    "read_csv.columns"
   ]
  },
  {
   "cell_type": "code",
   "execution_count": 22,
   "id": "d973e285",
   "metadata": {},
   "outputs": [
    {
     "data": {
      "text/plain": [
       "0        Pioneer 0\n",
       "1    Luna E-1 No.1\n",
       "2        Pioneer 1\n",
       "3    Luna E-1 No.2\n",
       "4        Pioneer 2\n",
       "5    Luna E-1 No.3\n",
       "6        Pioneer 3\n",
       "7           Luna 1\n",
       "8        Pioneer 4\n",
       "9        E-1A No.1\n",
       "Name: Spacecraft, dtype: object"
      ]
     },
     "execution_count": 22,
     "metadata": {},
     "output_type": "execute_result"
    }
   ],
   "source": [
    "ser = pd.Series(read_csv['Spacecraft'])\n",
    "data1 = ser.head(10)\n",
    "data1"
   ]
  },
  {
   "cell_type": "code",
   "execution_count": 23,
   "id": "bd37453d",
   "metadata": {},
   "outputs": [
    {
     "data": {
      "text/plain": [
       "3    Luna E-1 No.2\n",
       "4        Pioneer 2\n",
       "5    Luna E-1 No.3\n",
       "Name: Spacecraft, dtype: object"
      ]
     },
     "execution_count": 23,
     "metadata": {},
     "output_type": "execute_result"
    }
   ],
   "source": [
    "# using indexing operator\n",
    "data1[3:6]"
   ]
  },
  {
   "cell_type": "markdown",
   "id": "3f712d80",
   "metadata": {},
   "source": [
    "Indexing a Series using .loc[ ] :\n",
    "    \n",
    "This function selects data by refering the explicit index . The df.loc indexer selects data in a different way than just the indexing operator. It can select subsets of data."
   ]
  },
  {
   "cell_type": "code",
   "execution_count": 24,
   "id": "a412cf6c",
   "metadata": {},
   "outputs": [
    {
     "data": {
      "text/plain": [
       "3    Luna E-1 No.2\n",
       "4        Pioneer 2\n",
       "5    Luna E-1 No.3\n",
       "6        Pioneer 3\n",
       "Name: Spacecraft, dtype: object"
      ]
     },
     "execution_count": 24,
     "metadata": {},
     "output_type": "execute_result"
    }
   ],
   "source": [
    "data1.loc[3:6]"
   ]
  },
  {
   "cell_type": "markdown",
   "id": "426d3489",
   "metadata": {},
   "source": [
    "Indexing a Series using .iloc[ ] :\n",
    "\n",
    "This function allows us to retrieve data by position. In order to do that, we’ll need to specify the positions of the data that we want. The df.iloc indexer is very similar to df.loc but only uses integer locations to make its selections.\n",
    "\n"
   ]
  },
  {
   "cell_type": "code",
   "execution_count": 25,
   "id": "bca43e8d",
   "metadata": {},
   "outputs": [
    {
     "data": {
      "text/plain": [
       "3    Luna E-1 No.2\n",
       "4        Pioneer 2\n",
       "5    Luna E-1 No.3\n",
       "Name: Spacecraft, dtype: object"
      ]
     },
     "execution_count": 25,
     "metadata": {},
     "output_type": "execute_result"
    }
   ],
   "source": [
    "data1.iloc[3:6]"
   ]
  },
  {
   "cell_type": "markdown",
   "id": "ad499521",
   "metadata": {},
   "source": [
    "***Binary Operation on Series***"
   ]
  },
  {
   "cell_type": "markdown",
   "id": "ce0888b1",
   "metadata": {},
   "source": [
    "We can perform binary operation on series like addition, subtraction and many other operation. In order to perform binary operation on series we have to use some function like .add(),.sub() etc.."
   ]
  },
  {
   "cell_type": "code",
   "execution_count": 26,
   "id": "497d0d36",
   "metadata": {},
   "outputs": [
    {
     "name": "stdout",
     "output_type": "stream",
     "text": [
      "a    1\n",
      "b    3\n",
      "c    5\n",
      "d    7\n",
      "e    9\n",
      "dtype: int64 \n",
      " a     2\n",
      "b     4\n",
      "c     6\n",
      "d     8\n",
      "e    10\n",
      "dtype: int64\n"
     ]
    }
   ],
   "source": [
    "d1 = pd.Series([1,3,5,7,9],index=['a','b','c','d','e'])\n",
    "d2 = pd.Series([2,4,6,8,10],index=['a','b','c','d','e'])\n",
    "print(d1,\"\\n\",d2)"
   ]
  },
  {
   "cell_type": "code",
   "execution_count": 27,
   "id": "7fb83dcb",
   "metadata": {},
   "outputs": [
    {
     "data": {
      "text/plain": [
       "a     3\n",
       "b     7\n",
       "c    11\n",
       "d    15\n",
       "e    19\n",
       "dtype: int64"
      ]
     },
     "execution_count": 27,
     "metadata": {},
     "output_type": "execute_result"
    }
   ],
   "source": [
    "#Now we add two series using .add() function.\n",
    "d1.add(d2,fill_value=0)"
   ]
  },
  {
   "cell_type": "markdown",
   "id": "4c758786",
   "metadata": {},
   "source": [
    "fill_value : [None or float value, default None] Fill missing (NaN) values with this value. If both DataFrame locations are missing, the result will be missing.\n"
   ]
  },
  {
   "cell_type": "code",
   "execution_count": 28,
   "id": "9ff8e257",
   "metadata": {},
   "outputs": [
    {
     "data": {
      "text/plain": [
       "a   -1\n",
       "b   -1\n",
       "c   -1\n",
       "d   -1\n",
       "e   -1\n",
       "dtype: int64"
      ]
     },
     "execution_count": 28,
     "metadata": {},
     "output_type": "execute_result"
    }
   ],
   "source": [
    "d1.sub(d2,fill_value=0)"
   ]
  },
  {
   "cell_type": "markdown",
   "id": "9156a6b3",
   "metadata": {},
   "source": [
    "***Conversion Operation on Series***"
   ]
  },
  {
   "cell_type": "markdown",
   "id": "a8218ef2",
   "metadata": {},
   "source": [
    "In conversion operation we perform various operation like changing datatype of series, changing a series to list etc. In order to perform conversion operation we have various function which help in conversion like .astype(), .tolist() etc."
   ]
  },
  {
   "cell_type": "code",
   "execution_count": 29,
   "id": "9431c455",
   "metadata": {},
   "outputs": [],
   "source": [
    "dict12 = {\n",
    "    \"Name\":['Alice',\"Jesse\",\"Kalin\",\"Kylie\",\"Hugo\"],\n",
    "    \"Team\":[\"Cobra\",\"Lion\",\"Panda,\",\"Eagle\",\"Eagle\"],\n",
    "    \"Salary\":['100000','150000','120000','400000','500000']\n",
    "}"
   ]
  },
  {
   "cell_type": "code",
   "execution_count": 30,
   "id": "42db96cd",
   "metadata": {},
   "outputs": [],
   "source": [
    "pd1 = pd.DataFrame(dict12)\n",
    "pd1_before_type = pd1.dtypes"
   ]
  },
  {
   "cell_type": "code",
   "execution_count": 31,
   "id": "451e1d56",
   "metadata": {},
   "outputs": [
    {
     "data": {
      "text/plain": [
       "Name      object\n",
       "Team      object\n",
       "Salary    object\n",
       "dtype: object"
      ]
     },
     "execution_count": 31,
     "metadata": {},
     "output_type": "execute_result"
    }
   ],
   "source": [
    "pd1_before_type"
   ]
  },
  {
   "cell_type": "code",
   "execution_count": 32,
   "id": "e427b4d7",
   "metadata": {},
   "outputs": [],
   "source": [
    "pd1['Name'] = pd1['Name'].astype(str)\n",
    "pd1['Team'] = pd1['Team'].astype(str)\n",
    "pd1['Salary'] = pd1['Salary'].astype(int)"
   ]
  },
  {
   "cell_type": "code",
   "execution_count": 33,
   "id": "651e20b4",
   "metadata": {},
   "outputs": [],
   "source": [
    "pd1_after_type = pd1.dtypes"
   ]
  },
  {
   "cell_type": "code",
   "execution_count": 34,
   "id": "8705b516",
   "metadata": {},
   "outputs": [
    {
     "data": {
      "text/plain": [
       "Name      object\n",
       "Team      object\n",
       "Salary     int32\n",
       "dtype: object"
      ]
     },
     "execution_count": 34,
     "metadata": {},
     "output_type": "execute_result"
    }
   ],
   "source": [
    "pd1_after_type"
   ]
  },
  {
   "cell_type": "code",
   "execution_count": 35,
   "id": "1023d32b",
   "metadata": {},
   "outputs": [
    {
     "data": {
      "text/html": [
       "<div>\n",
       "<style scoped>\n",
       "    .dataframe tbody tr th:only-of-type {\n",
       "        vertical-align: middle;\n",
       "    }\n",
       "\n",
       "    .dataframe tbody tr th {\n",
       "        vertical-align: top;\n",
       "    }\n",
       "\n",
       "    .dataframe thead th {\n",
       "        text-align: right;\n",
       "    }\n",
       "</style>\n",
       "<table border=\"1\" class=\"dataframe\">\n",
       "  <thead>\n",
       "    <tr style=\"text-align: right;\">\n",
       "      <th></th>\n",
       "      <th>Name</th>\n",
       "      <th>Team</th>\n",
       "      <th>Salary</th>\n",
       "    </tr>\n",
       "  </thead>\n",
       "  <tbody>\n",
       "    <tr>\n",
       "      <th>0</th>\n",
       "      <td>Alice</td>\n",
       "      <td>Cobra</td>\n",
       "      <td>100000</td>\n",
       "    </tr>\n",
       "    <tr>\n",
       "      <th>1</th>\n",
       "      <td>Jesse</td>\n",
       "      <td>Lion</td>\n",
       "      <td>150000</td>\n",
       "    </tr>\n",
       "    <tr>\n",
       "      <th>2</th>\n",
       "      <td>Kalin</td>\n",
       "      <td>Panda,</td>\n",
       "      <td>120000</td>\n",
       "    </tr>\n",
       "    <tr>\n",
       "      <th>3</th>\n",
       "      <td>Kylie</td>\n",
       "      <td>Eagle</td>\n",
       "      <td>400000</td>\n",
       "    </tr>\n",
       "    <tr>\n",
       "      <th>4</th>\n",
       "      <td>Hugo</td>\n",
       "      <td>Eagle</td>\n",
       "      <td>500000</td>\n",
       "    </tr>\n",
       "  </tbody>\n",
       "</table>\n",
       "</div>"
      ],
      "text/plain": [
       "    Name    Team  Salary\n",
       "0  Alice   Cobra  100000\n",
       "1  Jesse    Lion  150000\n",
       "2  Kalin  Panda,  120000\n",
       "3  Kylie   Eagle  400000\n",
       "4   Hugo   Eagle  500000"
      ]
     },
     "execution_count": 35,
     "metadata": {},
     "output_type": "execute_result"
    }
   ],
   "source": [
    "pd1"
   ]
  },
  {
   "cell_type": "code",
   "execution_count": 36,
   "id": "f834ad72",
   "metadata": {},
   "outputs": [
    {
     "data": {
      "text/plain": [
       "1270000"
      ]
     },
     "execution_count": 36,
     "metadata": {},
     "output_type": "execute_result"
    }
   ],
   "source": [
    "pd1['Salary'].sum()"
   ]
  },
  {
   "cell_type": "code",
   "execution_count": 37,
   "id": "d7169aa5",
   "metadata": {},
   "outputs": [
    {
     "data": {
      "text/plain": [
       "1744830464"
      ]
     },
     "execution_count": 37,
     "metadata": {},
     "output_type": "execute_result"
    }
   ],
   "source": [
    "pd1['Salary'].prod()"
   ]
  },
  {
   "cell_type": "markdown",
   "id": "2d5c6894",
   "metadata": {},
   "source": [
    "(https://www.geeksforgeeks.org/python-pandas-dataframe-series-head-method/?ref=lbp)"
   ]
  },
  {
   "cell_type": "markdown",
   "id": "b4405794",
   "metadata": {},
   "source": [
    "***Python and Pandas Dataframe/Series.head() method***"
   ]
  },
  {
   "cell_type": "markdown",
   "id": "0b8d33bf",
   "metadata": {},
   "source": [
    "Pandas head() method is used to return top n (5 by default) rows of a data frame or series."
   ]
  },
  {
   "cell_type": "code",
   "execution_count": 38,
   "id": "cd7e561e",
   "metadata": {},
   "outputs": [],
   "source": [
    "data_nba = pd.read_csv(r\"C:\\Users\\srini\\OneDrive\\kaggle\\nba.csv\")"
   ]
  },
  {
   "cell_type": "code",
   "execution_count": 39,
   "id": "1df04123",
   "metadata": {},
   "outputs": [],
   "source": [
    "data_top = data_nba.head()"
   ]
  },
  {
   "cell_type": "code",
   "execution_count": 40,
   "id": "52da5301",
   "metadata": {},
   "outputs": [
    {
     "data": {
      "text/html": [
       "<div>\n",
       "<style scoped>\n",
       "    .dataframe tbody tr th:only-of-type {\n",
       "        vertical-align: middle;\n",
       "    }\n",
       "\n",
       "    .dataframe tbody tr th {\n",
       "        vertical-align: top;\n",
       "    }\n",
       "\n",
       "    .dataframe thead th {\n",
       "        text-align: right;\n",
       "    }\n",
       "</style>\n",
       "<table border=\"1\" class=\"dataframe\">\n",
       "  <thead>\n",
       "    <tr style=\"text-align: right;\">\n",
       "      <th></th>\n",
       "      <th>Name</th>\n",
       "      <th>Team</th>\n",
       "      <th>Number</th>\n",
       "      <th>Position</th>\n",
       "      <th>Age</th>\n",
       "      <th>Height</th>\n",
       "      <th>Weight</th>\n",
       "      <th>College</th>\n",
       "      <th>Salary</th>\n",
       "    </tr>\n",
       "  </thead>\n",
       "  <tbody>\n",
       "    <tr>\n",
       "      <th>0</th>\n",
       "      <td>Avery Bradley</td>\n",
       "      <td>Boston Celtics</td>\n",
       "      <td>0.0</td>\n",
       "      <td>PG</td>\n",
       "      <td>25.0</td>\n",
       "      <td>6-2</td>\n",
       "      <td>180.0</td>\n",
       "      <td>Texas</td>\n",
       "      <td>7730337.0</td>\n",
       "    </tr>\n",
       "    <tr>\n",
       "      <th>1</th>\n",
       "      <td>Jae Crowder</td>\n",
       "      <td>Boston Celtics</td>\n",
       "      <td>99.0</td>\n",
       "      <td>SF</td>\n",
       "      <td>25.0</td>\n",
       "      <td>6-6</td>\n",
       "      <td>235.0</td>\n",
       "      <td>Marquette</td>\n",
       "      <td>6796117.0</td>\n",
       "    </tr>\n",
       "    <tr>\n",
       "      <th>2</th>\n",
       "      <td>John Holland</td>\n",
       "      <td>Boston Celtics</td>\n",
       "      <td>30.0</td>\n",
       "      <td>SG</td>\n",
       "      <td>27.0</td>\n",
       "      <td>6-5</td>\n",
       "      <td>205.0</td>\n",
       "      <td>Boston University</td>\n",
       "      <td>NaN</td>\n",
       "    </tr>\n",
       "    <tr>\n",
       "      <th>3</th>\n",
       "      <td>R.J. Hunter</td>\n",
       "      <td>Boston Celtics</td>\n",
       "      <td>28.0</td>\n",
       "      <td>SG</td>\n",
       "      <td>22.0</td>\n",
       "      <td>6-5</td>\n",
       "      <td>185.0</td>\n",
       "      <td>Georgia State</td>\n",
       "      <td>1148640.0</td>\n",
       "    </tr>\n",
       "    <tr>\n",
       "      <th>4</th>\n",
       "      <td>Jonas Jerebko</td>\n",
       "      <td>Boston Celtics</td>\n",
       "      <td>8.0</td>\n",
       "      <td>PF</td>\n",
       "      <td>29.0</td>\n",
       "      <td>6-10</td>\n",
       "      <td>231.0</td>\n",
       "      <td>NaN</td>\n",
       "      <td>5000000.0</td>\n",
       "    </tr>\n",
       "  </tbody>\n",
       "</table>\n",
       "</div>"
      ],
      "text/plain": [
       "            Name            Team  Number Position   Age Height  Weight  \\\n",
       "0  Avery Bradley  Boston Celtics     0.0       PG  25.0    6-2   180.0   \n",
       "1    Jae Crowder  Boston Celtics    99.0       SF  25.0    6-6   235.0   \n",
       "2   John Holland  Boston Celtics    30.0       SG  27.0    6-5   205.0   \n",
       "3    R.J. Hunter  Boston Celtics    28.0       SG  22.0    6-5   185.0   \n",
       "4  Jonas Jerebko  Boston Celtics     8.0       PF  29.0   6-10   231.0   \n",
       "\n",
       "             College     Salary  \n",
       "0              Texas  7730337.0  \n",
       "1          Marquette  6796117.0  \n",
       "2  Boston University        NaN  \n",
       "3      Georgia State  1148640.0  \n",
       "4                NaN  5000000.0  "
      ]
     },
     "execution_count": 40,
     "metadata": {},
     "output_type": "execute_result"
    }
   ],
   "source": [
    "data_top"
   ]
  },
  {
   "cell_type": "code",
   "execution_count": 41,
   "id": "889ae265",
   "metadata": {},
   "outputs": [
    {
     "data": {
      "text/plain": [
       "0    Avery Bradley\n",
       "1      Jae Crowder\n",
       "2     John Holland\n",
       "3      R.J. Hunter\n",
       "4    Jonas Jerebko\n",
       "5     Amir Johnson\n",
       "6    Jordan Mickey\n",
       "7     Kelly Olynyk\n",
       "8     Terry Rozier\n",
       "Name: Name, dtype: object"
      ]
     },
     "execution_count": 41,
     "metadata": {},
     "output_type": "execute_result"
    }
   ],
   "source": [
    "n = 9 \n",
    "series_data = data_nba[\"Name\"]\n",
    "top = series_data.head(n=n)\n",
    "top"
   ]
  },
  {
   "cell_type": "markdown",
   "id": "8de5b837",
   "metadata": {},
   "source": [
    "***Python | Pandas Dataframe/Series.tail()***"
   ]
  },
  {
   "cell_type": "markdown",
   "id": "a1ac20a1",
   "metadata": {},
   "source": [
    "Pandas tail() method is used to return bottom n (5 by default) rows of a data frame or series."
   ]
  },
  {
   "cell_type": "code",
   "execution_count": 42,
   "id": "ddf5c771",
   "metadata": {},
   "outputs": [
    {
     "data": {
      "text/html": [
       "<div>\n",
       "<style scoped>\n",
       "    .dataframe tbody tr th:only-of-type {\n",
       "        vertical-align: middle;\n",
       "    }\n",
       "\n",
       "    .dataframe tbody tr th {\n",
       "        vertical-align: top;\n",
       "    }\n",
       "\n",
       "    .dataframe thead th {\n",
       "        text-align: right;\n",
       "    }\n",
       "</style>\n",
       "<table border=\"1\" class=\"dataframe\">\n",
       "  <thead>\n",
       "    <tr style=\"text-align: right;\">\n",
       "      <th></th>\n",
       "      <th>Name</th>\n",
       "      <th>Team</th>\n",
       "      <th>Number</th>\n",
       "      <th>Position</th>\n",
       "      <th>Age</th>\n",
       "      <th>Height</th>\n",
       "      <th>Weight</th>\n",
       "      <th>College</th>\n",
       "      <th>Salary</th>\n",
       "    </tr>\n",
       "  </thead>\n",
       "  <tbody>\n",
       "    <tr>\n",
       "      <th>453</th>\n",
       "      <td>Shelvin Mack</td>\n",
       "      <td>Utah Jazz</td>\n",
       "      <td>8.0</td>\n",
       "      <td>PG</td>\n",
       "      <td>26.0</td>\n",
       "      <td>6-3</td>\n",
       "      <td>203.0</td>\n",
       "      <td>Butler</td>\n",
       "      <td>2433333.0</td>\n",
       "    </tr>\n",
       "    <tr>\n",
       "      <th>454</th>\n",
       "      <td>Raul Neto</td>\n",
       "      <td>Utah Jazz</td>\n",
       "      <td>25.0</td>\n",
       "      <td>PG</td>\n",
       "      <td>24.0</td>\n",
       "      <td>6-1</td>\n",
       "      <td>179.0</td>\n",
       "      <td>NaN</td>\n",
       "      <td>900000.0</td>\n",
       "    </tr>\n",
       "    <tr>\n",
       "      <th>455</th>\n",
       "      <td>Tibor Pleiss</td>\n",
       "      <td>Utah Jazz</td>\n",
       "      <td>21.0</td>\n",
       "      <td>C</td>\n",
       "      <td>26.0</td>\n",
       "      <td>7-3</td>\n",
       "      <td>256.0</td>\n",
       "      <td>NaN</td>\n",
       "      <td>2900000.0</td>\n",
       "    </tr>\n",
       "    <tr>\n",
       "      <th>456</th>\n",
       "      <td>Jeff Withey</td>\n",
       "      <td>Utah Jazz</td>\n",
       "      <td>24.0</td>\n",
       "      <td>C</td>\n",
       "      <td>26.0</td>\n",
       "      <td>7-0</td>\n",
       "      <td>231.0</td>\n",
       "      <td>Kansas</td>\n",
       "      <td>947276.0</td>\n",
       "    </tr>\n",
       "    <tr>\n",
       "      <th>457</th>\n",
       "      <td>NaN</td>\n",
       "      <td>NaN</td>\n",
       "      <td>NaN</td>\n",
       "      <td>NaN</td>\n",
       "      <td>NaN</td>\n",
       "      <td>NaN</td>\n",
       "      <td>NaN</td>\n",
       "      <td>NaN</td>\n",
       "      <td>NaN</td>\n",
       "    </tr>\n",
       "  </tbody>\n",
       "</table>\n",
       "</div>"
      ],
      "text/plain": [
       "             Name       Team  Number Position   Age Height  Weight College  \\\n",
       "453  Shelvin Mack  Utah Jazz     8.0       PG  26.0    6-3   203.0  Butler   \n",
       "454     Raul Neto  Utah Jazz    25.0       PG  24.0    6-1   179.0     NaN   \n",
       "455  Tibor Pleiss  Utah Jazz    21.0        C  26.0    7-3   256.0     NaN   \n",
       "456   Jeff Withey  Utah Jazz    24.0        C  26.0    7-0   231.0  Kansas   \n",
       "457           NaN        NaN     NaN      NaN   NaN    NaN     NaN     NaN   \n",
       "\n",
       "        Salary  \n",
       "453  2433333.0  \n",
       "454   900000.0  \n",
       "455  2900000.0  \n",
       "456   947276.0  \n",
       "457        NaN  "
      ]
     },
     "execution_count": 42,
     "metadata": {},
     "output_type": "execute_result"
    }
   ],
   "source": [
    "data_tail = data_nba.tail()\n",
    "data_tail"
   ]
  },
  {
   "cell_type": "code",
   "execution_count": 43,
   "id": "b03f575c",
   "metadata": {},
   "outputs": [
    {
     "data": {
      "text/plain": [
       "446    12000000.0\n",
       "447     1175880.0\n",
       "448    15409570.0\n",
       "449     1348440.0\n",
       "450     2050000.0\n",
       "451      981348.0\n",
       "452     2239800.0\n",
       "453     2433333.0\n",
       "454      900000.0\n",
       "455     2900000.0\n",
       "456      947276.0\n",
       "457           NaN\n",
       "Name: Salary, dtype: float64"
      ]
     },
     "execution_count": 43,
     "metadata": {},
     "output_type": "execute_result"
    }
   ],
   "source": [
    "n = 12 \n",
    "series1 = data_nba['Salary']\n",
    "tail_data = series1.tail(n=12)\n",
    "tail_data"
   ]
  },
  {
   "cell_type": "markdown",
   "id": "3dff370f",
   "metadata": {},
   "source": [
    "***Pandas DataFrame describe() Method***"
   ]
  },
  {
   "cell_type": "markdown",
   "id": "207bfd2c",
   "metadata": {},
   "source": [
    "Pandas describe() is used to view some basic statistical details like percentile, mean, std, etc. of a data frame or a series of numeric values."
   ]
  },
  {
   "cell_type": "markdown",
   "id": "fbd7db66",
   "metadata": {},
   "source": [
    "(https://www.geeksforgeeks.org/python-pandas-dataframe-describe-method/)"
   ]
  },
  {
   "cell_type": "code",
   "execution_count": 45,
   "id": "26c51b24",
   "metadata": {},
   "outputs": [
    {
     "name": "stdout",
     "output_type": "stream",
     "text": [
      "            Name            Team  Number Position   Age Height  Weight  \\\n",
      "0  Avery Bradley  Boston Celtics     0.0       PG  25.0    6-2   180.0   \n",
      "1    Jae Crowder  Boston Celtics    99.0       SF  25.0    6-6   235.0   \n",
      "2   John Holland  Boston Celtics    30.0       SG  27.0    6-5   205.0   \n",
      "3    R.J. Hunter  Boston Celtics    28.0       SG  22.0    6-5   185.0   \n",
      "4  Jonas Jerebko  Boston Celtics     8.0       PF  29.0   6-10   231.0   \n",
      "\n",
      "             College     Salary  \n",
      "0              Texas  7730337.0  \n",
      "1          Marquette  6796117.0  \n",
      "2  Boston University        NaN  \n",
      "3      Georgia State  1148640.0  \n",
      "4                NaN  5000000.0  \n"
     ]
    }
   ],
   "source": [
    "print(data_nba.head())"
   ]
  },
  {
   "cell_type": "code",
   "execution_count": 46,
   "id": "5c7d20f9",
   "metadata": {},
   "outputs": [
    {
     "name": "stdout",
     "output_type": "stream",
     "text": [
      "           Number         Age      Weight        Salary\n",
      "count  457.000000  457.000000  457.000000  4.460000e+02\n",
      "mean    17.678337   26.938731  221.522976  4.842684e+06\n",
      "std     15.966090    4.404016   26.368343  5.229238e+06\n",
      "min      0.000000   19.000000  161.000000  3.088800e+04\n",
      "25%      5.000000   24.000000  200.000000  1.044792e+06\n",
      "50%     13.000000   26.000000  220.000000  2.839073e+06\n",
      "75%     25.000000   30.000000  240.000000  6.500000e+06\n",
      "max     99.000000   40.000000  307.000000  2.500000e+07\n"
     ]
    }
   ],
   "source": [
    "print(data_nba.describe())"
   ]
  },
  {
   "cell_type": "markdown",
   "id": "bf833d02",
   "metadata": {},
   "source": [
    "count: Total Number of Non-Empty values\n",
    "\n",
    "mean: Mean of the column values\n",
    "\n",
    "std: Standard Deviation of the column values\n",
    "\n",
    "min: Minimum value from the column\n",
    "\n",
    "25%: 25 percentile\n",
    "\n",
    "50%: 50 percentile\n",
    "\n",
    "75%: 75 percentile\n",
    "\n",
    "max: Maximum value from the column"
   ]
  },
  {
   "cell_type": "code",
   "execution_count": 47,
   "id": "c1736f9c",
   "metadata": {},
   "outputs": [],
   "source": [
    "data_nba.dropna(inplace=True)"
   ]
  },
  {
   "cell_type": "code",
   "execution_count": 50,
   "id": "e2877bd1",
   "metadata": {},
   "outputs": [
    {
     "data": {
      "text/html": [
       "<div>\n",
       "<style scoped>\n",
       "    .dataframe tbody tr th:only-of-type {\n",
       "        vertical-align: middle;\n",
       "    }\n",
       "\n",
       "    .dataframe tbody tr th {\n",
       "        vertical-align: top;\n",
       "    }\n",
       "\n",
       "    .dataframe thead th {\n",
       "        text-align: right;\n",
       "    }\n",
       "</style>\n",
       "<table border=\"1\" class=\"dataframe\">\n",
       "  <thead>\n",
       "    <tr style=\"text-align: right;\">\n",
       "      <th></th>\n",
       "      <th>Name</th>\n",
       "      <th>Team</th>\n",
       "      <th>Number</th>\n",
       "      <th>Position</th>\n",
       "      <th>Age</th>\n",
       "      <th>Height</th>\n",
       "      <th>Weight</th>\n",
       "      <th>College</th>\n",
       "      <th>Salary</th>\n",
       "    </tr>\n",
       "  </thead>\n",
       "  <tbody>\n",
       "    <tr>\n",
       "      <th>count</th>\n",
       "      <td>364</td>\n",
       "      <td>364</td>\n",
       "      <td>364.000000</td>\n",
       "      <td>364</td>\n",
       "      <td>364.000000</td>\n",
       "      <td>364</td>\n",
       "      <td>364.000000</td>\n",
       "      <td>364</td>\n",
       "      <td>3.640000e+02</td>\n",
       "    </tr>\n",
       "    <tr>\n",
       "      <th>unique</th>\n",
       "      <td>364</td>\n",
       "      <td>30</td>\n",
       "      <td>NaN</td>\n",
       "      <td>5</td>\n",
       "      <td>NaN</td>\n",
       "      <td>17</td>\n",
       "      <td>NaN</td>\n",
       "      <td>115</td>\n",
       "      <td>NaN</td>\n",
       "    </tr>\n",
       "    <tr>\n",
       "      <th>top</th>\n",
       "      <td>Avery Bradley</td>\n",
       "      <td>New Orleans Pelicans</td>\n",
       "      <td>NaN</td>\n",
       "      <td>SG</td>\n",
       "      <td>NaN</td>\n",
       "      <td>6-9</td>\n",
       "      <td>NaN</td>\n",
       "      <td>Kentucky</td>\n",
       "      <td>NaN</td>\n",
       "    </tr>\n",
       "    <tr>\n",
       "      <th>freq</th>\n",
       "      <td>1</td>\n",
       "      <td>16</td>\n",
       "      <td>NaN</td>\n",
       "      <td>87</td>\n",
       "      <td>NaN</td>\n",
       "      <td>49</td>\n",
       "      <td>NaN</td>\n",
       "      <td>22</td>\n",
       "      <td>NaN</td>\n",
       "    </tr>\n",
       "    <tr>\n",
       "      <th>mean</th>\n",
       "      <td>NaN</td>\n",
       "      <td>NaN</td>\n",
       "      <td>16.829670</td>\n",
       "      <td>NaN</td>\n",
       "      <td>26.615385</td>\n",
       "      <td>NaN</td>\n",
       "      <td>219.785714</td>\n",
       "      <td>NaN</td>\n",
       "      <td>4.620311e+06</td>\n",
       "    </tr>\n",
       "    <tr>\n",
       "      <th>std</th>\n",
       "      <td>NaN</td>\n",
       "      <td>NaN</td>\n",
       "      <td>14.994162</td>\n",
       "      <td>NaN</td>\n",
       "      <td>4.233591</td>\n",
       "      <td>NaN</td>\n",
       "      <td>24.793099</td>\n",
       "      <td>NaN</td>\n",
       "      <td>5.119716e+06</td>\n",
       "    </tr>\n",
       "    <tr>\n",
       "      <th>min</th>\n",
       "      <td>NaN</td>\n",
       "      <td>NaN</td>\n",
       "      <td>0.000000</td>\n",
       "      <td>NaN</td>\n",
       "      <td>19.000000</td>\n",
       "      <td>NaN</td>\n",
       "      <td>161.000000</td>\n",
       "      <td>NaN</td>\n",
       "      <td>5.572200e+04</td>\n",
       "    </tr>\n",
       "    <tr>\n",
       "      <th>20%</th>\n",
       "      <td>NaN</td>\n",
       "      <td>NaN</td>\n",
       "      <td>4.000000</td>\n",
       "      <td>NaN</td>\n",
       "      <td>23.000000</td>\n",
       "      <td>NaN</td>\n",
       "      <td>195.000000</td>\n",
       "      <td>NaN</td>\n",
       "      <td>9.472760e+05</td>\n",
       "    </tr>\n",
       "    <tr>\n",
       "      <th>40%</th>\n",
       "      <td>NaN</td>\n",
       "      <td>NaN</td>\n",
       "      <td>9.000000</td>\n",
       "      <td>NaN</td>\n",
       "      <td>25.000000</td>\n",
       "      <td>NaN</td>\n",
       "      <td>212.000000</td>\n",
       "      <td>NaN</td>\n",
       "      <td>1.638754e+06</td>\n",
       "    </tr>\n",
       "    <tr>\n",
       "      <th>50%</th>\n",
       "      <td>NaN</td>\n",
       "      <td>NaN</td>\n",
       "      <td>12.000000</td>\n",
       "      <td>NaN</td>\n",
       "      <td>26.000000</td>\n",
       "      <td>NaN</td>\n",
       "      <td>220.000000</td>\n",
       "      <td>NaN</td>\n",
       "      <td>2.515440e+06</td>\n",
       "    </tr>\n",
       "    <tr>\n",
       "      <th>60%</th>\n",
       "      <td>NaN</td>\n",
       "      <td>NaN</td>\n",
       "      <td>17.000000</td>\n",
       "      <td>NaN</td>\n",
       "      <td>27.000000</td>\n",
       "      <td>NaN</td>\n",
       "      <td>228.000000</td>\n",
       "      <td>NaN</td>\n",
       "      <td>3.429934e+06</td>\n",
       "    </tr>\n",
       "    <tr>\n",
       "      <th>80%</th>\n",
       "      <td>NaN</td>\n",
       "      <td>NaN</td>\n",
       "      <td>30.000000</td>\n",
       "      <td>NaN</td>\n",
       "      <td>30.000000</td>\n",
       "      <td>NaN</td>\n",
       "      <td>242.400000</td>\n",
       "      <td>NaN</td>\n",
       "      <td>7.838202e+06</td>\n",
       "    </tr>\n",
       "    <tr>\n",
       "      <th>max</th>\n",
       "      <td>NaN</td>\n",
       "      <td>NaN</td>\n",
       "      <td>99.000000</td>\n",
       "      <td>NaN</td>\n",
       "      <td>40.000000</td>\n",
       "      <td>NaN</td>\n",
       "      <td>279.000000</td>\n",
       "      <td>NaN</td>\n",
       "      <td>2.287500e+07</td>\n",
       "    </tr>\n",
       "  </tbody>\n",
       "</table>\n",
       "</div>"
      ],
      "text/plain": [
       "                 Name                  Team      Number Position         Age  \\\n",
       "count             364                   364  364.000000      364  364.000000   \n",
       "unique            364                    30         NaN        5         NaN   \n",
       "top     Avery Bradley  New Orleans Pelicans         NaN       SG         NaN   \n",
       "freq                1                    16         NaN       87         NaN   \n",
       "mean              NaN                   NaN   16.829670      NaN   26.615385   \n",
       "std               NaN                   NaN   14.994162      NaN    4.233591   \n",
       "min               NaN                   NaN    0.000000      NaN   19.000000   \n",
       "20%               NaN                   NaN    4.000000      NaN   23.000000   \n",
       "40%               NaN                   NaN    9.000000      NaN   25.000000   \n",
       "50%               NaN                   NaN   12.000000      NaN   26.000000   \n",
       "60%               NaN                   NaN   17.000000      NaN   27.000000   \n",
       "80%               NaN                   NaN   30.000000      NaN   30.000000   \n",
       "max               NaN                   NaN   99.000000      NaN   40.000000   \n",
       "\n",
       "       Height      Weight   College        Salary  \n",
       "count     364  364.000000       364  3.640000e+02  \n",
       "unique     17         NaN       115           NaN  \n",
       "top       6-9         NaN  Kentucky           NaN  \n",
       "freq       49         NaN        22           NaN  \n",
       "mean      NaN  219.785714       NaN  4.620311e+06  \n",
       "std       NaN   24.793099       NaN  5.119716e+06  \n",
       "min       NaN  161.000000       NaN  5.572200e+04  \n",
       "20%       NaN  195.000000       NaN  9.472760e+05  \n",
       "40%       NaN  212.000000       NaN  1.638754e+06  \n",
       "50%       NaN  220.000000       NaN  2.515440e+06  \n",
       "60%       NaN  228.000000       NaN  3.429934e+06  \n",
       "80%       NaN  242.400000       NaN  7.838202e+06  \n",
       "max       NaN  279.000000       NaN  2.287500e+07  "
      ]
     },
     "execution_count": 50,
     "metadata": {},
     "output_type": "execute_result"
    }
   ],
   "source": [
    "perc = [.20,.40,.60,.80]\n",
    "include = ['object','float','int']\n",
    "desc = data_nba.describe(percentiles=perc,include=include)\n",
    "desc"
   ]
  },
  {
   "cell_type": "markdown",
   "id": "f330de5b",
   "metadata": {},
   "source": [
    "***Describing series of strings***"
   ]
  },
  {
   "cell_type": "code",
   "execution_count": 52,
   "id": "7b05848c",
   "metadata": {},
   "outputs": [
    {
     "data": {
      "text/plain": [
       "count               364\n",
       "unique              364\n",
       "top       Avery Bradley\n",
       "freq                  1\n",
       "Name: Name, dtype: object"
      ]
     },
     "execution_count": 52,
     "metadata": {},
     "output_type": "execute_result"
    }
   ],
   "source": [
    "desc1 = data_nba['Name'].describe()\n",
    "desc1"
   ]
  },
  {
   "cell_type": "code",
   "execution_count": null,
   "id": "106dd60e",
   "metadata": {},
   "outputs": [],
   "source": []
  }
 ],
 "metadata": {
  "kernelspec": {
   "display_name": "Python 3 (ipykernel)",
   "language": "python",
   "name": "python3"
  },
  "language_info": {
   "codemirror_mode": {
    "name": "ipython",
    "version": 3
   },
   "file_extension": ".py",
   "mimetype": "text/x-python",
   "name": "python",
   "nbconvert_exporter": "python",
   "pygments_lexer": "ipython3",
   "version": "3.11.1"
  }
 },
 "nbformat": 4,
 "nbformat_minor": 5
}
