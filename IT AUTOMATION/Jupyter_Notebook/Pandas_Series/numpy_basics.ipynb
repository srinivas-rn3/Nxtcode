{
 "cells": [
  {
   "cell_type": "markdown",
   "id": "3c7e9c8d",
   "metadata": {},
   "source": [
    "***What is NumPy?***\n",
    "\n",
    "Numpy is an open-source library for working efficiently with arrays. Developed in 2005 by Travis Oliphant, the name stands for Numerical Python. As a critical data science library in Python, many other libraries depend on it."
   ]
  },
  {
   "cell_type": "markdown",
   "id": "eb35ea4c",
   "metadata": {},
   "source": [
    "(https://www.learndatasci.com/tutorials/applied-introduction-to-numpy-python-tutorial/)"
   ]
  },
  {
   "cell_type": "markdown",
   "id": "2ff4291b",
   "metadata": {},
   "source": [
    "***Some of Numpy's advantages:***\n",
    "\n",
    "1. Mathematical operations on NumPy’s ndarray objects are up to 50x faster than iterating over native Python lists using loops. The efficiency gains are primarily due to NumPy storing array elements in an ordered single location within memory, eliminating redundancies by having all elements be the same type and making full use of modern CPUs. The efficiency advantages become particularly apparent when operating on arrays with thousands or millions of elements, which are pretty standard within data science.\n",
    "\n",
    "2. It offers an Indexing syntax for easily accessing portions of data within an array.\n",
    "\n",
    "3. It contains built-in functions that improve quality of life when working with arrays and math, such as functions for linear algebra, array transformations, and matrix math.\n",
    "\n",
    "4. It requires fewer lines of code for most mathematical operations than native Python lists."
   ]
  },
  {
   "cell_type": "markdown",
   "id": "086a1866",
   "metadata": {},
   "source": [
    "What's the relationship between NumPy, SciPy, Scikit-learn, and Pandas?\n",
    "\n",
    "<b>NumPy</b> provides a foundation on which other data science packages are built, including SciPy, Scikit-learn, and Pandas.\n",
    "\n",
    "<b>SciPy</b> provides a menu of libraries for scientific computations. It extends NumPy by including integration, interpolation, signal processing, more linear algebra functions, descriptive and inferential statistics, numerical optimizations, and more.\n",
    "\n",
    "<b>Scikit-learn</b> extends NumPy and SciPy with advanced machine-learning algorithms.\n",
    "\n",
    "<b>Pandas</b> extends NumPy by providing functions for exploratory data analysis, statistics, and data visualization. It can be thought of as Python's equivalent to Microsoft Excel spreadsheets for working with and exploring tabular data (tutorial)."
   ]
  },
  {
   "cell_type": "markdown",
   "id": "b6df78a9",
   "metadata": {},
   "source": [
    "The NumPy array - an n-dimensional data structure - is the central object of the NumPy package.\n",
    "\n",
    "\n",
    "A one-dimensional NumPy array can be thought of as a <b><font color='red'>vector</font></b>, a two-dimensional array as a <b><font color='red'>matrix</font></b> (i.e., a set of vectors), and a three-dimensional array as a <b><font color='red'>tensor<font></b> (i.e., a set of matrices)."
   ]
  },
  {
   "cell_type": "markdown",
   "id": "3cc12f68",
   "metadata": {},
   "source": [
    "e.g.\n",
    "Vector -> np.array[1,2])\n",
    "\n",
    "Matrix -> np.array([[1,2],[3,4]])\n",
    "\n",
    "3D Matrix -> np.array([[[1,2],[3,4]],\n",
    "                      [[5,6],[7,8]],\n",
    "                      [[9,10],[11,12]]])\n"
   ]
  },
  {
   "cell_type": "markdown",
   "id": "615b9bf1",
   "metadata": {},
   "source": [
    "***Array data types***\n",
    "\n",
    "An array can consist of integers, floating-point numbers, or strings. Within an array, the data type must be consistent (e.g., all integers or all floats).\n",
    "\n",
    "Need an array with mixed data types? Consider using Numpy's record array format or pandas dataframes instead (see the Pandas tutorial).\n",
    "\n",
    "\n",
    "In this article, we'll restrict our focus to conventional NumPy arrays consisting of a single data type."
   ]
  },
  {
   "cell_type": "markdown",
   "id": "457e2c0d",
   "metadata": {},
   "source": [
    "<font color = 'yellow'>Using np.array()</font>\n",
    "\n",
    "To define an array manually, we can use the np.array() function. Below, we pass a list of two elements, each of which is a list containing two values. The result is a 2x2 matrix:"
   ]
  },
  {
   "cell_type": "code",
   "execution_count": 1,
   "id": "265ff146",
   "metadata": {},
   "outputs": [],
   "source": [
    "import numpy as np\n",
    "import pandas as pd"
   ]
  },
  {
   "cell_type": "code",
   "execution_count": 2,
   "id": "94d03164",
   "metadata": {},
   "outputs": [
    {
     "data": {
      "text/plain": [
       "array([[1, 3],\n",
       "       [4, 5]])"
      ]
     },
     "execution_count": 2,
     "metadata": {},
     "output_type": "execute_result"
    }
   ],
   "source": [
    "np.array([[1,3],[4,5]])"
   ]
  },
  {
   "cell_type": "markdown",
   "id": "aa1bd387",
   "metadata": {},
   "source": [
    "NumPy has numerous functions for generating commonly-used arrays without having to enter the elements manually. A few of those are shown below:\n",
    "\n",
    "<font color ='yellow'>Defining arrays: np.arange()</font>\n",
    "    \n",
    "The function np.arange() is great for creating vectors easily. Here, we create a vector with values spanning 1 up to (but not including) 5:"
   ]
  },
  {
   "cell_type": "code",
   "execution_count": 3,
   "id": "ce7bff93",
   "metadata": {},
   "outputs": [
    {
     "data": {
      "text/plain": [
       "array([1, 2, 3, 4])"
      ]
     },
     "execution_count": 3,
     "metadata": {},
     "output_type": "execute_result"
    }
   ],
   "source": [
    "np.arange(1,5)"
   ]
  },
  {
   "cell_type": "markdown",
   "id": "b32d1ef2",
   "metadata": {},
   "source": [
    "<b> Defining arrays: np.zeros, np.ones, np.full</b>\n",
    "    \n",
    "In many programming tasks, it can be useful to initialize a variable and then write a value to it later in the code. If that variable happens to be a NumPy array, a common approach would be to create it as an array with zeros in every element. We can do this using <b>np.zeros().</b> Here, we create an array of zeros with three rows and one column."
   ]
  },
  {
   "cell_type": "code",
   "execution_count": 4,
   "id": "cea807fe",
   "metadata": {},
   "outputs": [
    {
     "data": {
      "text/plain": [
       "array([[0., 0., 0.]])"
      ]
     },
     "execution_count": 4,
     "metadata": {},
     "output_type": "execute_result"
    }
   ],
   "source": [
    "np.zeros([1,3])"
   ]
  },
  {
   "cell_type": "code",
   "execution_count": 5,
   "id": "ff7286e7",
   "metadata": {},
   "outputs": [
    {
     "data": {
      "text/plain": [
       "array([[0.],\n",
       "       [0.],\n",
       "       [0.]])"
      ]
     },
     "execution_count": 5,
     "metadata": {},
     "output_type": "execute_result"
    }
   ],
   "source": [
    "np.zeros([3,1])"
   ]
  },
  {
   "cell_type": "markdown",
   "id": "91305586",
   "metadata": {},
   "source": [
    "<b>np.full()</b> creates an array repeating a fixed value (defaults to zero). Here we create a 2x3 array with the number 7 in each element:\n"
   ]
  },
  {
   "cell_type": "code",
   "execution_count": 6,
   "id": "39615dd3",
   "metadata": {},
   "outputs": [
    {
     "data": {
      "text/plain": [
       "array([[7, 7, 7],\n",
       "       [7, 7, 7],\n",
       "       [7, 7, 7]])"
      ]
     },
     "execution_count": 6,
     "metadata": {},
     "output_type": "execute_result"
    }
   ],
   "source": [
    "np.full((3,3),7)"
   ]
  },
  {
   "cell_type": "code",
   "execution_count": 7,
   "id": "b28ea58b",
   "metadata": {},
   "outputs": [
    {
     "data": {
      "text/plain": [
       "array([[1., 1., 1.]])"
      ]
     },
     "execution_count": 7,
     "metadata": {},
     "output_type": "execute_result"
    }
   ],
   "source": [
    "np.ones([1,3])"
   ]
  },
  {
   "cell_type": "code",
   "execution_count": 8,
   "id": "0e47751f",
   "metadata": {},
   "outputs": [
    {
     "data": {
      "text/plain": [
       "array([[1., 1., 1.],\n",
       "       [1., 1., 1.],\n",
       "       [1., 1., 1.]])"
      ]
     },
     "execution_count": 8,
     "metadata": {},
     "output_type": "execute_result"
    }
   ],
   "source": [
    "np.ones([3,3])"
   ]
  },
  {
   "cell_type": "markdown",
   "id": "2cb543a0",
   "metadata": {},
   "source": [
    "<b>Array shape</b>\n",
    "\n",
    "All arrays have a shape accessible using <i>.shape</i>\n",
    "\n",
    "For example, let's get the shape of a vector, matrix, and tensor."
   ]
  },
  {
   "cell_type": "code",
   "execution_count": 9,
   "id": "78139519",
   "metadata": {
    "scrolled": true
   },
   "outputs": [
    {
     "name": "stdout",
     "output_type": "stream",
     "text": [
      "Vector shape: (5,)\n",
      "[0 1 2 3 4]\n",
      "Matrix shape: (3, 2)\n",
      "[[1. 1.]\n",
      " [1. 1.]\n",
      " [1. 1.]]\n",
      "Tensor shape: (2, 3, 3)\n",
      "[[[0. 0. 0.]\n",
      "  [0. 0. 0.]\n",
      "  [0. 0. 0.]]\n",
      "\n",
      " [[0. 0. 0.]\n",
      "  [0. 0. 0.]\n",
      "  [0. 0. 0.]]]\n"
     ]
    }
   ],
   "source": [
    "vector = np.arange(5)\n",
    "print(\"Vector shape:\",vector.shape)\n",
    "print(vector)\n",
    "\n",
    "matrix = np.ones([3,2])\n",
    "print(\"Matrix shape:\",matrix.shape)\n",
    "print(matrix)\n",
    "tensor = np.zeros([2,3,3])\n",
    "print(\"Tensor shape:\",tensor.shape)\n",
    "print(tensor)"
   ]
  },
  {
   "cell_type": "markdown",
   "id": "dbc71567",
   "metadata": {},
   "source": [
    "The shape of the vector is one-dimensional. The first number in its shape is the number of elements (or rows). For the matrix, .shape tells us we have three rows and two columns. The tensor is slightly different. The first number is how many matrices/slices we have. The second gives the number of rows. The third provides the number of columns.\n",
    "\n",
    "If you're familiar with pandas, you might have noticed that the syntax for the number of rows and columns is strikingly similar to the equivalent in pandas. As we continue to explore NumPy arrays, you may notice many more similarities."
   ]
  },
  {
   "cell_type": "markdown",
   "id": "47b43a18",
   "metadata": {},
   "source": [
    "<b>NumPy arange()</b> is one of the array creation routines based on numerical ranges. It creates an instance of ndarray with evenly spaced values and returns the reference to it.\n",
    "\n",
    "The arange([start,] stop[, step,][, dtype]) : Returns an array with evenly spaced elements as per the interval. The interval mentioned is half-opened i.e. [Start, Stop) "
   ]
  },
  {
   "cell_type": "code",
   "execution_count": 10,
   "id": "7ed353c0",
   "metadata": {},
   "outputs": [
    {
     "data": {
      "text/plain": [
       "array([1, 4, 7])"
      ]
     },
     "execution_count": 10,
     "metadata": {},
     "output_type": "execute_result"
    }
   ],
   "source": [
    "np.arange(start=1,stop=10,step=3)"
   ]
  },
  {
   "cell_type": "markdown",
   "id": "089fdc96",
   "metadata": {},
   "source": [
    "In this example, start is 1. Therefore, the first element of the obtained array is 1. step is 3, which is why your second value is 1+3, that is 4, while the third value in the array is 4+3, which equals 7."
   ]
  },
  {
   "cell_type": "code",
   "execution_count": 11,
   "id": "442a8a98",
   "metadata": {},
   "outputs": [
    {
     "data": {
      "text/plain": [
       "array([1, 4, 7])"
      ]
     },
     "execution_count": 11,
     "metadata": {},
     "output_type": "execute_result"
    }
   ],
   "source": [
    "#you can pass start, stop, and step as positional arguments as well:\n",
    "np.arange(1,10,3)"
   ]
  },
  {
   "cell_type": "markdown",
   "id": "dd83803d",
   "metadata": {},
   "source": [
    "<b>Reshaping arrays</b>\n",
    "\n",
    "We can reshape an array into any compatible dimensions using <i>.reshape</i>"
   ]
  },
  {
   "cell_type": "code",
   "execution_count": 12,
   "id": "bbff45e8",
   "metadata": {},
   "outputs": [
    {
     "name": "stdout",
     "output_type": "stream",
     "text": [
      "[1 2 3 4 5 6 7 8 9] \n",
      "\n"
     ]
    }
   ],
   "source": [
    "arr = np.arange(1,10)\n",
    "print(arr,'\\n')"
   ]
  },
  {
   "cell_type": "code",
   "execution_count": 13,
   "id": "52c41cef",
   "metadata": {},
   "outputs": [
    {
     "name": "stdout",
     "output_type": "stream",
     "text": [
      "[[1 2 3]\n",
      " [4 5 6]\n",
      " [7 8 9]] \n",
      "\n"
     ]
    }
   ],
   "source": [
    "#reshape\n",
    "arr = arr.reshape(3,3)\n",
    "print(arr,'\\n')"
   ]
  },
  {
   "cell_type": "code",
   "execution_count": 14,
   "id": "da5d1de7",
   "metadata": {},
   "outputs": [
    {
     "name": "stdout",
     "output_type": "stream",
     "text": [
      "[1 2 3 4 5 6 7 8 9] \n",
      "\n"
     ]
    }
   ],
   "source": [
    "# Reshape back to the original size\n",
    "arr = arr.reshape(9)\n",
    "print(arr,'\\n')"
   ]
  },
  {
   "cell_type": "markdown",
   "id": "50aae61e",
   "metadata": {},
   "source": [
    "Numpy can try to infer one of the dimensions if you use -1. You will still need to have precisely the correct number of digits for the inference to work."
   ]
  },
  {
   "cell_type": "code",
   "execution_count": 15,
   "id": "3f15e936",
   "metadata": {},
   "outputs": [
    {
     "data": {
      "text/plain": [
       "array([[1, 2, 3],\n",
       "       [4, 5, 6],\n",
       "       [7, 8, 9]])"
      ]
     },
     "execution_count": 15,
     "metadata": {},
     "output_type": "execute_result"
    }
   ],
   "source": [
    "arr = np.arange(1,10).reshape(3,-1)\n",
    "arr"
   ]
  },
  {
   "cell_type": "markdown",
   "id": "f64db8da",
   "metadata": {},
   "source": [
    "<b>Reading data from a file into an array</b>\n",
    "\n",
    "Usually, data sets are too large to define manually. Instead, the most common use case is to import data from a data file into a NumPy array."
   ]
  },
  {
   "cell_type": "code",
   "execution_count": 16,
   "id": "bbeb3295",
   "metadata": {},
   "outputs": [],
   "source": [
    "import csv"
   ]
  },
  {
   "cell_type": "code",
   "execution_count": 17,
   "id": "9ac61958",
   "metadata": {},
   "outputs": [
    {
     "data": {
      "text/plain": [
       "(458, 5)"
      ]
     },
     "execution_count": 17,
     "metadata": {},
     "output_type": "execute_result"
    }
   ],
   "source": [
    "data = []\n",
    "with open(r'C:\\Users\\srini\\Downloads\\nba3.csv') as csvfile:\n",
    "    file_reader = csv.reader(csvfile,delimiter=',')\n",
    "    for row in file_reader:\n",
    "        data.append(row)\n",
    "data = np.array(data)#convert the list of lists  to numpy array\n",
    "data.shape\n",
    "    "
   ]
  },
  {
   "cell_type": "code",
   "execution_count": 18,
   "id": "296b7a82",
   "metadata": {},
   "outputs": [
    {
     "data": {
      "text/plain": [
       "numpy.str_"
      ]
     },
     "execution_count": 18,
     "metadata": {},
     "output_type": "execute_result"
    }
   ],
   "source": [
    "data.dtype.type"
   ]
  },
  {
   "cell_type": "markdown",
   "id": "9d7f03a7",
   "metadata": {},
   "source": [
    "We now have our data stored in a NumPy array that we've named data. For much of the remainder of this article, we'll be exploring how NumPy's functionality can be used to manipulate and gain insights into this data."
   ]
  },
  {
   "cell_type": "markdown",
   "id": "f60db598",
   "metadata": {},
   "source": [
    "<b>Saving</b>\n",
    "\n",
    "When we are ready to save our data, we can use the save function."
   ]
  },
  {
   "cell_type": "code",
   "execution_count": 19,
   "id": "08daf55b",
   "metadata": {},
   "outputs": [],
   "source": [
    "np.save(open(r'C:\\Users\\srini\\Downloads\\new_nba_numpy.npy','wb'),data)"
   ]
  },
  {
   "cell_type": "markdown",
   "id": "0de94306",
   "metadata": {},
   "source": [
    "<b>Indexing</b>\n",
    "\n",
    "At some point, it will become necessary to index (select) subsets of a NumPy array. For instance, you might want to plot one column of data or perform a manipulation of that column. NumPy uses the same indexing notation as MATLAB."
   ]
  },
  {
   "cell_type": "markdown",
   "id": "08487615",
   "metadata": {},
   "source": [
    "Commas separate axes of an array.\n",
    "\n",
    "Colons mean \"through\". For example, x[0:4] means the first 5 rows (rows 0 through 4) of x.\n",
    "\n",
    "Negative numbers mean \"from the end of the array.\" For example, x[-1] means the last row of x.\n",
    "\n",
    "Blanks before or after colons means \"the rest of\". For example, x[3:] means the rest of the rows in x after row 3. Similarly, x[:3] means all the rows up to row 3. x[:] means all rows of x.\n",
    "\n",
    "When there are fewer indices than axes, the missing indices are considered complete slices. For example, in a 3-axis array, x[0,0] means all data in the 3rd axis of the 1st row and 1st column.\n",
    "\n",
    "Dots \"...\" mean as many colons as needed to produce a complete indexing tuple. For example, x[1,2,...] is the same as x[1,2,:,:,:]."
   ]
  },
  {
   "cell_type": "code",
   "execution_count": 20,
   "id": "08553854",
   "metadata": {},
   "outputs": [],
   "source": [
    "data=[]\n",
    "with open(r\"C:\\Users\\srini\\Downloads\\MER_T07_02A.csv\") as csvfile:\n",
    "    file_reader = csv.reader(csvfile,delimiter=',')\n",
    "    for row in file_reader:\n",
    "        data.append(row)\n",
    "        \n",
    "data1 = np.array(data)"
   ]
  },
  {
   "cell_type": "code",
   "execution_count": 21,
   "id": "d1133662",
   "metadata": {},
   "outputs": [
    {
     "data": {
      "text/plain": [
       "array([['MSN', 'YYYYMM', 'Value', 'Column_Order', 'Description', 'Unit'],\n",
       "       ['CLETPUS', '194913', '135451.32', '1',\n",
       "        'Electricity Net Generation From Coal, All Sectors',\n",
       "        'Million Kilowatthours'],\n",
       "       ['CLETPUS', '195013', '154519.994', '1',\n",
       "        'Electricity Net Generation From Coal, All Sectors',\n",
       "        'Million Kilowatthours'],\n",
       "       ...,\n",
       "       ['ELETPUS', '202305', '327858.999', '13',\n",
       "        'Electricity Net Generation Total (including from sources not shown), All Sectors',\n",
       "        'Million Kilowatthours'],\n",
       "       ['ELETPUS', '202306', '357140.257', '13',\n",
       "        'Electricity Net Generation Total (including from sources not shown), All Sectors',\n",
       "        'Million Kilowatthours'],\n",
       "       ['ELETPUS', '202307', '425654.556', '13',\n",
       "        'Electricity Net Generation Total (including from sources not shown), All Sectors',\n",
       "        'Million Kilowatthours']], dtype='<U80')"
      ]
     },
     "execution_count": 21,
     "metadata": {},
     "output_type": "execute_result"
    }
   ],
   "source": [
    "data1"
   ]
  },
  {
   "cell_type": "code",
   "execution_count": 22,
   "id": "51ce188d",
   "metadata": {},
   "outputs": [
    {
     "data": {
      "text/plain": [
       "(8854, 6)"
      ]
     },
     "execution_count": 22,
     "metadata": {},
     "output_type": "execute_result"
    }
   ],
   "source": [
    "data1.shape"
   ]
  },
  {
   "cell_type": "markdown",
   "id": "31b050cf",
   "metadata": {},
   "source": [
    "Another property of a NumPy array that we may wish to know is its data type. This information is stored in the dtype attribute. Calling dtype reveals that our array is made up of strings:\n",
    "\n"
   ]
  },
  {
   "cell_type": "code",
   "execution_count": 23,
   "id": "f1e13ca8",
   "metadata": {},
   "outputs": [
    {
     "data": {
      "text/plain": [
       "numpy.str_"
      ]
     },
     "execution_count": 23,
     "metadata": {},
     "output_type": "execute_result"
    }
   ],
   "source": [
    "data1.dtype.type"
   ]
  },
  {
   "cell_type": "code",
   "execution_count": 24,
   "id": "2634e222",
   "metadata": {},
   "outputs": [],
   "source": [
    "np.save(open(r\"C:\\Users\\srini\\Downloads\\MER_T07_02A.npy\",\"wb\"),data1)"
   ]
  },
  {
   "cell_type": "code",
   "execution_count": 25,
   "id": "4964d2a4",
   "metadata": {},
   "outputs": [
    {
     "data": {
      "text/plain": [
       "array(['Description', 'Electricity Net Generation From Coal, All Sectors',\n",
       "       'Electricity Net Generation From Coal, All Sectors',\n",
       "       'Electricity Net Generation From Coal, All Sectors',\n",
       "       'Electricity Net Generation From Coal, All Sectors',\n",
       "       'Electricity Net Generation From Coal, All Sectors',\n",
       "       'Electricity Net Generation From Coal, All Sectors',\n",
       "       'Electricity Net Generation From Coal, All Sectors',\n",
       "       'Electricity Net Generation From Coal, All Sectors',\n",
       "       'Electricity Net Generation From Coal, All Sectors'], dtype='<U80')"
      ]
     },
     "execution_count": 25,
     "metadata": {},
     "output_type": "execute_result"
    }
   ],
   "source": [
    "data1[0:10,4]"
   ]
  },
  {
   "cell_type": "markdown",
   "id": "d4ea27e5",
   "metadata": {},
   "source": [
    "Indexing example 1: Colons as *all* rows or columns\n",
    "\n",
    "A colon can also denote all rows, or all columns. Here, we index all rows of column 4."
   ]
  },
  {
   "cell_type": "code",
   "execution_count": 26,
   "id": "43269a5a",
   "metadata": {},
   "outputs": [
    {
     "data": {
      "text/plain": [
       "array(['Description', 'Electricity Net Generation From Coal, All Sectors',\n",
       "       'Electricity Net Generation From Coal, All Sectors', ...,\n",
       "       'Electricity Net Generation Total (including from sources not shown), All Sectors',\n",
       "       'Electricity Net Generation Total (including from sources not shown), All Sectors',\n",
       "       'Electricity Net Generation Total (including from sources not shown), All Sectors'],\n",
       "      dtype='<U80')"
      ]
     },
     "execution_count": 26,
     "metadata": {},
     "output_type": "execute_result"
    }
   ],
   "source": [
    "data1[:,4]"
   ]
  },
  {
   "cell_type": "markdown",
   "id": "ab8f71bc",
   "metadata": {},
   "source": [
    "We can use the same format for any dimension of an array. The general syntax is: array[start_row:end_row, start_col:end_col]. The following indexes all rows and the second column up to (but not including) the 4th column:"
   ]
  },
  {
   "cell_type": "code",
   "execution_count": 27,
   "id": "e09226cf",
   "metadata": {},
   "outputs": [
    {
     "data": {
      "text/plain": [
       "array([['Value', 'Column_Order'],\n",
       "       ['135451.32', '1'],\n",
       "       ['154519.994', '1'],\n",
       "       ...,\n",
       "       ['327858.999', '13'],\n",
       "       ['357140.257', '13'],\n",
       "       ['425654.556', '13']], dtype='<U80')"
      ]
     },
     "execution_count": 27,
     "metadata": {},
     "output_type": "execute_result"
    }
   ],
   "source": [
    "data1[:,2:4]"
   ]
  },
  {
   "cell_type": "markdown",
   "id": "4e2ee1f9",
   "metadata": {},
   "source": [
    "Explicitly specifying column numbers\n",
    "\n",
    "What if the columns we need are not next to each other? Instead of indexing a range of columns, it can be useful to specify them explicitly. To explicitly specify particular columns, we just include them in a list. Let's index the five rows after the header, selecting only columns 2 and 3. This time, we'll write the output to a new array named subset that we can re-use in the following example."
   ]
  },
  {
   "cell_type": "code",
   "execution_count": 28,
   "id": "a610ceaf",
   "metadata": {},
   "outputs": [
    {
     "data": {
      "text/plain": [
       "array([['135451.32', '1'],\n",
       "       ['154519.994', '1'],\n",
       "       ['185203.657', '1'],\n",
       "       ['195436.666', '1'],\n",
       "       ['218846.325', '1']], dtype='<U80')"
      ]
     },
     "execution_count": 28,
     "metadata": {},
     "output_type": "execute_result"
    }
   ],
   "source": [
    "sub = data1[1:6,[2,3]]\n",
    "sub"
   ]
  },
  {
   "cell_type": "markdown",
   "id": "2617487a",
   "metadata": {},
   "source": [
    "Mask arrays\n",
    "\n",
    "Another convenient way to index certain sections of a NumPy array is to use a mask array. A mask array, also known as a logical array, contains boolean elements (i.e. True or False). Indexing of a given array element is determined by the value of the mask array's corresponding element.\n",
    "\n",
    "First, we define a NumPy array of True/False values, where the True values are the ones we want to keep. Then we mask the subset array from the previous example. The result is retaining only the rows that correspond to elements that are True in the mask array."
   ]
  },
  {
   "cell_type": "code",
   "execution_count": 29,
   "id": "680a3e84",
   "metadata": {},
   "outputs": [
    {
     "data": {
      "text/plain": [
       "array([['154519.994', '1'],\n",
       "       ['195436.666', '1'],\n",
       "       ['218846.325', '1']], dtype='<U80')"
      ]
     },
     "execution_count": 29,
     "metadata": {},
     "output_type": "execute_result"
    }
   ],
   "source": [
    "mask = np.array([False,True,False,True,True])\n",
    "sub[mask]"
   ]
  },
  {
   "cell_type": "markdown",
   "id": "7d234865",
   "metadata": {},
   "source": [
    "As you can see, the mask array retained the <font color =\"green\">rows corresponding to True</font> and <font color =\"red\">the excluded the ones corresponding to False.</font> It is worth noting that a similar approach is used for indexing pandas dataframes.\n",
    "\n",
    "Masking is a powerful tool that allows us to index elements based on logical expressions. We'll make good use of in the case study later in the article."
   ]
  },
  {
   "cell_type": "markdown",
   "id": "3734bf12",
   "metadata": {},
   "source": [
    "<b>Concatenating</b>\n",
    "\n",
    "NumPy also provides useful functions for concatenating (i.e., joining) arrays. Let's say we wanted to restrict our attention to the first and the last three rows of our dataset. First, we'll define new sub-arrays as follows:"
   ]
  },
  {
   "cell_type": "code",
   "execution_count": 30,
   "id": "48e4c279",
   "metadata": {},
   "outputs": [
    {
     "data": {
      "text/plain": [
       "array([['MSN', 'YYYYMM', 'Value', 'Column_Order', 'Description', 'Unit'],\n",
       "       ['CLETPUS', '194913', '135451.32', '1',\n",
       "        'Electricity Net Generation From Coal, All Sectors',\n",
       "        'Million Kilowatthours'],\n",
       "       ['CLETPUS', '195013', '154519.994', '1',\n",
       "        'Electricity Net Generation From Coal, All Sectors',\n",
       "        'Million Kilowatthours']], dtype='<U80')"
      ]
     },
     "execution_count": 30,
     "metadata": {},
     "output_type": "execute_result"
    }
   ],
   "source": [
    "array_start = data1[:3,:]\n",
    "array_start"
   ]
  },
  {
   "cell_type": "code",
   "execution_count": 31,
   "id": "b800f762",
   "metadata": {},
   "outputs": [
    {
     "data": {
      "text/plain": [
       "array([['ELETPUS', '202305', '327858.999', '13',\n",
       "        'Electricity Net Generation Total (including from sources not shown), All Sectors',\n",
       "        'Million Kilowatthours'],\n",
       "       ['ELETPUS', '202306', '357140.257', '13',\n",
       "        'Electricity Net Generation Total (including from sources not shown), All Sectors',\n",
       "        'Million Kilowatthours'],\n",
       "       ['ELETPUS', '202307', '425654.556', '13',\n",
       "        'Electricity Net Generation Total (including from sources not shown), All Sectors',\n",
       "        'Million Kilowatthours']], dtype='<U80')"
      ]
     },
     "execution_count": 31,
     "metadata": {},
     "output_type": "execute_result"
    }
   ],
   "source": [
    "array_end = data1[-3:,:]\n",
    "array_end"
   ]
  },
  {
   "cell_type": "markdown",
   "id": "4a9d688b",
   "metadata": {},
   "source": [
    "To concatenate these arrays we can use <i>np.vstack</i>, where the v denotes vertical, or row-wise, stacking of the sub-arrays:"
   ]
  },
  {
   "cell_type": "code",
   "execution_count": 32,
   "id": "196433ee",
   "metadata": {},
   "outputs": [
    {
     "data": {
      "text/plain": [
       "array([['MSN', 'YYYYMM', 'Value', 'Column_Order', 'Description', 'Unit'],\n",
       "       ['CLETPUS', '194913', '135451.32', '1',\n",
       "        'Electricity Net Generation From Coal, All Sectors',\n",
       "        'Million Kilowatthours'],\n",
       "       ['CLETPUS', '195013', '154519.994', '1',\n",
       "        'Electricity Net Generation From Coal, All Sectors',\n",
       "        'Million Kilowatthours'],\n",
       "       ['ELETPUS', '202305', '327858.999', '13',\n",
       "        'Electricity Net Generation Total (including from sources not shown), All Sectors',\n",
       "        'Million Kilowatthours'],\n",
       "       ['ELETPUS', '202306', '357140.257', '13',\n",
       "        'Electricity Net Generation Total (including from sources not shown), All Sectors',\n",
       "        'Million Kilowatthours'],\n",
       "       ['ELETPUS', '202307', '425654.556', '13',\n",
       "        'Electricity Net Generation Total (including from sources not shown), All Sectors',\n",
       "        'Million Kilowatthours']], dtype='<U80')"
      ]
     },
     "execution_count": 32,
     "metadata": {},
     "output_type": "execute_result"
    }
   ],
   "source": [
    "np.vstack((array_start,array_end))"
   ]
  },
  {
   "cell_type": "markdown",
   "id": "6be92bff",
   "metadata": {},
   "source": [
    "Here we've stacked the first three rows and last three rows on top of each other.\n",
    "\n",
    "The horizontal counterpart of np.vstack() is np.hstack(), which combines sub-arrays column-wise. For higher dimensional joins, the most common function is np.concatenate(). The syntax for this function is similar to the 2D versions, with the additional requirement of specifying the axis along which concatenation should be performed."
   ]
  },
  {
   "cell_type": "markdown",
   "id": "58036ef0",
   "metadata": {},
   "source": [
    "<b>Splitting</b>\n",
    "\n",
    "The opposite of concatenating (i.e., joining) arrays is splitting them. To split an array, NumPy provides the following commands:\n",
    "\n",
    "hsplit: splits along the horizontal axis<br/>\n",
    "vsplit: splits along the vertical axis<br/>\n",
    "dsplit: Splits an array along the 3rd axis (depth)<br/>\n",
    "array_split: lets you specify the axis to use in splitting<br/>"
   ]
  },
  {
   "cell_type": "markdown",
   "id": "f3e6f545",
   "metadata": {},
   "source": [
    "<b>Adding/Removing Elements</b>\n",
    "\n",
    "NumPy provides several functions for adding or deleting data from an array:\n",
    "\n",
    "resize: Returns a new array with the specified shape, with zeros as placeholders in all the new cells.\n",
    "append: Adds values to the end of an array <br/>\n",
    "insert: Adds values in the middle of an array<br/>\n",
    "delete: Returns a new array with given data removed<br/>\n",
    "unique: Finds only the unique values of an array<br/>"
   ]
  },
  {
   "cell_type": "markdown",
   "id": "d45b6709",
   "metadata": {},
   "source": [
    "<b>Sorting</b>\n",
    "\n",
    "There are several useful functions for sorting array elements. Some of the available sorting algorithms include quicksort, heapsort, mergesort, and timesort.\n",
    "\n",
    "For example, here's how you'd merge sort the columns of an array:"
   ]
  },
  {
   "cell_type": "code",
   "execution_count": 33,
   "id": "5df0d8d7",
   "metadata": {},
   "outputs": [
    {
     "data": {
      "text/plain": [
       "array([[1, 2, 3, 8],\n",
       "       [4, 5, 8, 9]])"
      ]
     },
     "execution_count": 33,
     "metadata": {},
     "output_type": "execute_result"
    }
   ],
   "source": [
    "a = np.array([[3,8,1,2],[9,5,4,8]])\n",
    "np.sort(a,axis=1,kind='mergesort')"
   ]
  },
  {
   "cell_type": "markdown",
   "id": "5c06df7c",
   "metadata": {},
   "source": [
    "<b>No Copy vs. Shallow Copy vs. Deep Copy</b>\n",
    "\n",
    "A common source of confusion NumPy beginners is knowing when data is and isn't copied into a new object.\n",
    "\n",
    "No copy: function calls and assignments:"
   ]
  },
  {
   "cell_type": "code",
   "execution_count": 34,
   "id": "0fa50262",
   "metadata": {},
   "outputs": [],
   "source": [
    "a1 = np.array([[3,8,1,2],[9,5,4,8]])"
   ]
  },
  {
   "cell_type": "code",
   "execution_count": 35,
   "id": "64bd120a",
   "metadata": {},
   "outputs": [
    {
     "name": "stdout",
     "output_type": "stream",
     "text": [
      "0x1fe7009bf30\n"
     ]
    }
   ],
   "source": [
    "print(hex(id(a1)))"
   ]
  },
  {
   "cell_type": "code",
   "execution_count": 36,
   "id": "03660309",
   "metadata": {},
   "outputs": [
    {
     "name": "stdout",
     "output_type": "stream",
     "text": [
      "[[3 8 1 2]\n",
      " [9 5 4 8]]\n",
      "0x1fe7009bf30\n"
     ]
    }
   ],
   "source": [
    "b = a1 \n",
    "print(a1)\n",
    "def f(x):\n",
    "    print(hex(id(x)))\n",
    "f(b)"
   ]
  },
  {
   "cell_type": "markdown",
   "id": "8dac1d17",
   "metadata": {},
   "source": [
    "Notice the id of b is the same as a, even if it's passed into a function."
   ]
  },
  {
   "cell_type": "markdown",
   "id": "ed977ac1",
   "metadata": {},
   "source": [
    "View/Shallow Copy: Arrays that share some data. The view method creates an object looking at the same data. Slicing an array returns a view of that array."
   ]
  },
  {
   "cell_type": "code",
   "execution_count": 37,
   "id": "2b28acf2",
   "metadata": {},
   "outputs": [
    {
     "name": "stdout",
     "output_type": "stream",
     "text": [
      "[[3 8 1 2]\n",
      " [9 5 4 8]]\n",
      "[[3 8]\n",
      " [1 2]\n",
      " [9 5]\n",
      " [4 8]]\n",
      "[[5 5]\n",
      " [5 5]\n",
      " [5 5]\n",
      " [5 5]]\n"
     ]
    }
   ],
   "source": [
    "#view\n",
    "a1 = b.view()\n",
    "print(a1)\n",
    "a1 = a1.reshape((4,2))\n",
    "print(a1)\n",
    "a1[:] = 5\n",
    "print(a1)"
   ]
  },
  {
   "cell_type": "code",
   "execution_count": 38,
   "id": "6157fe01",
   "metadata": {},
   "outputs": [],
   "source": [
    "c = a1.copy()"
   ]
  },
  {
   "cell_type": "markdown",
   "id": "79291497",
   "metadata": {},
   "source": [
    "<b>Section 2: Must-know tools</b>\n",
    "\n",
    "Let's now look at three NumPy tools that are especially handy in data science applications: broadcasting, vectorization, and pseudo-random number generation. For this section, we'll put our electricity dataset aside in favor of even more straightforward examples."
   ]
  },
  {
   "cell_type": "markdown",
   "id": "ddc6bf9a",
   "metadata": {},
   "source": [
    "Broadcasting is a process performed by NumPy that allows mathematical operations to work with objects that don't necessarily have compatible dimensions."
   ]
  },
  {
   "cell_type": "markdown",
   "id": "fbb9ef28",
   "metadata": {},
   "source": [
    "<b>Broadcasting example 1: Adding a scalar to a matrix</b>\n",
    "    \n",
    "Suppose we would like to add 1 to each element of a 2x2 array. With NumPy arrays, it is as simple as defining the array and adding 1:\n",
    "\n"
   ]
  },
  {
   "cell_type": "code",
   "execution_count": 39,
   "id": "17fbd028",
   "metadata": {},
   "outputs": [
    {
     "data": {
      "text/plain": [
       "array([[2, 3],\n",
       "       [4, 5]])"
      ]
     },
     "execution_count": 39,
     "metadata": {},
     "output_type": "execute_result"
    }
   ],
   "source": [
    "array_a = np.array([[1,2],\n",
    "                   [3,4]])\n",
    "array_a + 1\n"
   ]
  },
  {
   "cell_type": "markdown",
   "id": "a6284ee8",
   "metadata": {},
   "source": [
    "Keep in mind that any university linear algebra instructor would be furious if you even mentioned the notion of adding a scalar to a matrix. And not without reason: it isn't a mathematically valid operation.\n",
    "\n",
    "However, what NumPy is doing in the background is valid. NumPy creates a second array with value 1 for all elements (depicted by transparent blocks in the above figure). NumPy then adds the second array to the first one.\n",
    "\n",
    "In other words, NumPy has broadcast the scalar to a new array of appropriate dimensions to perform the computation."
   ]
  },
  {
   "cell_type": "markdown",
   "id": "9e3094cf",
   "metadata": {},
   "source": [
    "<b>Broadcasting example 2: Multiplying a matrix by a scalar</b>\n",
    "Multiplication works the same way as addition."
   ]
  },
  {
   "cell_type": "code",
   "execution_count": 40,
   "id": "aa987356",
   "metadata": {},
   "outputs": [
    {
     "data": {
      "text/plain": [
       "array([[2, 4],\n",
       "       [6, 8]])"
      ]
     },
     "execution_count": 40,
     "metadata": {},
     "output_type": "execute_result"
    }
   ],
   "source": [
    "array_a * 2"
   ]
  },
  {
   "cell_type": "markdown",
   "id": "3b2d57c7",
   "metadata": {},
   "source": [
    "<b>Broadcasting example 3:</b>\n",
    "    \n",
    "We can use broadcasting in cases beyond just overcoming the dimensional mismatch between a scalar and an array. NumPy can also broadcast arrays to enable computations with other arrays.\n",
    "\n",
    "Let's say that each row of array_a, defined above, is a collection of two objects. The coordinates of the first object (first row of array_a) is located at (x = 1, y = 2), and the other object (second row of array_a) is located at (x = 3, y = 4). To find the coordinates of both objects if they both were translated by 3 units in the x direction and 1 unit in the y direction, all we would need to do is add (3, 1) to array_a:"
   ]
  },
  {
   "cell_type": "code",
   "execution_count": 41,
   "id": "c15bc2df",
   "metadata": {},
   "outputs": [
    {
     "data": {
      "text/plain": [
       "array([[4, 3],\n",
       "       [6, 5]])"
      ]
     },
     "execution_count": 41,
     "metadata": {},
     "output_type": "execute_result"
    }
   ],
   "source": [
    "array_a + np.array([3,1])"
   ]
  },
  {
   "cell_type": "code",
   "execution_count": 42,
   "id": "6588a5e9",
   "metadata": {},
   "outputs": [
    {
     "data": {
      "text/plain": [
       "array([[1, 2],\n",
       "       [3, 4]])"
      ]
     },
     "execution_count": 42,
     "metadata": {},
     "output_type": "execute_result"
    }
   ],
   "source": [
    "array_a"
   ]
  },
  {
   "cell_type": "markdown",
   "id": "353ba49c",
   "metadata": {},
   "source": [
    "<b>Vectorization</b>\n",
    "\n",
    "Vectorization is the process of modifying code to utilize array operation methods. Array operations can be computed internally by NumPy using a lower-level language, which leads to many benefits:\n",
    "\n",
    "Vectorized code tends to execute much faster than equivalent code that uses loops (such as for-loops and while-loops). Usually a lot faster. Therefore, vectorization can be very important for machine learning, where we often work with large datasets\n",
    "Vectorized code can often be more compact. Having fewer lines of code to write can potentially speed-up the code-writing process, make code more readable, and reduce the risk of errors"
   ]
  },
  {
   "cell_type": "code",
   "execution_count": 43,
   "id": "65505279",
   "metadata": {},
   "outputs": [
    {
     "name": "stdout",
     "output_type": "stream",
     "text": [
      "Array a: [ 1  2  3  4  5  6  7  8  9 10 11 12 13 14 15 16 17 18 19 20 21 22 23 24\n",
      " 25 26 27 28 29 30 31 32 33 34 35 36 37 38 39 40 41 42 43 44 45 46 47 48\n",
      " 49 50]\n",
      "Array b: [ 51  52  53  54  55  56  57  58  59  60  61  62  63  64  65  66  67  68\n",
      "  69  70  71  72  73  74  75  76  77  78  79  80  81  82  83  84  85  86\n",
      "  87  88  89  90  91  92  93  94  95  96  97  98  99 100]\n"
     ]
    }
   ],
   "source": [
    "a = np.arange(1,51)\n",
    "b = np.arange(51,101)\n",
    "print('Array a:',a)\n",
    "print('Array b:',b)"
   ]
  },
  {
   "cell_type": "code",
   "execution_count": 44,
   "id": "f5d4ceef",
   "metadata": {},
   "outputs": [],
   "source": [
    "def non_vectroized_output(a,b):\n",
    "    output = []\n",
    "    for j in range(len(a)):\n",
    "        output.append(a[j]*b[j])\n",
    "    return output"
   ]
  },
  {
   "cell_type": "code",
   "execution_count": 45,
   "id": "112dbddb",
   "metadata": {},
   "outputs": [
    {
     "name": "stdout",
     "output_type": "stream",
     "text": [
      "34.7 µs ± 1.3 µs per loop (mean ± std. dev. of 7 runs, 10,000 loops each)\n"
     ]
    }
   ],
   "source": [
    "nv_time = %timeit -o non_vectroized_output(a,b)"
   ]
  },
  {
   "cell_type": "code",
   "execution_count": 46,
   "id": "9430620e",
   "metadata": {},
   "outputs": [
    {
     "name": "stdout",
     "output_type": "stream",
     "text": [
      "2.11 µs ± 30 ns per loop (mean ± std. dev. of 7 runs, 100,000 loops each)\n"
     ]
    }
   ],
   "source": [
    "def vectrozied_output(a,b):\n",
    "    return a * b\n",
    "v_time = %timeit -o vectrozied_output(a,b)"
   ]
  },
  {
   "cell_type": "code",
   "execution_count": 47,
   "id": "42ec6463",
   "metadata": {},
   "outputs": [
    {
     "name": "stdout",
     "output_type": "stream",
     "text": [
      "Non Vectroized version: 34.75 microseconds per execution, average\n",
      "Vectroized version: 2.11 microseconds per execution, average\n",
      "Computation was 16 times faster using vectorization\n"
     ]
    }
   ],
   "source": [
    "print(\"Non Vectroized version:\",f'{1E6 * nv_time.average:0.2f}','microseconds per execution, average')\n",
    "print(\"Vectroized version:\",f'{1E6 * v_time.average:0.2f}','microseconds per execution, average')\n",
    "print(\"Computation was\",\"%0.f\" %(nv_time.average/v_time.average),'times faster using vectorization')"
   ]
  },
  {
   "cell_type": "markdown",
   "id": "8edbdf43",
   "metadata": {},
   "source": [
    "<b>Vectorization example 2</b>\n",
    "\n",
    "In this second example, we'll evaluate a set of linear expressions. Again, this task could be accomplished either using for-loops or using vectorized code.\n",
    "\n",
    "In this case, the vectorized version will use matrix multiplication to evaluate the linear expressions. If you're familiar with machine learning (ML), the next paragraph will provide some context about when you might encounter this in ML."
   ]
  },
  {
   "cell_type": "code",
   "execution_count": 48,
   "id": "f838ee45",
   "metadata": {},
   "outputs": [
    {
     "name": "stdout",
     "output_type": "stream",
     "text": [
      "x:\n",
      " [[ 1  2  3  4]\n",
      " [ 5  6  7  8]\n",
      " [ 9 10 11 12]\n",
      " [13 14 15 16]\n",
      " [17 18 19 20]\n",
      " [21 22 23 24]\n",
      " [25 26 27 28]\n",
      " [29 30 31 32]\n",
      " [33 34 35 36]\n",
      " [37 38 39 40]]\n"
     ]
    }
   ],
   "source": [
    "x = np.arange(1,41).reshape(10,4)\n",
    "print('x:\\n',x)"
   ]
  },
  {
   "cell_type": "markdown",
   "id": "33b6addd",
   "metadata": {},
   "source": [
    " is now a range of 40 numbers reshaped to be 10 rows by 4 columns.\n",
    "\n",
    "Now, add a column of ones to represent xo\n",
    ", known in machine learning as the bias term. x is now a 10x5 array:"
   ]
  },
  {
   "cell_type": "code",
   "execution_count": 49,
   "id": "9c1b15d3",
   "metadata": {},
   "outputs": [
    {
     "name": "stdout",
     "output_type": "stream",
     "text": [
      "x:\n",
      " [[ 1  1  2  3  4]\n",
      " [ 1  5  6  7  8]\n",
      " [ 1  9 10 11 12]\n",
      " [ 1 13 14 15 16]\n",
      " [ 1 17 18 19 20]\n",
      " [ 1 21 22 23 24]\n",
      " [ 1 25 26 27 28]\n",
      " [ 1 29 30 31 32]\n",
      " [ 1 33 34 35 36]\n",
      " [ 1 37 38 39 40]]\n"
     ]
    }
   ],
   "source": [
    "ones =  np.full((10,1),1)\n",
    "x = np.hstack((ones,x))\n",
    "print(\"x:\\n\",x)"
   ]
  },
  {
   "cell_type": "markdown",
   "id": "ef873735",
   "metadata": {},
   "source": [
    "Using np.full, we created a 10x1 array full of ones then horizontally stacked it (np.hstack) to the front of x.\n",
    "\n",
    "Now let's initialize our model parameters as a 5x1 array"
   ]
  },
  {
   "cell_type": "code",
   "execution_count": 50,
   "id": "f525a20a",
   "metadata": {},
   "outputs": [
    {
     "name": "stdout",
     "output_type": "stream",
     "text": [
      "theat:\n",
      " [[1]\n",
      " [2]\n",
      " [3]\n",
      " [4]\n",
      " [5]]\n"
     ]
    }
   ],
   "source": [
    "theta = np.arange(1,6).reshape(5,1)\n",
    "print(\"theat:\\n\",theta)"
   ]
  },
  {
   "cell_type": "markdown",
   "id": "3582051c",
   "metadata": {},
   "source": [
    "Armed with our matrix \n",
    " and vector \n",
    ", we'll proceed to define vectorized and non-vectorized versions of evaluating the linear expressions to compare the computation time."
   ]
  },
  {
   "cell_type": "code",
   "execution_count": 51,
   "id": "e0b4a80e",
   "metadata": {},
   "outputs": [],
   "source": [
    "#Non-vectorized version\n",
    "def non_vector_ouput(x,theta):\n",
    "    h = []\n",
    "    for i in range(x.shape[0]):\n",
    "        total = 0\n",
    "        for j in range(x.shape[1]):\n",
    "            total = total + x[i,j] * theta[j,0]\n",
    "        h.append(total)\n",
    "    return h"
   ]
  },
  {
   "cell_type": "code",
   "execution_count": 52,
   "id": "f33a5518",
   "metadata": {},
   "outputs": [],
   "source": [
    "def vector_output(x,theta):\n",
    "    h = np.matmul(x,theta)\n",
    "    return h"
   ]
  },
  {
   "cell_type": "code",
   "execution_count": 53,
   "id": "68010713",
   "metadata": {},
   "outputs": [
    {
     "name": "stdout",
     "output_type": "stream",
     "text": [
      "66.7 µs ± 1.84 µs per loop (mean ± std. dev. of 7 runs, 10,000 loops each)\n"
     ]
    }
   ],
   "source": [
    "nv_time = %timeit -o non_vector_ouput(x,theta)"
   ]
  },
  {
   "cell_type": "code",
   "execution_count": 54,
   "id": "91f57e08",
   "metadata": {},
   "outputs": [
    {
     "name": "stdout",
     "output_type": "stream",
     "text": [
      "4.82 µs ± 59.3 ns per loop (mean ± std. dev. of 7 runs, 100,000 loops each)\n"
     ]
    }
   ],
   "source": [
    "v_time = %timeit -o vector_output(x,theta)"
   ]
  },
  {
   "cell_type": "code",
   "execution_count": 55,
   "id": "10953ddb",
   "metadata": {},
   "outputs": [
    {
     "name": "stdout",
     "output_type": "stream",
     "text": [
      "Non vectorized version 66.68 microsecond per execution\n",
      "Vcetorized version 4.82 microsecond per execution\n",
      "Computation was 14 times faster using vetozization method\n"
     ]
    }
   ],
   "source": [
    "print(\"Non vectorized version\",f'{1E6 * nv_time.average:0.2f}','microsecond per execution')\n",
    "print(\"Vcetorized version\",f'{1E6 * v_time.average:0.2f}','microsecond per execution')\n",
    "print(\"Computation was\",\"%.0f\" %(nv_time.average/v_time.average),'times faster using vetozization method')"
   ]
  },
  {
   "cell_type": "markdown",
   "id": "b74d049a",
   "metadata": {},
   "source": [
    "<font color='red'>However, vectorization does have potential disadvantages. Vectorized code can be less intuitive to those who do not know how to read it. It can also be more memory intensive. The skill of knowing how much vectorization to use in your code is something that you'll develop with experience. The decision will always need to be made based on the nature of the application in question.</font>"
   ]
  },
  {
   "cell_type": "markdown",
   "id": "a6cedaab",
   "metadata": {},
   "source": [
    "<b>Pseudo-random number generation</b>\n",
    "\n",
    "Before we finish this section, there is one more NumPy functionality that we should cover: pseudo-random number generation.\n",
    "\n",
    "Being able to generate pseudo-random numbers is often necessary in data science applications. Examples include modeling system noise and Monte Carlo simulations.\n",
    "\n",
    "Below we'll see how to generate random numbers (x) from two commonly encountered probability distributions: the uniform distribution and the normal (Gaussian) distribution.\n",
    "\n",
    "For this, we'll import matplotlib and set some default plotting styles:"
   ]
  },
  {
   "cell_type": "code",
   "execution_count": 56,
   "id": "c08678ee",
   "metadata": {},
   "outputs": [],
   "source": [
    "import matplotlib.pyplot as plt \n",
    "import matplotlib\n",
    "\n",
    "matplotlib.rcParams.update({'font.size': 16,\n",
    "                            'figure.figsize' : [10,6],\n",
    "                           'lines.markersize' :6 })\n"
   ]
  },
  {
   "cell_type": "code",
   "execution_count": 57,
   "id": "226350d7",
   "metadata": {},
   "outputs": [],
   "source": [
    "uniform_data = np.random.randn(1000)\n",
    "normal_data = np.random.normal(loc=5,scale=3.0,size=1000)"
   ]
  },
  {
   "cell_type": "code",
   "execution_count": 58,
   "id": "e91a3407",
   "metadata": {},
   "outputs": [
    {
     "data": {
      "image/png": "[encoded data removed]",
      "text/plain": [
       "<Figure size 1000x600 with 2 Axes>"
      ]
     },
     "metadata": {},
     "output_type": "display_data"
    }
   ],
   "source": [
    "fig = plt.figure()\n",
    "ax1 = fig.add_subplot(1,2,1)\n",
    "ax1.hist(x=uniform_data,bins='auto',alpha=0.7,rwidth=0.85)\n",
    "ax1.set_title('Uniform Distribution')\n",
    "\n",
    "ax2 = fig.add_subplot(1,2,2)\n",
    "ax2.hist(x=normal_data,bins='auto',alpha=0.7,rwidth=0.7)\n",
    "ax2.set_title(\"Normal distribution\")\n",
    "\n",
    "ax1.set_ylabel(\"Frequency\")\n",
    "ax1.set_xlabel('x')\n",
    "ax2.set_xlabel('x')\n",
    "plt.show()"
   ]
  },
  {
   "cell_type": "markdown",
   "id": "822e4c92",
   "metadata": {},
   "source": [
    "As we'd expect, uniform distribution's random values are more or less equally spaced between zero and one. By contrast, the values from the normal distribution take on the characteristic bell-curve shape.\n",
    "\n",
    "We can now use the sets of random numbers we've just generated in further computations, but we'll leave that for another time. To wrap up this article, let's put everything we learned together using our electricity dataset."
   ]
  },
  {
   "cell_type": "markdown",
   "id": "47fe5e61",
   "metadata": {},
   "source": [
    "<b>Putting it all together</b>\n",
    "\n",
    "Now that we know the basics of NumPy, broadcasting, and vectorization, we have everything we need to start diving into the electricity data that we imported at the start of this article.\n",
    "\n",
    "Let's assume we'd like to understand how the USA's electricity generation has changed over time."
   ]
  },
  {
   "cell_type": "code",
   "execution_count": 59,
   "id": "1fd976b5",
   "metadata": {},
   "outputs": [],
   "source": [
    "header = data1[0,:]\n",
    "data =data1[1:,:]"
   ]
  },
  {
   "cell_type": "code",
   "execution_count": 60,
   "id": "c4f8ec92",
   "metadata": {},
   "outputs": [
    {
     "name": "stdout",
     "output_type": "stream",
     "text": [
      "Header:\n",
      " ['MSN' 'YYYYMM' 'Value' 'Column_Order' 'Description' 'Unit'] \n",
      "\n",
      " First two rows [['CLETPUS' '194913' '135451.32' '1'\n",
      "  'Electricity Net Generation From Coal, All Sectors'\n",
      "  'Million Kilowatthours']\n",
      " ['CLETPUS' '195013' '154519.994' '1'\n",
      "  'Electricity Net Generation From Coal, All Sectors'\n",
      "  'Million Kilowatthours']]\n"
     ]
    }
   ],
   "source": [
    "print(\"Header:\\n\",header,\"\\n\\n First two rows\",data[:2,:])"
   ]
  },
  {
   "cell_type": "markdown",
   "id": "4486300c",
   "metadata": {},
   "source": [
    "To understand how electricity generation has changed with time, we'll need to pay attention to column 1 (date), column 2 (energy generated), and column 4 (description).\n",
    "\n",
    "In this dataset, rows containing monthly data express date in the format 'YYYYMM'. Rows containing annual data express the date in the format 'YYYY13'.\n",
    "\n",
    "Our dataset happens to contain generation data from many different energy sources, so let's determine which energy sources are present in this dataset by inspecting the descriptions (column 4).\n",
    "\n",
    "The np.unique() function makes it easy to see all energy sources. As the name suggests, it will return all unique values in the array."
   ]
  },
  {
   "cell_type": "code",
   "execution_count": 61,
   "id": "44bf5636",
   "metadata": {},
   "outputs": [
    {
     "data": {
      "text/plain": [
       "array(['Description', 'Electricity Net Generation From Coal, All Sectors',\n",
       "       'Electricity Net Generation From Conventional Hydroelectric Power, All Sectors',\n",
       "       'Electricity Net Generation From Geothermal, All Sectors',\n",
       "       'Electricity Net Generation From Hydroelectric Pumped Storage, All Sectors',\n",
       "       'Electricity Net Generation From Natural Gas, All Sectors',\n",
       "       'Electricity Net Generation From Nuclear Electric Power, All Sectors',\n",
       "       'Electricity Net Generation From Other Gases, All Sectors',\n",
       "       'Electricity Net Generation From Petroleum, All Sectors',\n",
       "       'Electricity Net Generation From Solar, All Sectors',\n",
       "       'Electricity Net Generation From Waste, All Sectors',\n",
       "       'Electricity Net Generation From Wind, All Sectors',\n",
       "       'Electricity Net Generation From Wood, All Sectors',\n",
       "       'Electricity Net Generation Total (including from sources not shown), All Sectors'],\n",
       "      dtype='<U80')"
      ]
     },
     "execution_count": 61,
     "metadata": {},
     "output_type": "execute_result"
    }
   ],
   "source": [
    "np.unique(data1[:,4])"
   ]
  },
  {
   "cell_type": "markdown",
   "id": "e7d5a21e",
   "metadata": {},
   "source": [
    "<b>Extracting wind energy data</b>\n",
    "\n",
    "Next, we'll extract a subset containing just the wind energy generation data. We'll be making extensive use of indexing with mask arrays, which we looked at earlier.\n",
    "\n",
    "Let's start by retaining only the rows that contain wind data. First, we'll create a mask array that contains True entries for every row of wind data:"
   ]
  },
  {
   "cell_type": "code",
   "execution_count": 62,
   "id": "61f4389b",
   "metadata": {},
   "outputs": [
    {
     "data": {
      "text/plain": [
       "array([False, False, False, ..., False, False, False])"
      ]
     },
     "execution_count": 62,
     "metadata": {},
     "output_type": "execute_result"
    }
   ],
   "source": [
    "mark_array = (data1[:,4] =='Electricity Net Generation From Wind, All Sectors')\n",
    "mark_array"
   ]
  },
  {
   "cell_type": "markdown",
   "id": "a7c5224c",
   "metadata": {},
   "source": [
    "What this mask array essentially says is \"get all rows where column four equals 'Electricity Net Generation...'\""
   ]
  },
  {
   "cell_type": "code",
   "execution_count": 63,
   "id": "9b1b66a7",
   "metadata": {},
   "outputs": [
    {
     "data": {
      "text/plain": [
       "array([['WYETPUS', '194913', 'Not Available', '12',\n",
       "        'Electricity Net Generation From Wind, All Sectors',\n",
       "        'Million Kilowatthours'],\n",
       "       ['WYETPUS', '195013', 'Not Available', '12',\n",
       "        'Electricity Net Generation From Wind, All Sectors',\n",
       "        'Million Kilowatthours'],\n",
       "       ['WYETPUS', '195113', 'Not Available', '12',\n",
       "        'Electricity Net Generation From Wind, All Sectors',\n",
       "        'Million Kilowatthours'],\n",
       "       ...,\n",
       "       ['WYETPUS', '202305', '32039.553', '12',\n",
       "        'Electricity Net Generation From Wind, All Sectors',\n",
       "        'Million Kilowatthours'],\n",
       "       ['WYETPUS', '202306', '27466.395', '12',\n",
       "        'Electricity Net Generation From Wind, All Sectors',\n",
       "        'Million Kilowatthours'],\n",
       "       ['WYETPUS', '202307', '27725.659', '12',\n",
       "        'Electricity Net Generation From Wind, All Sectors',\n",
       "        'Million Kilowatthours']], dtype='<U80')"
      ]
     },
     "execution_count": 63,
     "metadata": {},
     "output_type": "execute_result"
    }
   ],
   "source": [
    "wind_data = data1[mark_array]\n",
    "wind_data"
   ]
  },
  {
   "cell_type": "markdown",
   "id": "0451d29f",
   "metadata": {},
   "source": [
    "Did you notice that we used broadcasting to generate the mask array? Broadcasting allowed the generation of a new array based on the logical evaluation of whether each string element in an array was equal to a single string."
   ]
  },
  {
   "cell_type": "code",
   "execution_count": 64,
   "id": "e6d56201",
   "metadata": {},
   "outputs": [
    {
     "data": {
      "text/plain": [
       "array([['WYETPUS', '194913', 'Not Available', '12',\n",
       "        'Electricity Net Generation From Wind, All Sectors',\n",
       "        'Million Kilowatthours'],\n",
       "       ['WYETPUS', '195013', 'Not Available', '12',\n",
       "        'Electricity Net Generation From Wind, All Sectors',\n",
       "        'Million Kilowatthours'],\n",
       "       ['WYETPUS', '195113', 'Not Available', '12',\n",
       "        'Electricity Net Generation From Wind, All Sectors',\n",
       "        'Million Kilowatthours'],\n",
       "       ['WYETPUS', '195213', 'Not Available', '12',\n",
       "        'Electricity Net Generation From Wind, All Sectors',\n",
       "        'Million Kilowatthours'],\n",
       "       ['WYETPUS', '195313', 'Not Available', '12',\n",
       "        'Electricity Net Generation From Wind, All Sectors',\n",
       "        'Million Kilowatthours']], dtype='<U80')"
      ]
     },
     "execution_count": 64,
     "metadata": {},
     "output_type": "execute_result"
    }
   ],
   "source": [
    "annual_mask_array = np.array(([x[-2:] == '13' for x in wind_data[:,1]]))\n",
    "wind_data=wind_data[annual_mask_array]\n",
    "wind_data[:5]"
   ]
  },
  {
   "cell_type": "markdown",
   "id": "774becf2",
   "metadata": {},
   "source": [
    "We have now successfully isolated the annual wind data.\n",
    "\n",
    "It is worth noting that it is straightforward to save a NumPy array to a text file using the np.savetxt() function.\n",
    "\n",
    "Just for fun, let's save our results to a comma-delimited csv file. We will request that NumPy converts everything to a string format before exporting."
   ]
  },
  {
   "cell_type": "code",
   "execution_count": 65,
   "id": "bed97259",
   "metadata": {},
   "outputs": [],
   "source": [
    "np.savetxt(r\"C:\\Users\\srini\\Downloads\\wind.csv\",wind_data,fmt= '%s',delimiter=',')"
   ]
  },
  {
   "cell_type": "markdown",
   "id": "3a0ab775",
   "metadata": {},
   "source": [
    "Now let's define a new NumPy array containing just the annual wind energy produced, which is contained in column two of our wind data array. We will convert information to a float data type:"
   ]
  },
  {
   "cell_type": "code",
   "execution_count": 66,
   "id": "a732f270",
   "metadata": {},
   "outputs": [
    {
     "data": {
      "text/plain": [
       "array([['WYETPUS', '194913', '0.0', '12',\n",
       "        'Electricity Net Generation From Wind, All Sectors',\n",
       "        'Million Kilowatthours'],\n",
       "       ['WYETPUS', '195013', '0.0', '12',\n",
       "        'Electricity Net Generation From Wind, All Sectors',\n",
       "        'Million Kilowatthours'],\n",
       "       ['WYETPUS', '195113', '0.0', '12',\n",
       "        'Electricity Net Generation From Wind, All Sectors',\n",
       "        'Million Kilowatthours'],\n",
       "       ['WYETPUS', '195213', '0.0', '12',\n",
       "        'Electricity Net Generation From Wind, All Sectors',\n",
       "        'Million Kilowatthours'],\n",
       "       ['WYETPUS', '195313', '0.0', '12',\n",
       "        'Electricity Net Generation From Wind, All Sectors',\n",
       "        'Million Kilowatthours'],\n",
       "       ['WYETPUS', '195413', '0.0', '12',\n",
       "        'Electricity Net Generation From Wind, All Sectors',\n",
       "        'Million Kilowatthours'],\n",
       "       ['WYETPUS', '195513', '0.0', '12',\n",
       "        'Electricity Net Generation From Wind, All Sectors',\n",
       "        'Million Kilowatthours'],\n",
       "       ['WYETPUS', '195613', '0.0', '12',\n",
       "        'Electricity Net Generation From Wind, All Sectors',\n",
       "        'Million Kilowatthours'],\n",
       "       ['WYETPUS', '195713', '0.0', '12',\n",
       "        'Electricity Net Generation From Wind, All Sectors',\n",
       "        'Million Kilowatthours'],\n",
       "       ['WYETPUS', '195813', '0.0', '12',\n",
       "        'Electricity Net Generation From Wind, All Sectors',\n",
       "        'Million Kilowatthours'],\n",
       "       ['WYETPUS', '195913', '0.0', '12',\n",
       "        'Electricity Net Generation From Wind, All Sectors',\n",
       "        'Million Kilowatthours'],\n",
       "       ['WYETPUS', '196013', '0.0', '12',\n",
       "        'Electricity Net Generation From Wind, All Sectors',\n",
       "        'Million Kilowatthours'],\n",
       "       ['WYETPUS', '196113', '0.0', '12',\n",
       "        'Electricity Net Generation From Wind, All Sectors',\n",
       "        'Million Kilowatthours'],\n",
       "       ['WYETPUS', '196213', '0.0', '12',\n",
       "        'Electricity Net Generation From Wind, All Sectors',\n",
       "        'Million Kilowatthours'],\n",
       "       ['WYETPUS', '196313', '0.0', '12',\n",
       "        'Electricity Net Generation From Wind, All Sectors',\n",
       "        'Million Kilowatthours'],\n",
       "       ['WYETPUS', '196413', '0.0', '12',\n",
       "        'Electricity Net Generation From Wind, All Sectors',\n",
       "        'Million Kilowatthours'],\n",
       "       ['WYETPUS', '196513', '0.0', '12',\n",
       "        'Electricity Net Generation From Wind, All Sectors',\n",
       "        'Million Kilowatthours'],\n",
       "       ['WYETPUS', '196613', '0.0', '12',\n",
       "        'Electricity Net Generation From Wind, All Sectors',\n",
       "        'Million Kilowatthours'],\n",
       "       ['WYETPUS', '196713', '0.0', '12',\n",
       "        'Electricity Net Generation From Wind, All Sectors',\n",
       "        'Million Kilowatthours'],\n",
       "       ['WYETPUS', '196813', '0.0', '12',\n",
       "        'Electricity Net Generation From Wind, All Sectors',\n",
       "        'Million Kilowatthours'],\n",
       "       ['WYETPUS', '196913', '0.0', '12',\n",
       "        'Electricity Net Generation From Wind, All Sectors',\n",
       "        'Million Kilowatthours'],\n",
       "       ['WYETPUS', '197013', '0.0', '12',\n",
       "        'Electricity Net Generation From Wind, All Sectors',\n",
       "        'Million Kilowatthours'],\n",
       "       ['WYETPUS', '197113', '0.0', '12',\n",
       "        'Electricity Net Generation From Wind, All Sectors',\n",
       "        'Million Kilowatthours'],\n",
       "       ['WYETPUS', '197213', '0.0', '12',\n",
       "        'Electricity Net Generation From Wind, All Sectors',\n",
       "        'Million Kilowatthours'],\n",
       "       ['WYETPUS', '197313', '0.0', '12',\n",
       "        'Electricity Net Generation From Wind, All Sectors',\n",
       "        'Million Kilowatthours'],\n",
       "       ['WYETPUS', '197413', '0.0', '12',\n",
       "        'Electricity Net Generation From Wind, All Sectors',\n",
       "        'Million Kilowatthours'],\n",
       "       ['WYETPUS', '197513', '0.0', '12',\n",
       "        'Electricity Net Generation From Wind, All Sectors',\n",
       "        'Million Kilowatthours'],\n",
       "       ['WYETPUS', '197613', '0.0', '12',\n",
       "        'Electricity Net Generation From Wind, All Sectors',\n",
       "        'Million Kilowatthours'],\n",
       "       ['WYETPUS', '197713', '0.0', '12',\n",
       "        'Electricity Net Generation From Wind, All Sectors',\n",
       "        'Million Kilowatthours'],\n",
       "       ['WYETPUS', '197813', '0.0', '12',\n",
       "        'Electricity Net Generation From Wind, All Sectors',\n",
       "        'Million Kilowatthours'],\n",
       "       ['WYETPUS', '197913', '0.0', '12',\n",
       "        'Electricity Net Generation From Wind, All Sectors',\n",
       "        'Million Kilowatthours'],\n",
       "       ['WYETPUS', '198013', '0.0', '12',\n",
       "        'Electricity Net Generation From Wind, All Sectors',\n",
       "        'Million Kilowatthours'],\n",
       "       ['WYETPUS', '198113', '0.0', '12',\n",
       "        'Electricity Net Generation From Wind, All Sectors',\n",
       "        'Million Kilowatthours'],\n",
       "       ['WYETPUS', '198213', '0.0', '12',\n",
       "        'Electricity Net Generation From Wind, All Sectors',\n",
       "        'Million Kilowatthours'],\n",
       "       ['WYETPUS', '198313', '2.668', '12',\n",
       "        'Electricity Net Generation From Wind, All Sectors',\n",
       "        'Million Kilowatthours'],\n",
       "       ['WYETPUS', '198413', '6.49', '12',\n",
       "        'Electricity Net Generation From Wind, All Sectors',\n",
       "        'Million Kilowatthours'],\n",
       "       ['WYETPUS', '198513', '5.762', '12',\n",
       "        'Electricity Net Generation From Wind, All Sectors',\n",
       "        'Million Kilowatthours'],\n",
       "       ['WYETPUS', '198613', '4.189', '12',\n",
       "        'Electricity Net Generation From Wind, All Sectors',\n",
       "        'Million Kilowatthours'],\n",
       "       ['WYETPUS', '198713', '3.541', '12',\n",
       "        'Electricity Net Generation From Wind, All Sectors',\n",
       "        'Million Kilowatthours'],\n",
       "       ['WYETPUS', '198813', '0.871', '12',\n",
       "        'Electricity Net Generation From Wind, All Sectors',\n",
       "        'Million Kilowatthours'],\n",
       "       ['WYETPUS', '198913', '2112.043', '12',\n",
       "        'Electricity Net Generation From Wind, All Sectors',\n",
       "        'Million Kilowatthours'],\n",
       "       ['WYETPUS', '199013', '2788.6', '12',\n",
       "        'Electricity Net Generation From Wind, All Sectors',\n",
       "        'Million Kilowatthours'],\n",
       "       ['WYETPUS', '199113', '2950.951', '12',\n",
       "        'Electricity Net Generation From Wind, All Sectors',\n",
       "        'Million Kilowatthours'],\n",
       "       ['WYETPUS', '199213', '2887.523', '12',\n",
       "        'Electricity Net Generation From Wind, All Sectors',\n",
       "        'Million Kilowatthours'],\n",
       "       ['WYETPUS', '199313', '3005.827', '12',\n",
       "        'Electricity Net Generation From Wind, All Sectors',\n",
       "        'Million Kilowatthours'],\n",
       "       ['WYETPUS', '199413', '3447.109', '12',\n",
       "        'Electricity Net Generation From Wind, All Sectors',\n",
       "        'Million Kilowatthours'],\n",
       "       ['WYETPUS', '199513', '3164.253', '12',\n",
       "        'Electricity Net Generation From Wind, All Sectors',\n",
       "        'Million Kilowatthours'],\n",
       "       ['WYETPUS', '199613', '3234.069', '12',\n",
       "        'Electricity Net Generation From Wind, All Sectors',\n",
       "        'Million Kilowatthours'],\n",
       "       ['WYETPUS', '199713', '3288.035', '12',\n",
       "        'Electricity Net Generation From Wind, All Sectors',\n",
       "        'Million Kilowatthours'],\n",
       "       ['WYETPUS', '199813', '3025.696', '12',\n",
       "        'Electricity Net Generation From Wind, All Sectors',\n",
       "        'Million Kilowatthours'],\n",
       "       ['WYETPUS', '199913', '4487.998', '12',\n",
       "        'Electricity Net Generation From Wind, All Sectors',\n",
       "        'Million Kilowatthours'],\n",
       "       ['WYETPUS', '200013', '5593.261', '12',\n",
       "        'Electricity Net Generation From Wind, All Sectors',\n",
       "        'Million Kilowatthours'],\n",
       "       ['WYETPUS', '200113', '6737.331', '12',\n",
       "        'Electricity Net Generation From Wind, All Sectors',\n",
       "        'Million Kilowatthours'],\n",
       "       ['WYETPUS', '200213', '10354.28', '12',\n",
       "        'Electricity Net Generation From Wind, All Sectors',\n",
       "        'Million Kilowatthours'],\n",
       "       ['WYETPUS', '200313', '11187.466', '12',\n",
       "        'Electricity Net Generation From Wind, All Sectors',\n",
       "        'Million Kilowatthours'],\n",
       "       ['WYETPUS', '200413', '14143.741', '12',\n",
       "        'Electricity Net Generation From Wind, All Sectors',\n",
       "        'Million Kilowatthours'],\n",
       "       ['WYETPUS', '200513', '17810.549', '12',\n",
       "        'Electricity Net Generation From Wind, All Sectors',\n",
       "        'Million Kilowatthours'],\n",
       "       ['WYETPUS', '200613', '26589.137', '12',\n",
       "        'Electricity Net Generation From Wind, All Sectors',\n",
       "        'Million Kilowatthours'],\n",
       "       ['WYETPUS', '200713', '34449.927', '12',\n",
       "        'Electricity Net Generation From Wind, All Sectors',\n",
       "        'Million Kilowatthours'],\n",
       "       ['WYETPUS', '200813', '55363.1', '12',\n",
       "        'Electricity Net Generation From Wind, All Sectors',\n",
       "        'Million Kilowatthours'],\n",
       "       ['WYETPUS', '200913', '73886.132', '12',\n",
       "        'Electricity Net Generation From Wind, All Sectors',\n",
       "        'Million Kilowatthours'],\n",
       "       ['WYETPUS', '201013', '94652.246', '12',\n",
       "        'Electricity Net Generation From Wind, All Sectors',\n",
       "        'Million Kilowatthours'],\n",
       "       ['WYETPUS', '201113', '120176.599', '12',\n",
       "        'Electricity Net Generation From Wind, All Sectors',\n",
       "        'Million Kilowatthours'],\n",
       "       ['WYETPUS', '201213', '140821.703', '12',\n",
       "        'Electricity Net Generation From Wind, All Sectors',\n",
       "        'Million Kilowatthours'],\n",
       "       ['WYETPUS', '201313', '167839.745', '12',\n",
       "        'Electricity Net Generation From Wind, All Sectors',\n",
       "        'Million Kilowatthours'],\n",
       "       ['WYETPUS', '201413', '181655.282', '12',\n",
       "        'Electricity Net Generation From Wind, All Sectors',\n",
       "        'Million Kilowatthours'],\n",
       "       ['WYETPUS', '201513', '190718.548', '12',\n",
       "        'Electricity Net Generation From Wind, All Sectors',\n",
       "        'Million Kilowatthours'],\n",
       "       ['WYETPUS', '201613', '226992.562', '12',\n",
       "        'Electricity Net Generation From Wind, All Sectors',\n",
       "        'Million Kilowatthours'],\n",
       "       ['WYETPUS', '201713', '254302.695', '12',\n",
       "        'Electricity Net Generation From Wind, All Sectors',\n",
       "        'Million Kilowatthours'],\n",
       "       ['WYETPUS', '201813', '272667.454', '12',\n",
       "        'Electricity Net Generation From Wind, All Sectors',\n",
       "        'Million Kilowatthours'],\n",
       "       ['WYETPUS', '201913', '295882.484', '12',\n",
       "        'Electricity Net Generation From Wind, All Sectors',\n",
       "        'Million Kilowatthours'],\n",
       "       ['WYETPUS', '202013', '337938.049', '12',\n",
       "        'Electricity Net Generation From Wind, All Sectors',\n",
       "        'Million Kilowatthours'],\n",
       "       ['WYETPUS', '202113', '378196.775', '12',\n",
       "        'Electricity Net Generation From Wind, All Sectors',\n",
       "        'Million Kilowatthours'],\n",
       "       ['WYETPUS', '202213', '434811.649', '12',\n",
       "        'Electricity Net Generation From Wind, All Sectors',\n",
       "        'Million Kilowatthours']], dtype='<U80')"
      ]
     },
     "execution_count": 66,
     "metadata": {},
     "output_type": "execute_result"
    }
   ],
   "source": [
    "#np.where(wind_data[:,2]=='Not Available',0.0,1)\n",
    "#energy = wind_data[:,2].astype(float)\n",
    "wind_data[wind_data =='Not Available']=0.0\n",
    "wind_data\n",
    "#https://www.statology.org/numpy-replace/"
   ]
  },
  {
   "cell_type": "code",
   "execution_count": 67,
   "id": "9ea1c8db",
   "metadata": {},
   "outputs": [
    {
     "data": {
      "text/plain": [
       "array([0.00000000e+00, 0.00000000e+00, 0.00000000e+00, 0.00000000e+00,\n",
       "       0.00000000e+00, 0.00000000e+00, 0.00000000e+00, 0.00000000e+00,\n",
       "       0.00000000e+00, 0.00000000e+00, 0.00000000e+00, 0.00000000e+00,\n",
       "       0.00000000e+00, 0.00000000e+00, 0.00000000e+00, 0.00000000e+00,\n",
       "       0.00000000e+00, 0.00000000e+00, 0.00000000e+00, 0.00000000e+00,\n",
       "       0.00000000e+00, 0.00000000e+00, 0.00000000e+00, 0.00000000e+00,\n",
       "       0.00000000e+00, 0.00000000e+00, 0.00000000e+00, 0.00000000e+00,\n",
       "       0.00000000e+00, 0.00000000e+00, 0.00000000e+00, 0.00000000e+00,\n",
       "       0.00000000e+00, 0.00000000e+00, 2.66800000e+00, 6.49000000e+00,\n",
       "       5.76200000e+00, 4.18900000e+00, 3.54100000e+00, 8.71000000e-01,\n",
       "       2.11204300e+03, 2.78860000e+03, 2.95095100e+03, 2.88752300e+03,\n",
       "       3.00582700e+03, 3.44710900e+03, 3.16425300e+03, 3.23406900e+03,\n",
       "       3.28803500e+03, 3.02569600e+03, 4.48799800e+03, 5.59326100e+03,\n",
       "       6.73733100e+03, 1.03542800e+04, 1.11874660e+04, 1.41437410e+04,\n",
       "       1.78105490e+04, 2.65891370e+04, 3.44499270e+04, 5.53631000e+04,\n",
       "       7.38861320e+04, 9.46522460e+04, 1.20176599e+05, 1.40821703e+05,\n",
       "       1.67839745e+05, 1.81655282e+05, 1.90718548e+05, 2.26992562e+05,\n",
       "       2.54302695e+05, 2.72667454e+05, 2.95882484e+05, 3.37938049e+05,\n",
       "       3.78196775e+05, 4.34811649e+05])"
      ]
     },
     "execution_count": 67,
     "metadata": {},
     "output_type": "execute_result"
    }
   ],
   "source": [
    "energy = wind_data[:,2].astype(float)\n",
    "energy"
   ]
  },
  {
   "cell_type": "markdown",
   "id": "1eb1d6f6",
   "metadata": {},
   "source": [
    "<b>Mathematical functions</b>\n",
    "\n",
    "NumPy offers many mathematical functions that can be called with the syntax array.method(). For instance, if we wanted to compute the sum of all elements in the array, we could use the function array.sum():"
   ]
  },
  {
   "cell_type": "code",
   "execution_count": 68,
   "id": "1d6963c5",
   "metadata": {},
   "outputs": [
    {
     "name": "stdout",
     "output_type": "stream",
     "text": [
      "Total wind energy produced in the USA since 1983 is 3387186.34 gigawatt-hr.\n"
     ]
    }
   ],
   "source": [
    "print(f\"Total wind energy produced in the USA since 1983 is {energy.sum()} gigawatt-hr.\")"
   ]
  },
  {
   "cell_type": "markdown",
   "id": "b8f05502",
   "metadata": {},
   "source": [
    "NumPy functions are also available to calculate things like the mean and standard deviation:"
   ]
  },
  {
   "cell_type": "code",
   "execution_count": 69,
   "id": "c09dc233",
   "metadata": {},
   "outputs": [
    {
     "name": "stdout",
     "output_type": "stream",
     "text": [
      "The Average annual energy generated from wind is 45772.78837837838 Gigiwatt-hrs with a standard deviation of 215.72%\n"
     ]
    }
   ],
   "source": [
    "mean = energy.mean()\n",
    "std = energy.std()\n",
    "print(f\"The Average annual energy generated from wind is {mean} Gigiwatt-hrs\",\n",
    "     f\"with a standard deviation of {100 * std/mean:.2f}%\")"
   ]
  },
  {
   "cell_type": "markdown",
   "id": "f99c2e7d",
   "metadata": {},
   "source": [
    "We can quickly answer many questions using these functions. Here are a couple more."
   ]
  },
  {
   "cell_type": "code",
   "execution_count": 70,
   "id": "5f2d2558",
   "metadata": {},
   "outputs": [
    {
     "name": "stdout",
     "output_type": "stream",
     "text": [
      "Th highest recorded annual energy generated by wind power is 434811.65 Gigawatt-hour\n"
     ]
    }
   ],
   "source": [
    "print(f\"Th highest recorded annual energy generated by wind power is {energy.max():.2f} Gigawatt-hour\")"
   ]
  },
  {
   "cell_type": "markdown",
   "id": "c51330ee",
   "metadata": {},
   "source": [
    "And in what year did that occur?"
   ]
  },
  {
   "cell_type": "code",
   "execution_count": 71,
   "id": "3be3e7d4",
   "metadata": {},
   "outputs": [
    {
     "name": "stdout",
     "output_type": "stream",
     "text": [
      "The higest energy generation occured in the year 2022\n"
     ]
    }
   ],
   "source": [
    "ind = energy.argmax() #this method returns the index of the maximum value in the array\n",
    "print(f\"The higest energy generation occured in the year {wind_data[ind,1][:-2]}\")"
   ]
  },
  {
   "cell_type": "code",
   "execution_count": 72,
   "id": "9de462cc",
   "metadata": {},
   "outputs": [
    {
     "name": "stdout",
     "output_type": "stream",
     "text": [
      "The lowest energy generation occured in the year 1949\n"
     ]
    }
   ],
   "source": [
    "ind_min = energy.argmin()#this method returns the index of the minimum value in the array\n",
    "print(f\"The lowest energy generation occured in the year {wind_data[ind_min,1][:-2]}\")"
   ]
  },
  {
   "cell_type": "markdown",
   "id": "f026735a",
   "metadata": {},
   "source": [
    "<b>Fitting<b>\n",
    "\n",
    "Another important NumPy's capability is data fitting.\n",
    "\n",
    "Let's say we wanted to predict the wind energy that will be generated the year after the period spanned by the dataset. A straightforward approach would be to fit a straight line to recent data and then extrapolate it out to the following year.\n",
    "\n",
    "Although SciPy has some powerful fitting tools, in particular scipy.optimize.curve_fit(), it turns out that we don't need to move outside of NumPy to perform this fit.\n",
    "\n",
    "Within NumPy, our options include np.linalg.lstsq() and NumPy's polynomial package. Here, we'll use the latter."
   ]
  },
  {
   "cell_type": "code",
   "execution_count": 73,
   "id": "931611bd",
   "metadata": {},
   "outputs": [
    {
     "data": {
      "text/plain": [
       "array([1949, 1950, 1951, 1952, 1953, 1954, 1955, 1956, 1957, 1958, 1959,\n",
       "       1960, 1961, 1962, 1963, 1964, 1965, 1966, 1967, 1968, 1969, 1970,\n",
       "       1971, 1972, 1973, 1974, 1975, 1976, 1977, 1978, 1979, 1980, 1981,\n",
       "       1982, 1983, 1984, 1985, 1986, 1987, 1988, 1989, 1990, 1991, 1992,\n",
       "       1993, 1994, 1995, 1996, 1997, 1998, 1999, 2000, 2001, 2002, 2003,\n",
       "       2004, 2005, 2006, 2007, 2008, 2009, 2010, 2011, 2012, 2013, 2014,\n",
       "       2015, 2016, 2017, 2018, 2019, 2020, 2021, 2022])"
      ]
     },
     "execution_count": 73,
     "metadata": {},
     "output_type": "execute_result"
    }
   ],
   "source": [
    "import numpy.polynomial.polynomial as poly\n",
    "\n",
    "x = np.array([int(j[:4]) for j in wind_data[:,1]])\n",
    "x"
   ]
  },
  {
   "cell_type": "code",
   "execution_count": 74,
   "id": "cf56943b",
   "metadata": {},
   "outputs": [],
   "source": [
    "y = energy"
   ]
  },
  {
   "cell_type": "code",
   "execution_count": 76,
   "id": "eb6aa2c2",
   "metadata": {},
   "outputs": [],
   "source": [
    "# Get coefficients for a first-degree polynomial (straight line) fit for the most recent 10 years of data\n",
    "poly_coefe = poly.polyfit(x[-10:],y[-10:],deg=1)\n",
    "# Evaluate the fitted polynomial using the polynomial coefficients\n",
    "fit = poly.polyval(x[-10],poly_coefe)\n"
   ]
  },
  {
   "cell_type": "code",
   "execution_count": 81,
   "id": "ea13d7a4",
   "metadata": {},
   "outputs": [
    {
     "ename": "ValueError",
     "evalue": "x and y must have same first dimension, but have shapes (10,) and (1,)",
     "output_type": "error",
     "traceback": [
      "\u001b[1;31m---------------------------------------------------------------------------\u001b[0m",
      "\u001b[1;31mValueError\u001b[0m                                Traceback (most recent call last)",
      "Cell \u001b[1;32mIn[81], line 3\u001b[0m\n\u001b[0;32m      1\u001b[0m fig, ax \u001b[38;5;241m=\u001b[39m plt\u001b[38;5;241m.\u001b[39msubplots() \u001b[38;5;66;03m# Define a figure and axis on which to plot our data\u001b[39;00m\n\u001b[0;32m      2\u001b[0m ax\u001b[38;5;241m.\u001b[39mplot(x,y, \u001b[38;5;124m'\u001b[39m\u001b[38;5;124mro\u001b[39m\u001b[38;5;124m'\u001b[39m, label \u001b[38;5;241m=\u001b[39m \u001b[38;5;124m'\u001b[39m\u001b[38;5;124mData\u001b[39m\u001b[38;5;124m'\u001b[39m) \u001b[38;5;66;03m# Plot the data\u001b[39;00m\n\u001b[1;32m----> 3\u001b[0m \u001b[43max\u001b[49m\u001b[38;5;241;43m.\u001b[39;49m\u001b[43mplot\u001b[49m\u001b[43m(\u001b[49m\u001b[43mx\u001b[49m\u001b[43m[\u001b[49m\u001b[38;5;241;43m-\u001b[39;49m\u001b[38;5;241;43m10\u001b[39;49m\u001b[43m:\u001b[49m\u001b[43m]\u001b[49m\u001b[43m,\u001b[49m\u001b[43m \u001b[49m\u001b[43mfit\u001b[49m\u001b[43m,\u001b[49m\u001b[43m \u001b[49m\u001b[38;5;124;43m'\u001b[39;49m\u001b[38;5;124;43mb-\u001b[39;49m\u001b[38;5;124;43m'\u001b[39;49m\u001b[43m,\u001b[49m\u001b[43m \u001b[49m\u001b[43mlabel\u001b[49m\u001b[38;5;241;43m=\u001b[39;49m\u001b[38;5;124;43m'\u001b[39;49m\u001b[38;5;124;43mLinear fit to last 10 years\u001b[39;49m\u001b[38;5;124;43m'\u001b[39;49m\u001b[43m)\u001b[49m \u001b[38;5;66;03m# Plot the fit\u001b[39;00m\n",
      "File \u001b[1;32m~\\AppData\\Roaming\\Python\\Python311\\site-packages\\matplotlib\\axes\\_axes.py:1668\u001b[0m, in \u001b[0;36mAxes.plot\u001b[1;34m(self, scalex, scaley, data, *args, **kwargs)\u001b[0m\n\u001b[0;32m   1425\u001b[0m \u001b[38;5;124;03m\"\"\"\u001b[39;00m\n\u001b[0;32m   1426\u001b[0m \u001b[38;5;124;03mPlot y versus x as lines and/or markers.\u001b[39;00m\n\u001b[0;32m   1427\u001b[0m \n\u001b[1;32m   (...)\u001b[0m\n\u001b[0;32m   1665\u001b[0m \u001b[38;5;124;03m(``'green'``) or hex strings (``'#008000'``).\u001b[39;00m\n\u001b[0;32m   1666\u001b[0m \u001b[38;5;124;03m\"\"\"\u001b[39;00m\n\u001b[0;32m   1667\u001b[0m kwargs \u001b[38;5;241m=\u001b[39m cbook\u001b[38;5;241m.\u001b[39mnormalize_kwargs(kwargs, mlines\u001b[38;5;241m.\u001b[39mLine2D)\n\u001b[1;32m-> 1668\u001b[0m lines \u001b[38;5;241m=\u001b[39m [\u001b[38;5;241m*\u001b[39m\u001b[38;5;28mself\u001b[39m\u001b[38;5;241m.\u001b[39m_get_lines(\u001b[38;5;241m*\u001b[39margs, data\u001b[38;5;241m=\u001b[39mdata, \u001b[38;5;241m*\u001b[39m\u001b[38;5;241m*\u001b[39mkwargs)]\n\u001b[0;32m   1669\u001b[0m \u001b[38;5;28;01mfor\u001b[39;00m line \u001b[38;5;129;01min\u001b[39;00m lines:\n\u001b[0;32m   1670\u001b[0m     \u001b[38;5;28mself\u001b[39m\u001b[38;5;241m.\u001b[39madd_line(line)\n",
      "File \u001b[1;32m~\\AppData\\Roaming\\Python\\Python311\\site-packages\\matplotlib\\axes\\_base.py:311\u001b[0m, in \u001b[0;36m_process_plot_var_args.__call__\u001b[1;34m(self, data, *args, **kwargs)\u001b[0m\n\u001b[0;32m    309\u001b[0m     this \u001b[38;5;241m+\u001b[39m\u001b[38;5;241m=\u001b[39m args[\u001b[38;5;241m0\u001b[39m],\n\u001b[0;32m    310\u001b[0m     args \u001b[38;5;241m=\u001b[39m args[\u001b[38;5;241m1\u001b[39m:]\n\u001b[1;32m--> 311\u001b[0m \u001b[38;5;28;01myield from\u001b[39;00m \u001b[38;5;28;43mself\u001b[39;49m\u001b[38;5;241;43m.\u001b[39;49m\u001b[43m_plot_args\u001b[49m\u001b[43m(\u001b[49m\n\u001b[0;32m    312\u001b[0m \u001b[43m    \u001b[49m\u001b[43mthis\u001b[49m\u001b[43m,\u001b[49m\u001b[43m \u001b[49m\u001b[43mkwargs\u001b[49m\u001b[43m,\u001b[49m\u001b[43m \u001b[49m\u001b[43mambiguous_fmt_datakey\u001b[49m\u001b[38;5;241;43m=\u001b[39;49m\u001b[43mambiguous_fmt_datakey\u001b[49m\u001b[43m)\u001b[49m\n",
      "File \u001b[1;32m~\\AppData\\Roaming\\Python\\Python311\\site-packages\\matplotlib\\axes\\_base.py:504\u001b[0m, in \u001b[0;36m_process_plot_var_args._plot_args\u001b[1;34m(self, tup, kwargs, return_kwargs, ambiguous_fmt_datakey)\u001b[0m\n\u001b[0;32m    501\u001b[0m     \u001b[38;5;28mself\u001b[39m\u001b[38;5;241m.\u001b[39maxes\u001b[38;5;241m.\u001b[39myaxis\u001b[38;5;241m.\u001b[39mupdate_units(y)\n\u001b[0;32m    503\u001b[0m \u001b[38;5;28;01mif\u001b[39;00m x\u001b[38;5;241m.\u001b[39mshape[\u001b[38;5;241m0\u001b[39m] \u001b[38;5;241m!=\u001b[39m y\u001b[38;5;241m.\u001b[39mshape[\u001b[38;5;241m0\u001b[39m]:\n\u001b[1;32m--> 504\u001b[0m     \u001b[38;5;28;01mraise\u001b[39;00m \u001b[38;5;167;01mValueError\u001b[39;00m(\u001b[38;5;124mf\u001b[39m\u001b[38;5;124m\"\u001b[39m\u001b[38;5;124mx and y must have same first dimension, but \u001b[39m\u001b[38;5;124m\"\u001b[39m\n\u001b[0;32m    505\u001b[0m                      \u001b[38;5;124mf\u001b[39m\u001b[38;5;124m\"\u001b[39m\u001b[38;5;124mhave shapes \u001b[39m\u001b[38;5;132;01m{\u001b[39;00mx\u001b[38;5;241m.\u001b[39mshape\u001b[38;5;132;01m}\u001b[39;00m\u001b[38;5;124m and \u001b[39m\u001b[38;5;132;01m{\u001b[39;00my\u001b[38;5;241m.\u001b[39mshape\u001b[38;5;132;01m}\u001b[39;00m\u001b[38;5;124m\"\u001b[39m)\n\u001b[0;32m    506\u001b[0m \u001b[38;5;28;01mif\u001b[39;00m x\u001b[38;5;241m.\u001b[39mndim \u001b[38;5;241m>\u001b[39m \u001b[38;5;241m2\u001b[39m \u001b[38;5;129;01mor\u001b[39;00m y\u001b[38;5;241m.\u001b[39mndim \u001b[38;5;241m>\u001b[39m \u001b[38;5;241m2\u001b[39m:\n\u001b[0;32m    507\u001b[0m     \u001b[38;5;28;01mraise\u001b[39;00m \u001b[38;5;167;01mValueError\u001b[39;00m(\u001b[38;5;124mf\u001b[39m\u001b[38;5;124m\"\u001b[39m\u001b[38;5;124mx and y can be no greater than 2D, but have \u001b[39m\u001b[38;5;124m\"\u001b[39m\n\u001b[0;32m    508\u001b[0m                      \u001b[38;5;124mf\u001b[39m\u001b[38;5;124m\"\u001b[39m\u001b[38;5;124mshapes \u001b[39m\u001b[38;5;132;01m{\u001b[39;00mx\u001b[38;5;241m.\u001b[39mshape\u001b[38;5;132;01m}\u001b[39;00m\u001b[38;5;124m and \u001b[39m\u001b[38;5;132;01m{\u001b[39;00my\u001b[38;5;241m.\u001b[39mshape\u001b[38;5;132;01m}\u001b[39;00m\u001b[38;5;124m\"\u001b[39m)\n",
      "\u001b[1;31mValueError\u001b[0m: x and y must have same first dimension, but have shapes (10,) and (1,)"
     ]
    },
    {
     "data": {
      "image/png": "[encoded data removed]",
      "text/plain": [
       "<Figure size 1000x600 with 1 Axes>"
      ]
     },
     "metadata": {},
     "output_type": "display_data"
    }
   ],
   "source": [
    "fig, ax = plt.subplots() # Define a figure and axis on which to plot our data\n",
    "ax.plot(x,y, 'ro', label = 'Data') # Plot the data\n",
    "ax.plot(x[-10:], fit, 'b-', label='Linear fit to last 10 years') # Plot the fit"
   ]
  },
  {
   "cell_type": "code",
   "execution_count": null,
   "id": "c788cfe5",
   "metadata": {},
   "outputs": [],
   "source": []
  }
 ],
 "metadata": {
  "kernelspec": {
   "display_name": "Python 3 (ipykernel)",
   "language": "python",
   "name": "python3"
  },
  "language_info": {
   "codemirror_mode": {
    "name": "ipython",
    "version": 3
   },
   "file_extension": ".py",
   "mimetype": "text/x-python",
   "name": "python",
   "nbconvert_exporter": "python",
   "pygments_lexer": "ipython3",
   "version": "3.11.1"
  },
  "widgets": {
   "application/vnd.jupyter.widget-state+json": {
    "state": {},
    "version_major": 2,
    "version_minor": 0
   }
  }
 },
 "nbformat": 4,
 "nbformat_minor": 5
}
