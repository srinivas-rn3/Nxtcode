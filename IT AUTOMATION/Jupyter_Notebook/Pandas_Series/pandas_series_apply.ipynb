{
 "cells": [
  {
   "cell_type": "markdown",
   "id": "c2b34a73",
   "metadata": {},
   "source": [
    "***Python | Pandas Series.apply()***"
   ]
  },
  {
   "cell_type": "markdown",
   "id": "4d9a497a",
   "metadata": {},
   "source": [
    "Pandas series is a One-dimensional ndarray with axis labels. The labels need not be unique but must be a hashable type. The object supports both integer- and label-based indexing and provides a host of methods for performing operations involving the index.\n",
    "\n",
    "Pandas Series.apply() function invoke the passed function on each element of the given series object."
   ]
  },
  {
   "cell_type": "markdown",
   "id": "752d7094",
   "metadata": {},
   "source": [
    "(https://www.geeksforgeeks.org/python-pandas-series-apply/)"
   ]
  },
  {
   "cell_type": "code",
   "execution_count": 1,
   "id": "143384ae",
   "metadata": {},
   "outputs": [],
   "source": [
    "import pandas as pd\n",
    "import numpy as np\n"
   ]
  },
  {
   "cell_type": "code",
   "execution_count": 2,
   "id": "8cc93806",
   "metadata": {},
   "outputs": [
    {
     "name": "stdout",
     "output_type": "stream",
     "text": [
      "City_1    New York\n",
      "City_2     Chicago\n",
      "City_3     Toronto\n",
      "City_4      Lisbon\n",
      "City_5         Rio\n",
      "dtype: object\n"
     ]
    }
   ],
   "source": [
    "sr = pd.Series(['New York','Chicago','Toronto','Lisbon','Rio'])\n",
    "index_ = ['City_1','City_2','City_3','City_4','City_5']\n",
    "sr.index = index_\n",
    "print(sr)"
   ]
  },
  {
   "cell_type": "code",
   "execution_count": 3,
   "id": "5319c7b7",
   "metadata": {},
   "outputs": [
    {
     "name": "stdout",
     "output_type": "stream",
     "text": [
      "City_1    New York\n",
      "City_2     Chicago\n",
      "City_3     Toronto\n",
      "City_4      Lisbon\n",
      "City_5    Montreal\n",
      "dtype: object\n"
     ]
    }
   ],
   "source": [
    "#Now we will use Series.apply() function to change the city name to ‘Montreal’ if the city is ‘Rio’.\n",
    "result = sr.apply(lambda x :'Montreal' if x =='Rio' else x)\n",
    "print(result)"
   ]
  },
  {
   "cell_type": "code",
   "execution_count": 4,
   "id": "ca39b4ef",
   "metadata": {},
   "outputs": [
    {
     "data": {
      "text/plain": [
       "City_1    New York\n",
       "City_2     Chicago\n",
       "City_3     Toronto\n",
       "City_4       Paris\n",
       "City_5         Rio\n",
       "dtype: object"
      ]
     },
     "execution_count": 4,
     "metadata": {},
     "output_type": "execute_result"
    }
   ],
   "source": [
    "result = sr.apply(lambda x :'Paris' if x == 'Lisbon' else x)\n",
    "result"
   ]
  },
  {
   "cell_type": "code",
   "execution_count": 10,
   "id": "83e5cc07",
   "metadata": {},
   "outputs": [
    {
     "name": "stdout",
     "output_type": "stream",
     "text": [
      "2012-12-31 09:00:00    11.0\n",
      "2013-12-31 09:00:00    21.0\n",
      "2014-12-31 09:00:00     8.0\n",
      "2015-12-31 09:00:00    18.0\n",
      "2016-12-31 09:00:00    65.0\n",
      "2017-12-31 09:00:00    18.0\n",
      "2018-12-31 09:00:00    32.0\n",
      "2019-12-31 09:00:00    10.0\n",
      "2020-12-31 09:00:00     5.0\n",
      "2021-12-31 09:00:00    32.0\n",
      "2022-12-31 09:00:00     NaN\n",
      "Freq: A-DEC, dtype: float64\n"
     ]
    }
   ],
   "source": [
    "#Use Series.apply() function to return True if the value in the given \n",
    "#series object is greater than 30 else return False.\n",
    "sr1 = pd.Series([11, 21, 8, 18, 65, 18, 32, 10, 5, 32, None]) \n",
    "index_ = pd.date_range('2012-10-09 09:00',periods=11,freq='Y')\n",
    "sr1.index = index_\n",
    "print(sr1)"
   ]
  },
  {
   "cell_type": "code",
   "execution_count": 11,
   "id": "b0f8f952",
   "metadata": {},
   "outputs": [
    {
     "data": {
      "text/plain": [
       "2012-12-31 09:00:00    False\n",
       "2013-12-31 09:00:00    False\n",
       "2014-12-31 09:00:00    False\n",
       "2015-12-31 09:00:00    False\n",
       "2016-12-31 09:00:00     True\n",
       "2017-12-31 09:00:00    False\n",
       "2018-12-31 09:00:00     True\n",
       "2019-12-31 09:00:00    False\n",
       "2020-12-31 09:00:00    False\n",
       "2021-12-31 09:00:00     True\n",
       "2022-12-31 09:00:00    False\n",
       "Freq: A-DEC, dtype: bool"
      ]
     },
     "execution_count": 11,
     "metadata": {},
     "output_type": "execute_result"
    }
   ],
   "source": [
    "result1 = sr1.apply(lambda x : True if x > 30 else False)\n",
    "result1"
   ]
  },
  {
   "cell_type": "code",
   "execution_count": 13,
   "id": "9fb778d3",
   "metadata": {},
   "outputs": [
    {
     "data": {
      "text/plain": [
       "2012-12-31 09:00:00    False\n",
       "2013-12-31 09:00:00     True\n",
       "2014-12-31 09:00:00    False\n",
       "2015-12-31 09:00:00    False\n",
       "2016-12-31 09:00:00     True\n",
       "2017-12-31 09:00:00    False\n",
       "2018-12-31 09:00:00     True\n",
       "2019-12-31 09:00:00    False\n",
       "2020-12-31 09:00:00    False\n",
       "2021-12-31 09:00:00     True\n",
       "2022-12-31 09:00:00    False\n",
       "Freq: A-DEC, dtype: bool"
      ]
     },
     "execution_count": 13,
     "metadata": {},
     "output_type": "execute_result"
    }
   ],
   "source": [
    "result12 = sr1.apply(lambda x : True if x > 20 else False)\n",
    "result12"
   ]
  },
  {
   "cell_type": "code",
   "execution_count": 14,
   "id": "340a1ec5",
   "metadata": {},
   "outputs": [
    {
     "data": {
      "text/plain": [
       "2012-12-31 09:00:00    False\n",
       "2013-12-31 09:00:00    False\n",
       "2014-12-31 09:00:00    False\n",
       "2015-12-31 09:00:00    False\n",
       "2016-12-31 09:00:00    False\n",
       "2017-12-31 09:00:00    False\n",
       "2018-12-31 09:00:00    False\n",
       "2019-12-31 09:00:00    False\n",
       "2020-12-31 09:00:00    False\n",
       "2021-12-31 09:00:00    False\n",
       "2022-12-31 09:00:00    False\n",
       "Freq: A-DEC, dtype: bool"
      ]
     },
     "execution_count": 14,
     "metadata": {},
     "output_type": "execute_result"
    }
   ],
   "source": [
    "result1 = sr1.apply(lambda x: False if x > 10 else False)\n",
    "result1"
   ]
  },
  {
   "cell_type": "code",
   "execution_count": 18,
   "id": "983012e6",
   "metadata": {},
   "outputs": [
    {
     "data": {
      "text/plain": [
       "2023-10-01    10\n",
       "2023-10-02    11\n",
       "2023-10-03    12\n",
       "2023-10-04    13\n",
       "2023-10-05    14\n",
       "2023-10-06    15\n",
       "2023-10-07    16\n",
       "2023-10-08    17\n",
       "2023-10-09    18\n",
       "2023-10-10    19\n",
       "Freq: D, dtype: int64"
      ]
     },
     "execution_count": 18,
     "metadata": {},
     "output_type": "execute_result"
    }
   ],
   "source": [
    "ser3 = pd.Series([10,11,12,13,14,15,16,17,18,19])\n",
    "indeex = pd.date_range(\"2023-10-01\",periods=10,freq='D')\n",
    "ser3.index = indeex\n",
    "ser3"
   ]
  },
  {
   "cell_type": "code",
   "execution_count": 22,
   "id": "bee14cee",
   "metadata": {},
   "outputs": [
    {
     "name": "stdout",
     "output_type": "stream",
     "text": [
      "Help on function date_range in module pandas.core.indexes.datetimes:\n",
      "\n",
      "date_range(start=None, end=None, periods=None, freq=None, tz=None, normalize: 'bool' = False, name: 'Hashable | None' = None, inclusive: 'IntervalClosedType' = 'both', *, unit: 'str | None' = None, **kwargs) -> 'DatetimeIndex'\n",
      "    Return a fixed frequency DatetimeIndex.\n",
      "    \n",
      "    Returns the range of equally spaced time points (where the difference between any\n",
      "    two adjacent points is specified by the given frequency) such that they all\n",
      "    satisfy `start <[=] x <[=] end`, where the first one and the last one are, resp.,\n",
      "    the first and last time points in that range that fall on the boundary of ``freq``\n",
      "    (if given as a frequency string) or that are valid for ``freq`` (if given as a\n",
      "    :class:`pandas.tseries.offsets.DateOffset`). (If exactly one of ``start``,\n",
      "    ``end``, or ``freq`` is *not* specified, this missing parameter can be computed\n",
      "    given ``periods``, the number of timesteps in the range. See the note below.)\n",
      "    \n",
      "    Parameters\n",
      "    ----------\n",
      "    start : str or datetime-like, optional\n",
      "        Left bound for generating dates.\n",
      "    end : str or datetime-like, optional\n",
      "        Right bound for generating dates.\n",
      "    periods : int, optional\n",
      "        Number of periods to generate.\n",
      "    freq : str, Timedelta, datetime.timedelta, or DateOffset, default 'D'\n",
      "        Frequency strings can have multiples, e.g. '5H'. See\n",
      "        :ref:`here <timeseries.offset_aliases>` for a list of\n",
      "        frequency aliases.\n",
      "    tz : str or tzinfo, optional\n",
      "        Time zone name for returning localized DatetimeIndex, for example\n",
      "        'Asia/Hong_Kong'. By default, the resulting DatetimeIndex is\n",
      "        timezone-naive unless timezone-aware datetime-likes are passed.\n",
      "    normalize : bool, default False\n",
      "        Normalize start/end dates to midnight before generating date range.\n",
      "    name : str, default None\n",
      "        Name of the resulting DatetimeIndex.\n",
      "    inclusive : {\"both\", \"neither\", \"left\", \"right\"}, default \"both\"\n",
      "        Include boundaries; Whether to set each bound as closed or open.\n",
      "    \n",
      "        .. versionadded:: 1.4.0\n",
      "    unit : str, default None\n",
      "        Specify the desired resolution of the result.\n",
      "    \n",
      "        .. versionadded:: 2.0.0\n",
      "    **kwargs\n",
      "        For compatibility. Has no effect on the result.\n",
      "    \n",
      "    Returns\n",
      "    -------\n",
      "    DatetimeIndex\n",
      "    \n",
      "    See Also\n",
      "    --------\n",
      "    DatetimeIndex : An immutable container for datetimes.\n",
      "    timedelta_range : Return a fixed frequency TimedeltaIndex.\n",
      "    period_range : Return a fixed frequency PeriodIndex.\n",
      "    interval_range : Return a fixed frequency IntervalIndex.\n",
      "    \n",
      "    Notes\n",
      "    -----\n",
      "    Of the four parameters ``start``, ``end``, ``periods``, and ``freq``,\n",
      "    exactly three must be specified. If ``freq`` is omitted, the resulting\n",
      "    ``DatetimeIndex`` will have ``periods`` linearly spaced elements between\n",
      "    ``start`` and ``end`` (closed on both sides).\n",
      "    \n",
      "    To learn more about the frequency strings, please see `this link\n",
      "    <https://pandas.pydata.org/pandas-docs/stable/user_guide/timeseries.html#offset-aliases>`__.\n",
      "    \n",
      "    Examples\n",
      "    --------\n",
      "    **Specifying the values**\n",
      "    \n",
      "    The next four examples generate the same `DatetimeIndex`, but vary\n",
      "    the combination of `start`, `end` and `periods`.\n",
      "    \n",
      "    Specify `start` and `end`, with the default daily frequency.\n",
      "    \n",
      "    >>> pd.date_range(start='1/1/2018', end='1/08/2018')\n",
      "    DatetimeIndex(['2018-01-01', '2018-01-02', '2018-01-03', '2018-01-04',\n",
      "                   '2018-01-05', '2018-01-06', '2018-01-07', '2018-01-08'],\n",
      "                  dtype='datetime64[ns]', freq='D')\n",
      "    \n",
      "    Specify timezone-aware `start` and `end`, with the default daily frequency.\n",
      "    \n",
      "    >>> pd.date_range(\n",
      "    ...     start=pd.to_datetime(\"1/1/2018\").tz_localize(\"Europe/Berlin\"),\n",
      "    ...     end=pd.to_datetime(\"1/08/2018\").tz_localize(\"Europe/Berlin\"),\n",
      "    ... )\n",
      "    DatetimeIndex(['2018-01-01 00:00:00+01:00', '2018-01-02 00:00:00+01:00',\n",
      "                   '2018-01-03 00:00:00+01:00', '2018-01-04 00:00:00+01:00',\n",
      "                   '2018-01-05 00:00:00+01:00', '2018-01-06 00:00:00+01:00',\n",
      "                   '2018-01-07 00:00:00+01:00', '2018-01-08 00:00:00+01:00'],\n",
      "                  dtype='datetime64[ns, Europe/Berlin]', freq='D')\n",
      "    \n",
      "    Specify `start` and `periods`, the number of periods (days).\n",
      "    \n",
      "    >>> pd.date_range(start='1/1/2018', periods=8)\n",
      "    DatetimeIndex(['2018-01-01', '2018-01-02', '2018-01-03', '2018-01-04',\n",
      "                   '2018-01-05', '2018-01-06', '2018-01-07', '2018-01-08'],\n",
      "                  dtype='datetime64[ns]', freq='D')\n",
      "    \n",
      "    Specify `end` and `periods`, the number of periods (days).\n",
      "    \n",
      "    >>> pd.date_range(end='1/1/2018', periods=8)\n",
      "    DatetimeIndex(['2017-12-25', '2017-12-26', '2017-12-27', '2017-12-28',\n",
      "                   '2017-12-29', '2017-12-30', '2017-12-31', '2018-01-01'],\n",
      "                  dtype='datetime64[ns]', freq='D')\n",
      "    \n",
      "    Specify `start`, `end`, and `periods`; the frequency is generated\n",
      "    automatically (linearly spaced).\n",
      "    \n",
      "    >>> pd.date_range(start='2018-04-24', end='2018-04-27', periods=3)\n",
      "    DatetimeIndex(['2018-04-24 00:00:00', '2018-04-25 12:00:00',\n",
      "                   '2018-04-27 00:00:00'],\n",
      "                  dtype='datetime64[ns]', freq=None)\n",
      "    \n",
      "    **Other Parameters**\n",
      "    \n",
      "    Changed the `freq` (frequency) to ``'M'`` (month end frequency).\n",
      "    \n",
      "    >>> pd.date_range(start='1/1/2018', periods=5, freq='M')\n",
      "    DatetimeIndex(['2018-01-31', '2018-02-28', '2018-03-31', '2018-04-30',\n",
      "                   '2018-05-31'],\n",
      "                  dtype='datetime64[ns]', freq='M')\n",
      "    \n",
      "    Multiples are allowed\n",
      "    \n",
      "    >>> pd.date_range(start='1/1/2018', periods=5, freq='3M')\n",
      "    DatetimeIndex(['2018-01-31', '2018-04-30', '2018-07-31', '2018-10-31',\n",
      "                   '2019-01-31'],\n",
      "                  dtype='datetime64[ns]', freq='3M')\n",
      "    \n",
      "    `freq` can also be specified as an Offset object.\n",
      "    \n",
      "    >>> pd.date_range(start='1/1/2018', periods=5, freq=pd.offsets.MonthEnd(3))\n",
      "    DatetimeIndex(['2018-01-31', '2018-04-30', '2018-07-31', '2018-10-31',\n",
      "                   '2019-01-31'],\n",
      "                  dtype='datetime64[ns]', freq='3M')\n",
      "    \n",
      "    Specify `tz` to set the timezone.\n",
      "    \n",
      "    >>> pd.date_range(start='1/1/2018', periods=5, tz='Asia/Tokyo')\n",
      "    DatetimeIndex(['2018-01-01 00:00:00+09:00', '2018-01-02 00:00:00+09:00',\n",
      "                   '2018-01-03 00:00:00+09:00', '2018-01-04 00:00:00+09:00',\n",
      "                   '2018-01-05 00:00:00+09:00'],\n",
      "                  dtype='datetime64[ns, Asia/Tokyo]', freq='D')\n",
      "    \n",
      "    `inclusive` controls whether to include `start` and `end` that are on the\n",
      "    boundary. The default, \"both\", includes boundary points on either end.\n",
      "    \n",
      "    >>> pd.date_range(start='2017-01-01', end='2017-01-04', inclusive=\"both\")\n",
      "    DatetimeIndex(['2017-01-01', '2017-01-02', '2017-01-03', '2017-01-04'],\n",
      "                  dtype='datetime64[ns]', freq='D')\n",
      "    \n",
      "    Use ``inclusive='left'`` to exclude `end` if it falls on the boundary.\n",
      "    \n",
      "    >>> pd.date_range(start='2017-01-01', end='2017-01-04', inclusive='left')\n",
      "    DatetimeIndex(['2017-01-01', '2017-01-02', '2017-01-03'],\n",
      "                  dtype='datetime64[ns]', freq='D')\n",
      "    \n",
      "    Use ``inclusive='right'`` to exclude `start` if it falls on the boundary, and\n",
      "    similarly ``inclusive='neither'`` will exclude both `start` and `end`.\n",
      "    \n",
      "    >>> pd.date_range(start='2017-01-01', end='2017-01-04', inclusive='right')\n",
      "    DatetimeIndex(['2017-01-02', '2017-01-03', '2017-01-04'],\n",
      "                  dtype='datetime64[ns]', freq='D')\n",
      "    \n",
      "    **Specify a unit**\n",
      "    \n",
      "    >>> pd.date_range(start=\"2017-01-01\", periods=10, freq=\"100AS\", unit=\"s\")\n",
      "    DatetimeIndex(['2017-01-01', '2117-01-01', '2217-01-01', '2317-01-01',\n",
      "                   '2417-01-01', '2517-01-01', '2617-01-01', '2717-01-01',\n",
      "                   '2817-01-01', '2917-01-01'],\n",
      "                  dtype='datetime64[s]', freq='100AS-JAN')\n",
      "\n",
      "None\n"
     ]
    }
   ],
   "source": [
    "print(help(pd.date_range))"
   ]
  },
  {
   "cell_type": "code",
   "execution_count": null,
   "id": "1c174d18",
   "metadata": {},
   "outputs": [],
   "source": []
  }
 ],
 "metadata": {
  "kernelspec": {
   "display_name": "Python 3 (ipykernel)",
   "language": "python",
   "name": "python3"
  },
  "language_info": {
   "codemirror_mode": {
    "name": "ipython",
    "version": 3
   },
   "file_extension": ".py",
   "mimetype": "text/x-python",
   "name": "python",
   "nbconvert_exporter": "python",
   "pygments_lexer": "ipython3",
   "version": "3.11.1"
  }
 },
 "nbformat": 4,
 "nbformat_minor": 5
}
