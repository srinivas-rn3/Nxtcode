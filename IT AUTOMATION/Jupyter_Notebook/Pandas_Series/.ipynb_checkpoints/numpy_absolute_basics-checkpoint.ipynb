{
 "cells": [
  {
   "cell_type": "markdown",
   "id": "c872e241",
   "metadata": {},
   "source": [
    "### NumPy: the absolute basics for beginners ###"
   ]
  },
  {
   "cell_type": "markdown",
   "id": "451f253f",
   "metadata": {},
   "source": [
    "NumPy (Numerical Python) is an open source Python library that’s widely used in science and engineering. The NumPy library contains multidimensional array data structures, such as the homogeneous, N-dimensional ndarray, and a large library of functions that operate efficiently on these data structures. Learn more about NumPy at What is NumPy, and if you have comments or suggestions, please reach out!"
   ]
  },
  {
   "cell_type": "markdown",
   "id": "835a2b3e",
   "metadata": {},
   "source": [
    "(https://numpy.org/devdocs/user/absolute_beginners.html)"
   ]
  },
  {
   "cell_type": "code",
   "execution_count": 50,
   "id": "88ec9e12",
   "metadata": {},
   "outputs": [],
   "source": [
    "import numpy as np"
   ]
  },
  {
   "cell_type": "markdown",
   "id": "073249b3",
   "metadata": {},
   "source": [
    "<b>What is an “array”?</b>\n",
    "\n",
    "In computer programming, an array is a structure for storing and retrieving data. We often talk about an array as if it were a grid in space, with each cell storing one element of the data. For instance, if each element of the data were a number, we might visualize a “one-dimensional” array like a list:"
   ]
  },
  {
   "cell_type": "markdown",
   "id": "0739679a",
   "metadata": {},
   "source": [
    "Most NumPy arrays have some restrictions. For instance:\n",
    "\n",
    "All elements of the array must be of the same type of data.\n",
    "\n",
    "Once created, the total size of the the array can’t change.\n",
    "\n",
    "The shape must be “rectangular”, not “jagged”; e.g., each row of a two-dimensional array must have the same number of columns.\n",
    "\n",
    "When these conditions are met, NumPy exploits these characteristics to make the array faster, more memory efficient, and more convenient to use than less restrictive data structures.\n",
    "\n",
    "For the remainder of this document, we will use the word “array” to refer to an instance of ndarray."
   ]
  },
  {
   "cell_type": "markdown",
   "id": "9dba30f2",
   "metadata": {},
   "source": [
    "#### Array fundamentals"
   ]
  },
  {
   "cell_type": "code",
   "execution_count": 51,
   "id": "7f7299a6",
   "metadata": {},
   "outputs": [
    {
     "data": {
      "text/plain": [
       "array([1, 2, 3, 4, 5, 6])"
      ]
     },
     "execution_count": 51,
     "metadata": {},
     "output_type": "execute_result"
    }
   ],
   "source": [
    "a = np.array([1,2,3,4,5,6])\n",
    "a"
   ]
  },
  {
   "cell_type": "code",
   "execution_count": 52,
   "id": "5a2859bc",
   "metadata": {},
   "outputs": [],
   "source": [
    "#Like the original list, the array is mutable.\n",
    "a[0]= -10"
   ]
  },
  {
   "cell_type": "code",
   "execution_count": 53,
   "id": "b2ee63b7",
   "metadata": {},
   "outputs": [
    {
     "data": {
      "text/plain": [
       "array([-10,   2,   3,   4,   5,   6])"
      ]
     },
     "execution_count": 53,
     "metadata": {},
     "output_type": "execute_result"
    }
   ],
   "source": [
    "a"
   ]
  },
  {
   "cell_type": "code",
   "execution_count": 54,
   "id": "08df4368",
   "metadata": {},
   "outputs": [],
   "source": [
    "#Also like the original list, Python slice notation can be used for indexing."
   ]
  },
  {
   "cell_type": "code",
   "execution_count": 57,
   "id": "bdd57096",
   "metadata": {},
   "outputs": [
    {
     "data": {
      "text/plain": [
       "array([99, 99, 99])"
      ]
     },
     "execution_count": 57,
     "metadata": {},
     "output_type": "execute_result"
    }
   ],
   "source": [
    "a[:3]"
   ]
  },
  {
   "cell_type": "code",
   "execution_count": 58,
   "id": "8074686b",
   "metadata": {},
   "outputs": [],
   "source": [
    "a[:3] = [99,99,99]"
   ]
  },
  {
   "cell_type": "code",
   "execution_count": 59,
   "id": "855e19c8",
   "metadata": {},
   "outputs": [
    {
     "data": {
      "text/plain": [
       "array([99, 99, 99,  4,  5,  6])"
      ]
     },
     "execution_count": 59,
     "metadata": {},
     "output_type": "execute_result"
    }
   ],
   "source": [
    "a"
   ]
  },
  {
   "cell_type": "markdown",
   "id": "49dadf5f",
   "metadata": {},
   "source": [
    "One major difference is that slice indexing of a list copies the elements into a new list, but slicing an array returns a view: an object that refers to the data in the original array. The original array can be mutated using the view."
   ]
  },
  {
   "cell_type": "code",
   "execution_count": 9,
   "id": "de81bd3f",
   "metadata": {},
   "outputs": [
    {
     "data": {
      "text/plain": [
       "array([4, 5, 6])"
      ]
     },
     "execution_count": 9,
     "metadata": {},
     "output_type": "execute_result"
    }
   ],
   "source": [
    "b = a[3:]\n",
    "b"
   ]
  },
  {
   "cell_type": "code",
   "execution_count": 10,
   "id": "75764aa4",
   "metadata": {},
   "outputs": [],
   "source": [
    "b[0] = 46"
   ]
  },
  {
   "cell_type": "code",
   "execution_count": 11,
   "id": "2c592ea0",
   "metadata": {},
   "outputs": [
    {
     "data": {
      "text/plain": [
       "array([99, 99, 99, 46,  5,  6])"
      ]
     },
     "execution_count": 11,
     "metadata": {},
     "output_type": "execute_result"
    }
   ],
   "source": [
    "    a"
   ]
  },
  {
   "cell_type": "markdown",
   "id": "aeef65f3",
   "metadata": {},
   "source": [
    "Two- and higher-dimensional arrays can be initialized from nested Python sequences:"
   ]
  },
  {
   "cell_type": "code",
   "execution_count": 12,
   "id": "b9db5119",
   "metadata": {},
   "outputs": [
    {
     "data": {
      "text/plain": [
       "array([[ 1,  2,  3,  4],\n",
       "       [ 5,  6,  7,  8],\n",
       "       [ 9, 10, 11, 12]])"
      ]
     },
     "execution_count": 12,
     "metadata": {},
     "output_type": "execute_result"
    }
   ],
   "source": [
    "a1 = np.array([[1,2,3,4],[5,6,7,8],[9,10,11,12]])\n",
    "a1"
   ]
  },
  {
   "cell_type": "markdown",
   "id": "4a30cfef",
   "metadata": {},
   "source": [
    " NumPy, a dimension of an array is sometimes referred to as an “axis”. This terminology may be useful to disambiguate between the dimensionality of an array and the dimensionality of the data represented by the array. For instance, the array a could represent three points, each lying within a four-dimensional space, but a has only two “axes”."
   ]
  },
  {
   "cell_type": "code",
   "execution_count": 13,
   "id": "25e1f298",
   "metadata": {},
   "outputs": [
    {
     "data": {
      "text/plain": [
       "8"
      ]
     },
     "execution_count": 13,
     "metadata": {},
     "output_type": "execute_result"
    }
   ],
   "source": [
    "a1[1,3]"
   ]
  },
  {
   "cell_type": "markdown",
   "id": "0b6b5800",
   "metadata": {},
   "source": [
    "<b>Array attributes</b>\n",
    "\n",
    "This section covers the ndim, shape, size, and dtype attributes of an array."
   ]
  },
  {
   "cell_type": "code",
   "execution_count": 14,
   "id": "d4026d82",
   "metadata": {},
   "outputs": [
    {
     "data": {
      "text/plain": [
       "2"
      ]
     },
     "execution_count": 14,
     "metadata": {},
     "output_type": "execute_result"
    }
   ],
   "source": [
    "#The number of dimensions of an array is contained in the ndim attribute.\n",
    "a1.ndim"
   ]
  },
  {
   "cell_type": "code",
   "execution_count": 15,
   "id": "9befcccc",
   "metadata": {},
   "outputs": [
    {
     "data": {
      "text/plain": [
       "(3, 4)"
      ]
     },
     "execution_count": 15,
     "metadata": {},
     "output_type": "execute_result"
    }
   ],
   "source": [
    "#The shape of an array is a tuple of non-negative integers that specify the number of elements along each dimension.\n",
    "a1.shape"
   ]
  },
  {
   "cell_type": "code",
   "execution_count": 16,
   "id": "d69a6bd4",
   "metadata": {},
   "outputs": [
    {
     "data": {
      "text/plain": [
       "True"
      ]
     },
     "execution_count": 16,
     "metadata": {},
     "output_type": "execute_result"
    }
   ],
   "source": [
    "len(a1.shape) == a1.ndim"
   ]
  },
  {
   "cell_type": "code",
   "execution_count": 17,
   "id": "b32a8bdf",
   "metadata": {},
   "outputs": [
    {
     "data": {
      "text/plain": [
       "12"
      ]
     },
     "execution_count": 17,
     "metadata": {},
     "output_type": "execute_result"
    }
   ],
   "source": [
    "#The fixed, total number of elements in array is contained in the size attribute.\n",
    "a1.size"
   ]
  },
  {
   "cell_type": "code",
   "execution_count": 18,
   "id": "c0978915",
   "metadata": {},
   "outputs": [
    {
     "data": {
      "text/plain": [
       "True"
      ]
     },
     "execution_count": 18,
     "metadata": {},
     "output_type": "execute_result"
    }
   ],
   "source": [
    "import math\n",
    "a.size == math.prod(a.shape)"
   ]
  },
  {
   "cell_type": "code",
   "execution_count": 19,
   "id": "95098e0a",
   "metadata": {},
   "outputs": [
    {
     "data": {
      "text/plain": [
       "dtype('int32')"
      ]
     },
     "execution_count": 19,
     "metadata": {},
     "output_type": "execute_result"
    }
   ],
   "source": [
    "#Arrays are typically “homogeneous”, meaning that they contain elements of only one \n",
    "#“data type”. The data type is recorded in the dtype attribute.\n",
    "a1.dtype"
   ]
  },
  {
   "cell_type": "code",
   "execution_count": 20,
   "id": "d28c357c",
   "metadata": {},
   "outputs": [],
   "source": [
    "## \"int\" for integer, \"64\" for 64-bit"
   ]
  },
  {
   "cell_type": "markdown",
   "id": "3fe90d03",
   "metadata": {},
   "source": [
    "The built-in math.prod() function from the math module in Python is used to return the products of elements in an iterable object like a list or a tuple.\n",
    "\n",
    "math.prod(iterable, start)"
   ]
  },
  {
   "cell_type": "code",
   "execution_count": 60,
   "id": "d8118602",
   "metadata": {},
   "outputs": [
    {
     "name": "stdout",
     "output_type": "stream",
     "text": [
      "24\n",
      "243\n"
     ]
    }
   ],
   "source": [
    "liat_1 = [1,2,3,4]\n",
    "print(math.prod(liat_1))\n",
    "liat_2 = [3,3,3,3,3]\n",
    "print(math.prod(liat_2))"
   ]
  },
  {
   "cell_type": "code",
   "execution_count": 61,
   "id": "6f59e6aa",
   "metadata": {},
   "outputs": [
    {
     "name": "stdout",
     "output_type": "stream",
     "text": [
      "1\n",
      "3\n"
     ]
    }
   ],
   "source": [
    "#Empty iterable passed as an argument\n",
    "list_3 = []\n",
    "print(math.prod(list_3))\n",
    "print(math.prod(list_3,start=3))"
   ]
  },
  {
   "cell_type": "markdown",
   "id": "6092f5f6",
   "metadata": {},
   "source": [
    "(https://www.educative.io/answers/what-is-mathprod-in-python)"
   ]
  },
  {
   "cell_type": "markdown",
   "id": "6c9b7d13",
   "metadata": {},
   "source": [
    "<b>How to create a basic array</b>\n",
    "\n",
    "This section covers np.zeros(), np.ones(), np.empty(), np.arange(), np.linspace()"
   ]
  },
  {
   "cell_type": "code",
   "execution_count": 62,
   "id": "eee50e50",
   "metadata": {},
   "outputs": [
    {
     "data": {
      "text/plain": [
       "dtype('int32')"
      ]
     },
     "execution_count": 62,
     "metadata": {},
     "output_type": "execute_result"
    }
   ],
   "source": [
    "a.dtype\n"
   ]
  },
  {
   "cell_type": "markdown",
   "id": "bdaa6e28",
   "metadata": {},
   "source": [
    "<b>How to create a basic array</b>\n",
    "\n",
    "This section covers np.zeros(), np.ones(), np.empty(), np.arange(), np.linspace()"
   ]
  },
  {
   "cell_type": "markdown",
   "id": "46d1a316",
   "metadata": {},
   "source": [
    "Besides creating an array from a sequence of elements, you can easily create an array filled with 0’s:"
   ]
  },
  {
   "cell_type": "code",
   "execution_count": 63,
   "id": "f1abe1ab",
   "metadata": {},
   "outputs": [
    {
     "data": {
      "text/plain": [
       "array([[0., 0., 0.],\n",
       "       [0., 0., 0.],\n",
       "       [0., 0., 0.]])"
      ]
     },
     "execution_count": 63,
     "metadata": {},
     "output_type": "execute_result"
    }
   ],
   "source": [
    "np.zeros([3,3])"
   ]
  },
  {
   "cell_type": "markdown",
   "id": "c0e97f36",
   "metadata": {},
   "source": [
    "Or an array filled with 1’s:"
   ]
  },
  {
   "cell_type": "code",
   "execution_count": 65,
   "id": "01867149",
   "metadata": {},
   "outputs": [
    {
     "data": {
      "text/plain": [
       "array([1., 1., 1., 1.])"
      ]
     },
     "execution_count": 65,
     "metadata": {},
     "output_type": "execute_result"
    }
   ],
   "source": [
    "np.ones(4)"
   ]
  },
  {
   "cell_type": "markdown",
   "id": "bd5d5372",
   "metadata": {},
   "source": [
    "Or even an empty array! The function empty creates an array whose initial content is random and depends on the state of the memory. The reason to use empty over zeros (or something similar) is speed - just make sure to fill every element afterwards!"
   ]
  },
  {
   "cell_type": "code",
   "execution_count": 66,
   "id": "be61eba8",
   "metadata": {},
   "outputs": [
    {
     "data": {
      "text/plain": [
       "array([1.12526648e+169, 1.81771474e-280])"
      ]
     },
     "execution_count": 66,
     "metadata": {},
     "output_type": "execute_result"
    }
   ],
   "source": [
    "# Create an empty array with 2 elements\n",
    "np.empty(2)   # may vary"
   ]
  },
  {
   "cell_type": "markdown",
   "id": "6e0b2ac8",
   "metadata": {},
   "source": [
    "You can create an array with a range of elements:"
   ]
  },
  {
   "cell_type": "code",
   "execution_count": 67,
   "id": "12c513a6",
   "metadata": {},
   "outputs": [
    {
     "data": {
      "text/plain": [
       "array([0, 1, 2, 3])"
      ]
     },
     "execution_count": 67,
     "metadata": {},
     "output_type": "execute_result"
    }
   ],
   "source": [
    "np.arange(4)"
   ]
  },
  {
   "cell_type": "markdown",
   "id": "db3c2166",
   "metadata": {},
   "source": [
    "And even an array that contains a range of evenly spaced intervals. To do this, you will specify the first number, last number, and the step size."
   ]
  },
  {
   "cell_type": "code",
   "execution_count": 68,
   "id": "1af62e5f",
   "metadata": {},
   "outputs": [
    {
     "data": {
      "text/plain": [
       "array([2, 4, 6, 8])"
      ]
     },
     "execution_count": 68,
     "metadata": {},
     "output_type": "execute_result"
    }
   ],
   "source": [
    "np.arange(2,9,2)"
   ]
  },
  {
   "cell_type": "markdown",
   "id": "44c62ee1",
   "metadata": {},
   "source": [
    "You can also use np.linspace() to create an array with values that are spaced linearly in a specified interval:"
   ]
  },
  {
   "cell_type": "code",
   "execution_count": 69,
   "id": "0407e820",
   "metadata": {},
   "outputs": [
    {
     "data": {
      "text/plain": [
       "array([ 0. ,  2.5,  5. ,  7.5, 10. ])"
      ]
     },
     "execution_count": 69,
     "metadata": {},
     "output_type": "execute_result"
    }
   ],
   "source": [
    "np.linspace(0,10,num=5)"
   ]
  },
  {
   "cell_type": "markdown",
   "id": "4e243e10",
   "metadata": {},
   "source": [
    "Specifying your data type\n",
    "\n",
    "While the default data type is floating point (np.float64), you can explicitly specify which data type you want using the dtype keyword."
   ]
  },
  {
   "cell_type": "code",
   "execution_count": 70,
   "id": "4f26ac04",
   "metadata": {},
   "outputs": [
    {
     "data": {
      "text/plain": [
       "array([1, 1], dtype=int64)"
      ]
     },
     "execution_count": 70,
     "metadata": {},
     "output_type": "execute_result"
    }
   ],
   "source": [
    "x = np.ones(2,dtype=np.int64)\n",
    "x"
   ]
  },
  {
   "cell_type": "markdown",
   "id": "d4d41b26",
   "metadata": {},
   "source": [
    "<b>Adding, removing, and sorting elements</b>\n",
    "\n",
    "This section covers np.sort(), np.concatenate()\n",
    "\n",
    "Sorting an element is simple with np.sort(). You can specify the axis, kind, and order when you call the function."
   ]
  },
  {
   "cell_type": "code",
   "execution_count": 71,
   "id": "7d6612c9",
   "metadata": {},
   "outputs": [],
   "source": [
    "arr = np.array([2,0,1,33,14,3,99,100,74,25])\n"
   ]
  },
  {
   "cell_type": "code",
   "execution_count": 32,
   "id": "cfb15351",
   "metadata": {},
   "outputs": [
    {
     "data": {
      "text/plain": [
       "array([  0,   1,   2,   3,  14,  25,  33,  74,  99, 100])"
      ]
     },
     "execution_count": 32,
     "metadata": {},
     "output_type": "execute_result"
    }
   ],
   "source": [
    "np.sort(arr)"
   ]
  },
  {
   "cell_type": "markdown",
   "id": "3ed1ddc1",
   "metadata": {},
   "source": [
    "argsort, which is an indirect sort along a specified axis,\n",
    "\n",
    "lexsort, which is an indirect stable sort on multiple keys,\n",
    "\n",
    "searchsorted, which will find elements in a sorted array, and\n",
    "\n",
    "partition, which is a partial sort."
   ]
  },
  {
   "cell_type": "markdown",
   "id": "97bb6a84",
   "metadata": {},
   "source": [
    "You can concatenate them with np.concatenate()."
   ]
  },
  {
   "cell_type": "code",
   "execution_count": 33,
   "id": "43380c72",
   "metadata": {},
   "outputs": [
    {
     "data": {
      "text/plain": [
       "array([ 1,  2,  3,  4,  5,  6,  7,  8,  9, 11])"
      ]
     },
     "execution_count": 33,
     "metadata": {},
     "output_type": "execute_result"
    }
   ],
   "source": [
    "a = np.array([1,2,3,4,5])\n",
    "b = np.sort([6,7,8,9,11])\n",
    "np.concatenate((a,b))"
   ]
  },
  {
   "cell_type": "code",
   "execution_count": 34,
   "id": "db5ccb43",
   "metadata": {},
   "outputs": [],
   "source": [
    "x = np.array([[1,2],[3,4]])\n",
    "y = np.array([[5,6]])"
   ]
  },
  {
   "cell_type": "code",
   "execution_count": null,
   "id": "bd7d7bfd",
   "metadata": {},
   "outputs": [],
   "source": []
  },
  {
   "cell_type": "markdown",
   "id": "415d693b",
   "metadata": {},
   "source": [
    "<b>How do you know the shape and size of an array?</b>"
   ]
  },
  {
   "cell_type": "markdown",
   "id": "3209ee0f",
   "metadata": {},
   "source": [
    "<b>ndarray.ndim</b> will tell you the number of axes, or dimensions, of the array.\n",
    "\n",
    "<b>ndarray.size</b> will tell you the total number of elements of the array. This is the product of the elements of the array’s shape.\n",
    "\n",
    "<b>ndarray.shape</b> will display a tuple of integers that indicate the number of elements stored along each dimension of the array. If, for example, you have a 2-D array with 2 rows and 3 columns, the shape of your array is (2, 3)."
   ]
  },
  {
   "cell_type": "code",
   "execution_count": 72,
   "id": "ef8855e5",
   "metadata": {},
   "outputs": [],
   "source": [
    "arr_exx = np.array([[[0,1,2,3],\n",
    "                     [4,5,6,7]],\n",
    "                     \n",
    "                    [[0,1,2,3],\n",
    "                    [4,5,6,7]],\n",
    "                     \n",
    "                    [[0,1,2,3],\n",
    "                    [4,5,6,7]]\n",
    "                   ])"
   ]
  },
  {
   "cell_type": "code",
   "execution_count": 73,
   "id": "cab4d855",
   "metadata": {},
   "outputs": [
    {
     "data": {
      "text/plain": [
       "3"
      ]
     },
     "execution_count": 73,
     "metadata": {},
     "output_type": "execute_result"
    }
   ],
   "source": [
    "arr_exx.ndim"
   ]
  },
  {
   "cell_type": "code",
   "execution_count": 74,
   "id": "6d30ae02",
   "metadata": {},
   "outputs": [
    {
     "data": {
      "text/plain": [
       "(3, 2, 4)"
      ]
     },
     "execution_count": 74,
     "metadata": {},
     "output_type": "execute_result"
    }
   ],
   "source": [
    "arr_exx.shape"
   ]
  },
  {
   "cell_type": "code",
   "execution_count": 75,
   "id": "94ba6fcd",
   "metadata": {},
   "outputs": [
    {
     "data": {
      "text/plain": [
       "24"
      ]
     },
     "execution_count": 75,
     "metadata": {},
     "output_type": "execute_result"
    }
   ],
   "source": [
    "arr_exx.size"
   ]
  },
  {
   "cell_type": "code",
   "execution_count": 76,
   "id": "1ef50b09",
   "metadata": {},
   "outputs": [
    {
     "data": {
      "text/plain": [
       "array([[1, 2, 3],\n",
       "       [4, 5, 6]])"
      ]
     },
     "execution_count": 76,
     "metadata": {},
     "output_type": "execute_result"
    }
   ],
   "source": [
    "arr12 = np.array([[1,2,3],[4,5,6]])\n",
    "arr12"
   ]
  },
  {
   "cell_type": "code",
   "execution_count": 77,
   "id": "d38325a2",
   "metadata": {},
   "outputs": [
    {
     "data": {
      "text/plain": [
       "(2, 3)"
      ]
     },
     "execution_count": 77,
     "metadata": {},
     "output_type": "execute_result"
    }
   ],
   "source": [
    "arr12.shape"
   ]
  },
  {
   "cell_type": "code",
   "execution_count": 78,
   "id": "7af8f702",
   "metadata": {},
   "outputs": [
    {
     "data": {
      "text/plain": [
       "2"
      ]
     },
     "execution_count": 78,
     "metadata": {},
     "output_type": "execute_result"
    }
   ],
   "source": [
    "arr12.ndim"
   ]
  },
  {
   "cell_type": "code",
   "execution_count": 79,
   "id": "59b06402",
   "metadata": {},
   "outputs": [
    {
     "data": {
      "text/plain": [
       "6"
      ]
     },
     "execution_count": 79,
     "metadata": {},
     "output_type": "execute_result"
    }
   ],
   "source": [
    "arr12.size"
   ]
  },
  {
   "cell_type": "markdown",
   "id": "098e8d03",
   "metadata": {},
   "source": [
    "<b>Can you reshape an array?</b>\n",
    "\n",
    "This section covers arr.reshape()\n",
    "\n",
    "Yes!\n",
    "\n",
    "Using arr.reshape() will give a new shape to an array without changing the data. Just remember that when you use the reshape method, the array you want to produce needs to have the same number of elements as the original array. If you start with an array with 12 elements, you’ll need to make sure that your new array also has a total of 12 elements."
   ]
  },
  {
   "cell_type": "code",
   "execution_count": 80,
   "id": "ae6982bf",
   "metadata": {},
   "outputs": [
    {
     "data": {
      "text/plain": [
       "array([0, 1, 2, 3, 4, 5])"
      ]
     },
     "execution_count": 80,
     "metadata": {},
     "output_type": "execute_result"
    }
   ],
   "source": [
    "a = np.arange(6)\n",
    "a"
   ]
  },
  {
   "cell_type": "code",
   "execution_count": 81,
   "id": "e7b75623",
   "metadata": {},
   "outputs": [
    {
     "data": {
      "text/plain": [
       "array([[0, 1],\n",
       "       [2, 3],\n",
       "       [4, 5]])"
      ]
     },
     "execution_count": 81,
     "metadata": {},
     "output_type": "execute_result"
    }
   ],
   "source": [
    "b = a.reshape(3,2)\n",
    "b"
   ]
  },
  {
   "cell_type": "markdown",
   "id": "3ac634df",
   "metadata": {},
   "source": [
    "With np.reshape, you can specify a few optional parameters:\n",
    "\n",
    "newshape is the new shape you want. You can specify an integer or a tuple of integers. If you specify an integer, the result will be an array of that length. The shape should be compatible with the original shape.\n",
    "\n",
    "order: C means to read/write the elements using C-like index order, F means to read/write the elements using Fortran-like index order, A means to read/write the elements in Fortran-like index order if a is Fortran contiguous in memory, C-like order otherwise. (This is an optional parameter and doesn’t need to be specified.)"
   ]
  },
  {
   "cell_type": "code",
   "execution_count": 82,
   "id": "91157f05",
   "metadata": {},
   "outputs": [
    {
     "data": {
      "text/plain": [
       "array([[0, 1, 2, 3, 4, 5]])"
      ]
     },
     "execution_count": 82,
     "metadata": {},
     "output_type": "execute_result"
    }
   ],
   "source": [
    "np.reshape(a,newshape=(1,6),order='C')"
   ]
  },
  {
   "cell_type": "markdown",
   "id": "84b5ebb4",
   "metadata": {},
   "source": [
    "How to convert a 1D array into a 2D array (how to add a new axis to an array)"
   ]
  },
  {
   "cell_type": "markdown",
   "id": "8a47f7fa",
   "metadata": {},
   "source": [
    "You can use np.newaxis and np.expand_dims to increase the dimensions of your existing array.\n",
    "\n",
    "Using np.newaxis will increase the dimensions of your array by one dimension when used once. This means that a 1D array will become a 2D array, a 2D array will become a 3D array, and so on.\n",
    "\n",
    "For example, if you start with this array:"
   ]
  },
  {
   "cell_type": "code",
   "execution_count": 83,
   "id": "82280691",
   "metadata": {},
   "outputs": [
    {
     "data": {
      "text/plain": [
       "array([1, 2, 3, 4, 5, 6])"
      ]
     },
     "execution_count": 83,
     "metadata": {},
     "output_type": "execute_result"
    }
   ],
   "source": [
    "z = np.array([1,2,3,4,5,6])\n",
    "z"
   ]
  },
  {
   "cell_type": "code",
   "execution_count": 84,
   "id": "9f672d56",
   "metadata": {},
   "outputs": [
    {
     "data": {
      "text/plain": [
       "(6,)"
      ]
     },
     "execution_count": 84,
     "metadata": {},
     "output_type": "execute_result"
    }
   ],
   "source": [
    "z.shape"
   ]
  },
  {
   "cell_type": "markdown",
   "id": "2d630e8d",
   "metadata": {},
   "source": [
    "You can use np.newaxis to add a new axis:"
   ]
  },
  {
   "cell_type": "code",
   "execution_count": 86,
   "id": "5219c9b3",
   "metadata": {},
   "outputs": [
    {
     "data": {
      "text/plain": [
       "array([[1, 2, 3, 4, 5, 6]])"
      ]
     },
     "execution_count": 86,
     "metadata": {},
     "output_type": "execute_result"
    }
   ],
   "source": [
    "z1 = z[np.newaxis,:]\n",
    "z1"
   ]
  },
  {
   "cell_type": "code",
   "execution_count": 87,
   "id": "b43cd46f",
   "metadata": {},
   "outputs": [
    {
     "data": {
      "text/plain": [
       "(1, 6)"
      ]
     },
     "execution_count": 87,
     "metadata": {},
     "output_type": "execute_result"
    }
   ],
   "source": [
    "z1.shape"
   ]
  },
  {
   "cell_type": "markdown",
   "id": "3223c30d",
   "metadata": {},
   "source": [
    "You can explicitly convert a 1D array to either a row vector or a column vector using np.newaxis. For example, you can convert a 1D array to a row vector by inserting an axis along the first dimension:"
   ]
  },
  {
   "cell_type": "code",
   "execution_count": 88,
   "id": "89551282",
   "metadata": {},
   "outputs": [
    {
     "data": {
      "text/plain": [
       "(1, 6)"
      ]
     },
     "execution_count": 88,
     "metadata": {},
     "output_type": "execute_result"
    }
   ],
   "source": [
    "row_vector = a[np.newaxis,:]\n",
    "row_vector.shape"
   ]
  },
  {
   "cell_type": "markdown",
   "id": "f30a9888",
   "metadata": {},
   "source": [
    "Or, for a column vector, you can insert an axis along the second dimension:"
   ]
  },
  {
   "cell_type": "code",
   "execution_count": 90,
   "id": "4a89f279",
   "metadata": {},
   "outputs": [
    {
     "data": {
      "text/plain": [
       "(6, 1)"
      ]
     },
     "execution_count": 90,
     "metadata": {},
     "output_type": "execute_result"
    }
   ],
   "source": [
    "col_vector = a[:,np.newaxis]\n",
    "col_vector.shape"
   ]
  },
  {
   "cell_type": "markdown",
   "id": "ca1d9c0f",
   "metadata": {},
   "source": [
    "You can also expand an array by inserting a new axis at a specified position with np.expand_dims.\n",
    "\n",
    "For example, if you start with this array:"
   ]
  },
  {
   "cell_type": "code",
   "execution_count": 91,
   "id": "27ad4d8f",
   "metadata": {},
   "outputs": [
    {
     "data": {
      "text/plain": [
       "(6,)"
      ]
     },
     "execution_count": 91,
     "metadata": {},
     "output_type": "execute_result"
    }
   ],
   "source": [
    "z2 = np.array([1,2,3,4,5,6])\n",
    "z2.shape"
   ]
  },
  {
   "cell_type": "markdown",
   "id": "40e3849a",
   "metadata": {},
   "source": [
    "You can use np.expand_dims to add an axis at index position 1 with:"
   ]
  },
  {
   "cell_type": "code",
   "execution_count": 97,
   "id": "fa81335b",
   "metadata": {},
   "outputs": [
    {
     "data": {
      "text/plain": [
       "(6, 1)"
      ]
     },
     "execution_count": 97,
     "metadata": {},
     "output_type": "execute_result"
    }
   ],
   "source": [
    "z3 = np.expand_dims(z2,axis=1)\n",
    "z3.shape"
   ]
  },
  {
   "cell_type": "code",
   "execution_count": 98,
   "id": "b4770a66",
   "metadata": {},
   "outputs": [
    {
     "data": {
      "text/plain": [
       "array([[1],\n",
       "       [2],\n",
       "       [3],\n",
       "       [4],\n",
       "       [5],\n",
       "       [6]])"
      ]
     },
     "execution_count": 98,
     "metadata": {},
     "output_type": "execute_result"
    }
   ],
   "source": [
    "z3"
   ]
  },
  {
   "cell_type": "markdown",
   "id": "6cab3c4a",
   "metadata": {},
   "source": [
    "You can add an axis at index position 0 with:"
   ]
  },
  {
   "cell_type": "code",
   "execution_count": 100,
   "id": "ab34f993",
   "metadata": {},
   "outputs": [
    {
     "data": {
      "text/plain": [
       "array([[0, 1, 2, 3, 4, 5]])"
      ]
     },
     "execution_count": 100,
     "metadata": {},
     "output_type": "execute_result"
    }
   ],
   "source": [
    "z4 = np.expand_dims(a,axis=0)\n",
    "z4"
   ]
  },
  {
   "cell_type": "markdown",
   "id": "ab965950",
   "metadata": {},
   "source": [
    "Indexing and slicing\n",
    "\n",
    "You can index and slice NumPy arrays in the same ways you can slice Python lists."
   ]
  },
  {
   "cell_type": "code",
   "execution_count": null,
   "id": "9b4fb233",
   "metadata": {},
   "outputs": [],
   "source": []
  }
 ],
 "metadata": {
  "kernelspec": {
   "display_name": "Python 3 (ipykernel)",
   "language": "python",
   "name": "python3"
  },
  "language_info": {
   "codemirror_mode": {
    "name": "ipython",
    "version": 3
   },
   "file_extension": ".py",
   "mimetype": "text/x-python",
   "name": "python",
   "nbconvert_exporter": "python",
   "pygments_lexer": "ipython3",
   "version": "3.11.1"
  }
 },
 "nbformat": 4,
 "nbformat_minor": 5
}
