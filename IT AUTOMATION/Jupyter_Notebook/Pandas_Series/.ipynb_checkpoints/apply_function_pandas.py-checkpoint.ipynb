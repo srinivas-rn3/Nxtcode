{
 "cells": [
  {
   "cell_type": "markdown",
   "id": "d73daf28",
   "metadata": {},
   "source": [
    "***Apply function to every row in a Pandas DataFrame***\n"
   ]
  },
  {
   "cell_type": "markdown",
   "id": "cda23e98",
   "metadata": {},
   "source": [
    "One can use apply() function in order to apply function to every row in given dataframe. Let’s see the ways we can do this task."
   ]
  },
  {
   "cell_type": "markdown",
   "id": "7148cda1",
   "metadata": {},
   "source": [
    "(https://www.geeksforgeeks.org/apply-function-to-every-row-in-a-pandas-dataframe/)"
   ]
  },
  {
   "cell_type": "code",
   "execution_count": 1,
   "id": "2ded3269",
   "metadata": {},
   "outputs": [],
   "source": [
    "import pandas as pd\n",
    "import numpy as np"
   ]
  },
  {
   "cell_type": "code",
   "execution_count": 2,
   "id": "bdfb342f",
   "metadata": {},
   "outputs": [
    {
     "name": "stdout",
     "output_type": "stream",
     "text": [
      "1.26.0\n",
      "2.1.1\n"
     ]
    }
   ],
   "source": [
    "print(np.__version__)\n",
    "print(pd.__version__)"
   ]
  },
  {
   "cell_type": "code",
   "execution_count": 3,
   "id": "9d48f6be",
   "metadata": {},
   "outputs": [
    {
     "name": "stdout",
     "output_type": "stream",
     "text": [
      "Original Dataframe is:\n",
      "    A  B  C\n",
      "0  1  4  7\n",
      "1  2  5  8\n",
      "2  3  6  9\n",
      "\n",
      "After applying Function: \n",
      "   A  B  C  add\n",
      "0  1  4  7   12\n",
      "1  2  5  8   15\n",
      "2  3  6  9   18\n"
     ]
    }
   ],
   "source": [
    "def add(a,b,c):\n",
    "    return a + b + c\n",
    "def main():\n",
    "    data = {'A':[1, 2, 3], \n",
    "            'B':[4, 5, 6], \n",
    "            'C':[7, 8, 9] }\n",
    "    df = pd.DataFrame(data)\n",
    "    print(\"Original Dataframe is:\\n\",df)\n",
    "    df['add'] = df.apply(lambda row :add(row['A'],row['B'],row['C']),axis=1)\n",
    "    print(\"\\nAfter applying Function: \")\n",
    "    print(df)\n",
    "if __name__ == '__main__':\n",
    "    main()"
   ]
  },
  {
   "cell_type": "code",
   "execution_count": 7,
   "id": "ed5c9924",
   "metadata": {},
   "outputs": [
    {
     "name": "stdout",
     "output_type": "stream",
     "text": [
      "Orginal Dataframe\n",
      "    A  B  C\n",
      "0  1  4  7\n",
      "1  2  5  8\n",
      "2  3  6  9\n",
      "After Applying function\n",
      "\n",
      "   A  B  C  add\n",
      "0  1  4  7   12\n",
      "1  2  5  8   15\n",
      "2  3  6  9   18\n"
     ]
    }
   ],
   "source": [
    "data = {\n",
    "    'A':[1,2,3],\n",
    "    'B':[4,5,6],\n",
    "    'C':[7,8,9]\n",
    "}\n",
    "df = pd.DataFrame(data)\n",
    "print(\"Orginal Dataframe\\n\",df)\n",
    "df['add'] = df.apply(np.sum,axis = 1)\n",
    "print(\"After Applying function\\n\")\n",
    "print(df)"
   ]
  },
  {
   "cell_type": "code",
   "execution_count": 6,
   "id": "0cd812fa",
   "metadata": {},
   "outputs": [],
   "source": [
    "def norm(x,y):\n",
    "    x_new = ((x - np.mean([x, y])) / (max(x, y) - min(x, y)))\n",
    "    return x_new"
   ]
  },
  {
   "cell_type": "code",
   "execution_count": 8,
   "id": "b7281ac8",
   "metadata": {},
   "outputs": [],
   "source": [
    "def main():\n",
    "    data = {'X':[1,2,3],\n",
    "           'Y':[45,65,89]}\n",
    "    df = pd.DataFrame(data)\n",
    "    print(\"Original Data is:\\n\",df)\n",
    "    df['X'] = df.apply(lambda row : norm(row['X'],row['Y']),axis=1)\n",
    "    print(\"Normalized:\\n\")\n",
    "    print(df)"
   ]
  },
  {
   "cell_type": "code",
   "execution_count": 9,
   "id": "c1003745",
   "metadata": {},
   "outputs": [
    {
     "name": "stdout",
     "output_type": "stream",
     "text": [
      "Original Data is:\n",
      "    X   Y\n",
      "0  1  45\n",
      "1  2  65\n",
      "2  3  89\n",
      "Normalized:\n",
      "\n",
      "     X   Y\n",
      "0 -0.5  45\n",
      "1 -0.5  65\n",
      "2 -0.5  89\n"
     ]
    }
   ],
   "source": [
    "if __name__ == '__main__':\n",
    "    main()"
   ]
  },
  {
   "cell_type": "markdown",
   "id": "1c439640",
   "metadata": {},
   "source": [
    "Look for this \n",
    "https://saturncloud.io/blog/how-to-normalize-data-in-pandas-a-guide/"
   ]
  },
  {
   "cell_type": "code",
   "execution_count": 4,
   "id": "fc4ea2ba",
   "metadata": {},
   "outputs": [],
   "source": [
    "pd.options.mode.chained_assignment = None\n",
    "#This turns warnings into exceptions. For more details see warnings package documentation\n",
    "#Hence my warnings were treated as exceptions, although the pandas option was set to \"warn"
   ]
  },
  {
   "cell_type": "code",
   "execution_count": 6,
   "id": "da16c199",
   "metadata": {},
   "outputs": [],
   "source": [
    "def gen_range(n):\n",
    "    n = int(n)\n",
    "    lower_limit = n//10 * 10\n",
    "    upper_limit = lower_limit + 10\n",
    "    return str(str(lower_limit)) + '-' + str(upper_limit)\n",
    "    "
   ]
  },
  {
   "cell_type": "code",
   "execution_count": 7,
   "id": "25f98bfe",
   "metadata": {},
   "outputs": [],
   "source": [
    "def replace(row):\n",
    "    for i ,item in enumerate(row):\n",
    "        row[i] = gen_range(item)\n",
    "    return row"
   ]
  },
  {
   "cell_type": "code",
   "execution_count": 15,
   "id": "65c88694",
   "metadata": {},
   "outputs": [
    {
     "name": "stdout",
     "output_type": "stream",
     "text": [
      "Print before applying function\n",
      "   A   B   C\n",
      "0  0   4  47\n",
      "1  2  15   8\n",
      "2  3   6  19\n",
      "After the applying function\n",
      "      A      B      C\n",
      "0  0-10   0-10  40-50\n",
      "1  0-10  10-20   0-10\n",
      "2  0-10   0-10  10-20\n"
     ]
    },
    {
     "name": "stderr",
     "output_type": "stream",
     "text": [
      "C:\\Users\\srini\\AppData\\Local\\Temp\\ipykernel_21568\\1734972519.py:3: FutureWarning: Setting an item of incompatible dtype is deprecated and will raise in a future error of pandas. Value '0-10' has dtype incompatible with int64, please explicitly cast to a compatible dtype first.\n",
      "  row[i] = gen_range(item)\n",
      "C:\\Users\\srini\\AppData\\Local\\Temp\\ipykernel_21568\\1734972519.py:3: FutureWarning: Setting an item of incompatible dtype is deprecated and will raise in a future error of pandas. Value '0-10' has dtype incompatible with int64, please explicitly cast to a compatible dtype first.\n",
      "  row[i] = gen_range(item)\n",
      "C:\\Users\\srini\\AppData\\Local\\Temp\\ipykernel_21568\\1734972519.py:3: FutureWarning: Setting an item of incompatible dtype is deprecated and will raise in a future error of pandas. Value '40-50' has dtype incompatible with int64, please explicitly cast to a compatible dtype first.\n",
      "  row[i] = gen_range(item)\n"
     ]
    }
   ],
   "source": [
    "def main():\n",
    "    data = {\n",
    "            'A':[0, 2, 3], \n",
    "            'B':[4, 15, 6], \n",
    "            'C':[47, 8, 19] }\n",
    "    df = pd.DataFrame(data)\n",
    "    print(\"Print before applying function\")\n",
    "    print(df)\n",
    "    df = df.apply(lambda row :replace(row))\n",
    "    print(\"After the applying function\")\n",
    "    print(df)\n",
    "if __name__ == '__main__':\n",
    "    main()\n"
   ]
  },
  {
   "cell_type": "markdown",
   "id": "662b99df",
   "metadata": {},
   "source": [
    "***Enumerate() in Python***"
   ]
  },
  {
   "cell_type": "markdown",
   "id": "f86972eb",
   "metadata": {},
   "source": [
    "when dealing with iterators, we also need to keep a count of iterations. Python eases the programmers’ task by providing a built-in function enumerate() for this task. The enumerate () method adds a counter to an iterable and returns it in the form of an enumerating object. This enumerated object can then be used directly for loops or converted into a list of tuples using the list() function.\n",
    "\n",
    "Syntax: enumerate(iterable, start=0)\n",
    "\n",
    "Parameters:\n",
    "\n",
    "Iterable: any object that supports iteration\n",
    "\n",
    "Start: the index value from which the counter is to be started, by default it is 0\n",
    "\n",
    "Return: Returns an iterator with index and element pairs from the original iterable"
   ]
  },
  {
   "cell_type": "code",
   "execution_count": 17,
   "id": "078a19f3",
   "metadata": {},
   "outputs": [
    {
     "name": "stdout",
     "output_type": "stream",
     "text": [
      "Object 1 enumerate  is:\n",
      "[(0, 'eat'), (1, 'sleep'), (2, 'repeat')]\n",
      "Object 2 enumerate is:\n",
      "[(0, 'k'), (1, 'i'), (2, 't'), (3, 't'), (4, 'e'), (5, 'n')]\n"
     ]
    }
   ],
   "source": [
    "l1 = [\"eat\", \"sleep\", \"repeat\"]\n",
    "s1 = \"kitten\"\n",
    "obj1 = enumerate(l1)\n",
    "obj2 = enumerate(s1)\n",
    "print(\"Object 1 enumerate  is:\")\n",
    "print(list(obj1))\n",
    "print(\"Object 2 enumerate is:\")\n",
    "print(list(obj2))"
   ]
  },
  {
   "cell_type": "markdown",
   "id": "038c4652",
   "metadata": {},
   "source": [
    "Using Enumerate Object in Loops\n",
    "Enumerate() is used with a list called l1. It first prints tuples of index and element pairs. Then it changes the starting index while printing them together. Finally, it prints the index and element separately, each on its own line."
   ]
  },
  {
   "cell_type": "code",
   "execution_count": 22,
   "id": "fdbd0bce",
   "metadata": {},
   "outputs": [
    {
     "name": "stdout",
     "output_type": "stream",
     "text": [
      "(0, 'eat')\n",
      "(1, 'sleep')\n",
      "(2, 'repeat')\n",
      "\n",
      "\n",
      "100 eat\n",
      "101 sleep\n",
      "102 repeat\n",
      "\n",
      "\n",
      "0\n",
      "eat\n",
      "1\n",
      "sleep\n",
      "2\n",
      "repeat\n"
     ]
    }
   ],
   "source": [
    "# printing the tuples in object directly\n",
    "for ele in enumerate(l1):\n",
    "    print(ele)\n",
    "print('\\n')\n",
    "# changing index and printing separately\n",
    "for count,ele in enumerate(l1,100):\n",
    "    print(count,ele)\n",
    "print('\\n')\n",
    "# getting desired output from tuple\n",
    "for count,ele in enumerate(l1):\n",
    "    print(count)\n",
    "    print(ele)"
   ]
  },
  {
   "cell_type": "markdown",
   "id": "83c91ce1",
   "metadata": {},
   "source": [
    "Learing enumerate \n",
    "(https://www.geeksforgeeks.org/enumerate-in-python/)"
   ]
  },
  {
   "cell_type": "code",
   "execution_count": 4,
   "id": "2eb0f320",
   "metadata": {},
   "outputs": [
    {
     "name": "stdout",
     "output_type": "stream",
     "text": [
      "Next Element:(0, 'apple')\n",
      "Next Element:(1, 'banana')\n",
      "Next Element:(0, 'apple')\n"
     ]
    }
   ],
   "source": [
    "fruits = ['apple','banana','grape','mango']\n",
    "enum_frits = enumerate(fruits)\n",
    "next_fruit = next(enum_frits)\n",
    "next_fruit1 = next(enum_frits)\n",
    "print(f\"Next Element:{next_fruit}\")\n",
    "print(f\"Next Element:{next_fruit1}\")\n",
    "print(f\"Next Element:{next_fruit}\")"
   ]
  },
  {
   "cell_type": "markdown",
   "id": "7d7f214a",
   "metadata": {},
   "source": [
    "***eval in Python***"
   ]
  },
  {
   "cell_type": "markdown",
   "id": "8d8b50e8",
   "metadata": {},
   "source": [
    "Python eval() function parse the expression argument and evaluate it as a Python expression and runs Python expression (code) within the program."
   ]
  },
  {
   "cell_type": "markdown",
   "id": "222fb36a",
   "metadata": {},
   "source": [
    "->You may want to use it to allow users to enter their own “scriptlets”: small expressions (or even small functions), that can be used to customize the behavior of a complex system.\n",
    "\n",
    "->eval() is also sometimes used in applications needing to evaluate math expressions. This is much easier than writing an expression parser."
   ]
  },
  {
   "cell_type": "code",
   "execution_count": 6,
   "id": "4195d2fb",
   "metadata": {},
   "outputs": [
    {
     "name": "stdout",
     "output_type": "stream",
     "text": [
      "3\n"
     ]
    }
   ],
   "source": [
    "print(eval('1+2'))"
   ]
  },
  {
   "cell_type": "markdown",
   "id": "f4669ba2",
   "metadata": {},
   "source": [
    "Syntax: eval(expression, globals=None, locals=None)\n",
    "\n",
    "Parameters:\n",
    "\n",
    "expression: String is parsed and evaluated as a Python expression\n",
    "\n",
    "globals [optional]: Dictionary to specify the available global methods and variables.\n",
    "\n",
    "locals [optional]: Another dictionary to specify the available local methods and variables.\n",
    "Return: Returns output of the expression."
   ]
  },
  {
   "cell_type": "code",
   "execution_count": 8,
   "id": "c5c54691",
   "metadata": {},
   "outputs": [
    {
     "name": "stdout",
     "output_type": "stream",
     "text": [
      "6\n"
     ]
    }
   ],
   "source": [
    "print(eval(\"sum([1+2+3])\"))"
   ]
  },
  {
   "cell_type": "code",
   "execution_count": 16,
   "id": "d393eb4a",
   "metadata": {},
   "outputs": [
    {
     "name": "stdout",
     "output_type": "stream",
     "text": [
      "Enter the function(in terms of x):x*x\n",
      "Enter the vlaue of x: 3\n",
      "<class 'int'>\n",
      "y =  9\n"
     ]
    }
   ],
   "source": [
    "def function_create():\n",
    "    expr = input(\"Enter the function(in terms of x):\")\n",
    "    x = int(input(\"Enter the vlaue of x: \"))\n",
    "    y = eval(expr)\n",
    "    print(\"y = \",y)\n",
    "if __name__ == '__main__':\n",
    "    function_create()"
   ]
  },
  {
   "cell_type": "markdown",
   "id": "fabbe321",
   "metadata": {},
   "source": [
    "(https://www.geeksforgeeks.org/eval-in-python/)"
   ]
  },
  {
   "cell_type": "code",
   "execution_count": 18,
   "id": "d3b833ee",
   "metadata": {},
   "outputs": [
    {
     "name": "stdout",
     "output_type": "stream",
     "text": [
      "6\n",
      "<class 'int'>\n"
     ]
    }
   ],
   "source": [
    "x = [1,2,3]\n",
    "y = eval('sum(x)')\n",
    "print(y)\n",
    "print(type(y))"
   ]
  },
  {
   "cell_type": "code",
   "execution_count": 4,
   "id": "0e68d71c",
   "metadata": {},
   "outputs": [
    {
     "name": "stdout",
     "output_type": "stream",
     "text": [
      "x*(x+1)*(x+2)\n",
      "1320\n"
     ]
    }
   ],
   "source": [
    "exp = 'x*(x+1)*(x+2)'\n",
    "print(exp)\n",
    "x = 10\n",
    "result = eval(exp)\n",
    "print(result)"
   ]
  },
  {
   "cell_type": "code",
   "execution_count": 5,
   "id": "7c23ce66",
   "metadata": {},
   "outputs": [
    {
     "name": "stdout",
     "output_type": "stream",
     "text": [
      "False\n",
      "True\n"
     ]
    }
   ],
   "source": [
    "x == 5\n",
    "print(eval('x==4'))\n",
    "x = None\n",
    "print(eval('x is None'))\n"
   ]
  },
  {
   "cell_type": "code",
   "execution_count": null,
   "id": "15e98215",
   "metadata": {},
   "outputs": [],
   "source": [
    "chars = ('a','b','c')\n",
    "print(\"'d' in chars tuple?\",eval(\"'d' in chars\"))\n",
    "num = 100\n",
    "print(num,\"> 50?\",eval('num > 50'))\n",
    "\n",
    "#checking if number is even\n",
    "num = 20 \n",
    "print(num,\"is even?\",eval('num % 2 == 0'))\n",
    "\n"
   ]
  },
  {
   "cell_type": "code",
   "execution_count": 2,
   "id": "4e1dac80",
   "metadata": {},
   "outputs": [
    {
     "name": "stdout",
     "output_type": "stream",
     "text": [
      "Enter the function(in terms of x): secret_function()\n",
      "Enter the value of x:10\n",
      "result Secret key is 1234\n"
     ]
    }
   ],
   "source": [
    "def secret_function():\n",
    "    return \"Secret key is 1234\"\n",
    "def solve_exp():\n",
    "    exp = input(\"Enter the function(in terms of x):\")\n",
    "    x = input(\"Enter the value of x:\")\n",
    "    print(\"result\",eval(exp))\n",
    "solve_exp()"
   ]
  },
  {
   "cell_type": "markdown",
   "id": "823f11db",
   "metadata": {},
   "source": [
    "(https://www.geeksforgeeks.org/eval-in-python/)"
   ]
  },
  {
   "cell_type": "code",
   "execution_count": 2,
   "id": "f77a86a4",
   "metadata": {},
   "outputs": [
    {
     "name": "stdout",
     "output_type": "stream",
     "text": [
      "Enter the function(in terms of x):secrt_fun()\n",
      "Enter the vlaue of x:0\n"
     ]
    },
    {
     "ename": "NameError",
     "evalue": "name 'secrt_fun' is not defined",
     "output_type": "error",
     "traceback": [
      "\u001b[1;31m---------------------------------------------------------------------------\u001b[0m",
      "\u001b[1;31mNameError\u001b[0m                                 Traceback (most recent call last)",
      "Cell \u001b[1;32mIn[2], line 20\u001b[0m\n\u001b[0;32m     18\u001b[0m     \u001b[38;5;28;01mfor\u001b[39;00m safe_key \u001b[38;5;129;01min\u001b[39;00m safe_list:\n\u001b[0;32m     19\u001b[0m         safe_dict[safe_key] \u001b[38;5;241m=\u001b[39m \u001b[38;5;28mlocals\u001b[39m()\u001b[38;5;241m.\u001b[39mget(safe_key)\n\u001b[1;32m---> 20\u001b[0m \u001b[43mfunction_creator\u001b[49m\u001b[43m(\u001b[49m\u001b[43m)\u001b[49m\n",
      "Cell \u001b[1;32mIn[2], line 8\u001b[0m, in \u001b[0;36mfunction_creator\u001b[1;34m()\u001b[0m\n\u001b[0;32m      6\u001b[0m x \u001b[38;5;241m=\u001b[39m \u001b[38;5;28mint\u001b[39m(\u001b[38;5;28minput\u001b[39m(\u001b[38;5;124m\"\u001b[39m\u001b[38;5;124mEnter the vlaue of x:\u001b[39m\u001b[38;5;124m\"\u001b[39m))\n\u001b[0;32m      7\u001b[0m safe_dict [\u001b[38;5;124m'\u001b[39m\u001b[38;5;124mx\u001b[39m\u001b[38;5;124m'\u001b[39m]\u001b[38;5;241m=\u001b[39m x\n\u001b[1;32m----> 8\u001b[0m y \u001b[38;5;241m=\u001b[39m \u001b[38;5;28;43meval\u001b[39;49m\u001b[43m(\u001b[49m\u001b[43mexpr\u001b[49m\u001b[43m,\u001b[49m\u001b[43m{\u001b[49m\u001b[43m}\u001b[49m\u001b[43m,\u001b[49m\u001b[43msafe_dict\u001b[49m\u001b[43m)\u001b[49m\n\u001b[0;32m      9\u001b[0m \u001b[38;5;28mprint\u001b[39m(\u001b[38;5;124m'\u001b[39m\u001b[38;5;124my=\u001b[39m\u001b[38;5;132;01m{}\u001b[39;00m\u001b[38;5;124m'\u001b[39m\u001b[38;5;241m.\u001b[39mformat(y))\n",
      "File \u001b[1;32m<string>:1\u001b[0m\n",
      "\u001b[1;31mNameError\u001b[0m: name 'secrt_fun' is not defined"
     ]
    }
   ],
   "source": [
    "from math import *\n",
    "def secrt_fun():\n",
    "    return \"secrete key is 1234\"\n",
    "def function_creator():\n",
    "    expr = input(\"Enter the function(in terms of x):\")\n",
    "    x = int(input(\"Enter the vlaue of x:\"))\n",
    "    safe_dict ['x']= x\n",
    "    y = eval(expr,{},safe_dict)\n",
    "    print('y={}'.format(y))\n",
    "\n",
    "if __name__ =='__main__':\n",
    "    safe_list = ['acos', 'asin', 'atan', 'atan2', 'ceil', 'cos',\n",
    "                 'cosh', 'degrees', 'e', 'exp', 'fabs', 'floor',\n",
    "                 'fmod', 'frexp', 'hypot', 'ldexp', 'log', 'log10',\n",
    "                 'modf', 'pi', 'pow', 'radians', 'sin', 'sinh', 'sqrt',\n",
    "                 'tan', 'tanh']\n",
    "    safe_dict = {}\n",
    "    for safe_key in safe_list:\n",
    "        safe_dict[safe_key] = locals().get(safe_key)\n",
    "function_creator()"
   ]
  },
  {
   "cell_type": "code",
   "execution_count": 2,
   "id": "1bbf4985",
   "metadata": {},
   "outputs": [
    {
     "data": {
      "text/html": [
       "<div>\n",
       "<style scoped>\n",
       "    .dataframe tbody tr th:only-of-type {\n",
       "        vertical-align: middle;\n",
       "    }\n",
       "\n",
       "    .dataframe tbody tr th {\n",
       "        vertical-align: top;\n",
       "    }\n",
       "\n",
       "    .dataframe thead th {\n",
       "        text-align: right;\n",
       "    }\n",
       "</style>\n",
       "<table border=\"1\" class=\"dataframe\">\n",
       "  <thead>\n",
       "    <tr style=\"text-align: right;\">\n",
       "      <th></th>\n",
       "      <th>A</th>\n",
       "      <th>B</th>\n",
       "    </tr>\n",
       "  </thead>\n",
       "  <tbody>\n",
       "    <tr>\n",
       "      <th>0</th>\n",
       "      <td>1</td>\n",
       "      <td>10</td>\n",
       "    </tr>\n",
       "    <tr>\n",
       "      <th>1</th>\n",
       "      <td>2</td>\n",
       "      <td>20</td>\n",
       "    </tr>\n",
       "  </tbody>\n",
       "</table>\n",
       "</div>"
      ],
      "text/plain": [
       "   A   B\n",
       "0  1  10\n",
       "1  2  20"
      ]
     },
     "execution_count": 2,
     "metadata": {},
     "output_type": "execute_result"
    }
   ],
   "source": [
    "df5 = pd.DataFrame({'A': [1, 2], 'B': [10, 20]})\n",
    "df5"
   ]
  },
  {
   "cell_type": "code",
   "execution_count": 3,
   "id": "97aa8277",
   "metadata": {},
   "outputs": [
    {
     "data": {
      "text/html": [
       "<div>\n",
       "<style scoped>\n",
       "    .dataframe tbody tr th:only-of-type {\n",
       "        vertical-align: middle;\n",
       "    }\n",
       "\n",
       "    .dataframe tbody tr th {\n",
       "        vertical-align: top;\n",
       "    }\n",
       "\n",
       "    .dataframe thead th {\n",
       "        text-align: right;\n",
       "    }\n",
       "</style>\n",
       "<table border=\"1\" class=\"dataframe\">\n",
       "  <thead>\n",
       "    <tr style=\"text-align: right;\">\n",
       "      <th></th>\n",
       "      <th>A</th>\n",
       "      <th>B</th>\n",
       "    </tr>\n",
       "  </thead>\n",
       "  <tbody>\n",
       "    <tr>\n",
       "      <th>0</th>\n",
       "      <td>1</td>\n",
       "      <td>100</td>\n",
       "    </tr>\n",
       "    <tr>\n",
       "      <th>1</th>\n",
       "      <td>4</td>\n",
       "      <td>400</td>\n",
       "    </tr>\n",
       "  </tbody>\n",
       "</table>\n",
       "</div>"
      ],
      "text/plain": [
       "   A    B\n",
       "0  1  100\n",
       "1  4  400"
      ]
     },
     "execution_count": 3,
     "metadata": {},
     "output_type": "execute_result"
    }
   ],
   "source": [
    "#apply() with lambda\n",
    "df_a = df5.apply(lambda x :x*x)\n",
    "df_a"
   ]
  },
  {
   "cell_type": "code",
   "execution_count": 4,
   "id": "1730bd87",
   "metadata": {},
   "outputs": [
    {
     "data": {
      "text/plain": [
       "A     3\n",
       "B    30\n",
       "dtype: int64"
      ]
     },
     "execution_count": 4,
     "metadata": {},
     "output_type": "execute_result"
    }
   ],
   "source": [
    "df_a1 = df5.apply(np.sum,axis=0) #column\n",
    "df_a1"
   ]
  },
  {
   "cell_type": "code",
   "execution_count": 5,
   "id": "e145df75",
   "metadata": {},
   "outputs": [
    {
     "data": {
      "text/plain": [
       "0    11\n",
       "1    22\n",
       "dtype: int64"
      ]
     },
     "execution_count": 5,
     "metadata": {},
     "output_type": "execute_result"
    }
   ],
   "source": [
    "df_a2 = df5.apply(np.sum,axis=1)#rows\n",
    "df_a2"
   ]
  },
  {
   "cell_type": "code",
   "execution_count": 6,
   "id": "6ec4cb8e",
   "metadata": {},
   "outputs": [
    {
     "data": {
      "text/html": [
       "<div>\n",
       "<style scoped>\n",
       "    .dataframe tbody tr th:only-of-type {\n",
       "        vertical-align: middle;\n",
       "    }\n",
       "\n",
       "    .dataframe tbody tr th {\n",
       "        vertical-align: top;\n",
       "    }\n",
       "\n",
       "    .dataframe thead th {\n",
       "        text-align: right;\n",
       "    }\n",
       "</style>\n",
       "<table border=\"1\" class=\"dataframe\">\n",
       "  <thead>\n",
       "    <tr style=\"text-align: right;\">\n",
       "      <th></th>\n",
       "      <th>A</th>\n",
       "      <th>B</th>\n",
       "    </tr>\n",
       "  </thead>\n",
       "  <tbody>\n",
       "    <tr>\n",
       "      <th>0</th>\n",
       "      <td>4</td>\n",
       "      <td>13</td>\n",
       "    </tr>\n",
       "    <tr>\n",
       "      <th>1</th>\n",
       "      <td>5</td>\n",
       "      <td>23</td>\n",
       "    </tr>\n",
       "  </tbody>\n",
       "</table>\n",
       "</div>"
      ],
      "text/plain": [
       "   A   B\n",
       "0  4  13\n",
       "1  5  23"
      ]
     },
     "execution_count": 6,
     "metadata": {},
     "output_type": "execute_result"
    }
   ],
   "source": [
    "#DataFrame apply() with arguments\n",
    "def sum1(x,y,z):\n",
    "    return x+y+z\n",
    "df_a3 = df5.apply(sum1,args=(1,2))\n",
    "'''\n",
    "sum\n",
    "exp.\n",
    "col = A\n",
    "x = 1 \n",
    "y = 2\n",
    "z = 1\n",
    "total = 4\n",
    "col = B\n",
    "x = 1 \n",
    "y = 2\n",
    "z = 10\n",
    "total = 13\n",
    "col = A\n",
    "x = 1 \n",
    "y = 2\n",
    "z = 2\n",
    "total = 5\n",
    "col = B\n",
    "x = 1 \n",
    "y = 2\n",
    "z = 20\n",
    "total= 23\n",
    "'''\n",
    "df_a3"
   ]
  },
  {
   "cell_type": "code",
   "execution_count": 10,
   "id": "ced4af52",
   "metadata": {},
   "outputs": [
    {
     "data": {
      "text/html": [
       "<div>\n",
       "<style scoped>\n",
       "    .dataframe tbody tr th:only-of-type {\n",
       "        vertical-align: middle;\n",
       "    }\n",
       "\n",
       "    .dataframe tbody tr th {\n",
       "        vertical-align: top;\n",
       "    }\n",
       "\n",
       "    .dataframe thead th {\n",
       "        text-align: right;\n",
       "    }\n",
       "</style>\n",
       "<table border=\"1\" class=\"dataframe\">\n",
       "  <thead>\n",
       "    <tr style=\"text-align: right;\">\n",
       "      <th></th>\n",
       "      <th>A</th>\n",
       "      <th>B</th>\n",
       "    </tr>\n",
       "  </thead>\n",
       "  <tbody>\n",
       "    <tr>\n",
       "      <th>0</th>\n",
       "      <td>1</td>\n",
       "      <td>10</td>\n",
       "    </tr>\n",
       "    <tr>\n",
       "      <th>1</th>\n",
       "      <td>2</td>\n",
       "      <td>20</td>\n",
       "    </tr>\n",
       "  </tbody>\n",
       "</table>\n",
       "</div>"
      ],
      "text/plain": [
       "   A   B\n",
       "0  1  10\n",
       "1  2  20"
      ]
     },
     "execution_count": 10,
     "metadata": {},
     "output_type": "execute_result"
    }
   ],
   "source": [
    "df5"
   ]
  },
  {
   "cell_type": "code",
   "execution_count": 7,
   "id": "cca79573",
   "metadata": {},
   "outputs": [
    {
     "data": {
      "text/plain": [
       "'\\nsum * m\\nexp.\\ncol = A\\nx = 1 \\ny = 2\\nz = 1\\nm = 10\\ntotal = 40\\ncol = B\\nx = 1 \\ny = 2\\nz = 10\\nm = 10\\ntotal = 130\\ncol = A\\nx = 1 \\ny = 2\\nz = 2\\nm = 10\\ntotal = 50\\ncol = B\\nx = 1 \\ny = 2\\nz = 20\\nm = 10\\ntotal= 230\\n'"
      ]
     },
     "execution_count": 7,
     "metadata": {},
     "output_type": "execute_result"
    }
   ],
   "source": [
    "# DataFrame apply() with positional and keyword arguments\n",
    "def sum2(x,y,z,m):\n",
    "    return (x+y+z) * m \n",
    "df_a6 =  df5.apply(sum2,args=(1,2),m=10)\n",
    "df_a6\n",
    "'''\n",
    "sum * m\n",
    "exp.\n",
    "col = A\n",
    "x = 1 \n",
    "y = 2\n",
    "z = 1\n",
    "m = 10\n",
    "total = 40\n",
    "col = B\n",
    "x = 1 \n",
    "y = 2\n",
    "z = 10\n",
    "m = 10\n",
    "total = 130\n",
    "col = A\n",
    "x = 1 \n",
    "y = 2\n",
    "z = 2\n",
    "m = 10\n",
    "total = 50\n",
    "col = B\n",
    "x = 1 \n",
    "y = 2\n",
    "z = 20\n",
    "m = 10\n",
    "total= 230\n",
    "'''"
   ]
  },
  {
   "cell_type": "markdown",
   "id": "2da46feb",
   "metadata": {},
   "source": [
    "(https://www.digitalocean.com/community/tutorials/pandas-dataframe-apply-examples#2-apply-with-lambda)"
   ]
  },
  {
   "cell_type": "code",
   "execution_count": 8,
   "id": "aa688c31",
   "metadata": {},
   "outputs": [
    {
     "name": "stderr",
     "output_type": "stream",
     "text": [
      "C:\\Users\\srini\\AppData\\Local\\Temp\\ipykernel_12208\\2735901652.py:3: FutureWarning: DataFrame.applymap has been deprecated. Use DataFrame.map instead.\n",
      "  df_m = df5.applymap(math.sqrt)\n"
     ]
    },
    {
     "data": {
      "text/html": [
       "<div>\n",
       "<style scoped>\n",
       "    .dataframe tbody tr th:only-of-type {\n",
       "        vertical-align: middle;\n",
       "    }\n",
       "\n",
       "    .dataframe tbody tr th {\n",
       "        vertical-align: top;\n",
       "    }\n",
       "\n",
       "    .dataframe thead th {\n",
       "        text-align: right;\n",
       "    }\n",
       "</style>\n",
       "<table border=\"1\" class=\"dataframe\">\n",
       "  <thead>\n",
       "    <tr style=\"text-align: right;\">\n",
       "      <th></th>\n",
       "      <th>A</th>\n",
       "      <th>B</th>\n",
       "    </tr>\n",
       "  </thead>\n",
       "  <tbody>\n",
       "    <tr>\n",
       "      <th>0</th>\n",
       "      <td>1.000000</td>\n",
       "      <td>3.162278</td>\n",
       "    </tr>\n",
       "    <tr>\n",
       "      <th>1</th>\n",
       "      <td>1.414214</td>\n",
       "      <td>4.472136</td>\n",
       "    </tr>\n",
       "  </tbody>\n",
       "</table>\n",
       "</div>"
      ],
      "text/plain": [
       "          A         B\n",
       "0  1.000000  3.162278\n",
       "1  1.414214  4.472136"
      ]
     },
     "execution_count": 8,
     "metadata": {},
     "output_type": "execute_result"
    }
   ],
   "source": [
    "# DataFrame applymap() function\n",
    "import math\n",
    "df_m = df5.applymap(math.sqrt)\n",
    "df_m"
   ]
  },
  {
   "cell_type": "code",
   "execution_count": 9,
   "id": "a2f3ede4",
   "metadata": {},
   "outputs": [
    {
     "name": "stderr",
     "output_type": "stream",
     "text": [
      "C:\\Users\\srini\\AppData\\Local\\Temp\\ipykernel_12208\\3460558374.py:2: FutureWarning: DataFrame.applymap has been deprecated. Use DataFrame.map instead.\n",
      "  df_m = df6.applymap(str.upper)\n"
     ]
    },
    {
     "data": {
      "text/html": [
       "<div>\n",
       "<style scoped>\n",
       "    .dataframe tbody tr th:only-of-type {\n",
       "        vertical-align: middle;\n",
       "    }\n",
       "\n",
       "    .dataframe tbody tr th {\n",
       "        vertical-align: top;\n",
       "    }\n",
       "\n",
       "    .dataframe thead th {\n",
       "        text-align: right;\n",
       "    }\n",
       "</style>\n",
       "<table border=\"1\" class=\"dataframe\">\n",
       "  <thead>\n",
       "    <tr style=\"text-align: right;\">\n",
       "      <th></th>\n",
       "      <th>Name</th>\n",
       "      <th>Role</th>\n",
       "    </tr>\n",
       "  </thead>\n",
       "  <tbody>\n",
       "    <tr>\n",
       "      <th>0</th>\n",
       "      <td>KYLIE</td>\n",
       "      <td>CEO</td>\n",
       "    </tr>\n",
       "    <tr>\n",
       "      <th>1</th>\n",
       "      <td>ADAM</td>\n",
       "      <td>COO</td>\n",
       "    </tr>\n",
       "  </tbody>\n",
       "</table>\n",
       "</div>"
      ],
      "text/plain": [
       "    Name Role\n",
       "0  KYLIE  CEO\n",
       "1   ADAM  COO"
      ]
     },
     "execution_count": 9,
     "metadata": {},
     "output_type": "execute_result"
    }
   ],
   "source": [
    "df6 = pd.DataFrame({'Name':['Kylie','Adam'],'Role':['ceo','coo']})\n",
    "df_m = df6.applymap(str.upper)\n",
    "df_m\n"
   ]
  },
  {
   "cell_type": "code",
   "execution_count": null,
   "id": "db840122",
   "metadata": {},
   "outputs": [],
   "source": []
  }
 ],
 "metadata": {
  "kernelspec": {
   "display_name": "Python 3 (ipykernel)",
   "language": "python",
   "name": "python3"
  },
  "language_info": {
   "codemirror_mode": {
    "name": "ipython",
    "version": 3
   },
   "file_extension": ".py",
   "mimetype": "text/x-python",
   "name": "python",
   "nbconvert_exporter": "python",
   "pygments_lexer": "ipython3",
   "version": "3.11.1"
  }
 },
 "nbformat": 4,
 "nbformat_minor": 5
}
