{
 "cells": [
  {
   "cell_type": "markdown",
   "id": "3c7e9c8d",
   "metadata": {},
   "source": [
    "***What is NumPy?***\n",
    "\n",
    "Numpy is an open-source library for working efficiently with arrays. Developed in 2005 by Travis Oliphant, the name stands for Numerical Python. As a critical data science library in Python, many other libraries depend on it."
   ]
  },
  {
   "cell_type": "markdown",
   "id": "eb35ea4c",
   "metadata": {},
   "source": [
    "(https://www.learndatasci.com/tutorials/applied-introduction-to-numpy-python-tutorial/)"
   ]
  },
  {
   "cell_type": "markdown",
   "id": "2ff4291b",
   "metadata": {},
   "source": [
    "***Some of Numpy's advantages:***\n",
    "\n",
    "1. Mathematical operations on NumPy’s ndarray objects are up to 50x faster than iterating over native Python lists using loops. The efficiency gains are primarily due to NumPy storing array elements in an ordered single location within memory, eliminating redundancies by having all elements be the same type and making full use of modern CPUs. The efficiency advantages become particularly apparent when operating on arrays with thousands or millions of elements, which are pretty standard within data science.\n",
    "\n",
    "2. It offers an Indexing syntax for easily accessing portions of data within an array.\n",
    "\n",
    "3. It contains built-in functions that improve quality of life when working with arrays and math, such as functions for linear algebra, array transformations, and matrix math.\n",
    "\n",
    "4. It requires fewer lines of code for most mathematical operations than native Python lists."
   ]
  },
  {
   "cell_type": "markdown",
   "id": "086a1866",
   "metadata": {},
   "source": [
    "What's the relationship between NumPy, SciPy, Scikit-learn, and Pandas?\n",
    "\n",
    "<b>NumPy</b> provides a foundation on which other data science packages are built, including SciPy, Scikit-learn, and Pandas.\n",
    "\n",
    "<b>SciPy</b> provides a menu of libraries for scientific computations. It extends NumPy by including integration, interpolation, signal processing, more linear algebra functions, descriptive and inferential statistics, numerical optimizations, and more.\n",
    "\n",
    "<b>Scikit-learn</b> extends NumPy and SciPy with advanced machine-learning algorithms.\n",
    "\n",
    "<b>Pandas</b> extends NumPy by providing functions for exploratory data analysis, statistics, and data visualization. It can be thought of as Python's equivalent to Microsoft Excel spreadsheets for working with and exploring tabular data (tutorial)."
   ]
  },
  {
   "cell_type": "markdown",
   "id": "b6df78a9",
   "metadata": {},
   "source": [
    "The NumPy array - an n-dimensional data structure - is the central object of the NumPy package.\n",
    "\n",
    "\n",
    "A one-dimensional NumPy array can be thought of as a <b><font color='red'>vector</font></b>, a two-dimensional array as a <b><font color='red'>matrix</font></b> (i.e., a set of vectors), and a three-dimensional array as a <b><font color='red'>tensor<font></b> (i.e., a set of matrices)."
   ]
  },
  {
   "cell_type": "markdown",
   "id": "3cc12f68",
   "metadata": {},
   "source": [
    "e.g.\n",
    "Vector -> np.array[1,2])\n",
    "\n",
    "Matrix -> np.array([[1,2],[3,4]])\n",
    "\n",
    "3D Matrix -> np.array([[[1,2],[3,4]],\n",
    "                      [[5,6],[7,8]],\n",
    "                      [[9,10],[11,12]]])\n"
   ]
  },
  {
   "cell_type": "markdown",
   "id": "615b9bf1",
   "metadata": {},
   "source": [
    "***Array data types***\n",
    "\n",
    "An array can consist of integers, floating-point numbers, or strings. Within an array, the data type must be consistent (e.g., all integers or all floats).\n",
    "\n",
    "Need an array with mixed data types? Consider using Numpy's record array format or pandas dataframes instead (see the Pandas tutorial).\n",
    "\n",
    "\n",
    "In this article, we'll restrict our focus to conventional NumPy arrays consisting of a single data type."
   ]
  },
  {
   "cell_type": "markdown",
   "id": "457e2c0d",
   "metadata": {},
   "source": [
    "<font color = 'yellow'>Using np.array()</font>\n",
    "\n",
    "To define an array manually, we can use the np.array() function. Below, we pass a list of two elements, each of which is a list containing two values. The result is a 2x2 matrix:"
   ]
  },
  {
   "cell_type": "code",
   "execution_count": 2,
   "id": "265ff146",
   "metadata": {},
   "outputs": [],
   "source": [
    "import numpy as np\n",
    "import pandas as pd\n"
   ]
  },
  {
   "cell_type": "code",
   "execution_count": 3,
   "id": "94d03164",
   "metadata": {},
   "outputs": [
    {
     "data": {
      "text/plain": [
       "array([[1, 3],\n",
       "       [4, 5]])"
      ]
     },
     "execution_count": 3,
     "metadata": {},
     "output_type": "execute_result"
    }
   ],
   "source": [
    "np.array([[1,3],[4,5]])"
   ]
  },
  {
   "cell_type": "markdown",
   "id": "aa1bd387",
   "metadata": {},
   "source": [
    "NumPy has numerous functions for generating commonly-used arrays without having to enter the elements manually. A few of those are shown below:\n",
    "\n",
    "<font color ='yellow'>Defining arrays: np.arange()</font>\n",
    "    \n",
    "The function np.arange() is great for creating vectors easily. Here, we create a vector with values spanning 1 up to (but not including) 5:"
   ]
  },
  {
   "cell_type": "code",
   "execution_count": 5,
   "id": "ce7bff93",
   "metadata": {},
   "outputs": [
    {
     "data": {
      "text/plain": [
       "array([1, 2, 3, 4])"
      ]
     },
     "execution_count": 5,
     "metadata": {},
     "output_type": "execute_result"
    }
   ],
   "source": [
    "np.arange(1,5)"
   ]
  },
  {
   "cell_type": "markdown",
   "id": "b32d1ef2",
   "metadata": {},
   "source": [
    "<b> Defining arrays: np.zeros, np.ones, np.full</b>\n",
    "    \n",
    "In many programming tasks, it can be useful to initialize a variable and then write a value to it later in the code. If that variable happens to be a NumPy array, a common approach would be to create it as an array with zeros in every element. We can do this using <b>np.zeros().</b> Here, we create an array of zeros with three rows and one column."
   ]
  },
  {
   "cell_type": "code",
   "execution_count": 5,
   "id": "cea807fe",
   "metadata": {},
   "outputs": [
    {
     "data": {
      "text/plain": [
       "array([[0., 0., 0.]])"
      ]
     },
     "execution_count": 5,
     "metadata": {},
     "output_type": "execute_result"
    }
   ],
   "source": [
    "np.zeros([1,3])"
   ]
  },
  {
   "cell_type": "code",
   "execution_count": 6,
   "id": "ff7286e7",
   "metadata": {},
   "outputs": [
    {
     "data": {
      "text/plain": [
       "array([[0.],\n",
       "       [0.],\n",
       "       [0.]])"
      ]
     },
     "execution_count": 6,
     "metadata": {},
     "output_type": "execute_result"
    }
   ],
   "source": [
    "np.zeros([3,1])"
   ]
  },
  {
   "cell_type": "markdown",
   "id": "91305586",
   "metadata": {},
   "source": [
    "<b>np.full()</b> creates an array repeating a fixed value (defaults to zero). Here we create a 2x3 array with the number 7 in each element:\n"
   ]
  },
  {
   "cell_type": "code",
   "execution_count": 7,
   "id": "39615dd3",
   "metadata": {},
   "outputs": [
    {
     "data": {
      "text/plain": [
       "array([[7, 7, 7],\n",
       "       [7, 7, 7],\n",
       "       [7, 7, 7]])"
      ]
     },
     "execution_count": 7,
     "metadata": {},
     "output_type": "execute_result"
    }
   ],
   "source": [
    "np.full((3,3),7)"
   ]
  },
  {
   "cell_type": "code",
   "execution_count": 9,
   "id": "b28ea58b",
   "metadata": {},
   "outputs": [
    {
     "data": {
      "text/plain": [
       "array([[1., 1., 1.]])"
      ]
     },
     "execution_count": 9,
     "metadata": {},
     "output_type": "execute_result"
    }
   ],
   "source": [
    "np.ones([1,3])"
   ]
  },
  {
   "cell_type": "code",
   "execution_count": 10,
   "id": "0e47751f",
   "metadata": {},
   "outputs": [
    {
     "data": {
      "text/plain": [
       "array([[1., 1., 1.],\n",
       "       [1., 1., 1.],\n",
       "       [1., 1., 1.]])"
      ]
     },
     "execution_count": 10,
     "metadata": {},
     "output_type": "execute_result"
    }
   ],
   "source": [
    "np.ones([3,3])"
   ]
  },
  {
   "cell_type": "markdown",
   "id": "2cb543a0",
   "metadata": {},
   "source": [
    "<b>Array shape</b>\n",
    "\n",
    "All arrays have a shape accessible using <i>.shape</i>\n",
    "\n",
    "For example, let's get the shape of a vector, matrix, and tensor."
   ]
  },
  {
   "cell_type": "code",
   "execution_count": 18,
   "id": "78139519",
   "metadata": {
    "scrolled": true
   },
   "outputs": [
    {
     "name": "stdout",
     "output_type": "stream",
     "text": [
      "Vector shape: (5,)\n",
      "[0 1 2 3 4]\n",
      "Matrix shape: (3, 2)\n",
      "[[1. 1.]\n",
      " [1. 1.]\n",
      " [1. 1.]]\n",
      "Tensor shape: (2, 3, 3)\n",
      "[[[0. 0. 0.]\n",
      "  [0. 0. 0.]\n",
      "  [0. 0. 0.]]\n",
      "\n",
      " [[0. 0. 0.]\n",
      "  [0. 0. 0.]\n",
      "  [0. 0. 0.]]]\n"
     ]
    }
   ],
   "source": [
    "vector = np.arange(5)\n",
    "print(\"Vector shape:\",vector.shape)\n",
    "print(vector)\n",
    "\n",
    "matrix = np.ones([3,2])\n",
    "print(\"Matrix shape:\",matrix.shape)\n",
    "print(matrix)\n",
    "tensor = np.zeros([2,3,3])\n",
    "print(\"Tensor shape:\",tensor.shape)\n",
    "print(tensor)"
   ]
  },
  {
   "cell_type": "markdown",
   "id": "dbc71567",
   "metadata": {},
   "source": [
    "The shape of the vector is one-dimensional. The first number in its shape is the number of elements (or rows). For the matrix, .shape tells us we have three rows and two columns. The tensor is slightly different. The first number is how many matrices/slices we have. The second gives the number of rows. The third provides the number of columns.\n",
    "\n",
    "If you're familiar with pandas, you might have noticed that the syntax for the number of rows and columns is strikingly similar to the equivalent in pandas. As we continue to explore NumPy arrays, you may notice many more similarities."
   ]
  },
  {
   "cell_type": "markdown",
   "id": "47b43a18",
   "metadata": {},
   "source": [
    "<b>NumPy arange()</b> is one of the array creation routines based on numerical ranges. It creates an instance of ndarray with evenly spaced values and returns the reference to it.\n",
    "\n",
    "The arange([start,] stop[, step,][, dtype]) : Returns an array with evenly spaced elements as per the interval. The interval mentioned is half-opened i.e. [Start, Stop) "
   ]
  },
  {
   "cell_type": "code",
   "execution_count": 20,
   "id": "7ed353c0",
   "metadata": {},
   "outputs": [
    {
     "data": {
      "text/plain": [
       "array([1, 4, 7])"
      ]
     },
     "execution_count": 20,
     "metadata": {},
     "output_type": "execute_result"
    }
   ],
   "source": [
    "np.arange(start=1,stop=10,step=3)"
   ]
  },
  {
   "cell_type": "markdown",
   "id": "089fdc96",
   "metadata": {},
   "source": [
    "In this example, start is 1. Therefore, the first element of the obtained array is 1. step is 3, which is why your second value is 1+3, that is 4, while the third value in the array is 4+3, which equals 7."
   ]
  },
  {
   "cell_type": "code",
   "execution_count": 21,
   "id": "442a8a98",
   "metadata": {},
   "outputs": [
    {
     "data": {
      "text/plain": [
       "array([1, 4, 7])"
      ]
     },
     "execution_count": 21,
     "metadata": {},
     "output_type": "execute_result"
    }
   ],
   "source": [
    "#you can pass start, stop, and step as positional arguments as well:\n",
    "np.arange(1,10,3)"
   ]
  },
  {
   "cell_type": "markdown",
   "id": "dd83803d",
   "metadata": {},
   "source": [
    "<b>Reshaping arrays</b>\n",
    "\n",
    "We can reshape an array into any compatible dimensions using <i>.reshape</i>"
   ]
  },
  {
   "cell_type": "code",
   "execution_count": 3,
   "id": "bbff45e8",
   "metadata": {},
   "outputs": [
    {
     "name": "stdout",
     "output_type": "stream",
     "text": [
      "[1 2 3 4 5 6 7 8 9] \n",
      "\n"
     ]
    }
   ],
   "source": [
    "arr = np.arange(1,10)\n",
    "print(arr,'\\n')"
   ]
  },
  {
   "cell_type": "code",
   "execution_count": 6,
   "id": "52c41cef",
   "metadata": {},
   "outputs": [
    {
     "name": "stdout",
     "output_type": "stream",
     "text": [
      "[[1 2 3]\n",
      " [4 5 6]\n",
      " [7 8 9]] \n",
      "\n"
     ]
    }
   ],
   "source": [
    "#reshape\n",
    "arr = arr.reshape(3,3)\n",
    "print(arr,'\\n')"
   ]
  },
  {
   "cell_type": "code",
   "execution_count": 7,
   "id": "da5d1de7",
   "metadata": {},
   "outputs": [
    {
     "name": "stdout",
     "output_type": "stream",
     "text": [
      "[1 2 3 4 5 6 7 8 9] \n",
      "\n"
     ]
    }
   ],
   "source": [
    "# Reshape back to the original size\n",
    "arr = arr.reshape(9)\n",
    "print(arr,'\\n')"
   ]
  },
  {
   "cell_type": "markdown",
   "id": "50aae61e",
   "metadata": {},
   "source": [
    "Numpy can try to infer one of the dimensions if you use -1. You will still need to have precisely the correct number of digits for the inference to work."
   ]
  },
  {
   "cell_type": "code",
   "execution_count": 23,
   "id": "3f15e936",
   "metadata": {},
   "outputs": [
    {
     "data": {
      "text/plain": [
       "array([[1, 2, 3],\n",
       "       [4, 5, 6],\n",
       "       [7, 8, 9]])"
      ]
     },
     "execution_count": 23,
     "metadata": {},
     "output_type": "execute_result"
    }
   ],
   "source": [
    "arr = np.arange(1,10).reshape(3,-1)\n",
    "arr"
   ]
  },
  {
   "cell_type": "markdown",
   "id": "f64db8da",
   "metadata": {},
   "source": [
    "<b>Reading data from a file into an array</b>\n",
    "\n",
    "Usually, data sets are too large to define manually. Instead, the most common use case is to import data from a data file into a NumPy array."
   ]
  },
  {
   "cell_type": "code",
   "execution_count": 8,
   "id": "bbeb3295",
   "metadata": {},
   "outputs": [],
   "source": [
    "import csv"
   ]
  },
  {
   "cell_type": "code",
   "execution_count": 9,
   "id": "9ac61958",
   "metadata": {},
   "outputs": [
    {
     "data": {
      "text/plain": [
       "(458, 5)"
      ]
     },
     "execution_count": 9,
     "metadata": {},
     "output_type": "execute_result"
    }
   ],
   "source": [
    "data = []\n",
    "with open(r'C:\\Users\\srini\\Downloads\\nba3.csv') as csvfile:\n",
    "    file_reader = csv.reader(csvfile,delimiter=',')\n",
    "    for row in file_reader:\n",
    "        data.append(row)\n",
    "data = np.array(data)#convert the list of lists  to numpy array\n",
    "data.shape\n",
    "    "
   ]
  },
  {
   "cell_type": "code",
   "execution_count": 33,
   "id": "296b7a82",
   "metadata": {},
   "outputs": [
    {
     "data": {
      "text/plain": [
       "numpy.str_"
      ]
     },
     "execution_count": 33,
     "metadata": {},
     "output_type": "execute_result"
    }
   ],
   "source": [
    "data.dtype.type"
   ]
  },
  {
   "cell_type": "markdown",
   "id": "9d7f03a7",
   "metadata": {},
   "source": [
    "We now have our data stored in a NumPy array that we've named data. For much of the remainder of this article, we'll be exploring how NumPy's functionality can be used to manipulate and gain insights into this data."
   ]
  },
  {
   "cell_type": "markdown",
   "id": "f60db598",
   "metadata": {},
   "source": [
    "<b>Saving</b>\n",
    "\n",
    "When we are ready to save our data, we can use the save function."
   ]
  },
  {
   "cell_type": "code",
   "execution_count": 35,
   "id": "08daf55b",
   "metadata": {},
   "outputs": [],
   "source": [
    "np.save(open(r'C:\\Users\\srini\\Downloads\\new_nba_numpy.npy','wb'),data)"
   ]
  },
  {
   "cell_type": "markdown",
   "id": "0de94306",
   "metadata": {},
   "source": [
    "<b>Indexing</b>\n",
    "\n",
    "At some point, it will become necessary to index (select) subsets of a NumPy array. For instance, you might want to plot one column of data or perform a manipulation of that column. NumPy uses the same indexing notation as MATLAB."
   ]
  },
  {
   "cell_type": "markdown",
   "id": "08487615",
   "metadata": {},
   "source": [
    "Commas separate axes of an array.\n",
    "\n",
    "Colons mean \"through\". For example, x[0:4] means the first 5 rows (rows 0 through 4) of x.\n",
    "\n",
    "Negative numbers mean \"from the end of the array.\" For example, x[-1] means the last row of x.\n",
    "\n",
    "Blanks before or after colons means \"the rest of\". For example, x[3:] means the rest of the rows in x after row 3. Similarly, x[:3] means all the rows up to row 3. x[:] means all rows of x.\n",
    "\n",
    "When there are fewer indices than axes, the missing indices are considered complete slices. For example, in a 3-axis array, x[0,0] means all data in the 3rd axis of the 1st row and 1st column.\n",
    "\n",
    "Dots \"...\" mean as many colons as needed to produce a complete indexing tuple. For example, x[1,2,...] is the same as x[1,2,:,:,:]."
   ]
  },
  {
   "cell_type": "code",
   "execution_count": 11,
   "id": "08553854",
   "metadata": {},
   "outputs": [],
   "source": [
    "data=[]\n",
    "with open(r\"C:\\Users\\srini\\Downloads\\MER_T07_02A.csv\") as csvfile:\n",
    "    file_reader = csv.reader(csvfile,delimiter=',')\n",
    "    for row in file_reader:\n",
    "        data.append(row)\n",
    "        \n",
    "data1 = np.array(data)"
   ]
  },
  {
   "cell_type": "code",
   "execution_count": 5,
   "id": "d1133662",
   "metadata": {},
   "outputs": [
    {
     "data": {
      "text/plain": [
       "array([['MSN', 'YYYYMM', 'Value', 'Column_Order', 'Description', 'Unit'],\n",
       "       ['CLETPUS', '194913', '135451.32', '1',\n",
       "        'Electricity Net Generation From Coal, All Sectors',\n",
       "        'Million Kilowatthours'],\n",
       "       ['CLETPUS', '195013', '154519.994', '1',\n",
       "        'Electricity Net Generation From Coal, All Sectors',\n",
       "        'Million Kilowatthours'],\n",
       "       ...,\n",
       "       ['ELETPUS', '202305', '327858.999', '13',\n",
       "        'Electricity Net Generation Total (including from sources not shown), All Sectors',\n",
       "        'Million Kilowatthours'],\n",
       "       ['ELETPUS', '202306', '357140.257', '13',\n",
       "        'Electricity Net Generation Total (including from sources not shown), All Sectors',\n",
       "        'Million Kilowatthours'],\n",
       "       ['ELETPUS', '202307', '425654.556', '13',\n",
       "        'Electricity Net Generation Total (including from sources not shown), All Sectors',\n",
       "        'Million Kilowatthours']], dtype='<U80')"
      ]
     },
     "execution_count": 5,
     "metadata": {},
     "output_type": "execute_result"
    }
   ],
   "source": [
    "data1"
   ]
  },
  {
   "cell_type": "code",
   "execution_count": 12,
   "id": "51ce188d",
   "metadata": {},
   "outputs": [
    {
     "data": {
      "text/plain": [
       "(8854, 6)"
      ]
     },
     "execution_count": 12,
     "metadata": {},
     "output_type": "execute_result"
    }
   ],
   "source": [
    "data1.shape"
   ]
  },
  {
   "cell_type": "markdown",
   "id": "31b050cf",
   "metadata": {},
   "source": [
    "Another property of a NumPy array that we may wish to know is its data type. This information is stored in the dtype attribute. Calling dtype reveals that our array is made up of strings:\n",
    "\n"
   ]
  },
  {
   "cell_type": "code",
   "execution_count": 7,
   "id": "f1e13ca8",
   "metadata": {},
   "outputs": [
    {
     "data": {
      "text/plain": [
       "numpy.str_"
      ]
     },
     "execution_count": 7,
     "metadata": {},
     "output_type": "execute_result"
    }
   ],
   "source": [
    "data1.dtype.type"
   ]
  },
  {
   "cell_type": "code",
   "execution_count": 8,
   "id": "2634e222",
   "metadata": {},
   "outputs": [],
   "source": [
    "np.save(open(r\"C:\\Users\\srini\\Downloads\\MER_T07_02A.npy\",\"wb\"),data1)"
   ]
  },
  {
   "cell_type": "code",
   "execution_count": 10,
   "id": "4964d2a4",
   "metadata": {},
   "outputs": [
    {
     "data": {
      "text/plain": [
       "array(['Description', 'Electricity Net Generation From Coal, All Sectors',\n",
       "       'Electricity Net Generation From Coal, All Sectors',\n",
       "       'Electricity Net Generation From Coal, All Sectors',\n",
       "       'Electricity Net Generation From Coal, All Sectors',\n",
       "       'Electricity Net Generation From Coal, All Sectors',\n",
       "       'Electricity Net Generation From Coal, All Sectors',\n",
       "       'Electricity Net Generation From Coal, All Sectors',\n",
       "       'Electricity Net Generation From Coal, All Sectors',\n",
       "       'Electricity Net Generation From Coal, All Sectors'], dtype='<U80')"
      ]
     },
     "execution_count": 10,
     "metadata": {},
     "output_type": "execute_result"
    }
   ],
   "source": [
    "data1[0:10,4]"
   ]
  },
  {
   "cell_type": "markdown",
   "id": "d4ea27e5",
   "metadata": {},
   "source": [
    "Indexing example 1: Colons as *all* rows or columns\n",
    "\n",
    "A colon can also denote all rows, or all columns. Here, we index all rows of column 4."
   ]
  },
  {
   "cell_type": "code",
   "execution_count": 11,
   "id": "43269a5a",
   "metadata": {},
   "outputs": [
    {
     "data": {
      "text/plain": [
       "array(['Description', 'Electricity Net Generation From Coal, All Sectors',\n",
       "       'Electricity Net Generation From Coal, All Sectors', ...,\n",
       "       'Electricity Net Generation Total (including from sources not shown), All Sectors',\n",
       "       'Electricity Net Generation Total (including from sources not shown), All Sectors',\n",
       "       'Electricity Net Generation Total (including from sources not shown), All Sectors'],\n",
       "      dtype='<U80')"
      ]
     },
     "execution_count": 11,
     "metadata": {},
     "output_type": "execute_result"
    }
   ],
   "source": [
    "data1[:,4]"
   ]
  },
  {
   "cell_type": "markdown",
   "id": "ab8f71bc",
   "metadata": {},
   "source": [
    "We can use the same format for any dimension of an array. The general syntax is: array[start_row:end_row, start_col:end_col]. The following indexes all rows and the second column up to (but not including) the 4th column:"
   ]
  },
  {
   "cell_type": "code",
   "execution_count": 12,
   "id": "e09226cf",
   "metadata": {},
   "outputs": [
    {
     "data": {
      "text/plain": [
       "array([['Value', 'Column_Order'],\n",
       "       ['135451.32', '1'],\n",
       "       ['154519.994', '1'],\n",
       "       ...,\n",
       "       ['327858.999', '13'],\n",
       "       ['357140.257', '13'],\n",
       "       ['425654.556', '13']], dtype='<U80')"
      ]
     },
     "execution_count": 12,
     "metadata": {},
     "output_type": "execute_result"
    }
   ],
   "source": [
    "data1[:,2:4]"
   ]
  },
  {
   "cell_type": "markdown",
   "id": "4e2ee1f9",
   "metadata": {},
   "source": [
    "Explicitly specifying column numbers\n",
    "\n",
    "What if the columns we need are not next to each other? Instead of indexing a range of columns, it can be useful to specify them explicitly. To explicitly specify particular columns, we just include them in a list. Let's index the five rows after the header, selecting only columns 2 and 3. This time, we'll write the output to a new array named subset that we can re-use in the following example."
   ]
  },
  {
   "cell_type": "code",
   "execution_count": 13,
   "id": "a610ceaf",
   "metadata": {},
   "outputs": [
    {
     "data": {
      "text/plain": [
       "array([['135451.32', '1'],\n",
       "       ['154519.994', '1'],\n",
       "       ['185203.657', '1'],\n",
       "       ['195436.666', '1'],\n",
       "       ['218846.325', '1']], dtype='<U80')"
      ]
     },
     "execution_count": 13,
     "metadata": {},
     "output_type": "execute_result"
    }
   ],
   "source": [
    "sub = data1[1:6,[2,3]]\n",
    "sub"
   ]
  },
  {
   "cell_type": "markdown",
   "id": "2617487a",
   "metadata": {},
   "source": [
    "Mask arrays\n",
    "\n",
    "Another convenient way to index certain sections of a NumPy array is to use a mask array. A mask array, also known as a logical array, contains boolean elements (i.e. True or False). Indexing of a given array element is determined by the value of the mask array's corresponding element.\n",
    "\n",
    "First, we define a NumPy array of True/False values, where the True values are the ones we want to keep. Then we mask the subset array from the previous example. The result is retaining only the rows that correspond to elements that are True in the mask array."
   ]
  },
  {
   "cell_type": "code",
   "execution_count": 14,
   "id": "680a3e84",
   "metadata": {},
   "outputs": [
    {
     "data": {
      "text/plain": [
       "array([['154519.994', '1'],\n",
       "       ['195436.666', '1'],\n",
       "       ['218846.325', '1']], dtype='<U80')"
      ]
     },
     "execution_count": 14,
     "metadata": {},
     "output_type": "execute_result"
    }
   ],
   "source": [
    "mask = np.array([False,True,False,True,True])\n",
    "sub[mask]"
   ]
  },
  {
   "cell_type": "markdown",
   "id": "7d234865",
   "metadata": {},
   "source": [
    "As you can see, the mask array retained the <font color =\"green\">rows corresponding to True</font> and <font color =\"red\">the excluded the ones corresponding to False.</font> It is worth noting that a similar approach is used for indexing pandas dataframes.\n",
    "\n",
    "Masking is a powerful tool that allows us to index elements based on logical expressions. We'll make good use of in the case study later in the article."
   ]
  },
  {
   "cell_type": "markdown",
   "id": "3734bf12",
   "metadata": {},
   "source": [
    "<b>Concatenating</b>\n",
    "\n",
    "NumPy also provides useful functions for concatenating (i.e., joining) arrays. Let's say we wanted to restrict our attention to the first and the last three rows of our dataset. First, we'll define new sub-arrays as follows:"
   ]
  },
  {
   "cell_type": "code",
   "execution_count": null,
   "id": "48e4c279",
   "metadata": {},
   "outputs": [],
   "source": []
  }
 ],
 "metadata": {
  "kernelspec": {
   "display_name": "Python 3 (ipykernel)",
   "language": "python",
   "name": "python3"
  },
  "language_info": {
   "codemirror_mode": {
    "name": "ipython",
    "version": 3
   },
   "file_extension": ".py",
   "mimetype": "text/x-python",
   "name": "python",
   "nbconvert_exporter": "python",
   "pygments_lexer": "ipython3",
   "version": "3.11.1"
  },
  "widgets": {
   "application/vnd.jupyter.widget-state+json": {
    "state": {},
    "version_major": 2,
    "version_minor": 0
   }
  }
 },
 "nbformat": 4,
 "nbformat_minor": 5
}
