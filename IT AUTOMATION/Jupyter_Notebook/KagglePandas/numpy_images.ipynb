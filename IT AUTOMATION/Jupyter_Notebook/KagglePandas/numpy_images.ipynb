{
 "cells": [
  {
   "cell_type": "markdown",
   "id": "def8a2cf",
   "metadata": {},
   "source": [
    "### A crash course on NumPy for images ###"
   ]
  },
  {
   "cell_type": "markdown",
   "id": "7101b295",
   "metadata": {},
   "source": [
    "***Images in scikit-image are represented by NumPy ndarrays.\n",
    "Hence, many common operations can be achieved using standard NumPy methods for manipulating arrays:***\n",
    "\n",
    "https://scikit-image.org/docs/stable/user_guide/numpy_images.html"
   ]
  },
  {
   "cell_type": "markdown",
   "id": "bc9b71bf",
   "metadata": {},
   "source": []
  },
  {
   "cell_type": "markdown",
   "id": "b470c773",
   "metadata": {},
   "source": []
  },
  {
   "cell_type": "code",
   "execution_count": 19,
   "id": "f8061c8f",
   "metadata": {},
   "outputs": [
    {
     "data": {
      "text/plain": [
       "numpy.ndarray"
      ]
     },
     "execution_count": 19,
     "metadata": {},
     "output_type": "execute_result"
    }
   ],
   "source": [
    "from skimage  import data \n",
    "import numpy as np\n",
    "camera =  data.camera()\n",
    "type(camera)"
   ]
  },
  {
   "cell_type": "code",
   "execution_count": 11,
   "id": "d8d6b933",
   "metadata": {},
   "outputs": [
    {
     "data": {
      "text/plain": [
       "(512, 512)"
      ]
     },
     "execution_count": 11,
     "metadata": {},
     "output_type": "execute_result"
    }
   ],
   "source": [
    "camera.shape"
   ]
  },
  {
   "cell_type": "code",
   "execution_count": 12,
   "id": "3a28565a",
   "metadata": {},
   "outputs": [
    {
     "data": {
      "text/plain": [
       "262144"
      ]
     },
     "execution_count": 12,
     "metadata": {},
     "output_type": "execute_result"
    }
   ],
   "source": [
    "camera.size"
   ]
  },
  {
   "cell_type": "code",
   "execution_count": 13,
   "id": "bec29040",
   "metadata": {},
   "outputs": [
    {
     "data": {
      "text/plain": [
       "200"
      ]
     },
     "execution_count": 13,
     "metadata": {},
     "output_type": "execute_result"
    }
   ],
   "source": [
    "# Get the value of the pixel at the 10th row and 20th column\n",
    "camera[10,20]"
   ]
  },
  {
   "cell_type": "code",
   "execution_count": 14,
   "id": "4ffc2d1f",
   "metadata": {},
   "outputs": [],
   "source": [
    "# Set to black the pixel at the 3rd row and 10th column\n",
    "camera[3,10] = 0"
   ]
  },
  {
   "cell_type": "code",
   "execution_count": 15,
   "id": "82d1ef9a",
   "metadata": {},
   "outputs": [],
   "source": [
    "#Set the first ten lines to \"black\" (0)\n",
    "camera[:10] = 0 "
   ]
  },
  {
   "cell_type": "code",
   "execution_count": 17,
   "id": "fd15e14a",
   "metadata": {},
   "outputs": [
    {
     "data": {
      "text/plain": [
       "array([ 0,  0,  0, ..., 55, 67, 77], dtype=uint8)"
      ]
     },
     "execution_count": 17,
     "metadata": {},
     "output_type": "execute_result"
    }
   ],
   "source": [
    "mask = camera < 87\n",
    "# Set to \"white\" (255) the pixels where mask is True\n",
    "camera[mask]\n",
    "    "
   ]
  },
  {
   "cell_type": "code",
   "execution_count": 21,
   "id": "a7a94ff9",
   "metadata": {},
   "outputs": [],
   "source": [
    "nrows, ncols = camera.shape\n",
    "row, col = np.ogrid[:nrows, :ncols]\n",
    "cnt_row, cnt_col = nrows / 2, ncols / 2\n",
    "outer_disk_mask = ((row - cnt_row)**2 + (col - cnt_col)**2 > (nrows / 2)**2)\n",
    "camera[outer_disk_mask] = 0"
   ]
  },
  {
   "cell_type": "code",
   "execution_count": null,
   "id": "e7e2c05e",
   "metadata": {},
   "outputs": [],
   "source": []
  }
 ],
 "metadata": {
  "kernelspec": {
   "display_name": "Python 3 (ipykernel)",
   "language": "python",
   "name": "python3"
  },
  "language_info": {
   "codemirror_mode": {
    "name": "ipython",
    "version": 3
   },
   "file_extension": ".py",
   "mimetype": "text/x-python",
   "name": "python",
   "nbconvert_exporter": "python",
   "pygments_lexer": "ipython3",
   "version": "3.11.1"
  }
 },
 "nbformat": 4,
 "nbformat_minor": 5
}
