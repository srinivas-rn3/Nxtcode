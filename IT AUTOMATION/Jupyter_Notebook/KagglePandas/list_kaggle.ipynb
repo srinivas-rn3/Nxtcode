{
 "cells": [
  {
   "cell_type": "markdown",
   "id": "8c32d20f",
   "metadata": {},
   "source": [
    "### List\n"
   ]
  },
  {
   "cell_type": "code",
   "execution_count": 1,
   "id": "27b36e3c",
   "metadata": {},
   "outputs": [],
   "source": [
    "flowers_list = [\"pink primrose\", \"hard-leaved pocket orchid\", \"canterbury bells\", \"sweet pea\", \"english marigold\", \"tiger lily\", \"moon orchid\", \"bird of paradise\", \"monkshood\", \"globe thistle\"]"
   ]
  },
  {
   "cell_type": "code",
   "execution_count": 2,
   "id": "b02fd66b",
   "metadata": {},
   "outputs": [
    {
     "name": "stdout",
     "output_type": "stream",
     "text": [
      "['pink primrose', 'hard-leaved pocket orchid', 'canterbury bells', 'sweet pea', 'english marigold', 'tiger lily', 'moon orchid', 'bird of paradise', 'monkshood', 'globe thistle']\n",
      "<class 'list'>\n"
     ]
    }
   ],
   "source": [
    "print(flowers_list)\n",
    "print(type(flowers_list))"
   ]
  },
  {
   "cell_type": "code",
   "execution_count": 3,
   "id": "9f3cb899",
   "metadata": {},
   "outputs": [
    {
     "name": "stdout",
     "output_type": "stream",
     "text": [
      "10\n"
     ]
    }
   ],
   "source": [
    "print(len(flowers_list))"
   ]
  },
  {
   "cell_type": "code",
   "execution_count": 7,
   "id": "f78bb79c",
   "metadata": {},
   "outputs": [
    {
     "name": "stdout",
     "output_type": "stream",
     "text": [
      "First Index :  pink primrose\n",
      "Second Index : hard-leaved pocket orchid\n",
      "Last Index :  globe thistle\n"
     ]
    }
   ],
   "source": [
    "print(\"First Index : \", flowers_list[0])\n",
    "print(\"Second Index :\", flowers_list[1])\n",
    "# The list has length ten, so we refer to final entry with 9\n",
    "print(\"Last Index : \",flowers_list[-1])"
   ]
  },
  {
   "cell_type": "markdown",
   "id": "03537c06",
   "metadata": {},
   "source": [
    "***Slicing***\n",
    "\n",
    "You can also pull a segment of a list (for instance, the first three entries or the last two entries). This is called slicing. For instance:\n",
    "\n",
    "to pull the first x entries, you use [:x], and\n",
    "to pull the last y entries, you use [-y:]."
   ]
  },
  {
   "cell_type": "code",
   "execution_count": 8,
   "id": "89bfffa9",
   "metadata": {},
   "outputs": [
    {
     "name": "stdout",
     "output_type": "stream",
     "text": [
      "First three Entries: ['pink primrose', 'hard-leaved pocket orchid', 'canterbury bells']\n"
     ]
    }
   ],
   "source": [
    "print(\"First three Entries:\",flowers_list[:3])"
   ]
  },
  {
   "cell_type": "code",
   "execution_count": 11,
   "id": "717a5582",
   "metadata": {},
   "outputs": [
    {
     "name": "stdout",
     "output_type": "stream",
     "text": [
      "Final three Entries: ['bird of paradise', 'monkshood', 'globe thistle']\n"
     ]
    }
   ],
   "source": [
    "print(\"Final three Entries:\",flowers_list[-3:])"
   ]
  },
  {
   "cell_type": "markdown",
   "id": "e55b687d",
   "metadata": {},
   "source": [
    "***Removing items***\n",
    "\n",
    "Remove an item from a list with .remove(), and put the item you would like to remove in parentheses."
   ]
  },
  {
   "cell_type": "code",
   "execution_count": 12,
   "id": "154706aa",
   "metadata": {},
   "outputs": [
    {
     "name": "stdout",
     "output_type": "stream",
     "text": [
      "['pink primrose', 'hard-leaved pocket orchid', 'canterbury bells', 'sweet pea', 'english marigold', 'tiger lily', 'moon orchid', 'bird of paradise', 'monkshood']\n"
     ]
    }
   ],
   "source": [
    "flowers_list.remove(\"globe thistle\")\n",
    "print(flowers_list)"
   ]
  },
  {
   "cell_type": "markdown",
   "id": "8438bf4b",
   "metadata": {},
   "source": [
    "***Adding items***\n",
    "\n",
    "Add an item to a list with .append(), and put the item you would like to add in parentheses."
   ]
  },
  {
   "cell_type": "code",
   "execution_count": 19,
   "id": "062b583b",
   "metadata": {},
   "outputs": [
    {
     "name": "stdout",
     "output_type": "stream",
     "text": [
      "['pink primrose', 'hard-leaved pocket orchid', 'canterbury bells', 'sweet pea', 'english marigold', 'tiger lily', 'moon orchid', 'bird of paradise', 'monkshood', 'snapdragon']\n"
     ]
    }
   ],
   "source": [
    "flowers_list.append(\"snapdragon\")\n",
    "print(flowers_list)"
   ]
  },
  {
   "cell_type": "markdown",
   "id": "1dec65d8",
   "metadata": {},
   "source": [
    "***Lists are not just for strings***\n",
    "\n",
    "So far, we have only worked with lists where each item in the list is a string. But lists can have items with any data type, including booleans, integers, and floats."
   ]
  },
  {
   "cell_type": "code",
   "execution_count": 20,
   "id": "686ad03d",
   "metadata": {},
   "outputs": [],
   "source": [
    "hardcover_sales = [139, 128, 172, 139, 191, 168, 170]"
   ]
  },
  {
   "cell_type": "code",
   "execution_count": 21,
   "id": "03391c5d",
   "metadata": {},
   "outputs": [
    {
     "name": "stdout",
     "output_type": "stream",
     "text": [
      "length of the list :  7\n",
      "Entry at index 2 :  172\n"
     ]
    }
   ],
   "source": [
    "print(\"length of the list : \", len(hardcover_sales))\n",
    "print(\"Entry at index 2 : \", hardcover_sales[2])"
   ]
  },
  {
   "cell_type": "markdown",
   "id": "83a00e93",
   "metadata": {},
   "source": [
    "- You can also get the minimum with min() and the maximum with max()."
   ]
  },
  {
   "cell_type": "code",
   "execution_count": 22,
   "id": "f6dc3f9a",
   "metadata": {},
   "outputs": [
    {
     "name": "stdout",
     "output_type": "stream",
     "text": [
      "Max:  191\n",
      "Min: 128\n"
     ]
    }
   ],
   "source": [
    "print(\"Max: \", max(hardcover_sales))\n",
    "print(\"Min:\", min(hardcover_sales))"
   ]
  },
  {
   "cell_type": "markdown",
   "id": "6d5b81af",
   "metadata": {},
   "source": [
    "- To add every item in the list, use sum()."
   ]
  },
  {
   "cell_type": "code",
   "execution_count": 23,
   "id": "1d3edf2e",
   "metadata": {},
   "outputs": [
    {
     "name": "stdout",
     "output_type": "stream",
     "text": [
      "Totoal number sold in one week : 1107\n"
     ]
    }
   ],
   "source": [
    "print(\"Totoal number sold in one week :\", sum(hardcover_sales))"
   ]
  },
  {
   "cell_type": "markdown",
   "id": "edee07d8",
   "metadata": {},
   "source": [
    "We can also do similar calculations with slices of the list. In the next code cell, we take the sum from the first five days (sum(hardcover_sales[:5])), and then divide by five to get the average number of books sold in the first five days."
   ]
  },
  {
   "cell_type": "code",
   "execution_count": 26,
   "id": "921191c9",
   "metadata": {},
   "outputs": [
    {
     "name": "stdout",
     "output_type": "stream",
     "text": [
      "Avergae book sold in first fivce days : 153.8\n"
     ]
    }
   ],
   "source": [
    "print(\"Avergae book sold in first fivce days :\",sum(hardcover_sales[:5])/5)"
   ]
  },
  {
   "cell_type": "code",
   "execution_count": null,
   "id": "2a268715",
   "metadata": {},
   "outputs": [],
   "source": []
  }
 ],
 "metadata": {
  "kernelspec": {
   "display_name": "Python 3 (ipykernel)",
   "language": "python",
   "name": "python3"
  },
  "language_info": {
   "codemirror_mode": {
    "name": "ipython",
    "version": 3
   },
   "file_extension": ".py",
   "mimetype": "text/x-python",
   "name": "python",
   "nbconvert_exporter": "python",
   "pygments_lexer": "ipython3",
   "version": "3.11.1"
  }
 },
 "nbformat": 4,
 "nbformat_minor": 5
}
