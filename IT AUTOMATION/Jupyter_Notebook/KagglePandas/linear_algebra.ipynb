{
 "cells": [
  {
   "cell_type": "markdown",
   "id": "478243eb",
   "metadata": {},
   "source": [
    "### Linear algebra on n-dimensional arrays ###"
   ]
  },
  {
   "cell_type": "code",
   "execution_count": 1,
   "id": "6c3229af",
   "metadata": {},
   "outputs": [],
   "source": [
    "from scipy import misc"
   ]
  },
  {
   "cell_type": "code",
   "execution_count": 2,
   "id": "e23467d8",
   "metadata": {},
   "outputs": [],
   "source": [
    "img = misc.face()"
   ]
  },
  {
   "cell_type": "code",
   "execution_count": null,
   "id": "0716a477",
   "metadata": {},
   "outputs": [],
   "source": []
  }
 ],
 "metadata": {
  "kernelspec": {
   "display_name": "Python 3 (ipykernel)",
   "language": "python",
   "name": "python3"
  },
  "language_info": {
   "codemirror_mode": {
    "name": "ipython",
    "version": 3
   },
   "file_extension": ".py",
   "mimetype": "text/x-python",
   "name": "python",
   "nbconvert_exporter": "python",
   "pygments_lexer": "ipython3",
   "version": "3.11.1"
  }
 },
 "nbformat": 4,
 "nbformat_minor": 5
}
