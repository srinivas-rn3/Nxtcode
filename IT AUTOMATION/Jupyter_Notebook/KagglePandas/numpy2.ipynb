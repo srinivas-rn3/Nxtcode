{
 "cells": [
  {
   "cell_type": "markdown",
   "id": "fd0e2ccd",
   "metadata": {},
   "source": [
    "***In a multi-dimensional array, items can be accessed using a comma-separated tuple of indices:***"
   ]
  },
  {
   "cell_type": "code",
   "execution_count": 104,
   "id": "ef21725f",
   "metadata": {},
   "outputs": [],
   "source": [
    "import numpy as np"
   ]
  },
  {
   "cell_type": "code",
   "execution_count": 105,
   "id": "88615824",
   "metadata": {},
   "outputs": [],
   "source": [
    "x2 = np.array([[3, 5, 2, 4],\n",
    "       [7, 6, 8, 8],\n",
    "       [1, 6, 7, 7]])"
   ]
  },
  {
   "cell_type": "code",
   "execution_count": 106,
   "id": "93124a39",
   "metadata": {},
   "outputs": [
    {
     "data": {
      "text/plain": [
       "3"
      ]
     },
     "execution_count": 106,
     "metadata": {},
     "output_type": "execute_result"
    }
   ],
   "source": [
    "x2[0,0]"
   ]
  },
  {
   "cell_type": "code",
   "execution_count": 107,
   "id": "2c6227ad",
   "metadata": {},
   "outputs": [
    {
     "data": {
      "text/plain": [
       "1"
      ]
     },
     "execution_count": 107,
     "metadata": {},
     "output_type": "execute_result"
    }
   ],
   "source": [
    "x2[2,0]"
   ]
  },
  {
   "cell_type": "code",
   "execution_count": 108,
   "id": "e64a79f8",
   "metadata": {},
   "outputs": [
    {
     "data": {
      "text/plain": [
       "7"
      ]
     },
     "execution_count": 108,
     "metadata": {},
     "output_type": "execute_result"
    }
   ],
   "source": [
    "x2[2,-1]"
   ]
  },
  {
   "cell_type": "markdown",
   "id": "a877632b",
   "metadata": {},
   "source": [
    "***Values can also be modified using any of the above index notation:***"
   ]
  },
  {
   "cell_type": "code",
   "execution_count": 109,
   "id": "592cc0cb",
   "metadata": {},
   "outputs": [],
   "source": [
    "x2[0,0] = 12"
   ]
  },
  {
   "cell_type": "code",
   "execution_count": 110,
   "id": "b95b732d",
   "metadata": {},
   "outputs": [
    {
     "data": {
      "text/plain": [
       "array([[12,  5,  2,  4],\n",
       "       [ 7,  6,  8,  8],\n",
       "       [ 1,  6,  7,  7]])"
      ]
     },
     "execution_count": 110,
     "metadata": {},
     "output_type": "execute_result"
    }
   ],
   "source": [
    "x2"
   ]
  },
  {
   "cell_type": "code",
   "execution_count": 111,
   "id": "86959475",
   "metadata": {},
   "outputs": [],
   "source": [
    "x2[0] = 3.9"
   ]
  },
  {
   "cell_type": "code",
   "execution_count": 112,
   "id": "be88e807",
   "metadata": {},
   "outputs": [
    {
     "data": {
      "text/plain": [
       "array([[3, 3, 3, 3],\n",
       "       [7, 6, 8, 8],\n",
       "       [1, 6, 7, 7]])"
      ]
     },
     "execution_count": 112,
     "metadata": {},
     "output_type": "execute_result"
    }
   ],
   "source": [
    "x2"
   ]
  },
  {
   "cell_type": "markdown",
   "id": "72f5b453",
   "metadata": {},
   "source": [
    "***Array Slicing: Accessing Subarrays***"
   ]
  },
  {
   "cell_type": "code",
   "execution_count": 113,
   "id": "8e85d0c6",
   "metadata": {},
   "outputs": [],
   "source": [
    "x = np.arange(10)"
   ]
  },
  {
   "cell_type": "code",
   "execution_count": 114,
   "id": "490194f1",
   "metadata": {},
   "outputs": [
    {
     "data": {
      "text/plain": [
       "array([0, 1, 2, 3, 4, 5, 6, 7, 8, 9])"
      ]
     },
     "execution_count": 114,
     "metadata": {},
     "output_type": "execute_result"
    }
   ],
   "source": [
    "x"
   ]
  },
  {
   "cell_type": "code",
   "execution_count": 115,
   "id": "3910b1cd",
   "metadata": {},
   "outputs": [
    {
     "data": {
      "text/plain": [
       "array([0, 1, 2, 3, 4])"
      ]
     },
     "execution_count": 115,
     "metadata": {},
     "output_type": "execute_result"
    }
   ],
   "source": [
    "x[:5]"
   ]
  },
  {
   "cell_type": "code",
   "execution_count": 116,
   "id": "38366bb8",
   "metadata": {},
   "outputs": [
    {
     "data": {
      "text/plain": [
       "array([5, 6, 7, 8, 9])"
      ]
     },
     "execution_count": 116,
     "metadata": {},
     "output_type": "execute_result"
    }
   ],
   "source": [
    "x[5:]"
   ]
  },
  {
   "cell_type": "code",
   "execution_count": 117,
   "id": "89f9af0c",
   "metadata": {},
   "outputs": [
    {
     "data": {
      "text/plain": [
       "array([4, 5, 6])"
      ]
     },
     "execution_count": 117,
     "metadata": {},
     "output_type": "execute_result"
    }
   ],
   "source": [
    "x[4:7]"
   ]
  },
  {
   "cell_type": "code",
   "execution_count": 118,
   "id": "ab248fea",
   "metadata": {},
   "outputs": [
    {
     "data": {
      "text/plain": [
       "array([0, 2, 4, 6, 8])"
      ]
     },
     "execution_count": 118,
     "metadata": {},
     "output_type": "execute_result"
    }
   ],
   "source": [
    "x[::2]# every other element"
   ]
  },
  {
   "cell_type": "code",
   "execution_count": 119,
   "id": "6316bd28",
   "metadata": {},
   "outputs": [
    {
     "data": {
      "text/plain": [
       "array([1, 3, 5, 7, 9])"
      ]
     },
     "execution_count": 119,
     "metadata": {},
     "output_type": "execute_result"
    }
   ],
   "source": [
    "x[1::2]  # every other element, starting at index 1"
   ]
  },
  {
   "cell_type": "code",
   "execution_count": 120,
   "id": "16feab92",
   "metadata": {},
   "outputs": [
    {
     "data": {
      "text/plain": [
       "array([9, 8, 7, 6, 5, 4, 3, 2, 1, 0])"
      ]
     },
     "execution_count": 120,
     "metadata": {},
     "output_type": "execute_result"
    }
   ],
   "source": [
    "x[::-1]"
   ]
  },
  {
   "cell_type": "code",
   "execution_count": 121,
   "id": "55ddbfa9",
   "metadata": {},
   "outputs": [
    {
     "data": {
      "text/plain": [
       "array([1, 3, 5, 7, 9])"
      ]
     },
     "execution_count": 121,
     "metadata": {},
     "output_type": "execute_result"
    }
   ],
   "source": [
    "x[1::2]  # every other element, starting at index 1"
   ]
  },
  {
   "cell_type": "markdown",
   "id": "f9bb0e78",
   "metadata": {},
   "source": [
    "***Multi-dimensional subarrays***"
   ]
  },
  {
   "cell_type": "code",
   "execution_count": 122,
   "id": "bad8ce88",
   "metadata": {},
   "outputs": [
    {
     "data": {
      "text/plain": [
       "array([[3, 3, 3, 3],\n",
       "       [7, 6, 8, 8],\n",
       "       [1, 6, 7, 7]])"
      ]
     },
     "execution_count": 122,
     "metadata": {},
     "output_type": "execute_result"
    }
   ],
   "source": [
    "x2"
   ]
  },
  {
   "cell_type": "code",
   "execution_count": 123,
   "id": "d72d0db6",
   "metadata": {},
   "outputs": [
    {
     "data": {
      "text/plain": [
       "array([[3, 3, 3],\n",
       "       [7, 6, 8]])"
      ]
     },
     "execution_count": 123,
     "metadata": {},
     "output_type": "execute_result"
    }
   ],
   "source": [
    "x2[:2, :3] # two rows, three columns"
   ]
  },
  {
   "cell_type": "code",
   "execution_count": 33,
   "id": "24fc676a",
   "metadata": {},
   "outputs": [
    {
     "data": {
      "text/plain": [
       "array([[3, 3],\n",
       "       [7, 8],\n",
       "       [1, 7]])"
      ]
     },
     "execution_count": 33,
     "metadata": {},
     "output_type": "execute_result"
    }
   ],
   "source": [
    "x2[:3 ,::2] # all rows, every other column"
   ]
  },
  {
   "cell_type": "markdown",
   "id": "7371cdbe",
   "metadata": {},
   "source": [
    "***Accessing array rows and columns***"
   ]
  },
  {
   "cell_type": "code",
   "execution_count": 36,
   "id": "21dd3050",
   "metadata": {},
   "outputs": [
    {
     "data": {
      "text/plain": [
       "array([3, 7, 1])"
      ]
     },
     "execution_count": 36,
     "metadata": {},
     "output_type": "execute_result"
    }
   ],
   "source": [
    "x2[:,0] # first column of x2"
   ]
  },
  {
   "cell_type": "code",
   "execution_count": 37,
   "id": "b18dfc64",
   "metadata": {},
   "outputs": [
    {
     "data": {
      "text/plain": [
       "array([3, 3, 3, 3])"
      ]
     },
     "execution_count": 37,
     "metadata": {},
     "output_type": "execute_result"
    }
   ],
   "source": [
    "x2[0,:]# first row of x2"
   ]
  },
  {
   "cell_type": "code",
   "execution_count": 39,
   "id": "6388501d",
   "metadata": {},
   "outputs": [
    {
     "data": {
      "text/plain": [
       "array([3, 3, 3, 3])"
      ]
     },
     "execution_count": 39,
     "metadata": {},
     "output_type": "execute_result"
    }
   ],
   "source": [
    "x2[0]# equivalent to x2[0, :]"
   ]
  },
  {
   "cell_type": "markdown",
   "id": "ee6327d2",
   "metadata": {},
   "source": [
    "***Subarrays as no-copy views***"
   ]
  },
  {
   "cell_type": "code",
   "execution_count": 40,
   "id": "9bfeae24",
   "metadata": {},
   "outputs": [
    {
     "data": {
      "text/plain": [
       "array([[3, 3, 3, 3],\n",
       "       [7, 6, 8, 8],\n",
       "       [1, 6, 7, 7]])"
      ]
     },
     "execution_count": 40,
     "metadata": {},
     "output_type": "execute_result"
    }
   ],
   "source": [
    "x2"
   ]
  },
  {
   "cell_type": "code",
   "execution_count": 45,
   "id": "e6977149",
   "metadata": {},
   "outputs": [],
   "source": [
    "x2_sub = x2[:2,:2] #Let's extract a 2×2 subarray"
   ]
  },
  {
   "cell_type": "code",
   "execution_count": 46,
   "id": "18b78056",
   "metadata": {},
   "outputs": [
    {
     "data": {
      "text/plain": [
       "array([[3, 3],\n",
       "       [7, 6]])"
      ]
     },
     "execution_count": 46,
     "metadata": {},
     "output_type": "execute_result"
    }
   ],
   "source": [
    "x2_sub"
   ]
  },
  {
   "cell_type": "code",
   "execution_count": 47,
   "id": "0b394251",
   "metadata": {},
   "outputs": [],
   "source": [
    "x2_sub[0,0] =99 # modify this subarray"
   ]
  },
  {
   "cell_type": "code",
   "execution_count": 48,
   "id": "1f8f688c",
   "metadata": {},
   "outputs": [
    {
     "data": {
      "text/plain": [
       "array([[99,  3],\n",
       "       [ 7,  6]])"
      ]
     },
     "execution_count": 48,
     "metadata": {},
     "output_type": "execute_result"
    }
   ],
   "source": [
    "x2_sub"
   ]
  },
  {
   "cell_type": "code",
   "execution_count": 49,
   "id": "8eea36ca",
   "metadata": {},
   "outputs": [
    {
     "data": {
      "text/plain": [
       "array([[99,  3,  3,  3],\n",
       "       [ 7,  6,  8,  8],\n",
       "       [ 1,  6,  7,  7]])"
      ]
     },
     "execution_count": 49,
     "metadata": {},
     "output_type": "execute_result"
    }
   ],
   "source": [
    "x2"
   ]
  },
  {
   "cell_type": "markdown",
   "id": "878cf322",
   "metadata": {},
   "source": [
    "***Creating copies of arrays***\n",
    "\n",
    "Despite the nice features of array views, it is sometimes useful to\n",
    "instead explicitly copy the data within an array or a subarray. \n",
    "This can be most easily done with the copy() method:"
   ]
  },
  {
   "cell_type": "code",
   "execution_count": 50,
   "id": "abc5a7e6",
   "metadata": {},
   "outputs": [],
   "source": [
    "x2_sub_copy = x2[:2,:2].copy() #copy() method:"
   ]
  },
  {
   "cell_type": "code",
   "execution_count": 51,
   "id": "536f8e67",
   "metadata": {},
   "outputs": [
    {
     "data": {
      "text/plain": [
       "array([[99,  3],\n",
       "       [ 7,  6]])"
      ]
     },
     "execution_count": 51,
     "metadata": {},
     "output_type": "execute_result"
    }
   ],
   "source": [
    "x2_sub_copy"
   ]
  },
  {
   "cell_type": "code",
   "execution_count": 52,
   "id": "c9fd18f6",
   "metadata": {},
   "outputs": [],
   "source": [
    "x2_sub_copy[0,0] = 42"
   ]
  },
  {
   "cell_type": "code",
   "execution_count": 53,
   "id": "eb596f73",
   "metadata": {},
   "outputs": [
    {
     "data": {
      "text/plain": [
       "array([[42,  3],\n",
       "       [ 7,  6]])"
      ]
     },
     "execution_count": 53,
     "metadata": {},
     "output_type": "execute_result"
    }
   ],
   "source": [
    "x2_sub_copy"
   ]
  },
  {
   "cell_type": "code",
   "execution_count": 54,
   "id": "23fbe7a1",
   "metadata": {},
   "outputs": [
    {
     "data": {
      "text/plain": [
       "array([[99,  3,  3,  3],\n",
       "       [ 7,  6,  8,  8],\n",
       "       [ 1,  6,  7,  7]])"
      ]
     },
     "execution_count": 54,
     "metadata": {},
     "output_type": "execute_result"
    }
   ],
   "source": [
    "x2"
   ]
  },
  {
   "cell_type": "markdown",
   "id": "9a866b36",
   "metadata": {},
   "source": [
    "***Reshaping of Arrays***"
   ]
  },
  {
   "cell_type": "markdown",
   "id": "4b537a8d",
   "metadata": {},
   "source": [
    "Another useful type of operation is reshaping of arrays. \n",
    "The most flexible way of doing this is with the reshape method. \n",
    "For example, if you want to put the numbers 1 through 9 in a 3×3\n",
    " grid, you can do the following:"
   ]
  },
  {
   "cell_type": "code",
   "execution_count": 58,
   "id": "25583b9a",
   "metadata": {},
   "outputs": [
    {
     "name": "stdout",
     "output_type": "stream",
     "text": [
      "[1 2 3 4 5 6 7 8 9]\n"
     ]
    }
   ],
   "source": [
    "grid = np.arange(1, 10)\n",
    "print(grid)"
   ]
  },
  {
   "cell_type": "raw",
   "id": "4d8894b0",
   "metadata": {},
   "source": [
    "grid.reshape((3,3))"
   ]
  },
  {
   "cell_type": "code",
   "execution_count": 59,
   "id": "ac76308d",
   "metadata": {},
   "outputs": [
    {
     "data": {
      "text/plain": [
       "array([1, 2, 3, 4, 5, 6, 7, 8, 9])"
      ]
     },
     "execution_count": 59,
     "metadata": {},
     "output_type": "execute_result"
    }
   ],
   "source": [
    "grid"
   ]
  },
  {
   "cell_type": "code",
   "execution_count": 63,
   "id": "58d818c6",
   "metadata": {},
   "outputs": [
    {
     "data": {
      "text/plain": [
       "array([[2, 4, 6]])"
      ]
     },
     "execution_count": 63,
     "metadata": {},
     "output_type": "execute_result"
    }
   ],
   "source": [
    "x3 = np.array([2,4,6])\n",
    "# row vector via reshape\n",
    "x3.reshape((1,3))"
   ]
  },
  {
   "cell_type": "code",
   "execution_count": 64,
   "id": "70cff544",
   "metadata": {},
   "outputs": [
    {
     "data": {
      "text/plain": [
       "array([[2, 4, 6]])"
      ]
     },
     "execution_count": 64,
     "metadata": {},
     "output_type": "execute_result"
    }
   ],
   "source": [
    "#row vector via newaxis\n",
    "x3[np.newaxis,:]"
   ]
  },
  {
   "cell_type": "code",
   "execution_count": 66,
   "id": "7e229c24",
   "metadata": {},
   "outputs": [
    {
     "data": {
      "text/plain": [
       "array([[2],\n",
       "       [4],\n",
       "       [6]])"
      ]
     },
     "execution_count": 66,
     "metadata": {},
     "output_type": "execute_result"
    }
   ],
   "source": [
    "#column vector via reshape\n",
    "x3.reshape((3,1))"
   ]
  },
  {
   "cell_type": "code",
   "execution_count": 68,
   "id": "19c5a3c8",
   "metadata": {},
   "outputs": [
    {
     "data": {
      "text/plain": [
       "array([[2],\n",
       "       [4],\n",
       "       [6]])"
      ]
     },
     "execution_count": 68,
     "metadata": {},
     "output_type": "execute_result"
    }
   ],
   "source": [
    "# column vector via newaxis\n",
    "x3[:,np.newaxis]"
   ]
  },
  {
   "cell_type": "markdown",
   "id": "2c1f56a3",
   "metadata": {},
   "source": [
    "***column vector via newaxis***\n",
    "\n",
    "All of the preceding routines worked on single arrays. It's also possible to combine multiple arrays into one, and to conversely split a single array into multiple arrays. We'll take a look at those operations here"
   ]
  },
  {
   "cell_type": "code",
   "execution_count": 69,
   "id": "63e97023",
   "metadata": {},
   "outputs": [
    {
     "data": {
      "text/plain": [
       "array([1, 2, 3, 3, 5, 6])"
      ]
     },
     "execution_count": 69,
     "metadata": {},
     "output_type": "execute_result"
    }
   ],
   "source": [
    "x = np.array([1,2,3])\n",
    "y = np.array([3,5,6])\n",
    "np.concatenate([x,y])"
   ]
  },
  {
   "cell_type": "code",
   "execution_count": 70,
   "id": "a9caaf16",
   "metadata": {},
   "outputs": [
    {
     "name": "stdout",
     "output_type": "stream",
     "text": [
      "[ 1  2  3  3  5  6 99 99 99]\n"
     ]
    }
   ],
   "source": [
    "z = [99,99,99]#You can also concatenate more than two arrays at once\n",
    "print(np.concatenate([x,y,z]))"
   ]
  },
  {
   "cell_type": "code",
   "execution_count": 73,
   "id": "df17f8aa",
   "metadata": {},
   "outputs": [
    {
     "data": {
      "text/plain": [
       "array([[ 9,  8, 10],\n",
       "       [11, 12, 13],\n",
       "       [ 2,  3,  4],\n",
       "       [33, 33, 33]])"
      ]
     },
     "execution_count": 73,
     "metadata": {},
     "output_type": "execute_result"
    }
   ],
   "source": [
    "grid = np.array([[9,8,10],[11,12,13]])\n",
    "grid1 = np.array([[2,3,4],[33,33,33]])\n",
    "np.concatenate([grid,grid1])"
   ]
  },
  {
   "cell_type": "markdown",
   "id": "7130c951",
   "metadata": {},
   "source": [
    "For working with arrays of mixed dimensions, it can be clearer to use the\n",
    "np.vstack (vertical stack) and np.hstack (horizontal stack) functions:"
   ]
  },
  {
   "cell_type": "code",
   "execution_count": 74,
   "id": "45c2ef32",
   "metadata": {},
   "outputs": [
    {
     "data": {
      "text/plain": [
       "array([[1, 2, 3],\n",
       "       [9, 8, 7],\n",
       "       [6, 7, 8]])"
      ]
     },
     "execution_count": 74,
     "metadata": {},
     "output_type": "execute_result"
    }
   ],
   "source": [
    "x = np.array([1,2,3])\n",
    "grid = np.array([[9,8,7],\n",
    "                [6,7,8]])\n",
    "np.vstack([x,grid])"
   ]
  },
  {
   "cell_type": "code",
   "execution_count": 76,
   "id": "deda56e8",
   "metadata": {},
   "outputs": [
    {
     "data": {
      "text/plain": [
       "array([[ 9,  8,  7, 99],\n",
       "       [ 6,  7,  8, 99]])"
      ]
     },
     "execution_count": 76,
     "metadata": {},
     "output_type": "execute_result"
    }
   ],
   "source": [
    "y = np.array([[99],[99]])\n",
    "np.hstack([grid,y])"
   ]
  },
  {
   "cell_type": "markdown",
   "id": "97e90e24",
   "metadata": {},
   "source": [
    "***Splitting of arrays***"
   ]
  },
  {
   "cell_type": "markdown",
   "id": "e9242e81",
   "metadata": {},
   "source": [
    "The opposite of concatenation is splitting, which is implemented by the functions np.split, np.hsplit, and np.vsplit. For each of these, we can pass a list of indices giving the split points:"
   ]
  },
  {
   "cell_type": "code",
   "execution_count": 94,
   "id": "49af4b17",
   "metadata": {},
   "outputs": [],
   "source": [
    "x = [1, 2, 3, 99, 99, 3, 2, 1]\n",
    "x1,x2,x3 = np.split(x,[5,3])"
   ]
  },
  {
   "cell_type": "code",
   "execution_count": 95,
   "id": "47b3ba2b",
   "metadata": {},
   "outputs": [
    {
     "data": {
      "text/plain": [
       "array([ 1,  2,  3, 99, 99])"
      ]
     },
     "execution_count": 95,
     "metadata": {},
     "output_type": "execute_result"
    }
   ],
   "source": [
    "x1"
   ]
  },
  {
   "cell_type": "code",
   "execution_count": 96,
   "id": "ec973ad9",
   "metadata": {},
   "outputs": [
    {
     "data": {
      "text/plain": [
       "array([], dtype=int32)"
      ]
     },
     "execution_count": 96,
     "metadata": {},
     "output_type": "execute_result"
    }
   ],
   "source": [
    "x2"
   ]
  },
  {
   "cell_type": "code",
   "execution_count": 97,
   "id": "1102db31",
   "metadata": {},
   "outputs": [
    {
     "data": {
      "text/plain": [
       "array([99, 99,  3,  2,  1])"
      ]
     },
     "execution_count": 97,
     "metadata": {},
     "output_type": "execute_result"
    }
   ],
   "source": [
    "x3"
   ]
  },
  {
   "cell_type": "markdown",
   "id": "d4a03f17",
   "metadata": {},
   "source": [
    "***Notice that N split-points, leads to N + 1 subarrays. The related functions np.hsplit and np.vsplit are similar:***"
   ]
  },
  {
   "cell_type": "code",
   "execution_count": 98,
   "id": "e46fac19",
   "metadata": {},
   "outputs": [
    {
     "data": {
      "text/plain": [
       "array([[ 0,  1,  2,  3],\n",
       "       [ 4,  5,  6,  7],\n",
       "       [ 8,  9, 10, 11],\n",
       "       [12, 13, 14, 15]])"
      ]
     },
     "execution_count": 98,
     "metadata": {},
     "output_type": "execute_result"
    }
   ],
   "source": [
    "grid = np.arange(16).reshape((4, 4))\n",
    "grid"
   ]
  },
  {
   "cell_type": "code",
   "execution_count": 99,
   "id": "099f6f59",
   "metadata": {},
   "outputs": [],
   "source": [
    "u,p = np.vsplit(grid,[2])"
   ]
  },
  {
   "cell_type": "code",
   "execution_count": 100,
   "id": "4c43807f",
   "metadata": {},
   "outputs": [
    {
     "data": {
      "text/plain": [
       "(array([[0, 1, 2, 3],\n",
       "        [4, 5, 6, 7]]),\n",
       " array([[ 8,  9, 10, 11],\n",
       "        [12, 13, 14, 15]]))"
      ]
     },
     "execution_count": 100,
     "metadata": {},
     "output_type": "execute_result"
    }
   ],
   "source": [
    "u,p"
   ]
  },
  {
   "cell_type": "code",
   "execution_count": 101,
   "id": "4b6be582",
   "metadata": {},
   "outputs": [
    {
     "data": {
      "text/plain": [
       "(array([[ 0,  1],\n",
       "        [ 4,  5],\n",
       "        [ 8,  9],\n",
       "        [12, 13]]),\n",
       " array([[ 2,  3],\n",
       "        [ 6,  7],\n",
       "        [10, 11],\n",
       "        [14, 15]]))"
      ]
     },
     "execution_count": 101,
     "metadata": {},
     "output_type": "execute_result"
    }
   ],
   "source": [
    "l,r = np.hsplit(grid,[2])\n",
    "l,r"
   ]
  },
  {
   "cell_type": "code",
   "execution_count": null,
   "id": "4c353578",
   "metadata": {},
   "outputs": [],
   "source": []
  }
 ],
 "metadata": {
  "kernelspec": {
   "display_name": "Python 3 (ipykernel)",
   "language": "python",
   "name": "python3"
  },
  "language_info": {
   "codemirror_mode": {
    "name": "ipython",
    "version": 3
   },
   "file_extension": ".py",
   "mimetype": "text/x-python",
   "name": "python",
   "nbconvert_exporter": "python",
   "pygments_lexer": "ipython3",
   "version": "3.11.1"
  }
 },
 "nbformat": 4,
 "nbformat_minor": 5
}
