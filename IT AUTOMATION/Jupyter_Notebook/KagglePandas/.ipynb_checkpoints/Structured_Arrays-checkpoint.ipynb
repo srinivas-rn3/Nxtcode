{
 "cells": [
  {
   "cell_type": "markdown",
   "id": "be09a69c",
   "metadata": {},
   "source": [
    "### Structured arrays"
   ]
  },
  {
   "cell_type": "code",
   "execution_count": 1,
   "id": "443d273d",
   "metadata": {},
   "outputs": [],
   "source": [
    "#https://numpy.org/doc/stable/user/basics.rec.html"
   ]
  },
  {
   "cell_type": "markdown",
   "id": "2d93374e",
   "metadata": {},
   "source": [
    "Structured arrays are ndarrays whose datatype is a composition of simpler datatypes organized as a sequence of named fields. For example,"
   ]
  },
  {
   "cell_type": "code",
   "execution_count": 3,
   "id": "403148ee",
   "metadata": {},
   "outputs": [],
   "source": [
    "import numpy as np"
   ]
  },
  {
   "cell_type": "code",
   "execution_count": 6,
   "id": "810b91d0",
   "metadata": {},
   "outputs": [
    {
     "data": {
      "text/plain": [
       "array([('Rex', 9, 81.), ('Fed', 3, 27.)],\n",
       "      dtype=[('names', '<U10'), ('age', '<i4'), ('weight', '<f4')])"
      ]
     },
     "execution_count": 6,
     "metadata": {},
     "output_type": "execute_result"
    }
   ],
   "source": [
    "x = np.array([('Rex',9,81.0),('Fed',3,27.0)],dtype=[('names','U10'),('age','i4'),('weight','f4')])\n",
    "x"
   ]
  },
  {
   "cell_type": "code",
   "execution_count": 7,
   "id": "495823ce",
   "metadata": {},
   "outputs": [
    {
     "data": {
      "text/plain": [
       "('Fed', 3, 27.)"
      ]
     },
     "execution_count": 7,
     "metadata": {},
     "output_type": "execute_result"
    }
   ],
   "source": [
    "x[1]"
   ]
  },
  {
   "cell_type": "code",
   "execution_count": 8,
   "id": "8f5b4588",
   "metadata": {},
   "outputs": [
    {
     "data": {
      "text/plain": [
       "array([9, 3])"
      ]
     },
     "execution_count": 8,
     "metadata": {},
     "output_type": "execute_result"
    }
   ],
   "source": [
    "x['age']"
   ]
  },
  {
   "cell_type": "code",
   "execution_count": 11,
   "id": "c63aba7c",
   "metadata": {},
   "outputs": [],
   "source": [
    "x['age'] = ([15,25])"
   ]
  },
  {
   "cell_type": "code",
   "execution_count": 12,
   "id": "e614bc67",
   "metadata": {},
   "outputs": [
    {
     "data": {
      "text/plain": [
       "array([('Rex', 15, 81.), ('Fed', 25, 27.)],\n",
       "      dtype=[('names', '<U10'), ('age', '<i4'), ('weight', '<f4')])"
      ]
     },
     "execution_count": 12,
     "metadata": {},
     "output_type": "execute_result"
    }
   ],
   "source": [
    "x"
   ]
  },
  {
   "cell_type": "markdown",
   "id": "a4577792",
   "metadata": {},
   "source": [
    "**Assignment from Python Native Types (Tuples)**\n",
    "The simplest way to assign values to a structured array is using python tuples. Each assigned value should be a tuple of length equal to the number of fields in the array, and not a list or array as these will trigger numpy’s broadcasting rules. The tuple’s elements are assigned to the successive fields of the array, from left to right:"
   ]
  },
  {
   "cell_type": "code",
   "execution_count": 15,
   "id": "860c76e1",
   "metadata": {},
   "outputs": [
    {
     "data": {
      "text/plain": [
       "array([(3, 3.,  True, b'3'), (3, 3.,  True, b'3')],\n",
       "      dtype=[('f0', '<i8'), ('f1', '<f4'), ('f2', '?'), ('f3', 'S1')])"
      ]
     },
     "execution_count": 15,
     "metadata": {},
     "output_type": "execute_result"
    }
   ],
   "source": [
    "x1 = np.zeros(2,dtype='i8,f4,?,S1')\n",
    "x1[:] = 3\n",
    "x1"
   ]
  },
  {
   "cell_type": "code",
   "execution_count": 16,
   "id": "7a0b4384",
   "metadata": {},
   "outputs": [],
   "source": [
    "#Structured Datatype Creation"
   ]
  },
  {
   "cell_type": "code",
   "execution_count": 17,
   "id": "87a0a246",
   "metadata": {},
   "outputs": [
    {
     "data": {
      "text/plain": [
       "dtype([('x', '<f4'), ('y', '<f4'), ('z', '<f4', (2, 2))])"
      ]
     },
     "execution_count": 17,
     "metadata": {},
     "output_type": "execute_result"
    }
   ],
   "source": [
    "np.dtype([('x','f4'),('y',np.float32),('z','f4',(2,2))])"
   ]
  },
  {
   "cell_type": "markdown",
   "id": "6cae1fe8",
   "metadata": {},
   "source": [
    "If fieldname is the empty string '', the field will be given a default name of the form f#, where # is the integer index of the field, counting from 0 from the left:"
   ]
  },
  {
   "cell_type": "code",
   "execution_count": 18,
   "id": "a95b6e70",
   "metadata": {},
   "outputs": [
    {
     "data": {
      "text/plain": [
       "dtype([('x', '<f4'), ('f1', '<i4'), ('z', '<i8')])"
      ]
     },
     "execution_count": 18,
     "metadata": {},
     "output_type": "execute_result"
    }
   ],
   "source": [
    "np.dtype([('x','f4'),('','i4'),('z','i8')])"
   ]
  },
  {
   "cell_type": "code",
   "execution_count": 19,
   "id": "db28f1ff",
   "metadata": {},
   "outputs": [
    {
     "data": {
      "text/plain": [
       "dtype([('x', '<f4'), ('f1', '<i4'), ('z', '<i8')])"
      ]
     },
     "execution_count": 19,
     "metadata": {},
     "output_type": "execute_result"
    }
   ],
   "source": [
    "np.dtype([('x','f4'),('','i4'),('z','i8')])"
   ]
  },
  {
   "cell_type": "code",
   "execution_count": 20,
   "id": "ad749f16",
   "metadata": {},
   "outputs": [
    {
     "data": {
      "text/plain": [
       "dtype([('f0', '<i8'), ('f1', '<f4'), ('f2', 'S3')])"
      ]
     },
     "execution_count": 20,
     "metadata": {},
     "output_type": "execute_result"
    }
   ],
   "source": [
    "    np.dtype('i8,f4,S3')\n",
    "    "
   ]
  },
  {
   "cell_type": "code",
   "execution_count": 21,
   "id": "6bf816fa",
   "metadata": {},
   "outputs": [
    {
     "data": {
      "text/plain": [
       "dtype([('f0', 'i1', (3,)), ('f1', '<f4'), ('f2', '<f8', (2, 3))])"
      ]
     },
     "execution_count": 21,
     "metadata": {},
     "output_type": "execute_result"
    }
   ],
   "source": [
    "np.dtype('3int8,float32,(2,3)float64')"
   ]
  },
  {
   "cell_type": "markdown",
   "id": "effa10a2",
   "metadata": {},
   "source": [
    "The dictionary has two required keys, ‘names’ and ‘formats’, and four optional keys, ‘offsets’, ‘itemsize’, ‘aligned’ and ‘titles’. The values for ‘names’ and ‘formats’ should respectively be a list of field names and a list of dtype specifications, of the same length. The optional ‘offsets’ value should be a list of integer byte-offsets, one for each field within the structure. If ‘offsets’ is not given the offsets are determined automatically. The optional ‘itemsize’ value should be an integer describing the total size in bytes of the dtype, which must be large enough to contain all the fields."
   ]
  },
  {
   "cell_type": "code",
   "execution_count": 23,
   "id": "13878b49",
   "metadata": {},
   "outputs": [
    {
     "data": {
      "text/plain": [
       "dtype([('col1', '<i4'), ('col2', '<f4')])"
      ]
     },
     "execution_count": 23,
     "metadata": {},
     "output_type": "execute_result"
    }
   ],
   "source": [
    "np.dtype({'names':['col1','col2'],'formats':['i4','f4']})"
   ]
  },
  {
   "cell_type": "code",
   "execution_count": 25,
   "id": "adc0cdb9",
   "metadata": {},
   "outputs": [
    {
     "data": {
      "text/plain": [
       "dtype({'names': ['col1', 'col2'], 'formats': ['<i4', '<f4'], 'offsets': [0, 4], 'itemsize': 12})"
      ]
     },
     "execution_count": 25,
     "metadata": {},
     "output_type": "execute_result"
    }
   ],
   "source": [
    "np.dtype({'names':['col1','col2'],\n",
    "         'formats':['i4','f4'],\n",
    "         'offsets':[0,4],\n",
    "         'itemsize':12})"
   ]
  },
  {
   "cell_type": "code",
   "execution_count": 29,
   "id": "7dcbb6f8",
   "metadata": {},
   "outputs": [
    {
     "data": {
      "text/plain": [
       "array({'col1': ('i1', 0), 'col2': ('f4', 1)}, dtype=object)"
      ]
     },
     "execution_count": 29,
     "metadata": {},
     "output_type": "execute_result"
    }
   ],
   "source": [
    "np.array({'col1':('i1',0),'col2':('f4',1)})"
   ]
  },
  {
   "cell_type": "code",
   "execution_count": 1,
   "id": "0c6b9cd7",
   "metadata": {},
   "outputs": [],
   "source": [
    "#Manipulating and Displaying Structured Datatypes"
   ]
  },
  {
   "cell_type": "markdown",
   "id": "c88b3ffb",
   "metadata": {},
   "source": [
    "The list of field names of a structured datatype can be found in the names attribute of the dtype object:"
   ]
  },
  {
   "cell_type": "code",
   "execution_count": 4,
   "id": "adee7f9e",
   "metadata": {},
   "outputs": [
    {
     "data": {
      "text/plain": [
       "('x', 'y')"
      ]
     },
     "execution_count": 4,
     "metadata": {},
     "output_type": "execute_result"
    }
   ],
   "source": [
    "d = np.dtype([('x','i8'),('y','f4')])\n",
    "d.names"
   ]
  },
  {
   "cell_type": "code",
   "execution_count": 5,
   "id": "4ced6f45",
   "metadata": {},
   "outputs": [
    {
     "data": {
      "text/plain": [
       "mappingproxy({'x': (dtype('int64'), 0), 'y': (dtype('float32'), 8)})"
      ]
     },
     "execution_count": 5,
     "metadata": {},
     "output_type": "execute_result"
    }
   ],
   "source": [
    "d.fields"
   ]
  },
  {
   "cell_type": "markdown",
   "id": "3912417f",
   "metadata": {},
   "source": [
    "The dtype object also has a dictionary-like attribute, fields, whose keys are the field names (and Field Titles, see below) and whose values are tuples containing the dtype and byte offset of each field."
   ]
  },
  {
   "cell_type": "code",
   "execution_count": 9,
   "id": "ca17e741",
   "metadata": {},
   "outputs": [
    {
     "name": "stdout",
     "output_type": "stream",
     "text": [
      "offset: [0, 1, 2, 6, 7, 11]\n",
      "itemsize: 13\n"
     ]
    }
   ],
   "source": [
    "def offset_print(d):\n",
    "    print(\"offset:\",[d.fields[name][1] for name in d.names])\n",
    "    print(\"itemsize:\",d.itemsize)\n",
    "offset_print(np.dtype('u1,u1,i4,u1,i4,u2'))"
   ]
  },
  {
   "cell_type": "code",
   "execution_count": 10,
   "id": "f6cc9ffc",
   "metadata": {},
   "outputs": [
    {
     "name": "stdout",
     "output_type": "stream",
     "text": [
      "offset: [0, 1, 4, 8, 12, 16]\n",
      "itemsize: 20\n"
     ]
    }
   ],
   "source": [
    "offset_print(np.dtype('u1,u1,i4,u1,i4,u2',align=True))"
   ]
  },
  {
   "cell_type": "markdown",
   "id": "e58d0b9e",
   "metadata": {},
   "source": [
    "**Field Titles**"
   ]
  },
  {
   "cell_type": "markdown",
   "id": "03482053",
   "metadata": {},
   "source": [
    "In addition to field names, fields may also have an associated title, an alternate name, which is sometimes used as an additional description or alias for the field. The title may be used to index an array, just like a field name."
   ]
  },
  {
   "cell_type": "code",
   "execution_count": 11,
   "id": "7a68bee0",
   "metadata": {},
   "outputs": [
    {
     "data": {
      "text/plain": [
       "dtype([(('my title', 'name'), '<f4')])"
      ]
     },
     "execution_count": 11,
     "metadata": {},
     "output_type": "execute_result"
    }
   ],
   "source": [
    "np.dtype([((\"my title\",\"name\"),'f4')])"
   ]
  },
  {
   "cell_type": "code",
   "execution_count": 12,
   "id": "aa3e3edf",
   "metadata": {},
   "outputs": [
    {
     "data": {
      "text/plain": [
       "dtype([(('my title', 'name'), '<i4')])"
      ]
     },
     "execution_count": 12,
     "metadata": {},
     "output_type": "execute_result"
    }
   ],
   "source": [
    "np.dtype({'name':('i4',0,'my title')})"
   ]
  },
  {
   "cell_type": "code",
   "execution_count": 16,
   "id": "cb48c344",
   "metadata": {},
   "outputs": [
    {
     "name": "stdout",
     "output_type": "stream",
     "text": [
      "(dtype('int64'), 0)\n",
      "(dtype('float32'), 8)\n"
     ]
    }
   ],
   "source": [
    "for name in d.names:\n",
    "    print(d.fields[name][:2])\n",
    "    "
   ]
  },
  {
   "cell_type": "markdown",
   "id": "38bec8c3",
   "metadata": {},
   "source": [
    "### Indexing and Assignment to Structured arrays ###"
   ]
  },
  {
   "cell_type": "markdown",
   "id": "1eadfa72",
   "metadata": {},
   "source": [
    "**Assigning data to a Structured Array**\n",
    "\n",
    "There are a number of ways to assign values to a structured array: Using python tuples, using scalar values, or using other structured arrays."
   ]
  },
  {
   "cell_type": "markdown",
   "id": "9852788d",
   "metadata": {},
   "source": [
    "*Assignment from Python Native Types (Tuples)*"
   ]
  },
  {
   "cell_type": "code",
   "execution_count": 17,
   "id": "5999b23c",
   "metadata": {},
   "outputs": [
    {
     "data": {
      "text/plain": [
       "array([(1,  2.,  3.), (4, 55., 55.)],\n",
       "      dtype=[('f0', '<i8'), ('f1', '<f4'), ('f2', '<f8')])"
      ]
     },
     "execution_count": 17,
     "metadata": {},
     "output_type": "execute_result"
    }
   ],
   "source": [
    "x = np.array([(1,2,3),(4,55,55)],dtype='i8,f4,f8')\n",
    "x"
   ]
  },
  {
   "cell_type": "code",
   "execution_count": 19,
   "id": "7b2be5db",
   "metadata": {},
   "outputs": [
    {
     "data": {
      "text/plain": [
       "dtype([('f0', '<i8'), ('f1', '<f4'), ('f2', '<f8')])"
      ]
     },
     "execution_count": 19,
     "metadata": {},
     "output_type": "execute_result"
    }
   ],
   "source": [
    "x[0].dtype"
   ]
  },
  {
   "cell_type": "code",
   "execution_count": 22,
   "id": "5cc2569c",
   "metadata": {},
   "outputs": [
    {
     "data": {
      "text/plain": [
       "array([(  1,   2.,   3.), (555, 555., 555.)],\n",
       "      dtype=[('f0', '<i8'), ('f1', '<f4'), ('f2', '<f8')])"
      ]
     },
     "execution_count": 22,
     "metadata": {},
     "output_type": "execute_result"
    }
   ],
   "source": [
    "x[1] =(555,555,555)\n",
    "x"
   ]
  },
  {
   "cell_type": "markdown",
   "id": "0f91991e",
   "metadata": {},
   "source": [
    "*Assignment from Scalars*\n",
    "\n",
    "A scalar assigned to a structured element will be assigned to all fields. This happens when a scalar is assigned to a structured array, or when an unstructured array is assigned to a structured array:\n"
   ]
  },
  {
   "cell_type": "code",
   "execution_count": 23,
   "id": "ef5b1404",
   "metadata": {},
   "outputs": [
    {
     "data": {
      "text/plain": [
       "array([(0, 0., False, b''), (0, 0., False, b'')],\n",
       "      dtype=[('f0', '<i8'), ('f1', '<f4'), ('f2', '?'), ('f3', 'S1')])"
      ]
     },
     "execution_count": 23,
     "metadata": {},
     "output_type": "execute_result"
    }
   ],
   "source": [
    "x3 = np.zeros(2,dtype='i8,f4,?,S1')\n",
    "x3"
   ]
  },
  {
   "cell_type": "code",
   "execution_count": 26,
   "id": "151d4473",
   "metadata": {},
   "outputs": [
    {
     "data": {
      "text/plain": [
       "array([(3, 3.,  True, b'3'), (3, 3.,  True, b'3')],\n",
       "      dtype=[('f0', '<i8'), ('f1', '<f4'), ('f2', '?'), ('f3', 'S1')])"
      ]
     },
     "execution_count": 26,
     "metadata": {},
     "output_type": "execute_result"
    }
   ],
   "source": [
    "x3[:] = 3\n",
    "x3"
   ]
  },
  {
   "cell_type": "code",
   "execution_count": 27,
   "id": "1197637f",
   "metadata": {},
   "outputs": [
    {
     "data": {
      "text/plain": [
       "array([(0, 0), (0, 0)], dtype=[('A', '<i4'), ('b', '<i4')])"
      ]
     },
     "execution_count": 27,
     "metadata": {},
     "output_type": "execute_result"
    }
   ],
   "source": [
    "twofields = np.zeros(2,dtype=[(\"A\",\"i4\"),(\"b\",\"i4\")])\n",
    "twofields"
   ]
  },
  {
   "cell_type": "code",
   "execution_count": 28,
   "id": "b275ef13",
   "metadata": {},
   "outputs": [
    {
     "data": {
      "text/plain": [
       "array([(0,), (0,)], dtype=[('A', '<i4')])"
      ]
     },
     "execution_count": 28,
     "metadata": {},
     "output_type": "execute_result"
    }
   ],
   "source": [
    "onefields = np.zeros(2,dtype=[(\"A\",\"i4\")])\n",
    "onefields"
   ]
  },
  {
   "cell_type": "code",
   "execution_count": 30,
   "id": "08a260d1",
   "metadata": {},
   "outputs": [
    {
     "data": {
      "text/plain": [
       "array([(0, 0., False), (0, 0., False), (0, 0., False)],\n",
       "      dtype=[('A', '<i4'), ('B', '<f4'), ('C', '?')])"
      ]
     },
     "execution_count": 30,
     "metadata": {},
     "output_type": "execute_result"
    }
   ],
   "source": [
    "threefields = np.zeros(3,dtype=[(\"A\",\"i4\"),(\"B\",\"f4\"),(\"C\",\"?\")])\n",
    "threefields"
   ]
  },
  {
   "cell_type": "code",
   "execution_count": 33,
   "id": "741ca4e4",
   "metadata": {},
   "outputs": [
    {
     "data": {
      "text/plain": [
       "array([0, 0])"
      ]
     },
     "execution_count": 33,
     "metadata": {},
     "output_type": "execute_result"
    }
   ],
   "source": [
    "nostrct = np.zeros(2,dtype='i4')\n",
    "nostrct"
   ]
  },
  {
   "cell_type": "code",
   "execution_count": 34,
   "id": "a6f7574e",
   "metadata": {},
   "outputs": [
    {
     "ename": "TypeError",
     "evalue": "Cannot cast array data from dtype([('A', '<i4'), ('b', '<i4')]) to dtype('int32') according to the rule 'unsafe'",
     "output_type": "error",
     "traceback": [
      "\u001b[1;31m---------------------------------------------------------------------------\u001b[0m",
      "\u001b[1;31mTypeError\u001b[0m                                 Traceback (most recent call last)",
      "Cell \u001b[1;32mIn[34], line 1\u001b[0m\n\u001b[1;32m----> 1\u001b[0m \u001b[43mnostrct\u001b[49m\u001b[43m[\u001b[49m\u001b[43m:\u001b[49m\u001b[43m]\u001b[49m\u001b[38;5;241m=\u001b[39mtwofields\n",
      "\u001b[1;31mTypeError\u001b[0m: Cannot cast array data from dtype([('A', '<i4'), ('b', '<i4')]) to dtype('int32') according to the rule 'unsafe'"
     ]
    }
   ],
   "source": [
    "nostrct[:]=twofields\n"
   ]
  },
  {
   "cell_type": "code",
   "execution_count": 36,
   "id": "6087c50e",
   "metadata": {},
   "outputs": [
    {
     "data": {
      "text/plain": [
       "array([1, 2, 3, 4, 5])"
      ]
     },
     "execution_count": 36,
     "metadata": {},
     "output_type": "execute_result"
    }
   ],
   "source": [
    "de = np.array([1,2,3,4,5])\n",
    "de"
   ]
  },
  {
   "cell_type": "code",
   "execution_count": 37,
   "id": "e5086c9f",
   "metadata": {},
   "outputs": [
    {
     "data": {
      "text/plain": [
       "2"
      ]
     },
     "execution_count": 37,
     "metadata": {},
     "output_type": "execute_result"
    }
   ],
   "source": [
    "de[1]"
   ]
  },
  {
   "cell_type": "code",
   "execution_count": 40,
   "id": "750b43f2",
   "metadata": {},
   "outputs": [
    {
     "data": {
      "text/plain": [
       "array([1, 2, 3, 4, 5])"
      ]
     },
     "execution_count": 40,
     "metadata": {},
     "output_type": "execute_result"
    }
   ],
   "source": [
    "de[:]"
   ]
  },
  {
   "cell_type": "markdown",
   "id": "e02451ba",
   "metadata": {},
   "source": [
    "*Assignment from other Structured Arrays*"
   ]
  },
  {
   "cell_type": "code",
   "execution_count": 7,
   "id": "c527a1f1",
   "metadata": {},
   "outputs": [
    {
     "data": {
      "text/plain": [
       "array([(1, 2., 3.), (7, 8., 9.)],\n",
       "      dtype=[('f0', '<i8'), ('f1', '<f4'), ('f2', '<f8')])"
      ]
     },
     "execution_count": 7,
     "metadata": {},
     "output_type": "execute_result"
    }
   ],
   "source": [
    "x = np.array([(1,2,3),(4,5,6)],dtype='i8,f4,f8')\n",
    "x\n",
    "x[1] = (7,8,9)\n",
    "x"
   ]
  },
  {
   "cell_type": "code",
   "execution_count": 8,
   "id": "b670003d",
   "metadata": {},
   "outputs": [
    {
     "data": {
      "text/plain": [
       "array([(0, 0., False, b''), (0, 0., False, b'')],\n",
       "      dtype=[('f0', '<i8'), ('f1', '<f4'), ('f2', '?'), ('f3', 'S1')])"
      ]
     },
     "execution_count": 8,
     "metadata": {},
     "output_type": "execute_result"
    }
   ],
   "source": [
    "x1 = np.zeros(2,dtype='i8,f4,?,S1')\n",
    "x1"
   ]
  },
  {
   "cell_type": "code",
   "execution_count": 10,
   "id": "033c1347",
   "metadata": {},
   "outputs": [
    {
     "data": {
      "text/plain": [
       "array([(3, 3.,  True, b'3'), (3, 3.,  True, b'3')],\n",
       "      dtype=[('f0', '<i8'), ('f1', '<f4'), ('f2', '?'), ('f3', 'S1')])"
      ]
     },
     "execution_count": 10,
     "metadata": {},
     "output_type": "execute_result"
    }
   ],
   "source": [
    "x1[:]= 3\n",
    "x1"
   ]
  },
  {
   "cell_type": "code",
   "execution_count": 19,
   "id": "de91e242",
   "metadata": {},
   "outputs": [
    {
     "data": {
      "text/plain": [
       "array([(1., b'1', 1), (1., b'1', 1), (1., b'1', 1)],\n",
       "      dtype=[('x', '<f4'), ('y', 'S3'), ('z', 'O')])"
      ]
     },
     "execution_count": 19,
     "metadata": {},
     "output_type": "execute_result"
    }
   ],
   "source": [
    "x2 = np.zeros(3,dtype=[('a','i8'),('b','f4'),('c','S3')])\n",
    "x2\n",
    "x3 = np.ones(3,dtype=[('x','f4'),('y','S3'),('z','O')])\n",
    "x3\n",
    "             "
   ]
  },
  {
   "cell_type": "code",
   "execution_count": 20,
   "id": "f269bc6f",
   "metadata": {},
   "outputs": [],
   "source": [
    "x3[:]=x2"
   ]
  },
  {
   "cell_type": "code",
   "execution_count": 21,
   "id": "2fdf5701",
   "metadata": {},
   "outputs": [
    {
     "data": {
      "text/plain": [
       "array([(0., b'0.0', b''), (0., b'0.0', b''), (0., b'0.0', b'')],\n",
       "      dtype=[('x', '<f4'), ('y', 'S3'), ('z', 'O')])"
      ]
     },
     "execution_count": 21,
     "metadata": {},
     "output_type": "execute_result"
    }
   ],
   "source": [
    "x3"
   ]
  },
  {
   "cell_type": "markdown",
   "id": "1d92f122",
   "metadata": {},
   "source": [
    "**Indexing Structured Arrays**\n",
    "\n",
    "Accessing Individual Fields"
   ]
  },
  {
   "cell_type": "code",
   "execution_count": 22,
   "id": "26a57e0a",
   "metadata": {},
   "outputs": [
    {
     "data": {
      "text/plain": [
       "array([(1, 2.), (3, 4.)], dtype=[('foo', '<i8'), ('bar', '<f4')])"
      ]
     },
     "execution_count": 22,
     "metadata": {},
     "output_type": "execute_result"
    }
   ],
   "source": [
    "x = np.array([(1,2),(3,4)],dtype=[('foo','i8'),('bar','f4')])\n",
    "x"
   ]
  },
  {
   "cell_type": "code",
   "execution_count": 23,
   "id": "26c096ad",
   "metadata": {},
   "outputs": [
    {
     "data": {
      "text/plain": [
       "array([1, 3], dtype=int64)"
      ]
     },
     "execution_count": 23,
     "metadata": {},
     "output_type": "execute_result"
    }
   ],
   "source": [
    "x['foo']"
   ]
  },
  {
   "cell_type": "code",
   "execution_count": 26,
   "id": "5cadd856",
   "metadata": {},
   "outputs": [],
   "source": [
    "x['foo'] = ([10,11])"
   ]
  },
  {
   "cell_type": "code",
   "execution_count": 27,
   "id": "72fb13d5",
   "metadata": {},
   "outputs": [
    {
     "data": {
      "text/plain": [
       "array([10, 11], dtype=int64)"
      ]
     },
     "execution_count": 27,
     "metadata": {},
     "output_type": "execute_result"
    }
   ],
   "source": [
    "x['foo']"
   ]
  },
  {
   "cell_type": "code",
   "execution_count": 28,
   "id": "c0a951af",
   "metadata": {},
   "outputs": [
    {
     "data": {
      "text/plain": [
       "array([10, 11], dtype=int64)"
      ]
     },
     "execution_count": 28,
     "metadata": {},
     "output_type": "execute_result"
    }
   ],
   "source": [
    "y =x['foo']\n",
    "y"
   ]
  },
  {
   "cell_type": "code",
   "execution_count": 30,
   "id": "7ede443c",
   "metadata": {},
   "outputs": [
    {
     "data": {
      "text/plain": [
       "array([11, 11], dtype=int64)"
      ]
     },
     "execution_count": 30,
     "metadata": {},
     "output_type": "execute_result"
    }
   ],
   "source": [
    "y[:]= 11\n",
    "y"
   ]
  },
  {
   "cell_type": "code",
   "execution_count": 31,
   "id": "0cff9857",
   "metadata": {},
   "outputs": [
    {
     "data": {
      "text/plain": [
       "dtype('int64')"
      ]
     },
     "execution_count": 31,
     "metadata": {},
     "output_type": "execute_result"
    }
   ],
   "source": [
    "y.dtype"
   ]
  },
  {
   "cell_type": "code",
   "execution_count": 32,
   "id": "3e02a127",
   "metadata": {},
   "outputs": [
    {
     "data": {
      "text/plain": [
       "(2,)"
      ]
     },
     "execution_count": 32,
     "metadata": {},
     "output_type": "execute_result"
    }
   ],
   "source": [
    "y.shape"
   ]
  },
  {
   "cell_type": "code",
   "execution_count": 33,
   "id": "fad4ef8c",
   "metadata": {},
   "outputs": [
    {
     "data": {
      "text/plain": [
       "(12,)"
      ]
     },
     "execution_count": 33,
     "metadata": {},
     "output_type": "execute_result"
    }
   ],
   "source": [
    "y.strides"
   ]
  },
  {
   "cell_type": "code",
   "execution_count": 35,
   "id": "e851e418",
   "metadata": {},
   "outputs": [
    {
     "data": {
      "text/plain": [
       "array([[(0, [[0., 0., 0.], [0., 0., 0.], [0., 0., 0.]]),\n",
       "        (0, [[0., 0., 0.], [0., 0., 0.], [0., 0., 0.]])],\n",
       "       [(0, [[0., 0., 0.], [0., 0., 0.], [0., 0., 0.]]),\n",
       "        (0, [[0., 0., 0.], [0., 0., 0.], [0., 0., 0.]])]],\n",
       "      dtype=[('a', '<i4'), ('b', '<f8', (3, 3))])"
      ]
     },
     "execution_count": 35,
     "metadata": {},
     "output_type": "execute_result"
    }
   ],
   "source": [
    "x =np.zeros((2,2),dtype=[('a',np.int32),('b',np.float64,(3,3))])\n",
    "x"
   ]
  },
  {
   "cell_type": "code",
   "execution_count": 36,
   "id": "cb08c75b",
   "metadata": {},
   "outputs": [
    {
     "data": {
      "text/plain": [
       "(2, 2)"
      ]
     },
     "execution_count": 36,
     "metadata": {},
     "output_type": "execute_result"
    }
   ],
   "source": [
    "x.shape"
   ]
  },
  {
   "cell_type": "code",
   "execution_count": 41,
   "id": "28b34aec",
   "metadata": {},
   "outputs": [
    {
     "data": {
      "text/plain": [
       "(2, 2)"
      ]
     },
     "execution_count": 41,
     "metadata": {},
     "output_type": "execute_result"
    }
   ],
   "source": [
    "x['a'].shape"
   ]
  },
  {
   "cell_type": "code",
   "execution_count": 44,
   "id": "199bd860",
   "metadata": {},
   "outputs": [
    {
     "data": {
      "text/plain": [
       "array([(0, 0.), (0, 0.), (0, 0.)],\n",
       "      dtype={'names': ['a', 'c'], 'formats': ['<i4', '<f4'], 'offsets': [0, 8], 'itemsize': 12})"
      ]
     },
     "execution_count": 44,
     "metadata": {},
     "output_type": "execute_result"
    }
   ],
   "source": [
    "a = np.zeros(3,dtype=[('a','i4'),('b','i4'),('c','f4')])\n",
    "a\n",
    "a[['a','c']]"
   ]
  },
  {
   "cell_type": "code",
   "execution_count": 50,
   "id": "056f4385",
   "metadata": {},
   "outputs": [
    {
     "data": {
      "text/plain": [
       "array([0, 0, 0, 0, 0, 0, 0, 0, 0])"
      ]
     },
     "execution_count": 50,
     "metadata": {},
     "output_type": "execute_result"
    }
   ],
   "source": [
    "b = np.zeros(3,dtype=[('x','f4'),('y','f4'),('z','f4')])\n",
    "b[['x','z']].view('i4')"
   ]
  },
  {
   "cell_type": "markdown",
   "id": "240d8222",
   "metadata": {},
   "source": [
    "**Indexing with an Integer to get a Structured Scalar**"
   ]
  },
  {
   "cell_type": "code",
   "execution_count": null,
   "id": "693bb955",
   "metadata": {},
   "outputs": [],
   "source": []
  }
 ],
 "metadata": {
  "kernelspec": {
   "display_name": "Python 3 (ipykernel)",
   "language": "python",
   "name": "python3"
  },
  "language_info": {
   "codemirror_mode": {
    "name": "ipython",
    "version": 3
   },
   "file_extension": ".py",
   "mimetype": "text/x-python",
   "name": "python",
   "nbconvert_exporter": "python",
   "pygments_lexer": "ipython3",
   "version": "3.11.1"
  }
 },
 "nbformat": 4,
 "nbformat_minor": 5
}
