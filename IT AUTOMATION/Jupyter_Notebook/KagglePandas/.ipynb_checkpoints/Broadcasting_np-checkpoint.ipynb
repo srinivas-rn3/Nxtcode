{
 "cells": [
  {
   "cell_type": "markdown",
   "id": "59b81602",
   "metadata": {},
   "source": [
    "### Broadcasting ###"
   ]
  },
  {
   "cell_type": "code",
   "execution_count": 1,
   "id": "b55e32af",
   "metadata": {},
   "outputs": [],
   "source": [
    "#https://numpy.org/doc/stable/user/basics.broadcasting.html"
   ]
  },
  {
   "cell_type": "markdown",
   "id": "866f2259",
   "metadata": {},
   "source": [
    "he term broadcasting describes how NumPy treats arrays with different shapes during arithmetic operations. Subject to certain constraints, the smaller array is “broadcast” across the larger array so that they have compatible shapes. Broadcasting provides a means of vectorizing array operations so that looping occurs in C instead of Python. It does this without making needless copies of data and usually leads to efficient algorithm implementations. There are, however, cases where broadcasting is a bad idea because it leads to inefficient use of memory that slows computation."
   ]
  },
  {
   "cell_type": "code",
   "execution_count": 1,
   "id": "d538e95b",
   "metadata": {},
   "outputs": [],
   "source": [
    "import numpy as np"
   ]
  },
  {
   "cell_type": "code",
   "execution_count": 2,
   "id": "539af92a",
   "metadata": {},
   "outputs": [
    {
     "data": {
      "text/plain": [
       "array([2., 4., 6.])"
      ]
     },
     "execution_count": 2,
     "metadata": {},
     "output_type": "execute_result"
    }
   ],
   "source": [
    "a = np.array([1.0,2.0,3.0])\n",
    "b = np.array([2.0,2.0,2.0])\n",
    "a * b "
   ]
  },
  {
   "cell_type": "markdown",
   "id": "c7d47723",
   "metadata": {},
   "source": [
    "NumPy’s broadcasting rule relaxes this constraint when the arrays’ shapes meet certain constraints. The simplest broadcasting example occurs when an array and a scalar value are combined in an operation:"
   ]
  },
  {
   "cell_type": "code",
   "execution_count": 13,
   "id": "173f7323",
   "metadata": {},
   "outputs": [
    {
     "data": {
      "text/plain": [
       "dtype('float64')"
      ]
     },
     "execution_count": 13,
     "metadata": {},
     "output_type": "execute_result"
    }
   ],
   "source": [
    "a = np.array([1.0,2.0,3.0])\n",
    "b = 2.0\n",
    "c = a * b\n",
    "c.dtype"
   ]
  },
  {
   "cell_type": "code",
   "execution_count": 15,
   "id": "cf24a027",
   "metadata": {},
   "outputs": [],
   "source": [
    "a1 = np.array([[0.0,0.0,0.0],\n",
    "             [10.0,10.0,10.0],\n",
    "             [20.0,20.0,20.0],\n",
    "             [30.0,30.0,30.0]])\n",
    "\n",
    "b1 = np.array([[1.0,2.0,3.0]])\n",
    "\n"
   ]
  },
  {
   "cell_type": "code",
   "execution_count": 16,
   "id": "52071ce2",
   "metadata": {},
   "outputs": [
    {
     "data": {
      "text/plain": [
       "array([[ 1.,  2.,  3.],\n",
       "       [11., 12., 13.],\n",
       "       [21., 22., 23.],\n",
       "       [31., 32., 33.]])"
      ]
     },
     "execution_count": 16,
     "metadata": {},
     "output_type": "execute_result"
    }
   ],
   "source": [
    "a1 + b1"
   ]
  },
  {
   "cell_type": "code",
   "execution_count": 17,
   "id": "b5b45ceb",
   "metadata": {},
   "outputs": [
    {
     "ename": "ValueError",
     "evalue": "operands could not be broadcast together with shapes (4,3) (4,) ",
     "output_type": "error",
     "traceback": [
      "\u001b[1;31m---------------------------------------------------------------------------\u001b[0m",
      "\u001b[1;31mValueError\u001b[0m                                Traceback (most recent call last)",
      "Cell \u001b[1;32mIn[17], line 2\u001b[0m\n\u001b[0;32m      1\u001b[0m b2 \u001b[38;5;241m=\u001b[39m np\u001b[38;5;241m.\u001b[39marray([\u001b[38;5;241m10.0\u001b[39m,\u001b[38;5;241m20.0\u001b[39m,\u001b[38;5;241m30.0\u001b[39m,\u001b[38;5;241m40.0\u001b[39m])\n\u001b[1;32m----> 2\u001b[0m \u001b[43ma1\u001b[49m\u001b[43m \u001b[49m\u001b[38;5;241;43m+\u001b[39;49m\u001b[43mb2\u001b[49m\n",
      "\u001b[1;31mValueError\u001b[0m: operands could not be broadcast together with shapes (4,3) (4,) "
     ]
    }
   ],
   "source": [
    "b2 = np.array([10.0,20.0,30.0,40.0])\n",
    "a1 +b2"
   ]
  },
  {
   "cell_type": "code",
   "execution_count": 18,
   "id": "a92f189a",
   "metadata": {},
   "outputs": [
    {
     "data": {
      "text/plain": [
       "array([[ 1.,  2.,  3.],\n",
       "       [11., 12., 13.],\n",
       "       [21., 22., 23.],\n",
       "       [31., 32., 33.]])"
      ]
     },
     "execution_count": 18,
     "metadata": {},
     "output_type": "execute_result"
    }
   ],
   "source": [
    "b1 + a1"
   ]
  },
  {
   "cell_type": "code",
   "execution_count": 27,
   "id": "a22df39b",
   "metadata": {},
   "outputs": [
    {
     "data": {
      "text/plain": [
       "array([[[ 1.,  2.,  3.]],\n",
       "\n",
       "       [[11., 12., 13.]],\n",
       "\n",
       "       [[21., 22., 23.]],\n",
       "\n",
       "       [[31., 32., 33.]]])"
      ]
     },
     "execution_count": 27,
     "metadata": {},
     "output_type": "execute_result"
    }
   ],
   "source": [
    "a2 = np.array([0.0,10.0,20.0,30.0])\n",
    "b2 = np.array([1.0,2.0,3.0])\n",
    "c2 = a[:,np.newaxis] + b\n",
    "c2.shape\n",
    "c2"
   ]
  },
  {
   "cell_type": "code",
   "execution_count": null,
   "id": "8e525620",
   "metadata": {},
   "outputs": [],
   "source": []
  }
 ],
 "metadata": {
  "kernelspec": {
   "display_name": "Python 3 (ipykernel)",
   "language": "python",
   "name": "python3"
  },
  "language_info": {
   "codemirror_mode": {
    "name": "ipython",
    "version": 3
   },
   "file_extension": ".py",
   "mimetype": "text/x-python",
   "name": "python",
   "nbconvert_exporter": "python",
   "pygments_lexer": "ipython3",
   "version": "3.11.1"
  }
 },
 "nbformat": 4,
 "nbformat_minor": 5
}
