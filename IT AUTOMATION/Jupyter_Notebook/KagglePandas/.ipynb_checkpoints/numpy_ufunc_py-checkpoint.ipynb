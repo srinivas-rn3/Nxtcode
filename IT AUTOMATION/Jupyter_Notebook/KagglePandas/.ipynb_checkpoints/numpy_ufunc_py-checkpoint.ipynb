{
 "cells": [
  {
   "cell_type": "code",
   "execution_count": 1,
   "id": "4c288248",
   "metadata": {},
   "outputs": [],
   "source": [
    "import numpy as np\n"
   ]
  },
  {
   "cell_type": "code",
   "execution_count": 2,
   "id": "5192fe3f",
   "metadata": {},
   "outputs": [
    {
     "data": {
      "text/plain": [
       "array([1, 3, 2, 6])"
      ]
     },
     "execution_count": 2,
     "metadata": {},
     "output_type": "execute_result"
    }
   ],
   "source": [
    "np.array([0,2,3,4])+np.array([1,1,-1,2])\n"
   ]
  },
  {
   "cell_type": "code",
   "execution_count": 4,
   "id": "5707bb10",
   "metadata": {},
   "outputs": [
    {
     "name": "stdout",
     "output_type": "stream",
     "text": [
      "[5, 7, 9, 11]\n",
      "[ 5  7  9 11]\n"
     ]
    }
   ],
   "source": [
    "x = [1,2,3,4]\n",
    "y = [4,5,6,7]\n",
    "z = []\n",
    "for i,j in zip(x,y):\n",
    "    z.append(i+j)\n",
    "print(z)\n",
    "z = np.add(x,y)\n",
    "print(z)"
   ]
  },
  {
   "cell_type": "code",
   "execution_count": 12,
   "id": "901519a4",
   "metadata": {},
   "outputs": [
    {
     "name": "stdout",
     "output_type": "stream",
     "text": [
      "2\n",
      "[5 7 9]\n"
     ]
    }
   ],
   "source": [
    "def myadd(x ,y):\n",
    "    return x + y\n",
    "myadd = np.frompyfunc(myadd ,2,1)\n",
    "print(myadd(1,1))\n",
    "print(myadd([1,2,3],[4,5,6]))"
   ]
  },
  {
   "cell_type": "code",
   "execution_count": 8,
   "id": "f9cb582b",
   "metadata": {},
   "outputs": [
    {
     "name": "stdout",
     "output_type": "stream",
     "text": [
      "<class 'numpy.ufunc'>\n",
      "<class 'function'>\n"
     ]
    }
   ],
   "source": [
    "print(type(np.add))\n",
    "print(type(np.concatenate))"
   ]
  },
  {
   "cell_type": "code",
   "execution_count": 10,
   "id": "50e63b8f",
   "metadata": {},
   "outputs": [
    {
     "name": "stdout",
     "output_type": "stream",
     "text": [
      "[34 67 89 15 33 27]\n",
      "<ufunc 'str (vectorized)'>\n",
      "['34' '67' '89' '15' '33' '27']\n"
     ]
    }
   ],
   "source": [
    "a = np.array([34, 67, 89, 15, 33, 27])\n",
    "strng_gen = np.frompyfunc(str,1,1)\n",
    "print(a)\n",
    "print(strng_gen)\n",
    "print(strng_gen(a))"
   ]
  },
  {
   "cell_type": "code",
   "execution_count": 17,
   "id": "335b92a2",
   "metadata": {},
   "outputs": [
    {
     "name": "stdout",
     "output_type": "stream",
     "text": [
      "[345 122 454 232 334  56  66]\n",
      "Checking palindrome [False False True True False False True]\n"
     ]
    }
   ],
   "source": [
    "# Python code to demonstrate\n",
    "# user-defined function as ufunc\n",
    "a = np.array([345, 122, 454, 232, 334, 56, 66])\n",
    "\n",
    "def funx(x):\n",
    "    s = str(x)\n",
    "    return s[::-1] == s \n",
    "check_pali = np.frompyfunc(funx, 1,1)\n",
    "print(a)\n",
    "print(\"Checking palindrome\",check_pali(a))"
   ]
  },
  {
   "cell_type": "code",
   "execution_count": 18,
   "id": "ad83d844",
   "metadata": {},
   "outputs": [
    {
     "name": "stdout",
     "output_type": "stream",
     "text": [
      "[2 4]\n"
     ]
    }
   ],
   "source": [
    "lis1 = np.array([1, 2, 3, 4, 5])\n",
    "is_even = lis1[lis1%2 == 0]\n",
    "print(is_even)"
   ]
  },
  {
   "cell_type": "code",
   "execution_count": 19,
   "id": "8a4dab2d",
   "metadata": {},
   "outputs": [
    {
     "name": "stdout",
     "output_type": "stream",
     "text": [
      "[2, 4]\n"
     ]
    }
   ],
   "source": [
    "lis = [1, 2, 3, 4, 5]\n",
    "lis2 = [i for i in lis if i % 2 ==0]\n",
    "print(lis2)"
   ]
  },
  {
   "cell_type": "code",
   "execution_count": 20,
   "id": "09e372de",
   "metadata": {},
   "outputs": [],
   "source": [
    "import pandas as pd\n"
   ]
  },
  {
   "cell_type": "code",
   "execution_count": 24,
   "id": "ede19263",
   "metadata": {},
   "outputs": [
    {
     "name": "stdout",
     "output_type": "stream",
     "text": [
      "Coca Cola    80\n",
      "Sprite       25\n",
      "Coke          3\n",
      "Fanta        25\n",
      "Dew          24\n",
      "ThumbsUp      6\n",
      "dtype: int64\n",
      "Coca Cola    34\n",
      "Sprite        5\n",
      "Coke         13\n",
      "Fanta        32\n",
      "Dew           4\n",
      "ThumbsUp     15\n",
      "dtype: int64\n"
     ]
    }
   ],
   "source": [
    "sr1 = pd.Series([80, 25, 3, 25, 24, 6])\n",
    "sr2 = pd.Series([34, 5, 13, 32, 4, 15])\n",
    "index_ = ['Coca Cola', 'Sprite', 'Coke', 'Fanta', 'Dew', 'ThumbsUp']\n",
    "sr1.index = index_\n",
    "sr2.index = index_\n",
    "print(sr1)\n",
    "print(sr2)"
   ]
  },
  {
   "cell_type": "code",
   "execution_count": 25,
   "id": "8204390a",
   "metadata": {},
   "outputs": [
    {
     "name": "stdout",
     "output_type": "stream",
     "text": [
      "0.594158770672816\n"
     ]
    }
   ],
   "source": [
    "result = sr1.corr(sr2)\n",
    "print(result)"
   ]
  },
  {
   "cell_type": "code",
   "execution_count": 27,
   "id": "415f94e0",
   "metadata": {},
   "outputs": [
    {
     "name": "stdout",
     "output_type": "stream",
     "text": [
      "2023-01-31    51.0\n",
      "2023-02-28    10.0\n",
      "2023-03-31    24.0\n",
      "2023-04-30    18.0\n",
      "2023-05-31     NaN\n",
      "2023-06-30    84.0\n",
      "2023-07-31    12.0\n",
      "2023-08-31    10.0\n",
      "2023-09-30     5.0\n",
      "2023-10-31    24.0\n",
      "2023-11-30     2.0\n",
      "Freq: M, dtype: float64\n",
      "\n",
      "\n",
      "2023-01-31    11.0\n",
      "2023-02-28    21.0\n",
      "2023-03-31     8.0\n",
      "2023-04-30    18.0\n",
      "2023-05-31    65.0\n",
      "2023-06-30    18.0\n",
      "2023-07-31    32.0\n",
      "2023-08-31    10.0\n",
      "2023-09-30     5.0\n",
      "2023-10-31    32.0\n",
      "2023-11-30     NaN\n",
      "Freq: M, dtype: float64\n"
     ]
    }
   ],
   "source": [
    "sr1 = pd.Series([51, 10, 24, 18, None, 84, 12, 10, 5, 24, 2])\n",
    "sr2 = pd.Series([11, 21, 8, 18, 65, 18, 32, 10, 5, 32, None])\n",
    "index_ = pd.date_range('2023-01-01', periods =11,freq='M')\n",
    "sr1.index = index_\n",
    "sr2.index = index_\n",
    "print(sr1)\n",
    "print(\"\\n\")\n",
    "print(sr2)"
   ]
  },
  {
   "cell_type": "code",
   "execution_count": 28,
   "id": "190c92ca",
   "metadata": {},
   "outputs": [
    {
     "data": {
      "text/plain": [
       "-0.011374026701262772"
      ]
     },
     "execution_count": 28,
     "metadata": {},
     "output_type": "execute_result"
    }
   ],
   "source": [
    "result = sr1.corr(sr2)\n",
    "result"
   ]
  },
  {
   "cell_type": "code",
   "execution_count": 5,
   "id": "3b01f847",
   "metadata": {},
   "outputs": [
    {
     "name": "stdout",
     "output_type": "stream",
     "text": [
      "B\n",
      " (array([2.  , 2.25, 2.5 , 2.75, 3.  ]), 0.25) \n",
      "\n",
      "A\n",
      " [0.         0.22222222 0.44444444 0.66666667 0.88888889 1.11111111\n",
      " 1.33333333 1.55555556 1.77777778 2.        ]\n",
      "sinA\n",
      " [0.         0.22039774 0.42995636 0.6183698  0.77637192 0.8961922\n",
      " 0.9719379  0.99988386 0.9786557  0.90929743]\n"
     ]
    }
   ],
   "source": [
    "print(\"B\\n\",np.linspace(2.0,3.0,num=5,retstep=True),\"\\n\")\n",
    "\n",
    "x = np.linspace(0,2,10)\n",
    "print(\"A\\n\",x)\n",
    "print(\"sinA\\n\",np.sin(x))\n"
   ]
  },
  {
   "cell_type": "code",
   "execution_count": 14,
   "id": "2480de84",
   "metadata": {},
   "outputs": [
    {
     "name": "stdout",
     "output_type": "stream",
     "text": [
      "[0.         0.22222222 0.44444444 0.66666667 0.88888889 1.11111111\n",
      " 1.33333333 1.55555556 1.77777778 2.        ]\n",
      "[1. 1. 1. 1. 1. 1. 1. 1. 1. 1.]\n"
     ]
    },
    {
     "data": {
      "text/plain": [
       "(-0.2, 1.8)"
      ]
     },
     "execution_count": 14,
     "metadata": {},
     "output_type": "execute_result"
    },
    {
     "data": {
      "image/png": "[encoded data removed]",
      "text/plain": [
       "<Figure size 640x480 with 1 Axes>"
      ]
     },
     "metadata": {},
     "output_type": "display_data"
    }
   ],
   "source": [
    "import pylab as p\n",
    "\n",
    "x1 = np.linspace(0,2,10,endpoint=True)\n",
    "print(x1)\n",
    "y1 = np.ones(10)\n",
    "print(y1)\n",
    "p.plot(x1,y1,'*')\n",
    "p.xlim(-.2,1.8)"
   ]
  },
  {
   "cell_type": "code",
   "execution_count": 16,
   "id": "af697f8b",
   "metadata": {},
   "outputs": [
    {
     "data": {
      "text/plain": [
       "(-0.2, 2.1)"
      ]
     },
     "execution_count": 16,
     "metadata": {},
     "output_type": "execute_result"
    },
    {
     "data": {
      "image/png": "[encoded data removed]",
      "text/plain": [
       "<Figure size 640x480 with 1 Axes>"
      ]
     },
     "metadata": {},
     "output_type": "display_data"
    }
   ],
   "source": [
    "import pylab as p\n",
    "x1 = np.linspace(0,2,15,endpoint = True)\n",
    "y1 = np.zeros(15)\n",
    "\n",
    "p.plot(x1,y1,'*')\n",
    "p.xlim(-0.2,2.1)\n"
   ]
  },
  {
   "cell_type": "code",
   "execution_count": 19,
   "id": "e8760c48",
   "metadata": {},
   "outputs": [
    {
     "data": {
      "text/plain": [
       "array([[1, 0],\n",
       "       [0, 1]])"
      ]
     },
     "execution_count": 19,
     "metadata": {},
     "output_type": "execute_result"
    }
   ],
   "source": [
    "b = np.eye(2,dtype=int)\n",
    "b"
   ]
  },
  {
   "cell_type": "code",
   "execution_count": 25,
   "id": "a84b836f",
   "metadata": {},
   "outputs": [
    {
     "data": {
      "text/plain": [
       "array([[1., 0., 0.],\n",
       "       [0., 1., 0.],\n",
       "       [0., 0., 1.],\n",
       "       [0., 0., 0.]])"
      ]
     },
     "execution_count": 25,
     "metadata": {},
     "output_type": "execute_result"
    }
   ],
   "source": [
    "c = np.eye(4,3,k = 0)\n",
    "c"
   ]
  },
  {
   "cell_type": "code",
   "execution_count": null,
   "id": "cac301d9",
   "metadata": {},
   "outputs": [],
   "source": []
  }
 ],
 "metadata": {
  "kernelspec": {
   "display_name": "Python 3 (ipykernel)",
   "language": "python",
   "name": "python3"
  },
  "language_info": {
   "codemirror_mode": {
    "name": "ipython",
    "version": 3
   },
   "file_extension": ".py",
   "mimetype": "text/x-python",
   "name": "python",
   "nbconvert_exporter": "python",
   "pygments_lexer": "ipython3",
   "version": "3.11.1"
  }
 },
 "nbformat": 4,
 "nbformat_minor": 5
}
