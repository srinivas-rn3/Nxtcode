{
 "cells": [
  {
   "cell_type": "markdown",
   "id": "89a7fd13",
   "metadata": {},
   "source": [
    "### Arithmetic and Variables"
   ]
  },
  {
   "cell_type": "code",
   "execution_count": 1,
   "id": "071c5e96",
   "metadata": {},
   "outputs": [
    {
     "name": "stdout",
     "output_type": "stream",
     "text": [
      "Hello World!!!\n"
     ]
    }
   ],
   "source": [
    "print(\"Hello World!!!\")"
   ]
  },
  {
   "cell_type": "markdown",
   "id": "2323b730",
   "metadata": {},
   "source": [
    "***Arithmetic***"
   ]
  },
  {
   "cell_type": "code",
   "execution_count": 2,
   "id": "e62ab47c",
   "metadata": {},
   "outputs": [
    {
     "name": "stdout",
     "output_type": "stream",
     "text": [
      "3\n"
     ]
    }
   ],
   "source": [
    "print(1+2)"
   ]
  },
  {
   "cell_type": "code",
   "execution_count": 4,
   "id": "000a9df9",
   "metadata": {},
   "outputs": [
    {
     "name": "stdout",
     "output_type": "stream",
     "text": [
      "3\n"
     ]
    }
   ],
   "source": [
    "print(5-2)"
   ]
  },
  {
   "cell_type": "code",
   "execution_count": 5,
   "id": "73618092",
   "metadata": {},
   "outputs": [
    {
     "name": "stdout",
     "output_type": "stream",
     "text": [
      "196.0\n"
     ]
    }
   ],
   "source": [
    "print(((1+3)*(9-2)/2)**2)"
   ]
  },
  {
   "cell_type": "markdown",
   "id": "94a6f7e9",
   "metadata": {},
   "source": [
    "***Comments***"
   ]
  },
  {
   "cell_type": "code",
   "execution_count": 6,
   "id": "faa311d8",
   "metadata": {},
   "outputs": [
    {
     "name": "stdout",
     "output_type": "stream",
     "text": [
      "6\n"
     ]
    }
   ],
   "source": [
    "#Multiple line\n",
    "print(3*2)"
   ]
  },
  {
   "cell_type": "markdown",
   "id": "c71b5510",
   "metadata": {},
   "source": [
    "***Variables***"
   ]
  },
  {
   "cell_type": "code",
   "execution_count": 7,
   "id": "529471fa",
   "metadata": {},
   "outputs": [
    {
     "name": "stdout",
     "output_type": "stream",
     "text": [
      "9\n"
     ]
    }
   ],
   "source": [
    "test_var = 4 +5\n",
    "print(test_var)"
   ]
  },
  {
   "cell_type": "markdown",
   "id": "05df0c9b",
   "metadata": {},
   "source": [
    "***Manipulating variables***"
   ]
  },
  {
   "cell_type": "code",
   "execution_count": 8,
   "id": "339d208d",
   "metadata": {},
   "outputs": [
    {
     "name": "stdout",
     "output_type": "stream",
     "text": [
      "3\n",
      "100\n"
     ]
    }
   ],
   "source": [
    "my_var = 3\n",
    "print(my_var)\n",
    "my_var = 100\n",
    "print(my_var)"
   ]
  },
  {
   "cell_type": "code",
   "execution_count": 9,
   "id": "9977a163",
   "metadata": {},
   "outputs": [
    {
     "name": "stdout",
     "output_type": "stream",
     "text": [
      "100\n",
      "9\n"
     ]
    }
   ],
   "source": [
    "print(my_var)\n",
    "print(test_var)"
   ]
  },
  {
   "cell_type": "code",
   "execution_count": 10,
   "id": "ae57a24d",
   "metadata": {},
   "outputs": [
    {
     "name": "stdout",
     "output_type": "stream",
     "text": [
      "103\n"
     ]
    }
   ],
   "source": [
    "my_var = my_var + 3\n",
    "print(my_var)"
   ]
  },
  {
   "cell_type": "markdown",
   "id": "13dbdaab",
   "metadata": {},
   "source": [
    "***Using multiple variables***"
   ]
  },
  {
   "cell_type": "code",
   "execution_count": 11,
   "id": "b3342634",
   "metadata": {},
   "outputs": [
    {
     "name": "stdout",
     "output_type": "stream",
     "text": [
      "126144000\n"
     ]
    }
   ],
   "source": [
    "#Create variable \n",
    "num_years = 4 \n",
    "days_per_year = 365\n",
    "hours_per_day = 24\n",
    "mins_per_hour = 60\n",
    "secs_per_min = 60\n",
    "#caluclate number of seconds in four year\n",
    "total_sec = secs_per_min * mins_per_hour * hours_per_day * days_per_year * num_years\n",
    "print(total_sec)"
   ]
  },
  {
   "cell_type": "code",
   "execution_count": 13,
   "id": "8f5fe23f",
   "metadata": {},
   "outputs": [
    {
     "name": "stdout",
     "output_type": "stream",
     "text": [
      "126230400.0\n"
     ]
    }
   ],
   "source": [
    "#Update to include leap year\n",
    "days_per_year = 365.25\n",
    "total_sec = secs_per_min * mins_per_hour * hours_per_day * days_per_year * num_years\n",
    "print(total_sec)"
   ]
  },
  {
   "cell_type": "code",
   "execution_count": null,
   "id": "2f7e254e",
   "metadata": {},
   "outputs": [],
   "source": []
  }
 ],
 "metadata": {
  "kernelspec": {
   "display_name": "Python 3 (ipykernel)",
   "language": "python",
   "name": "python3"
  },
  "language_info": {
   "codemirror_mode": {
    "name": "ipython",
    "version": 3
   },
   "file_extension": ".py",
   "mimetype": "text/x-python",
   "name": "python",
   "nbconvert_exporter": "python",
   "pygments_lexer": "ipython3",
   "version": "3.11.1"
  }
 },
 "nbformat": 4,
 "nbformat_minor": 5
}
