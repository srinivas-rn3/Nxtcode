{
 "cells": [
  {
   "cell_type": "code",
   "execution_count": 1,
   "id": "0c691776",
   "metadata": {},
   "outputs": [],
   "source": [
    "#genfromtxt\n",
    "#https://numpy.org/doc/stable/user/basics.io.genfromtxt.html"
   ]
  },
  {
   "cell_type": "markdown",
   "id": "d5a9dcd9",
   "metadata": {},
   "source": [
    "# NumPy provides several functions to create arrays from tabular data. We focus here on the genfromtxt function."
   ]
  },
  {
   "cell_type": "markdown",
   "id": "596449a5",
   "metadata": {},
   "source": [
    "In a nutshell, genfromtxt runs two main loops. The first loop converts each line of the file in a sequence of strings. \n",
    "The second loop converts each string to the appropriate data type. This mechanism is slower than a single loop, \n",
    "but gives more flexibility. In particular, genfromtxt is able to take missing data into account, when other\n",
    "faster and simpler functions like loadtxt cannot"
   ]
  },
  {
   "cell_type": "code",
   "execution_count": 7,
   "id": "925c9717",
   "metadata": {},
   "outputs": [],
   "source": [
    "import numpy as np \n",
    "from io import StringIO"
   ]
  },
  {
   "cell_type": "code",
   "execution_count": 3,
   "id": "355af4e3",
   "metadata": {},
   "outputs": [],
   "source": [
    "data = u\"1, 2, 3\\n4, 5, 6\""
   ]
  },
  {
   "cell_type": "code",
   "execution_count": 8,
   "id": "ab5c891e",
   "metadata": {},
   "outputs": [
    {
     "data": {
      "text/plain": [
       "array([[1., 2., 3.],\n",
       "       [4., 5., 6.]])"
      ]
     },
     "execution_count": 8,
     "metadata": {},
     "output_type": "execute_result"
    }
   ],
   "source": [
    "np.genfromtxt(StringIO(data),delimiter=\",\")\n"
   ]
  },
  {
   "cell_type": "code",
   "execution_count": 12,
   "id": "fab97e79",
   "metadata": {},
   "outputs": [
    {
     "data": {
      "text/plain": [
       "array([[  1.,   2.,   3.],\n",
       "       [  4.,   5.,  67.],\n",
       "       [890., 123.,   4.]])"
      ]
     },
     "execution_count": 12,
     "metadata": {},
     "output_type": "execute_result"
    }
   ],
   "source": [
    "data = u\"  1  2  3\\n  4  5 67\\n890123  4\"\n",
    "np.genfromtxt(StringIO(data),delimiter=3)"
   ]
  },
  {
   "cell_type": "code",
   "execution_count": 39,
   "id": "80c2fb00",
   "metadata": {},
   "outputs": [
    {
     "data": {
      "text/plain": [
       "array([[1234.,  567.,   89.],\n",
       "       [   4.,    7.,    9.],\n",
       "       [   4.,  567.,    9.]])"
      ]
     },
     "execution_count": 39,
     "metadata": {},
     "output_type": "execute_result"
    }
   ],
   "source": [
    "data = u\"123456789\\n   4  7 9\\n   4567 9\"\n",
    "np.genfromtxt(StringIO(data),delimiter=(4,3,2))"
   ]
  },
  {
   "cell_type": "code",
   "execution_count": 49,
   "id": "c2fabbc4",
   "metadata": {},
   "outputs": [
    {
     "name": "stdout",
     "output_type": "stream",
     "text": [
      "<_io.StringIO object at 0x000001EABB250280>\n"
     ]
    },
    {
     "data": {
      "text/plain": [
       "array((1, 1.3, b'abcde'),\n",
       "      dtype=[('myint', '<i8'), ('myfloat', '<f8'), ('mystring', 'S5')])"
      ]
     },
     "execution_count": 49,
     "metadata": {},
     "output_type": "execute_result"
    }
   ],
   "source": [
    "data = \"1,1.3,abcde\"\n",
    "str1 = StringIO(data)\n",
    "print(str1)\n",
    "np.genfromtxt(str1, dtype=[('myint','i8'),('myfloat','f8'),('mystring','S5')], delimiter=\",\")"
   ]
  },
  {
   "cell_type": "markdown",
   "id": "84dc9610",
   "metadata": {},
   "source": [
    "### The autostrip argument\n",
    "\n",
    "By default, when a line is decomposed into a series of strings, the individual entries are not stripped of leading nor trailing white spaces. This behavior can be overwritten by setting the optional argument autostrip to a value of True:"
   ]
  },
  {
   "cell_type": "code",
   "execution_count": 52,
   "id": "da18706d",
   "metadata": {},
   "outputs": [
    {
     "data": {
      "text/plain": [
       "array([['1', ' abc ', ' 2'],\n",
       "       ['3', ' xxx', ' 4']], dtype='<U5')"
      ]
     },
     "execution_count": 52,
     "metadata": {},
     "output_type": "execute_result"
    }
   ],
   "source": [
    "data = u\"1, abc , 2\\n 3, xxx, 4\"\n",
    "np.genfromtxt(StringIO(data),delimiter=\",\",dtype=\"|U5\")\n"
   ]
  },
  {
   "cell_type": "code",
   "execution_count": 53,
   "id": "29fff8e6",
   "metadata": {},
   "outputs": [
    {
     "data": {
      "text/plain": [
       "array([['1', 'abc', '2'],\n",
       "       ['3', 'xxx', '4']], dtype='<U5')"
      ]
     },
     "execution_count": 53,
     "metadata": {},
     "output_type": "execute_result"
    }
   ],
   "source": [
    "data = u\"1, abc , 2\\n 3, xxx, 4\"\n",
    "np.genfromtxt(StringIO(data),delimiter=\",\",dtype=\"|U5\",autostrip=True)"
   ]
  },
  {
   "cell_type": "markdown",
   "id": "9431a489",
   "metadata": {},
   "source": [
    "### The comments argument\n",
    "\n",
    "The optional argument comments is used to define a character string that marks the beginning of a comment. By default, genfromtxt assumes comments='#'. The comment marker may occur anywhere on the line. Any character present after the comment marker(s) is simply ignored:"
   ]
  },
  {
   "cell_type": "code",
   "execution_count": 56,
   "id": "b974b447",
   "metadata": {},
   "outputs": [
    {
     "data": {
      "text/plain": [
       "array([[1., 2.],\n",
       "       [3., 4.],\n",
       "       [5., 6.],\n",
       "       [7., 8.],\n",
       "       [9., 0.]])"
      ]
     },
     "execution_count": 56,
     "metadata": {},
     "output_type": "execute_result"
    }
   ],
   "source": [
    "data = u\"\"\"#\n",
    "# Skip me !\n",
    "# Skip me too !\n",
    "1, 2\n",
    "3, 4\n",
    "5, 6 #This is the third line of the data\n",
    "7, 8\n",
    "# And here comes the last line\n",
    "9, 0\n",
    "\"\"\"\n",
    "np.genfromtxt(StringIO(data),comments='#',delimiter=',')"
   ]
  },
  {
   "cell_type": "code",
   "execution_count": 66,
   "id": "995164a1",
   "metadata": {},
   "outputs": [
    {
     "name": "stderr",
     "output_type": "stream",
     "text": [
      "C:\\Users\\srini\\AppData\\Local\\Temp\\ipykernel_16408\\3162622973.py:2: UserWarning: genfromtxt: Empty input file: \"<_io.StringIO object at 0x000001EABB218C10>\"\n",
      "  np.genfromtxt(StringIO(data),skip_footer=5,skip_header=5)\n"
     ]
    },
    {
     "data": {
      "text/plain": [
       "array([], dtype=float64)"
      ]
     },
     "execution_count": 66,
     "metadata": {},
     "output_type": "execute_result"
    }
   ],
   "source": [
    "data = data = u\"1, abc , 2\\n 3, xxx, 4,4444,55555,100,xxxxxx\"\n",
    "np.genfromtxt(StringIO(data),skip_footer=5,skip_header=5)"
   ]
  },
  {
   "cell_type": "code",
   "execution_count": 1,
   "id": "af133d0f",
   "metadata": {},
   "outputs": [],
   "source": [
    "#The usecols argument\n",
    "#https://numpy.org/doc/stable/user/basics.io.genfromtxt.html"
   ]
  },
  {
   "cell_type": "code",
   "execution_count": 3,
   "id": "6fd1f3d2",
   "metadata": {},
   "outputs": [
    {
     "data": {
      "text/plain": [
       "array([[1., 3.],\n",
       "       [4., 6.]])"
      ]
     },
     "execution_count": 3,
     "metadata": {},
     "output_type": "execute_result"
    }
   ],
   "source": [
    "dat = u\"1 2 3\\n4 5 6\"\n",
    "np.genfromtxt(StringIO(dat),usecols=(0,-1))"
   ]
  },
  {
   "cell_type": "markdown",
   "id": "e019982f",
   "metadata": {},
   "source": [
    "If the columns have names, we can also select which columns to import by giving their name to the usecols argument, either as a sequence of strings or a comma-separated string:"
   ]
  },
  {
   "cell_type": "code",
   "execution_count": 6,
   "id": "25a798cc",
   "metadata": {},
   "outputs": [
    {
     "data": {
      "text/plain": [
       "array([(1., 3.), (4., 6.)], dtype=[('a', '<f8'), ('c', '<f8')])"
      ]
     },
     "execution_count": 6,
     "metadata": {},
     "output_type": "execute_result"
    }
   ],
   "source": [
    "data = u\"1 2 3\\n4 5 6\"\n",
    "np.genfromtxt(StringIO(data),names=\"a,b,c\",usecols=('a','c'))"
   ]
  },
  {
   "cell_type": "code",
   "execution_count": 8,
   "id": "38578bfc",
   "metadata": {},
   "outputs": [
    {
     "data": {
      "text/plain": [
       "array([(1., 3.), (4., 6.)], dtype=[('x', '<f8'), ('z', '<f8')])"
      ]
     },
     "execution_count": 8,
     "metadata": {},
     "output_type": "execute_result"
    }
   ],
   "source": [
    "np.genfromtxt(StringIO(data),names=\"x,y,z\",usecols=(\"x,z\"))\n"
   ]
  },
  {
   "cell_type": "code",
   "execution_count": 9,
   "id": "10855af5",
   "metadata": {},
   "outputs": [
    {
     "data": {
      "text/plain": [
       "array([(1, 2, 3), (4, 5, 6)],\n",
       "      dtype=[('a', '<i4'), ('b', '<i4'), ('c', '<i4')])"
      ]
     },
     "execution_count": 9,
     "metadata": {},
     "output_type": "execute_result"
    }
   ],
   "source": [
    "data =StringIO(\"1 2 3\\n 4 5 6\")\n",
    "np.genfromtxt(data,dtype=[(_,int) for _ in \"abc\"])"
   ]
  },
  {
   "cell_type": "code",
   "execution_count": 12,
   "id": "eb9e7cdd",
   "metadata": {},
   "outputs": [
    {
     "data": {
      "text/plain": [
       "array([(1, 2, 3), (4, 5, 6)],\n",
       "      dtype=[('A', '<i4'), ('B', '<i4'), ('C', '<i4')])"
      ]
     },
     "execution_count": 12,
     "metadata": {},
     "output_type": "execute_result"
    }
   ],
   "source": [
    "data = StringIO(\"1 2 3\\n 4 5 6\")\n",
    "np.genfromtxt(data,names=\"A,B,C\",dtype=int)"
   ]
  },
  {
   "cell_type": "markdown",
   "id": "e2e84fb2",
   "metadata": {},
   "source": [
    "We may sometimes need to define the column names from the data itself. In that case, we must use the names keyword with a value of True. The names will then be read from the first line (after the skip_header ones), even if the line is commented out:"
   ]
  },
  {
   "cell_type": "code",
   "execution_count": 13,
   "id": "38a866e8",
   "metadata": {},
   "outputs": [
    {
     "data": {
      "text/plain": [
       "array([(1., 2., 3.), (4., 5., 6.)],\n",
       "      dtype=[('a', '<f8'), ('b', '<f8'), ('c', '<f8')])"
      ]
     },
     "execution_count": 13,
     "metadata": {},
     "output_type": "execute_result"
    }
   ],
   "source": [
    "data = StringIO(\"So it goes\\n#a b c\\n1 2 3\\n 4 5 6\")\n",
    "np.genfromtxt(data,skip_header=1,names=True)"
   ]
  },
  {
   "cell_type": "markdown",
   "id": "39233e09",
   "metadata": {},
   "source": [
    "The default value of names is None. If we give any other value to the keyword, the new names will overwrite the field names we may have defined with the dtype:"
   ]
  },
  {
   "cell_type": "code",
   "execution_count": 14,
   "id": "10144e7e",
   "metadata": {},
   "outputs": [
    {
     "data": {
      "text/plain": [
       "array([(1, 2., 3), (4, 5., 6)],\n",
       "      dtype=[('A', '<i4'), ('B', '<f8'), ('C', '<i4')])"
      ]
     },
     "execution_count": 14,
     "metadata": {},
     "output_type": "execute_result"
    }
   ],
   "source": [
    "data = StringIO(\"1 2 3\\n 4 5 6\")\n",
    "ndtype = [('a',int),('b',float),('c',int)]\n",
    "names = [\"A\",\"B\",\"C\"]\n",
    "np.genfromtxt(data,names=names,dtype=ndtype)"
   ]
  },
  {
   "cell_type": "code",
   "execution_count": 2,
   "id": "2fe86d08",
   "metadata": {},
   "outputs": [],
   "source": [
    "#The defaultfmt argument"
   ]
  },
  {
   "cell_type": "markdown",
   "id": "ada0aedc",
   "metadata": {},
   "source": [
    "If names=None but a structured dtype is expected, names are defined with the standard NumPy default of \"f%i\", yielding names like f0, f1 and so forth:"
   ]
  },
  {
   "cell_type": "code",
   "execution_count": 3,
   "id": "5a5d925a",
   "metadata": {},
   "outputs": [
    {
     "data": {
      "text/plain": [
       "array([(1, 2., 3), (4, 5., 6)],\n",
       "      dtype=[('f0', '<i4'), ('f1', '<f8'), ('f2', '<i4')])"
      ]
     },
     "execution_count": 3,
     "metadata": {},
     "output_type": "execute_result"
    }
   ],
   "source": [
    "data = \"1 2 3\\n 4 5 6\"\n",
    "dat1 = StringIO(data)\n",
    "np.genfromtxt(dat1,dtype=(int,float,int))"
   ]
  },
  {
   "cell_type": "code",
   "execution_count": 4,
   "id": "1c424571",
   "metadata": {},
   "outputs": [
    {
     "data": {
      "text/plain": [
       "array([(1, 2., 3), (4, 5., 6)],\n",
       "      dtype=[('a', '<i4'), ('f0', '<f8'), ('f1', '<i4')])"
      ]
     },
     "execution_count": 4,
     "metadata": {},
     "output_type": "execute_result"
    }
   ],
   "source": [
    "data = \"1 2 3\\n 4 5 6\"\n",
    "dat = StringIO(data)\n",
    "np.genfromtxt(dat,names='a',dtype=(int,float,int))"
   ]
  },
  {
   "cell_type": "code",
   "execution_count": 6,
   "id": "2c3a53da",
   "metadata": {},
   "outputs": [
    {
     "name": "stderr",
     "output_type": "stream",
     "text": [
      "C:\\Users\\srini\\AppData\\Local\\Temp\\ipykernel_1588\\4108909974.py:2: UserWarning: genfromtxt: Empty input file: \"<_io.StringIO object at 0x000001593C68BA30>\"\n",
      "  np.genfromtxt(dat,dtype=(int,float,int),defaultfmt='var_%0i')\n"
     ]
    },
    {
     "data": {
      "text/plain": [
       "array([], dtype=[('var_0', '<i4'), ('var_1', '<f8'), ('var_2', '<i4')])"
      ]
     },
     "execution_count": 6,
     "metadata": {},
     "output_type": "execute_result"
    }
   ],
   "source": [
    "#We can overwrite this default with the defaultfmt argument, that takes any format string:\n",
    "np.genfromtxt(dat,dtype=(int,float,int),defaultfmt='var_%0i')"
   ]
  },
  {
   "cell_type": "code",
   "execution_count": 12,
   "id": "072412de",
   "metadata": {},
   "outputs": [],
   "source": [
    "convertsec = lambda x : float(x.strip(b\"%\"))/100                          "
   ]
  },
  {
   "cell_type": "code",
   "execution_count": 13,
   "id": "b3e83a26",
   "metadata": {},
   "outputs": [
    {
     "data": {
      "text/plain": [
       "array([(1., nan, 45.), (6., nan,  0.)],\n",
       "      dtype=[('i', '<f8'), ('p', '<f8'), ('n', '<f8')])"
      ]
     },
     "execution_count": 13,
     "metadata": {},
     "output_type": "execute_result"
    }
   ],
   "source": [
    "data3 = u\"1, 2.3%, 45.\\n6, 78.9%, 0\"\n",
    "names = (\"i\",\"p\",\"n\")\n",
    "np.genfromtxt(StringIO(data3),delimiter=',',names=names)"
   ]
  },
  {
   "cell_type": "code",
   "execution_count": 14,
   "id": "ba20520b",
   "metadata": {},
   "outputs": [
    {
     "data": {
      "text/plain": [
       "array([(1., 0.023, 45.), (6., 0.789,  0.)],\n",
       "      dtype=[('i', '<f8'), ('p', '<f8'), ('n', '<f8')])"
      ]
     },
     "execution_count": 14,
     "metadata": {},
     "output_type": "execute_result"
    }
   ],
   "source": [
    "np.genfromtxt(StringIO(data3), names=names,delimiter=',',converters={1:convertsec})"
   ]
  },
  {
   "cell_type": "code",
   "execution_count": 16,
   "id": "89d12cd3",
   "metadata": {},
   "outputs": [
    {
     "data": {
      "text/plain": [
       "array([(1., 0.023, 45.), (6., 0.789,  0.)],\n",
       "      dtype=[('i', '<f8'), ('p', '<f8'), ('n', '<f8')])"
      ]
     },
     "execution_count": 16,
     "metadata": {},
     "output_type": "execute_result"
    }
   ],
   "source": [
    "#The same results can be obtained by using the name of the second column (\"p\") as key instead of its index (1):\n",
    "np.genfromtxt(StringIO(data3),delimiter=',',names=names,converters={'p':convertsec})"
   ]
  },
  {
   "cell_type": "markdown",
   "id": "8f15cba2",
   "metadata": {},
   "source": [
    "Converters can also be used to provide a default for missing entries. In the following example, the converter \n",
    "convert transforms a stripped string into the corresponding float or into -999 if the string is empty. We need \n",
    "to explicitly strip the string from white spaces as it is not done by default:"
   ]
  },
  {
   "cell_type": "code",
   "execution_count": 18,
   "id": "e1bccb7d",
   "metadata": {},
   "outputs": [
    {
     "data": {
      "text/plain": [
       "array([[   1., -999.,    3.],\n",
       "       [   4.,    5.,    6.]])"
      ]
     },
     "execution_count": 18,
     "metadata": {},
     "output_type": "execute_result"
    }
   ],
   "source": [
    "convert1 = lambda x:float(x.strip() or -999)\n",
    "data4 = u\"1, , 3\\n 4, 5, 6\"\n",
    "np.genfromtxt(StringIO(data4),converters={1:convert1},delimiter=',')"
   ]
  },
  {
   "cell_type": "markdown",
   "id": "52040cea",
   "metadata": {},
   "source": [
    "#### Using missing and filling values\n",
    "By default, any empty string is marked as missing. We can also consider more complex strings, such as \"N/A\" or \"???\" to represent missing or invalid data. The missing_values argument accepts three kinds of values:\n",
    "\n",
    "a string or a comma-separated string\n",
    "This string will be used as the marker for missing data for all the columns\n",
    "\n",
    "a sequence of strings\n",
    "In that case, each item is associated to a column, in order.\n",
    "\n",
    "a dictionary\n",
    "Values of the dictionary are strings or sequence of strings. The corresponding keys can be column indices (integers) or column names (strings). In addition, the special key None can be used to define a default applicable to all columns."
   ]
  },
  {
   "cell_type": "code",
   "execution_count": 21,
   "id": "13579bf6",
   "metadata": {},
   "outputs": [
    {
     "data": {
      "text/plain": [
       "array([(0, 2,   3), (4, 0, -99)],\n",
       "      dtype=[('a', '<i4'), ('b', '<i4'), ('c', '<i4')])"
      ]
     },
     "execution_count": 21,
     "metadata": {},
     "output_type": "execute_result"
    }
   ],
   "source": [
    "data5 = u\"N/A, 2, 3\\n4, ,???\"\n",
    "kwags = dict(delimiter=',' ,\n",
    "             dtype=int,\n",
    "             names=\"a,b,c\",\n",
    "             missing_values={0:'N/A','b':\" \",2:\"???\"},\n",
    "             filling_values={0:0,'b':0,2:-99})\n",
    "np.genfromtxt(StringIO(data5),**kwags)"
   ]
  },
  {
   "cell_type": "code",
   "execution_count": null,
   "id": "fef484c3",
   "metadata": {},
   "outputs": [],
   "source": []
  },
  {
   "cell_type": "code",
   "execution_count": null,
   "id": "f3470338",
   "metadata": {},
   "outputs": [],
   "source": []
  }
 ],
 "metadata": {
  "kernelspec": {
   "display_name": "Python 3 (ipykernel)",
   "language": "python",
   "name": "python3"
  },
  "language_info": {
   "codemirror_mode": {
    "name": "ipython",
    "version": 3
   },
   "file_extension": ".py",
   "mimetype": "text/x-python",
   "name": "python",
   "nbconvert_exporter": "python",
   "pygments_lexer": "ipython3",
   "version": "3.11.1"
  }
 },
 "nbformat": 4,
 "nbformat_minor": 5
}
