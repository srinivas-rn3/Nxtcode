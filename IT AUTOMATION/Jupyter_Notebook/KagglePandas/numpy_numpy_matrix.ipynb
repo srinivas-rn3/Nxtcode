{
 "cells": [
  {
   "cell_type": "markdown",
   "id": "f25982a5",
   "metadata": {},
   "source": [
    "**Difference between Numpy array and Numpy matrix**"
   ]
  },
  {
   "cell_type": "code",
   "execution_count": 1,
   "id": "26879071",
   "metadata": {},
   "outputs": [],
   "source": [
    "import numpy as np"
   ]
  },
  {
   "cell_type": "markdown",
   "id": "076e06c5",
   "metadata": {},
   "source": [
    "res = np.array(['G','F','G'])\n",
    "print(\"Numpy Array in python:\",res)\n",
    "print(type(res))"
   ]
  },
  {
   "cell_type": "markdown",
   "id": "9ec33d64",
   "metadata": {},
   "source": [
    "**What is numpy.matrix() in Python**\n",
    "\n",
    "A matrix in Numpy returns a matrix from a string of data or array-like object. The matrix obtained is a specialized 2D array."
   ]
  },
  {
   "cell_type": "code",
   "execution_count": 3,
   "id": "d47ffb8b",
   "metadata": {},
   "outputs": [
    {
     "name": "stdout",
     "output_type": "stream",
     "text": [
      "Matrix is:\n",
      " [[1 2 3]\n",
      " [5 6 7]\n",
      " [7 8 9]]\n",
      "<class 'numpy.matrix'>\n"
     ]
    }
   ],
   "source": [
    "mat = np.matrix([\n",
    "                [1,2,3],\n",
    "                [5,6,7],\n",
    "                [7,8,9]\n",
    "                ])\n",
    "print(\"Matrix is:\\n\", mat)\n",
    "print(type(mat))"
   ]
  },
  {
   "cell_type": "code",
   "execution_count": 4,
   "id": "feb1eecb",
   "metadata": {},
   "outputs": [
    {
     "name": "stdout",
     "output_type": "stream",
     "text": [
      "[[23 34 55]\n",
      " [56 65 67]\n",
      " [90 88 21]]\n",
      "<class 'numpy.ndarray'>\n"
     ]
    }
   ],
   "source": [
    "arr_mat = np.array([[23,34,55],\n",
    "                   [56,65,67],\n",
    "                   [90,88,21]])\n",
    "print(arr_mat)\n",
    "print(type(arr_mat))"
   ]
  },
  {
   "cell_type": "code",
   "execution_count": 7,
   "id": "0a61535a",
   "metadata": {},
   "outputs": [
    {
     "name": "stdout",
     "output_type": "stream",
     "text": [
      "1D Array\n",
      " [1 2 3]\n",
      "\n",
      "\n",
      "2D Array\n",
      " [list([1, 2]) list([3.4])]\n",
      "3D array\n",
      " [[[ 1  2]\n",
      "  [ 3  4]]\n",
      "\n",
      " [[ 5  6]\n",
      "  [ 7  8]]\n",
      "\n",
      " [[ 9 10]\n",
      "  [11 12]]]\n"
     ]
    },
    {
     "name": "stderr",
     "output_type": "stream",
     "text": [
      "C:\\Users\\srini\\AppData\\Local\\Temp\\ipykernel_19960\\806358476.py:5: VisibleDeprecationWarning: Creating an ndarray from ragged nested sequences (which is a list-or-tuple of lists-or-tuples-or ndarrays with different lengths or shapes) is deprecated. If you meant to do this, you must specify 'dtype=object' when creating the ndarray.\n",
      "  arr2 = np.array([[1,2],[3.4]])\n"
     ]
    }
   ],
   "source": [
    "arr1 = np.array([1,2,3])\n",
    "print(\"1D Array\\n\",arr1)\n",
    "print(\"\\n\")\n",
    "\n",
    "arr2 = np.array([[1,2],[3.4]])\n",
    "print(\"2D Array\\n\",arr2)\n",
    "\n",
    "C = np.array([[[1, 2], [3, 4]],\n",
    "             [[5, 6], [7, 8]],\n",
    "             [[9, 10], [11, 12]]])\n",
    "print(\"3D array\\n\", C)"
   ]
  },
  {
   "cell_type": "markdown",
   "id": "f16acb2e",
   "metadata": {},
   "source": [
    "Matrix works normally for a 2D matrix and if a 1D matrix will convert into 2D Matrix, but if we pass a 3D matrix it will through an error."
   ]
  },
  {
   "cell_type": "code",
   "execution_count": 17,
   "id": "5702d6b7",
   "metadata": {},
   "outputs": [
    {
     "name": "stdout",
     "output_type": "stream",
     "text": [
      "[[1 2 3]]\n",
      "Dimensions:\t 2\n",
      "Shape:\t (1, 3)\n",
      "\n",
      "\n",
      "2D Array is\n",
      ": [[ 1  2]\n",
      " [ 3  4]\n",
      " [ 5  6]\n",
      " [ 7  8]\n",
      " [ 9 10]\n",
      " [11 12]]\n"
     ]
    }
   ],
   "source": [
    "arr1 = np.matrix([1,2,3])\n",
    "print(arr1)\n",
    "print(\"Dimensions:\\t\",arr1.ndim)\n",
    "print(\"Shape:\\t\",arr1.shape)\n",
    "print(\"\\n\")\n",
    "\n",
    "arr2 = np.matrix([[1,2],[3,4],[5,6],[7,8],[9,10],[11,12]])\n",
    "print(\"2D Array is\\n:\",arr2)"
   ]
  },
  {
   "cell_type": "markdown",
   "id": "28949fb8",
   "metadata": {},
   "source": [
    "***Different functionality of  * operator in ndarray and Matrix***"
   ]
  },
  {
   "cell_type": "code",
   "execution_count": 18,
   "id": "0aa1903c",
   "metadata": {},
   "outputs": [
    {
     "name": "stdout",
     "output_type": "stream",
     "text": [
      "Array multiplcation:\n",
      " [[ 2  6]\n",
      " [15 24]]\n"
     ]
    }
   ],
   "source": [
    "a = np.array([[1,2],[3,4]])\n",
    "b = np.array([[2,3],[5,6]])\n",
    "\n",
    "c = a*b\n",
    "print(\"Array multiplcation:\\n\",c)"
   ]
  },
  {
   "cell_type": "code",
   "execution_count": 19,
   "id": "8ea2f9df",
   "metadata": {},
   "outputs": [
    {
     "name": "stdout",
     "output_type": "stream",
     "text": [
      "Matrix multiplcation\n",
      " [[ 7 10]\n",
      " [15 22]]\n"
     ]
    }
   ],
   "source": [
    "#While it does matrix multiplication.\n",
    "a = np.matrix([[1,2],[3,4]])\n",
    "\n",
    "b = np.matrix([[1,2],[3,4]])\n",
    "\n",
    "c = a * b\n",
    "print(\"Matrix multiplcation\\n\", c)\n"
   ]
  },
  {
   "cell_type": "code",
   "execution_count": 20,
   "id": "9bf31d43",
   "metadata": {},
   "outputs": [
    {
     "ename": "SyntaxError",
     "evalue": "invalid syntax (1689433279.py, line 1)",
     "output_type": "error",
     "traceback": [
      "\u001b[1;36m  Cell \u001b[1;32mIn[20], line 1\u001b[1;36m\u001b[0m\n\u001b[1;33m    ***Matrix has an array.I for inverse, but ndarray has linalg.inv***\u001b[0m\n\u001b[1;37m    ^\u001b[0m\n\u001b[1;31mSyntaxError\u001b[0m\u001b[1;31m:\u001b[0m invalid syntax\n"
     ]
    }
   ],
   "source": [
    "***Matrix has an array.I for inverse, but ndarray has linalg.inv***"
   ]
  },
  {
   "cell_type": "markdown",
   "id": "3da04f5f",
   "metadata": {},
   "source": []
  },
  {
   "cell_type": "code",
   "execution_count": 22,
   "id": "fa5f9ed3",
   "metadata": {},
   "outputs": [
    {
     "name": "stdout",
     "output_type": "stream",
     "text": [
      "Inverse \n",
      " [[-2.   1. ]\n",
      " [ 1.5 -0.5]]\n"
     ]
    }
   ],
   "source": [
    "#The inverse can be done with array.I in ndarray.\n",
    "arr1 = np.matrix([[1,2],[3,4]])\n",
    "\n",
    "print('Inverse \\n',arr1.I)\n"
   ]
  },
  {
   "cell_type": "code",
   "execution_count": 23,
   "id": "51e8bdae",
   "metadata": {},
   "outputs": [
    {
     "name": "stdout",
     "output_type": "stream",
     "text": [
      "Inverse\n",
      " [[-2.   1. ]\n",
      " [ 1.5 -0.5]]\n"
     ]
    }
   ],
   "source": [
    "#The inverse can be done with np.linalg.inv in matrix.\n",
    "arr1 = np.matrix([[1,2],[3,4]])\n",
    "\n",
    "print(\"Inverse\\n\",np.linalg.inv(arr1))\n",
    "#https://numpy.org/doc/stable/reference/routines.linalg.html"
   ]
  },
  {
   "cell_type": "code",
   "execution_count": null,
   "id": "9af7158f",
   "metadata": {},
   "outputs": [],
   "source": []
  }
 ],
 "metadata": {
  "kernelspec": {
   "display_name": "Python 3 (ipykernel)",
   "language": "python",
   "name": "python3"
  },
  "language_info": {
   "codemirror_mode": {
    "name": "ipython",
    "version": 3
   },
   "file_extension": ".py",
   "mimetype": "text/x-python",
   "name": "python",
   "nbconvert_exporter": "python",
   "pygments_lexer": "ipython3",
   "version": "3.11.1"
  }
 },
 "nbformat": 4,
 "nbformat_minor": 5
}
