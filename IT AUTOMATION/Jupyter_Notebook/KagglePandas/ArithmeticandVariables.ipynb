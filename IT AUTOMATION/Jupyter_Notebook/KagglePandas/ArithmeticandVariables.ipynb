{
 "cells": [
  {
   "cell_type": "markdown",
   "id": "e4b90c22",
   "metadata": {},
   "source": [
    "### Arithmetic and Variables"
   ]
  },
  {
   "cell_type": "code",
   "execution_count": 1,
   "id": "e45c6949",
   "metadata": {},
   "outputs": [
    {
     "name": "stdout",
     "output_type": "stream",
     "text": [
      "Hello World!!!\n"
     ]
    }
   ],
   "source": [
    "print(\"Hello World!!!\")"
   ]
  },
  {
   "cell_type": "markdown",
   "id": "b1fde8ab",
   "metadata": {},
   "source": [
    "***Arithmetic***"
   ]
  },
  {
   "cell_type": "code",
   "execution_count": 2,
   "id": "c742262d",
   "metadata": {},
   "outputs": [
    {
     "name": "stdout",
     "output_type": "stream",
     "text": [
      "3\n"
     ]
    }
   ],
   "source": [
    "print(1+2)"
   ]
  },
  {
   "cell_type": "code",
   "execution_count": 4,
   "id": "e64e9239",
   "metadata": {},
   "outputs": [
    {
     "name": "stdout",
     "output_type": "stream",
     "text": [
      "3\n"
     ]
    }
   ],
   "source": [
    "print(5-2)"
   ]
  },
  {
   "cell_type": "code",
   "execution_count": 5,
   "id": "a79b7968",
   "metadata": {},
   "outputs": [
    {
     "name": "stdout",
     "output_type": "stream",
     "text": [
      "196.0\n"
     ]
    }
   ],
   "source": [
    "print(((1+3)*(9-2)/2)**2)"
   ]
  },
  {
   "cell_type": "markdown",
   "id": "355ac7e6",
   "metadata": {},
   "source": [
    "***Comments***"
   ]
  },
  {
   "cell_type": "code",
   "execution_count": 6,
   "id": "80a8a89b",
   "metadata": {},
   "outputs": [
    {
     "name": "stdout",
     "output_type": "stream",
     "text": [
      "6\n"
     ]
    }
   ],
   "source": [
    "#Multiple line\n",
    "print(3*2)"
   ]
  },
  {
   "cell_type": "markdown",
   "id": "ea7d1aba",
   "metadata": {},
   "source": [
    "***Variables***"
   ]
  },
  {
   "cell_type": "code",
   "execution_count": 7,
   "id": "257c91af",
   "metadata": {},
   "outputs": [
    {
     "name": "stdout",
     "output_type": "stream",
     "text": [
      "9\n"
     ]
    }
   ],
   "source": [
    "test_var = 4 +5\n",
    "print(test_var)"
   ]
  },
  {
   "cell_type": "markdown",
   "id": "4b347732",
   "metadata": {},
   "source": [
    "***Manipulating variables***"
   ]
  },
  {
   "cell_type": "code",
   "execution_count": 8,
   "id": "eeaf9cd6",
   "metadata": {},
   "outputs": [
    {
     "name": "stdout",
     "output_type": "stream",
     "text": [
      "3\n",
      "100\n"
     ]
    }
   ],
   "source": [
    "my_var = 3\n",
    "print(my_var)\n",
    "my_var = 100\n",
    "print(my_var)"
   ]
  },
  {
   "cell_type": "code",
   "execution_count": 9,
   "id": "ba88d068",
   "metadata": {},
   "outputs": [
    {
     "name": "stdout",
     "output_type": "stream",
     "text": [
      "100\n",
      "9\n"
     ]
    }
   ],
   "source": [
    "print(my_var)\n",
    "print(test_var)"
   ]
  },
  {
   "cell_type": "code",
   "execution_count": 10,
   "id": "6b6805dd",
   "metadata": {},
   "outputs": [
    {
     "name": "stdout",
     "output_type": "stream",
     "text": [
      "103\n"
     ]
    }
   ],
   "source": [
    "my_var = my_var + 3\n",
    "print(my_var)"
   ]
  },
  {
   "cell_type": "markdown",
   "id": "97bb9d68",
   "metadata": {},
   "source": [
    "***Using multiple variables***"
   ]
  },
  {
   "cell_type": "code",
   "execution_count": 11,
   "id": "33664942",
   "metadata": {},
   "outputs": [
    {
     "name": "stdout",
     "output_type": "stream",
     "text": [
      "126144000\n"
     ]
    }
   ],
   "source": [
    "#Create variable \n",
    "num_years = 4 \n",
    "days_per_year = 365\n",
    "hours_per_day = 24\n",
    "mins_per_hour = 60\n",
    "secs_per_min = 60\n",
    "#caluclate number of seconds in four year\n",
    "total_sec = secs_per_min * mins_per_hour * hours_per_day * days_per_year * num_years\n",
    "print(total_sec)"
   ]
  },
  {
   "cell_type": "code",
   "execution_count": 13,
   "id": "1629fff7",
   "metadata": {},
   "outputs": [
    {
     "name": "stdout",
     "output_type": "stream",
     "text": [
      "126230400.0\n"
     ]
    }
   ],
   "source": [
    "#Update to include leap year\n",
    "days_per_year = 365.25\n",
    "total_sec = secs_per_min * mins_per_hour * hours_per_day * days_per_year * num_years\n",
    "print(total_sec)"
   ]
  },
  {
   "cell_type": "code",
   "execution_count": 16,
   "id": "0800ab88",
   "metadata": {},
   "outputs": [
    {
     "name": "stdout",
     "output_type": "stream",
     "text": [
      "24\n"
     ]
    }
   ],
   "source": [
    "print(hours_per_day)"
   ]
  },
  {
   "cell_type": "code",
   "execution_count": null,
   "id": "103c8c73",
   "metadata": {},
   "outputs": [],
   "source": []
  }
 ],
 "metadata": {
  "kernelspec": {
   "display_name": "Python 3 (ipykernel)",
   "language": "python",
   "name": "python3"
  },
  "language_info": {
   "codemirror_mode": {
    "name": "ipython",
    "version": 3
   },
   "file_extension": ".py",
   "mimetype": "text/x-python",
   "name": "python",
   "nbconvert_exporter": "python",
   "pygments_lexer": "ipython3",
   "version": "3.11.1"
  }
 },
 "nbformat": 4,
 "nbformat_minor": 5
}
