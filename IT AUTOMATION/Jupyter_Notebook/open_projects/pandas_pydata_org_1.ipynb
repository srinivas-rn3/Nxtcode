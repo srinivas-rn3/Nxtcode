{
 "cells": [
  {
   "cell_type": "markdown",
   "id": "cb02b8f4",
   "metadata": {},
   "source": [
    "**Object creation**"
   ]
  },
  {
   "cell_type": "code",
   "execution_count": 1,
   "id": "407cf6dc",
   "metadata": {},
   "outputs": [],
   "source": [
    "#https://pandas.pydata.org/docs/user_guide/10min.html"
   ]
  },
  {
   "cell_type": "code",
   "execution_count": 2,
   "id": "f051f7a9",
   "metadata": {},
   "outputs": [],
   "source": [
    "import pandas as pd\n",
    "import numpy as np"
   ]
  },
  {
   "cell_type": "code",
   "execution_count": 3,
   "id": "53fa365a",
   "metadata": {},
   "outputs": [
    {
     "data": {
      "text/html": [
       "<div>\n",
       "<style scoped>\n",
       "    .dataframe tbody tr th:only-of-type {\n",
       "        vertical-align: middle;\n",
       "    }\n",
       "\n",
       "    .dataframe tbody tr th {\n",
       "        vertical-align: top;\n",
       "    }\n",
       "\n",
       "    .dataframe thead th {\n",
       "        text-align: right;\n",
       "    }\n",
       "</style>\n",
       "<table border=\"1\" class=\"dataframe\">\n",
       "  <thead>\n",
       "    <tr style=\"text-align: right;\">\n",
       "      <th></th>\n",
       "      <th>A</th>\n",
       "      <th>B</th>\n",
       "      <th>C</th>\n",
       "      <th>D</th>\n",
       "      <th>F</th>\n",
       "    </tr>\n",
       "  </thead>\n",
       "  <tbody>\n",
       "    <tr>\n",
       "      <th>0</th>\n",
       "      <td>1.0</td>\n",
       "      <td>2023-01-01</td>\n",
       "      <td>1.0</td>\n",
       "      <td>3.0</td>\n",
       "      <td>Alpha</td>\n",
       "    </tr>\n",
       "    <tr>\n",
       "      <th>1</th>\n",
       "      <td>1.0</td>\n",
       "      <td>2023-01-01</td>\n",
       "      <td>1.0</td>\n",
       "      <td>3.0</td>\n",
       "      <td>Beta</td>\n",
       "    </tr>\n",
       "    <tr>\n",
       "      <th>2</th>\n",
       "      <td>1.0</td>\n",
       "      <td>2023-01-01</td>\n",
       "      <td>1.0</td>\n",
       "      <td>3.0</td>\n",
       "      <td>Gamma</td>\n",
       "    </tr>\n",
       "    <tr>\n",
       "      <th>3</th>\n",
       "      <td>1.0</td>\n",
       "      <td>2023-01-01</td>\n",
       "      <td>1.0</td>\n",
       "      <td>3.0</td>\n",
       "      <td>Delta</td>\n",
       "    </tr>\n",
       "  </tbody>\n",
       "</table>\n",
       "</div>"
      ],
      "text/plain": [
       "     A          B    C    D      F\n",
       "0  1.0 2023-01-01  1.0  3.0  Alpha\n",
       "1  1.0 2023-01-01  1.0  3.0   Beta\n",
       "2  1.0 2023-01-01  1.0  3.0  Gamma\n",
       "3  1.0 2023-01-01  1.0  3.0  Delta"
      ]
     },
     "execution_count": 3,
     "metadata": {},
     "output_type": "execute_result"
    }
   ],
   "source": [
    "df2 = pd.DataFrame(\n",
    "{\n",
    "    \"A\":1.0,\n",
    "    \"B\":pd.Timestamp(\"20230101\"),\n",
    "    \"C\":pd.Series(1,index=list(range(4)),dtype='float32'),\n",
    "    \"D\":pd.array([3]*4,dtype='float32'),\n",
    "    \"F\":pd.Categorical([\"Alpha\",\"Beta\",\"Gamma\",\"Delta\"])\n",
    "})\n",
    "df2"
   ]
  },
  {
   "cell_type": "code",
   "execution_count": 4,
   "id": "679a531b",
   "metadata": {},
   "outputs": [
    {
     "data": {
      "text/plain": [
       "A           float64\n",
       "B    datetime64[ns]\n",
       "C           float32\n",
       "D           float32\n",
       "F          category\n",
       "dtype: object"
      ]
     },
     "execution_count": 4,
     "metadata": {},
     "output_type": "execute_result"
    }
   ],
   "source": [
    "\n",
    "df2.dtypes"
   ]
  },
  {
   "cell_type": "code",
   "execution_count": 5,
   "id": "f9bbf4cf",
   "metadata": {},
   "outputs": [
    {
     "data": {
      "text/html": [
       "<div>\n",
       "<style scoped>\n",
       "    .dataframe tbody tr th:only-of-type {\n",
       "        vertical-align: middle;\n",
       "    }\n",
       "\n",
       "    .dataframe tbody tr th {\n",
       "        vertical-align: top;\n",
       "    }\n",
       "\n",
       "    .dataframe thead th {\n",
       "        text-align: right;\n",
       "    }\n",
       "</style>\n",
       "<table border=\"1\" class=\"dataframe\">\n",
       "  <thead>\n",
       "    <tr style=\"text-align: right;\">\n",
       "      <th></th>\n",
       "      <th>A</th>\n",
       "      <th>B</th>\n",
       "      <th>C</th>\n",
       "      <th>D</th>\n",
       "    </tr>\n",
       "  </thead>\n",
       "  <tbody>\n",
       "    <tr>\n",
       "      <th>2023-01-01</th>\n",
       "      <td>0.758088</td>\n",
       "      <td>0.854673</td>\n",
       "      <td>0.432484</td>\n",
       "      <td>0.914823</td>\n",
       "    </tr>\n",
       "    <tr>\n",
       "      <th>2023-01-02</th>\n",
       "      <td>0.509351</td>\n",
       "      <td>0.348552</td>\n",
       "      <td>0.221522</td>\n",
       "      <td>0.830087</td>\n",
       "    </tr>\n",
       "    <tr>\n",
       "      <th>2023-01-03</th>\n",
       "      <td>0.451705</td>\n",
       "      <td>0.536114</td>\n",
       "      <td>0.996157</td>\n",
       "      <td>0.400197</td>\n",
       "    </tr>\n",
       "    <tr>\n",
       "      <th>2023-01-04</th>\n",
       "      <td>0.835500</td>\n",
       "      <td>0.644957</td>\n",
       "      <td>0.127148</td>\n",
       "      <td>0.284533</td>\n",
       "    </tr>\n",
       "    <tr>\n",
       "      <th>2023-01-05</th>\n",
       "      <td>0.527048</td>\n",
       "      <td>0.147405</td>\n",
       "      <td>0.867396</td>\n",
       "      <td>0.429417</td>\n",
       "    </tr>\n",
       "    <tr>\n",
       "      <th>2023-01-06</th>\n",
       "      <td>0.492675</td>\n",
       "      <td>0.524191</td>\n",
       "      <td>0.629641</td>\n",
       "      <td>0.253977</td>\n",
       "    </tr>\n",
       "  </tbody>\n",
       "</table>\n",
       "</div>"
      ],
      "text/plain": [
       "                   A         B         C         D\n",
       "2023-01-01  0.758088  0.854673  0.432484  0.914823\n",
       "2023-01-02  0.509351  0.348552  0.221522  0.830087\n",
       "2023-01-03  0.451705  0.536114  0.996157  0.400197\n",
       "2023-01-04  0.835500  0.644957  0.127148  0.284533\n",
       "2023-01-05  0.527048  0.147405  0.867396  0.429417\n",
       "2023-01-06  0.492675  0.524191  0.629641  0.253977"
      ]
     },
     "execution_count": 5,
     "metadata": {},
     "output_type": "execute_result"
    }
   ],
   "source": [
    "dates = pd.date_range(\"20230101\",periods=6)\n",
    "df = pd.DataFrame(np.random.rand(6,4),index=dates,columns=list(\"ABCD\"))\n",
    "df"
   ]
  },
  {
   "cell_type": "markdown",
   "id": "ec4d9938",
   "metadata": {},
   "source": [
    "**Viewing data**"
   ]
  },
  {
   "cell_type": "code",
   "execution_count": 6,
   "id": "30fd18aa",
   "metadata": {},
   "outputs": [
    {
     "data": {
      "text/html": [
       "<div>\n",
       "<style scoped>\n",
       "    .dataframe tbody tr th:only-of-type {\n",
       "        vertical-align: middle;\n",
       "    }\n",
       "\n",
       "    .dataframe tbody tr th {\n",
       "        vertical-align: top;\n",
       "    }\n",
       "\n",
       "    .dataframe thead th {\n",
       "        text-align: right;\n",
       "    }\n",
       "</style>\n",
       "<table border=\"1\" class=\"dataframe\">\n",
       "  <thead>\n",
       "    <tr style=\"text-align: right;\">\n",
       "      <th></th>\n",
       "      <th>A</th>\n",
       "      <th>B</th>\n",
       "      <th>C</th>\n",
       "      <th>D</th>\n",
       "    </tr>\n",
       "  </thead>\n",
       "  <tbody>\n",
       "    <tr>\n",
       "      <th>2023-01-01</th>\n",
       "      <td>0.758088</td>\n",
       "      <td>0.854673</td>\n",
       "      <td>0.432484</td>\n",
       "      <td>0.914823</td>\n",
       "    </tr>\n",
       "    <tr>\n",
       "      <th>2023-01-02</th>\n",
       "      <td>0.509351</td>\n",
       "      <td>0.348552</td>\n",
       "      <td>0.221522</td>\n",
       "      <td>0.830087</td>\n",
       "    </tr>\n",
       "    <tr>\n",
       "      <th>2023-01-03</th>\n",
       "      <td>0.451705</td>\n",
       "      <td>0.536114</td>\n",
       "      <td>0.996157</td>\n",
       "      <td>0.400197</td>\n",
       "    </tr>\n",
       "    <tr>\n",
       "      <th>2023-01-04</th>\n",
       "      <td>0.835500</td>\n",
       "      <td>0.644957</td>\n",
       "      <td>0.127148</td>\n",
       "      <td>0.284533</td>\n",
       "    </tr>\n",
       "    <tr>\n",
       "      <th>2023-01-05</th>\n",
       "      <td>0.527048</td>\n",
       "      <td>0.147405</td>\n",
       "      <td>0.867396</td>\n",
       "      <td>0.429417</td>\n",
       "    </tr>\n",
       "  </tbody>\n",
       "</table>\n",
       "</div>"
      ],
      "text/plain": [
       "                   A         B         C         D\n",
       "2023-01-01  0.758088  0.854673  0.432484  0.914823\n",
       "2023-01-02  0.509351  0.348552  0.221522  0.830087\n",
       "2023-01-03  0.451705  0.536114  0.996157  0.400197\n",
       "2023-01-04  0.835500  0.644957  0.127148  0.284533\n",
       "2023-01-05  0.527048  0.147405  0.867396  0.429417"
      ]
     },
     "execution_count": 6,
     "metadata": {},
     "output_type": "execute_result"
    }
   ],
   "source": [
    "df.head()"
   ]
  },
  {
   "cell_type": "code",
   "execution_count": 7,
   "id": "94e8c412",
   "metadata": {},
   "outputs": [
    {
     "data": {
      "text/html": [
       "<div>\n",
       "<style scoped>\n",
       "    .dataframe tbody tr th:only-of-type {\n",
       "        vertical-align: middle;\n",
       "    }\n",
       "\n",
       "    .dataframe tbody tr th {\n",
       "        vertical-align: top;\n",
       "    }\n",
       "\n",
       "    .dataframe thead th {\n",
       "        text-align: right;\n",
       "    }\n",
       "</style>\n",
       "<table border=\"1\" class=\"dataframe\">\n",
       "  <thead>\n",
       "    <tr style=\"text-align: right;\">\n",
       "      <th></th>\n",
       "      <th>A</th>\n",
       "      <th>B</th>\n",
       "      <th>C</th>\n",
       "      <th>D</th>\n",
       "    </tr>\n",
       "  </thead>\n",
       "  <tbody>\n",
       "    <tr>\n",
       "      <th>2023-01-02</th>\n",
       "      <td>0.509351</td>\n",
       "      <td>0.348552</td>\n",
       "      <td>0.221522</td>\n",
       "      <td>0.830087</td>\n",
       "    </tr>\n",
       "    <tr>\n",
       "      <th>2023-01-03</th>\n",
       "      <td>0.451705</td>\n",
       "      <td>0.536114</td>\n",
       "      <td>0.996157</td>\n",
       "      <td>0.400197</td>\n",
       "    </tr>\n",
       "    <tr>\n",
       "      <th>2023-01-04</th>\n",
       "      <td>0.835500</td>\n",
       "      <td>0.644957</td>\n",
       "      <td>0.127148</td>\n",
       "      <td>0.284533</td>\n",
       "    </tr>\n",
       "    <tr>\n",
       "      <th>2023-01-05</th>\n",
       "      <td>0.527048</td>\n",
       "      <td>0.147405</td>\n",
       "      <td>0.867396</td>\n",
       "      <td>0.429417</td>\n",
       "    </tr>\n",
       "    <tr>\n",
       "      <th>2023-01-06</th>\n",
       "      <td>0.492675</td>\n",
       "      <td>0.524191</td>\n",
       "      <td>0.629641</td>\n",
       "      <td>0.253977</td>\n",
       "    </tr>\n",
       "  </tbody>\n",
       "</table>\n",
       "</div>"
      ],
      "text/plain": [
       "                   A         B         C         D\n",
       "2023-01-02  0.509351  0.348552  0.221522  0.830087\n",
       "2023-01-03  0.451705  0.536114  0.996157  0.400197\n",
       "2023-01-04  0.835500  0.644957  0.127148  0.284533\n",
       "2023-01-05  0.527048  0.147405  0.867396  0.429417\n",
       "2023-01-06  0.492675  0.524191  0.629641  0.253977"
      ]
     },
     "execution_count": 7,
     "metadata": {},
     "output_type": "execute_result"
    }
   ],
   "source": [
    "df.tail()"
   ]
  },
  {
   "cell_type": "code",
   "execution_count": 8,
   "id": "395027ab",
   "metadata": {},
   "outputs": [
    {
     "data": {
      "text/plain": [
       "DatetimeIndex(['2023-01-01', '2023-01-02', '2023-01-03', '2023-01-04',\n",
       "               '2023-01-05', '2023-01-06'],\n",
       "              dtype='datetime64[ns]', freq='D')"
      ]
     },
     "execution_count": 8,
     "metadata": {},
     "output_type": "execute_result"
    }
   ],
   "source": [
    "df.index"
   ]
  },
  {
   "cell_type": "code",
   "execution_count": 9,
   "id": "9611a02a",
   "metadata": {},
   "outputs": [
    {
     "data": {
      "text/plain": [
       "Index(['A', 'B', 'C', 'D'], dtype='object')"
      ]
     },
     "execution_count": 9,
     "metadata": {},
     "output_type": "execute_result"
    }
   ],
   "source": [
    "df.columns"
   ]
  },
  {
   "cell_type": "markdown",
   "id": "e478bc66",
   "metadata": {},
   "source": [
    "**DataFrame.to_numpy()**  gives a NumPy representation of the underlying data. Note that this can be an expensive operation when your DataFrame has columns with different data types, which comes down to a fundamental difference between pandas and NumPy: NumPy arrays have one dtype for the entire array, while pandas DataFrames have one dtype per column. When you call DataFrame.to_numpy(), pandas will find the NumPy dtype that can hold all of the dtypes in the DataFrame. This may end up being object, which requires casting every value to a Python object."
   ]
  },
  {
   "cell_type": "code",
   "execution_count": 10,
   "id": "a1fa7c6a",
   "metadata": {},
   "outputs": [
    {
     "data": {
      "text/plain": [
       "array([[1.0, Timestamp('2023-01-01 00:00:00'), 1.0, 3.0, 'Alpha'],\n",
       "       [1.0, Timestamp('2023-01-01 00:00:00'), 1.0, 3.0, 'Beta'],\n",
       "       [1.0, Timestamp('2023-01-01 00:00:00'), 1.0, 3.0, 'Gamma'],\n",
       "       [1.0, Timestamp('2023-01-01 00:00:00'), 1.0, 3.0, 'Delta']],\n",
       "      dtype=object)"
      ]
     },
     "execution_count": 10,
     "metadata": {},
     "output_type": "execute_result"
    }
   ],
   "source": [
    "df2.to_numpy()"
   ]
  },
  {
   "cell_type": "code",
   "execution_count": 11,
   "id": "275f36d9",
   "metadata": {},
   "outputs": [
    {
     "data": {
      "text/html": [
       "<div>\n",
       "<style scoped>\n",
       "    .dataframe tbody tr th:only-of-type {\n",
       "        vertical-align: middle;\n",
       "    }\n",
       "\n",
       "    .dataframe tbody tr th {\n",
       "        vertical-align: top;\n",
       "    }\n",
       "\n",
       "    .dataframe thead th {\n",
       "        text-align: right;\n",
       "    }\n",
       "</style>\n",
       "<table border=\"1\" class=\"dataframe\">\n",
       "  <thead>\n",
       "    <tr style=\"text-align: right;\">\n",
       "      <th></th>\n",
       "      <th>A</th>\n",
       "      <th>B</th>\n",
       "      <th>C</th>\n",
       "      <th>D</th>\n",
       "    </tr>\n",
       "  </thead>\n",
       "  <tbody>\n",
       "    <tr>\n",
       "      <th>count</th>\n",
       "      <td>6.000000</td>\n",
       "      <td>6.000000</td>\n",
       "      <td>6.000000</td>\n",
       "      <td>6.000000</td>\n",
       "    </tr>\n",
       "    <tr>\n",
       "      <th>mean</th>\n",
       "      <td>0.595728</td>\n",
       "      <td>0.509315</td>\n",
       "      <td>0.545725</td>\n",
       "      <td>0.518839</td>\n",
       "    </tr>\n",
       "    <tr>\n",
       "      <th>std</th>\n",
       "      <td>0.159619</td>\n",
       "      <td>0.243078</td>\n",
       "      <td>0.348293</td>\n",
       "      <td>0.283126</td>\n",
       "    </tr>\n",
       "    <tr>\n",
       "      <th>min</th>\n",
       "      <td>0.451705</td>\n",
       "      <td>0.147405</td>\n",
       "      <td>0.127148</td>\n",
       "      <td>0.253977</td>\n",
       "    </tr>\n",
       "    <tr>\n",
       "      <th>25%</th>\n",
       "      <td>0.496844</td>\n",
       "      <td>0.392462</td>\n",
       "      <td>0.274263</td>\n",
       "      <td>0.313449</td>\n",
       "    </tr>\n",
       "    <tr>\n",
       "      <th>50%</th>\n",
       "      <td>0.518199</td>\n",
       "      <td>0.530152</td>\n",
       "      <td>0.531062</td>\n",
       "      <td>0.414807</td>\n",
       "    </tr>\n",
       "    <tr>\n",
       "      <th>75%</th>\n",
       "      <td>0.700328</td>\n",
       "      <td>0.617746</td>\n",
       "      <td>0.807957</td>\n",
       "      <td>0.729919</td>\n",
       "    </tr>\n",
       "    <tr>\n",
       "      <th>max</th>\n",
       "      <td>0.835500</td>\n",
       "      <td>0.854673</td>\n",
       "      <td>0.996157</td>\n",
       "      <td>0.914823</td>\n",
       "    </tr>\n",
       "  </tbody>\n",
       "</table>\n",
       "</div>"
      ],
      "text/plain": [
       "              A         B         C         D\n",
       "count  6.000000  6.000000  6.000000  6.000000\n",
       "mean   0.595728  0.509315  0.545725  0.518839\n",
       "std    0.159619  0.243078  0.348293  0.283126\n",
       "min    0.451705  0.147405  0.127148  0.253977\n",
       "25%    0.496844  0.392462  0.274263  0.313449\n",
       "50%    0.518199  0.530152  0.531062  0.414807\n",
       "75%    0.700328  0.617746  0.807957  0.729919\n",
       "max    0.835500  0.854673  0.996157  0.914823"
      ]
     },
     "execution_count": 11,
     "metadata": {},
     "output_type": "execute_result"
    }
   ],
   "source": [
    "df.describe()"
   ]
  },
  {
   "cell_type": "code",
   "execution_count": 12,
   "id": "24d1a5ef",
   "metadata": {},
   "outputs": [
    {
     "data": {
      "text/html": [
       "<div>\n",
       "<style scoped>\n",
       "    .dataframe tbody tr th:only-of-type {\n",
       "        vertical-align: middle;\n",
       "    }\n",
       "\n",
       "    .dataframe tbody tr th {\n",
       "        vertical-align: top;\n",
       "    }\n",
       "\n",
       "    .dataframe thead th {\n",
       "        text-align: right;\n",
       "    }\n",
       "</style>\n",
       "<table border=\"1\" class=\"dataframe\">\n",
       "  <thead>\n",
       "    <tr style=\"text-align: right;\">\n",
       "      <th></th>\n",
       "      <th>2023-01-01</th>\n",
       "      <th>2023-01-02</th>\n",
       "      <th>2023-01-03</th>\n",
       "      <th>2023-01-04</th>\n",
       "      <th>2023-01-05</th>\n",
       "      <th>2023-01-06</th>\n",
       "    </tr>\n",
       "  </thead>\n",
       "  <tbody>\n",
       "    <tr>\n",
       "      <th>A</th>\n",
       "      <td>0.758088</td>\n",
       "      <td>0.509351</td>\n",
       "      <td>0.451705</td>\n",
       "      <td>0.835500</td>\n",
       "      <td>0.527048</td>\n",
       "      <td>0.492675</td>\n",
       "    </tr>\n",
       "    <tr>\n",
       "      <th>B</th>\n",
       "      <td>0.854673</td>\n",
       "      <td>0.348552</td>\n",
       "      <td>0.536114</td>\n",
       "      <td>0.644957</td>\n",
       "      <td>0.147405</td>\n",
       "      <td>0.524191</td>\n",
       "    </tr>\n",
       "    <tr>\n",
       "      <th>C</th>\n",
       "      <td>0.432484</td>\n",
       "      <td>0.221522</td>\n",
       "      <td>0.996157</td>\n",
       "      <td>0.127148</td>\n",
       "      <td>0.867396</td>\n",
       "      <td>0.629641</td>\n",
       "    </tr>\n",
       "    <tr>\n",
       "      <th>D</th>\n",
       "      <td>0.914823</td>\n",
       "      <td>0.830087</td>\n",
       "      <td>0.400197</td>\n",
       "      <td>0.284533</td>\n",
       "      <td>0.429417</td>\n",
       "      <td>0.253977</td>\n",
       "    </tr>\n",
       "  </tbody>\n",
       "</table>\n",
       "</div>"
      ],
      "text/plain": [
       "   2023-01-01  2023-01-02  2023-01-03  2023-01-04  2023-01-05  2023-01-06\n",
       "A    0.758088    0.509351    0.451705    0.835500    0.527048    0.492675\n",
       "B    0.854673    0.348552    0.536114    0.644957    0.147405    0.524191\n",
       "C    0.432484    0.221522    0.996157    0.127148    0.867396    0.629641\n",
       "D    0.914823    0.830087    0.400197    0.284533    0.429417    0.253977"
      ]
     },
     "execution_count": 12,
     "metadata": {},
     "output_type": "execute_result"
    }
   ],
   "source": [
    "df.T"
   ]
  },
  {
   "cell_type": "code",
   "execution_count": 13,
   "id": "2d32ac3c",
   "metadata": {},
   "outputs": [
    {
     "data": {
      "text/html": [
       "<div>\n",
       "<style scoped>\n",
       "    .dataframe tbody tr th:only-of-type {\n",
       "        vertical-align: middle;\n",
       "    }\n",
       "\n",
       "    .dataframe tbody tr th {\n",
       "        vertical-align: top;\n",
       "    }\n",
       "\n",
       "    .dataframe thead th {\n",
       "        text-align: right;\n",
       "    }\n",
       "</style>\n",
       "<table border=\"1\" class=\"dataframe\">\n",
       "  <thead>\n",
       "    <tr style=\"text-align: right;\">\n",
       "      <th></th>\n",
       "      <th>D</th>\n",
       "      <th>C</th>\n",
       "      <th>B</th>\n",
       "      <th>A</th>\n",
       "    </tr>\n",
       "  </thead>\n",
       "  <tbody>\n",
       "    <tr>\n",
       "      <th>2023-01-01</th>\n",
       "      <td>0.914823</td>\n",
       "      <td>0.432484</td>\n",
       "      <td>0.854673</td>\n",
       "      <td>0.758088</td>\n",
       "    </tr>\n",
       "    <tr>\n",
       "      <th>2023-01-02</th>\n",
       "      <td>0.830087</td>\n",
       "      <td>0.221522</td>\n",
       "      <td>0.348552</td>\n",
       "      <td>0.509351</td>\n",
       "    </tr>\n",
       "    <tr>\n",
       "      <th>2023-01-03</th>\n",
       "      <td>0.400197</td>\n",
       "      <td>0.996157</td>\n",
       "      <td>0.536114</td>\n",
       "      <td>0.451705</td>\n",
       "    </tr>\n",
       "    <tr>\n",
       "      <th>2023-01-04</th>\n",
       "      <td>0.284533</td>\n",
       "      <td>0.127148</td>\n",
       "      <td>0.644957</td>\n",
       "      <td>0.835500</td>\n",
       "    </tr>\n",
       "    <tr>\n",
       "      <th>2023-01-05</th>\n",
       "      <td>0.429417</td>\n",
       "      <td>0.867396</td>\n",
       "      <td>0.147405</td>\n",
       "      <td>0.527048</td>\n",
       "    </tr>\n",
       "    <tr>\n",
       "      <th>2023-01-06</th>\n",
       "      <td>0.253977</td>\n",
       "      <td>0.629641</td>\n",
       "      <td>0.524191</td>\n",
       "      <td>0.492675</td>\n",
       "    </tr>\n",
       "  </tbody>\n",
       "</table>\n",
       "</div>"
      ],
      "text/plain": [
       "                   D         C         B         A\n",
       "2023-01-01  0.914823  0.432484  0.854673  0.758088\n",
       "2023-01-02  0.830087  0.221522  0.348552  0.509351\n",
       "2023-01-03  0.400197  0.996157  0.536114  0.451705\n",
       "2023-01-04  0.284533  0.127148  0.644957  0.835500\n",
       "2023-01-05  0.429417  0.867396  0.147405  0.527048\n",
       "2023-01-06  0.253977  0.629641  0.524191  0.492675"
      ]
     },
     "execution_count": 13,
     "metadata": {},
     "output_type": "execute_result"
    }
   ],
   "source": [
    "df.sort_index(axis=1,ascending=False)"
   ]
  },
  {
   "cell_type": "code",
   "execution_count": 14,
   "id": "e23d6ef5",
   "metadata": {},
   "outputs": [
    {
     "data": {
      "text/html": [
       "<div>\n",
       "<style scoped>\n",
       "    .dataframe tbody tr th:only-of-type {\n",
       "        vertical-align: middle;\n",
       "    }\n",
       "\n",
       "    .dataframe tbody tr th {\n",
       "        vertical-align: top;\n",
       "    }\n",
       "\n",
       "    .dataframe thead th {\n",
       "        text-align: right;\n",
       "    }\n",
       "</style>\n",
       "<table border=\"1\" class=\"dataframe\">\n",
       "  <thead>\n",
       "    <tr style=\"text-align: right;\">\n",
       "      <th></th>\n",
       "      <th>A</th>\n",
       "      <th>B</th>\n",
       "      <th>C</th>\n",
       "      <th>D</th>\n",
       "    </tr>\n",
       "  </thead>\n",
       "  <tbody>\n",
       "    <tr>\n",
       "      <th>2023-01-05</th>\n",
       "      <td>0.527048</td>\n",
       "      <td>0.147405</td>\n",
       "      <td>0.867396</td>\n",
       "      <td>0.429417</td>\n",
       "    </tr>\n",
       "    <tr>\n",
       "      <th>2023-01-02</th>\n",
       "      <td>0.509351</td>\n",
       "      <td>0.348552</td>\n",
       "      <td>0.221522</td>\n",
       "      <td>0.830087</td>\n",
       "    </tr>\n",
       "    <tr>\n",
       "      <th>2023-01-06</th>\n",
       "      <td>0.492675</td>\n",
       "      <td>0.524191</td>\n",
       "      <td>0.629641</td>\n",
       "      <td>0.253977</td>\n",
       "    </tr>\n",
       "    <tr>\n",
       "      <th>2023-01-03</th>\n",
       "      <td>0.451705</td>\n",
       "      <td>0.536114</td>\n",
       "      <td>0.996157</td>\n",
       "      <td>0.400197</td>\n",
       "    </tr>\n",
       "    <tr>\n",
       "      <th>2023-01-04</th>\n",
       "      <td>0.835500</td>\n",
       "      <td>0.644957</td>\n",
       "      <td>0.127148</td>\n",
       "      <td>0.284533</td>\n",
       "    </tr>\n",
       "    <tr>\n",
       "      <th>2023-01-01</th>\n",
       "      <td>0.758088</td>\n",
       "      <td>0.854673</td>\n",
       "      <td>0.432484</td>\n",
       "      <td>0.914823</td>\n",
       "    </tr>\n",
       "  </tbody>\n",
       "</table>\n",
       "</div>"
      ],
      "text/plain": [
       "                   A         B         C         D\n",
       "2023-01-05  0.527048  0.147405  0.867396  0.429417\n",
       "2023-01-02  0.509351  0.348552  0.221522  0.830087\n",
       "2023-01-06  0.492675  0.524191  0.629641  0.253977\n",
       "2023-01-03  0.451705  0.536114  0.996157  0.400197\n",
       "2023-01-04  0.835500  0.644957  0.127148  0.284533\n",
       "2023-01-01  0.758088  0.854673  0.432484  0.914823"
      ]
     },
     "execution_count": 14,
     "metadata": {},
     "output_type": "execute_result"
    }
   ],
   "source": [
    "df.sort_values(by='B')"
   ]
  },
  {
   "cell_type": "markdown",
   "id": "d5e2a250",
   "metadata": {},
   "source": [
    "__Selection__"
   ]
  },
  {
   "cell_type": "code",
   "execution_count": 15,
   "id": "ab0da0ab",
   "metadata": {},
   "outputs": [
    {
     "data": {
      "text/plain": [
       "2023-01-01    0.758088\n",
       "2023-01-02    0.509351\n",
       "2023-01-03    0.451705\n",
       "2023-01-04    0.835500\n",
       "2023-01-05    0.527048\n",
       "2023-01-06    0.492675\n",
       "Freq: D, Name: A, dtype: float64"
      ]
     },
     "execution_count": 15,
     "metadata": {},
     "output_type": "execute_result"
    }
   ],
   "source": [
    "df['A']"
   ]
  },
  {
   "cell_type": "code",
   "execution_count": 16,
   "id": "11b60988",
   "metadata": {},
   "outputs": [
    {
     "data": {
      "text/html": [
       "<div>\n",
       "<style scoped>\n",
       "    .dataframe tbody tr th:only-of-type {\n",
       "        vertical-align: middle;\n",
       "    }\n",
       "\n",
       "    .dataframe tbody tr th {\n",
       "        vertical-align: top;\n",
       "    }\n",
       "\n",
       "    .dataframe thead th {\n",
       "        text-align: right;\n",
       "    }\n",
       "</style>\n",
       "<table border=\"1\" class=\"dataframe\">\n",
       "  <thead>\n",
       "    <tr style=\"text-align: right;\">\n",
       "      <th></th>\n",
       "      <th>A</th>\n",
       "      <th>B</th>\n",
       "      <th>C</th>\n",
       "      <th>D</th>\n",
       "    </tr>\n",
       "  </thead>\n",
       "  <tbody>\n",
       "    <tr>\n",
       "      <th>2023-01-01</th>\n",
       "      <td>0.758088</td>\n",
       "      <td>0.854673</td>\n",
       "      <td>0.432484</td>\n",
       "      <td>0.914823</td>\n",
       "    </tr>\n",
       "    <tr>\n",
       "      <th>2023-01-02</th>\n",
       "      <td>0.509351</td>\n",
       "      <td>0.348552</td>\n",
       "      <td>0.221522</td>\n",
       "      <td>0.830087</td>\n",
       "    </tr>\n",
       "    <tr>\n",
       "      <th>2023-01-03</th>\n",
       "      <td>0.451705</td>\n",
       "      <td>0.536114</td>\n",
       "      <td>0.996157</td>\n",
       "      <td>0.400197</td>\n",
       "    </tr>\n",
       "  </tbody>\n",
       "</table>\n",
       "</div>"
      ],
      "text/plain": [
       "                   A         B         C         D\n",
       "2023-01-01  0.758088  0.854673  0.432484  0.914823\n",
       "2023-01-02  0.509351  0.348552  0.221522  0.830087\n",
       "2023-01-03  0.451705  0.536114  0.996157  0.400197"
      ]
     },
     "execution_count": 16,
     "metadata": {},
     "output_type": "execute_result"
    }
   ],
   "source": [
    "df[0:3]"
   ]
  },
  {
   "cell_type": "code",
   "execution_count": 17,
   "id": "e84d9c25",
   "metadata": {},
   "outputs": [
    {
     "data": {
      "text/html": [
       "<div>\n",
       "<style scoped>\n",
       "    .dataframe tbody tr th:only-of-type {\n",
       "        vertical-align: middle;\n",
       "    }\n",
       "\n",
       "    .dataframe tbody tr th {\n",
       "        vertical-align: top;\n",
       "    }\n",
       "\n",
       "    .dataframe thead th {\n",
       "        text-align: right;\n",
       "    }\n",
       "</style>\n",
       "<table border=\"1\" class=\"dataframe\">\n",
       "  <thead>\n",
       "    <tr style=\"text-align: right;\">\n",
       "      <th></th>\n",
       "      <th>A</th>\n",
       "      <th>B</th>\n",
       "      <th>C</th>\n",
       "      <th>D</th>\n",
       "    </tr>\n",
       "  </thead>\n",
       "  <tbody>\n",
       "    <tr>\n",
       "      <th>2023-01-01</th>\n",
       "      <td>0.758088</td>\n",
       "      <td>0.854673</td>\n",
       "      <td>0.432484</td>\n",
       "      <td>0.914823</td>\n",
       "    </tr>\n",
       "    <tr>\n",
       "      <th>2023-01-02</th>\n",
       "      <td>0.509351</td>\n",
       "      <td>0.348552</td>\n",
       "      <td>0.221522</td>\n",
       "      <td>0.830087</td>\n",
       "    </tr>\n",
       "    <tr>\n",
       "      <th>2023-01-03</th>\n",
       "      <td>0.451705</td>\n",
       "      <td>0.536114</td>\n",
       "      <td>0.996157</td>\n",
       "      <td>0.400197</td>\n",
       "    </tr>\n",
       "  </tbody>\n",
       "</table>\n",
       "</div>"
      ],
      "text/plain": [
       "                   A         B         C         D\n",
       "2023-01-01  0.758088  0.854673  0.432484  0.914823\n",
       "2023-01-02  0.509351  0.348552  0.221522  0.830087\n",
       "2023-01-03  0.451705  0.536114  0.996157  0.400197"
      ]
     },
     "execution_count": 17,
     "metadata": {},
     "output_type": "execute_result"
    }
   ],
   "source": [
    "df['2023-01-01':'2023-01-03']"
   ]
  },
  {
   "cell_type": "markdown",
   "id": "8be321de",
   "metadata": {},
   "source": [
    "<b>Selection by label</b>"
   ]
  },
  {
   "cell_type": "code",
   "execution_count": 18,
   "id": "58454c3f",
   "metadata": {},
   "outputs": [
    {
     "data": {
      "text/plain": [
       "A    0.758088\n",
       "B    0.854673\n",
       "C    0.432484\n",
       "D    0.914823\n",
       "Name: 2023-01-01 00:00:00, dtype: float64"
      ]
     },
     "execution_count": 18,
     "metadata": {},
     "output_type": "execute_result"
    }
   ],
   "source": [
    "df.loc[dates[0]]"
   ]
  },
  {
   "cell_type": "code",
   "execution_count": 19,
   "id": "17d3fa4b",
   "metadata": {},
   "outputs": [
    {
     "data": {
      "text/html": [
       "<div>\n",
       "<style scoped>\n",
       "    .dataframe tbody tr th:only-of-type {\n",
       "        vertical-align: middle;\n",
       "    }\n",
       "\n",
       "    .dataframe tbody tr th {\n",
       "        vertical-align: top;\n",
       "    }\n",
       "\n",
       "    .dataframe thead th {\n",
       "        text-align: right;\n",
       "    }\n",
       "</style>\n",
       "<table border=\"1\" class=\"dataframe\">\n",
       "  <thead>\n",
       "    <tr style=\"text-align: right;\">\n",
       "      <th></th>\n",
       "      <th>A</th>\n",
       "      <th>B</th>\n",
       "    </tr>\n",
       "  </thead>\n",
       "  <tbody>\n",
       "    <tr>\n",
       "      <th>2023-01-01</th>\n",
       "      <td>0.758088</td>\n",
       "      <td>0.854673</td>\n",
       "    </tr>\n",
       "    <tr>\n",
       "      <th>2023-01-02</th>\n",
       "      <td>0.509351</td>\n",
       "      <td>0.348552</td>\n",
       "    </tr>\n",
       "    <tr>\n",
       "      <th>2023-01-03</th>\n",
       "      <td>0.451705</td>\n",
       "      <td>0.536114</td>\n",
       "    </tr>\n",
       "    <tr>\n",
       "      <th>2023-01-04</th>\n",
       "      <td>0.835500</td>\n",
       "      <td>0.644957</td>\n",
       "    </tr>\n",
       "    <tr>\n",
       "      <th>2023-01-05</th>\n",
       "      <td>0.527048</td>\n",
       "      <td>0.147405</td>\n",
       "    </tr>\n",
       "    <tr>\n",
       "      <th>2023-01-06</th>\n",
       "      <td>0.492675</td>\n",
       "      <td>0.524191</td>\n",
       "    </tr>\n",
       "  </tbody>\n",
       "</table>\n",
       "</div>"
      ],
      "text/plain": [
       "                   A         B\n",
       "2023-01-01  0.758088  0.854673\n",
       "2023-01-02  0.509351  0.348552\n",
       "2023-01-03  0.451705  0.536114\n",
       "2023-01-04  0.835500  0.644957\n",
       "2023-01-05  0.527048  0.147405\n",
       "2023-01-06  0.492675  0.524191"
      ]
     },
     "execution_count": 19,
     "metadata": {},
     "output_type": "execute_result"
    }
   ],
   "source": [
    "df.loc[:,[\"A\",\"B\"]]"
   ]
  },
  {
   "cell_type": "code",
   "execution_count": 20,
   "id": "a2db810e",
   "metadata": {},
   "outputs": [
    {
     "data": {
      "text/html": [
       "<div>\n",
       "<style scoped>\n",
       "    .dataframe tbody tr th:only-of-type {\n",
       "        vertical-align: middle;\n",
       "    }\n",
       "\n",
       "    .dataframe tbody tr th {\n",
       "        vertical-align: top;\n",
       "    }\n",
       "\n",
       "    .dataframe thead th {\n",
       "        text-align: right;\n",
       "    }\n",
       "</style>\n",
       "<table border=\"1\" class=\"dataframe\">\n",
       "  <thead>\n",
       "    <tr style=\"text-align: right;\">\n",
       "      <th></th>\n",
       "      <th>A</th>\n",
       "      <th>B</th>\n",
       "    </tr>\n",
       "  </thead>\n",
       "  <tbody>\n",
       "    <tr>\n",
       "      <th>2023-01-01</th>\n",
       "      <td>0.758088</td>\n",
       "      <td>0.854673</td>\n",
       "    </tr>\n",
       "    <tr>\n",
       "      <th>2023-01-02</th>\n",
       "      <td>0.509351</td>\n",
       "      <td>0.348552</td>\n",
       "    </tr>\n",
       "    <tr>\n",
       "      <th>2023-01-03</th>\n",
       "      <td>0.451705</td>\n",
       "      <td>0.536114</td>\n",
       "    </tr>\n",
       "  </tbody>\n",
       "</table>\n",
       "</div>"
      ],
      "text/plain": [
       "                   A         B\n",
       "2023-01-01  0.758088  0.854673\n",
       "2023-01-02  0.509351  0.348552\n",
       "2023-01-03  0.451705  0.536114"
      ]
     },
     "execution_count": 20,
     "metadata": {},
     "output_type": "execute_result"
    }
   ],
   "source": [
    "df.loc[\"2023-01-01\":\"2023-01-03\",[\"A\",\"B\"]]"
   ]
  },
  {
   "cell_type": "code",
   "execution_count": 21,
   "id": "f3d1e7ef",
   "metadata": {},
   "outputs": [
    {
     "data": {
      "text/plain": [
       "A    0.758088\n",
       "B    0.854673\n",
       "Name: 2023-01-01 00:00:00, dtype: float64"
      ]
     },
     "execution_count": 21,
     "metadata": {},
     "output_type": "execute_result"
    }
   ],
   "source": [
    "df.loc[\"2023-01-01\",[\"A\",\"B\"]]"
   ]
  },
  {
   "cell_type": "code",
   "execution_count": 22,
   "id": "5cfed7a5",
   "metadata": {},
   "outputs": [
    {
     "data": {
      "text/plain": [
       "0.7580884379270217"
      ]
     },
     "execution_count": 22,
     "metadata": {},
     "output_type": "execute_result"
    }
   ],
   "source": [
    "df.loc[dates[0],\"A\"]"
   ]
  },
  {
   "cell_type": "code",
   "execution_count": 23,
   "id": "4a0fb8ce",
   "metadata": {},
   "outputs": [
    {
     "ename": "SyntaxError",
     "evalue": "invalid syntax (1536854253.py, line 1)",
     "output_type": "error",
     "traceback": [
      "\u001b[1;36m  Cell \u001b[1;32mIn[23], line 1\u001b[1;36m\u001b[0m\n\u001b[1;33m    <b>Selection by position</b>\u001b[0m\n\u001b[1;37m    ^\u001b[0m\n\u001b[1;31mSyntaxError\u001b[0m\u001b[1;31m:\u001b[0m invalid syntax\n"
     ]
    }
   ],
   "source": [
    "<b>Selection by position</b>"
   ]
  },
  {
   "cell_type": "markdown",
   "id": "3485dd04",
   "metadata": {},
   "source": [
    "<b>Selection by position</b>"
   ]
  },
  {
   "cell_type": "code",
   "execution_count": 24,
   "id": "5bf9bc3f",
   "metadata": {},
   "outputs": [
    {
     "data": {
      "text/plain": [
       "A    0.835500\n",
       "B    0.644957\n",
       "C    0.127148\n",
       "D    0.284533\n",
       "Name: 2023-01-04 00:00:00, dtype: float64"
      ]
     },
     "execution_count": 24,
     "metadata": {},
     "output_type": "execute_result"
    }
   ],
   "source": [
    "df.iloc[3]"
   ]
  },
  {
   "cell_type": "code",
   "execution_count": 25,
   "id": "c6592e00",
   "metadata": {},
   "outputs": [
    {
     "data": {
      "text/html": [
       "<div>\n",
       "<style scoped>\n",
       "    .dataframe tbody tr th:only-of-type {\n",
       "        vertical-align: middle;\n",
       "    }\n",
       "\n",
       "    .dataframe tbody tr th {\n",
       "        vertical-align: top;\n",
       "    }\n",
       "\n",
       "    .dataframe thead th {\n",
       "        text-align: right;\n",
       "    }\n",
       "</style>\n",
       "<table border=\"1\" class=\"dataframe\">\n",
       "  <thead>\n",
       "    <tr style=\"text-align: right;\">\n",
       "      <th></th>\n",
       "      <th>A</th>\n",
       "      <th>B</th>\n",
       "    </tr>\n",
       "  </thead>\n",
       "  <tbody>\n",
       "    <tr>\n",
       "      <th>2023-01-04</th>\n",
       "      <td>0.835500</td>\n",
       "      <td>0.644957</td>\n",
       "    </tr>\n",
       "    <tr>\n",
       "      <th>2023-01-05</th>\n",
       "      <td>0.527048</td>\n",
       "      <td>0.147405</td>\n",
       "    </tr>\n",
       "  </tbody>\n",
       "</table>\n",
       "</div>"
      ],
      "text/plain": [
       "                   A         B\n",
       "2023-01-04  0.835500  0.644957\n",
       "2023-01-05  0.527048  0.147405"
      ]
     },
     "execution_count": 25,
     "metadata": {},
     "output_type": "execute_result"
    }
   ],
   "source": [
    "df.iloc[3:5,0:2]"
   ]
  },
  {
   "cell_type": "code",
   "execution_count": 26,
   "id": "7858a3bb",
   "metadata": {},
   "outputs": [
    {
     "data": {
      "text/html": [
       "<div>\n",
       "<style scoped>\n",
       "    .dataframe tbody tr th:only-of-type {\n",
       "        vertical-align: middle;\n",
       "    }\n",
       "\n",
       "    .dataframe tbody tr th {\n",
       "        vertical-align: top;\n",
       "    }\n",
       "\n",
       "    .dataframe thead th {\n",
       "        text-align: right;\n",
       "    }\n",
       "</style>\n",
       "<table border=\"1\" class=\"dataframe\">\n",
       "  <thead>\n",
       "    <tr style=\"text-align: right;\">\n",
       "      <th></th>\n",
       "      <th>A</th>\n",
       "      <th>C</th>\n",
       "    </tr>\n",
       "  </thead>\n",
       "  <tbody>\n",
       "    <tr>\n",
       "      <th>2023-01-02</th>\n",
       "      <td>0.509351</td>\n",
       "      <td>0.221522</td>\n",
       "    </tr>\n",
       "    <tr>\n",
       "      <th>2023-01-03</th>\n",
       "      <td>0.451705</td>\n",
       "      <td>0.996157</td>\n",
       "    </tr>\n",
       "    <tr>\n",
       "      <th>2023-01-05</th>\n",
       "      <td>0.527048</td>\n",
       "      <td>0.867396</td>\n",
       "    </tr>\n",
       "  </tbody>\n",
       "</table>\n",
       "</div>"
      ],
      "text/plain": [
       "                   A         C\n",
       "2023-01-02  0.509351  0.221522\n",
       "2023-01-03  0.451705  0.996157\n",
       "2023-01-05  0.527048  0.867396"
      ]
     },
     "execution_count": 26,
     "metadata": {},
     "output_type": "execute_result"
    }
   ],
   "source": [
    "df.iloc[[1,2,4],[0,2]]"
   ]
  },
  {
   "cell_type": "code",
   "execution_count": 27,
   "id": "adeb4caa",
   "metadata": {},
   "outputs": [
    {
     "data": {
      "text/html": [
       "<div>\n",
       "<style scoped>\n",
       "    .dataframe tbody tr th:only-of-type {\n",
       "        vertical-align: middle;\n",
       "    }\n",
       "\n",
       "    .dataframe tbody tr th {\n",
       "        vertical-align: top;\n",
       "    }\n",
       "\n",
       "    .dataframe thead th {\n",
       "        text-align: right;\n",
       "    }\n",
       "</style>\n",
       "<table border=\"1\" class=\"dataframe\">\n",
       "  <thead>\n",
       "    <tr style=\"text-align: right;\">\n",
       "      <th></th>\n",
       "      <th>B</th>\n",
       "      <th>C</th>\n",
       "    </tr>\n",
       "  </thead>\n",
       "  <tbody>\n",
       "    <tr>\n",
       "      <th>2023-01-01</th>\n",
       "      <td>0.854673</td>\n",
       "      <td>0.432484</td>\n",
       "    </tr>\n",
       "    <tr>\n",
       "      <th>2023-01-02</th>\n",
       "      <td>0.348552</td>\n",
       "      <td>0.221522</td>\n",
       "    </tr>\n",
       "    <tr>\n",
       "      <th>2023-01-03</th>\n",
       "      <td>0.536114</td>\n",
       "      <td>0.996157</td>\n",
       "    </tr>\n",
       "    <tr>\n",
       "      <th>2023-01-04</th>\n",
       "      <td>0.644957</td>\n",
       "      <td>0.127148</td>\n",
       "    </tr>\n",
       "    <tr>\n",
       "      <th>2023-01-05</th>\n",
       "      <td>0.147405</td>\n",
       "      <td>0.867396</td>\n",
       "    </tr>\n",
       "    <tr>\n",
       "      <th>2023-01-06</th>\n",
       "      <td>0.524191</td>\n",
       "      <td>0.629641</td>\n",
       "    </tr>\n",
       "  </tbody>\n",
       "</table>\n",
       "</div>"
      ],
      "text/plain": [
       "                   B         C\n",
       "2023-01-01  0.854673  0.432484\n",
       "2023-01-02  0.348552  0.221522\n",
       "2023-01-03  0.536114  0.996157\n",
       "2023-01-04  0.644957  0.127148\n",
       "2023-01-05  0.147405  0.867396\n",
       "2023-01-06  0.524191  0.629641"
      ]
     },
     "execution_count": 27,
     "metadata": {},
     "output_type": "execute_result"
    }
   ],
   "source": [
    "df.iloc[:,1:3]"
   ]
  },
  {
   "cell_type": "code",
   "execution_count": 28,
   "id": "5d183977",
   "metadata": {},
   "outputs": [
    {
     "data": {
      "text/html": [
       "<div>\n",
       "<style scoped>\n",
       "    .dataframe tbody tr th:only-of-type {\n",
       "        vertical-align: middle;\n",
       "    }\n",
       "\n",
       "    .dataframe tbody tr th {\n",
       "        vertical-align: top;\n",
       "    }\n",
       "\n",
       "    .dataframe thead th {\n",
       "        text-align: right;\n",
       "    }\n",
       "</style>\n",
       "<table border=\"1\" class=\"dataframe\">\n",
       "  <thead>\n",
       "    <tr style=\"text-align: right;\">\n",
       "      <th></th>\n",
       "      <th>A</th>\n",
       "      <th>B</th>\n",
       "      <th>C</th>\n",
       "      <th>D</th>\n",
       "    </tr>\n",
       "  </thead>\n",
       "  <tbody>\n",
       "    <tr>\n",
       "      <th>2023-01-01</th>\n",
       "      <td>0.758088</td>\n",
       "      <td>0.854673</td>\n",
       "      <td>0.432484</td>\n",
       "      <td>0.914823</td>\n",
       "    </tr>\n",
       "    <tr>\n",
       "      <th>2023-01-02</th>\n",
       "      <td>0.509351</td>\n",
       "      <td>0.348552</td>\n",
       "      <td>0.221522</td>\n",
       "      <td>0.830087</td>\n",
       "    </tr>\n",
       "    <tr>\n",
       "      <th>2023-01-03</th>\n",
       "      <td>0.451705</td>\n",
       "      <td>0.536114</td>\n",
       "      <td>0.996157</td>\n",
       "      <td>0.400197</td>\n",
       "    </tr>\n",
       "    <tr>\n",
       "      <th>2023-01-04</th>\n",
       "      <td>0.835500</td>\n",
       "      <td>0.644957</td>\n",
       "      <td>0.127148</td>\n",
       "      <td>0.284533</td>\n",
       "    </tr>\n",
       "    <tr>\n",
       "      <th>2023-01-05</th>\n",
       "      <td>0.527048</td>\n",
       "      <td>0.147405</td>\n",
       "      <td>0.867396</td>\n",
       "      <td>0.429417</td>\n",
       "    </tr>\n",
       "    <tr>\n",
       "      <th>2023-01-06</th>\n",
       "      <td>0.492675</td>\n",
       "      <td>0.524191</td>\n",
       "      <td>0.629641</td>\n",
       "      <td>0.253977</td>\n",
       "    </tr>\n",
       "  </tbody>\n",
       "</table>\n",
       "</div>"
      ],
      "text/plain": [
       "                   A         B         C         D\n",
       "2023-01-01  0.758088  0.854673  0.432484  0.914823\n",
       "2023-01-02  0.509351  0.348552  0.221522  0.830087\n",
       "2023-01-03  0.451705  0.536114  0.996157  0.400197\n",
       "2023-01-04  0.835500  0.644957  0.127148  0.284533\n",
       "2023-01-05  0.527048  0.147405  0.867396  0.429417\n",
       "2023-01-06  0.492675  0.524191  0.629641  0.253977"
      ]
     },
     "execution_count": 28,
     "metadata": {},
     "output_type": "execute_result"
    }
   ],
   "source": [
    "df"
   ]
  },
  {
   "cell_type": "code",
   "execution_count": 29,
   "id": "a343ff4b",
   "metadata": {},
   "outputs": [
    {
     "data": {
      "text/html": [
       "<div>\n",
       "<style scoped>\n",
       "    .dataframe tbody tr th:only-of-type {\n",
       "        vertical-align: middle;\n",
       "    }\n",
       "\n",
       "    .dataframe tbody tr th {\n",
       "        vertical-align: top;\n",
       "    }\n",
       "\n",
       "    .dataframe thead th {\n",
       "        text-align: right;\n",
       "    }\n",
       "</style>\n",
       "<table border=\"1\" class=\"dataframe\">\n",
       "  <thead>\n",
       "    <tr style=\"text-align: right;\">\n",
       "      <th></th>\n",
       "      <th>A</th>\n",
       "      <th>B</th>\n",
       "      <th>C</th>\n",
       "      <th>D</th>\n",
       "    </tr>\n",
       "  </thead>\n",
       "  <tbody>\n",
       "    <tr>\n",
       "      <th>2023-01-02</th>\n",
       "      <td>0.509351</td>\n",
       "      <td>0.348552</td>\n",
       "      <td>0.221522</td>\n",
       "      <td>0.830087</td>\n",
       "    </tr>\n",
       "    <tr>\n",
       "      <th>2023-01-03</th>\n",
       "      <td>0.451705</td>\n",
       "      <td>0.536114</td>\n",
       "      <td>0.996157</td>\n",
       "      <td>0.400197</td>\n",
       "    </tr>\n",
       "  </tbody>\n",
       "</table>\n",
       "</div>"
      ],
      "text/plain": [
       "                   A         B         C         D\n",
       "2023-01-02  0.509351  0.348552  0.221522  0.830087\n",
       "2023-01-03  0.451705  0.536114  0.996157  0.400197"
      ]
     },
     "execution_count": 29,
     "metadata": {},
     "output_type": "execute_result"
    }
   ],
   "source": [
    "df.iloc[1:3,:]"
   ]
  },
  {
   "cell_type": "code",
   "execution_count": 30,
   "id": "b4d34675",
   "metadata": {},
   "outputs": [
    {
     "data": {
      "text/html": [
       "<div>\n",
       "<style scoped>\n",
       "    .dataframe tbody tr th:only-of-type {\n",
       "        vertical-align: middle;\n",
       "    }\n",
       "\n",
       "    .dataframe tbody tr th {\n",
       "        vertical-align: top;\n",
       "    }\n",
       "\n",
       "    .dataframe thead th {\n",
       "        text-align: right;\n",
       "    }\n",
       "</style>\n",
       "<table border=\"1\" class=\"dataframe\">\n",
       "  <thead>\n",
       "    <tr style=\"text-align: right;\">\n",
       "      <th></th>\n",
       "      <th>B</th>\n",
       "      <th>C</th>\n",
       "    </tr>\n",
       "  </thead>\n",
       "  <tbody>\n",
       "    <tr>\n",
       "      <th>2023-01-01</th>\n",
       "      <td>0.854673</td>\n",
       "      <td>0.432484</td>\n",
       "    </tr>\n",
       "    <tr>\n",
       "      <th>2023-01-02</th>\n",
       "      <td>0.348552</td>\n",
       "      <td>0.221522</td>\n",
       "    </tr>\n",
       "    <tr>\n",
       "      <th>2023-01-03</th>\n",
       "      <td>0.536114</td>\n",
       "      <td>0.996157</td>\n",
       "    </tr>\n",
       "    <tr>\n",
       "      <th>2023-01-04</th>\n",
       "      <td>0.644957</td>\n",
       "      <td>0.127148</td>\n",
       "    </tr>\n",
       "    <tr>\n",
       "      <th>2023-01-05</th>\n",
       "      <td>0.147405</td>\n",
       "      <td>0.867396</td>\n",
       "    </tr>\n",
       "    <tr>\n",
       "      <th>2023-01-06</th>\n",
       "      <td>0.524191</td>\n",
       "      <td>0.629641</td>\n",
       "    </tr>\n",
       "  </tbody>\n",
       "</table>\n",
       "</div>"
      ],
      "text/plain": [
       "                   B         C\n",
       "2023-01-01  0.854673  0.432484\n",
       "2023-01-02  0.348552  0.221522\n",
       "2023-01-03  0.536114  0.996157\n",
       "2023-01-04  0.644957  0.127148\n",
       "2023-01-05  0.147405  0.867396\n",
       "2023-01-06  0.524191  0.629641"
      ]
     },
     "execution_count": 30,
     "metadata": {},
     "output_type": "execute_result"
    }
   ],
   "source": [
    "df.iloc[:,1:3]"
   ]
  },
  {
   "cell_type": "code",
   "execution_count": 31,
   "id": "2d38710d",
   "metadata": {},
   "outputs": [
    {
     "data": {
      "text/plain": [
       "0.34855220608683746"
      ]
     },
     "execution_count": 31,
     "metadata": {},
     "output_type": "execute_result"
    }
   ],
   "source": [
    "#For getting a value explicitly:\n",
    "df.iloc[1,1]"
   ]
  },
  {
   "cell_type": "code",
   "execution_count": 32,
   "id": "93ece32d",
   "metadata": {},
   "outputs": [
    {
     "data": {
      "text/plain": [
       "0.34855220608683746"
      ]
     },
     "execution_count": 32,
     "metadata": {},
     "output_type": "execute_result"
    }
   ],
   "source": [
    "#For getting fast access to a scalar (equivalent to the prior method):\n",
    "df.iat[1,1]"
   ]
  },
  {
   "cell_type": "code",
   "execution_count": 33,
   "id": "f9c3b391",
   "metadata": {},
   "outputs": [],
   "source": [
    "#diff between loc vs iloc vs iat\n",
    "#https://stackoverflow.com/questions/28757389/pandas-loc-vs-iloc-vs-at-vs-iat"
   ]
  },
  {
   "cell_type": "markdown",
   "id": "6a8f3033",
   "metadata": {},
   "source": [
    "__Boolean indexing__"
   ]
  },
  {
   "cell_type": "code",
   "execution_count": 34,
   "id": "27e3374c",
   "metadata": {},
   "outputs": [
    {
     "data": {
      "text/html": [
       "<div>\n",
       "<style scoped>\n",
       "    .dataframe tbody tr th:only-of-type {\n",
       "        vertical-align: middle;\n",
       "    }\n",
       "\n",
       "    .dataframe tbody tr th {\n",
       "        vertical-align: top;\n",
       "    }\n",
       "\n",
       "    .dataframe thead th {\n",
       "        text-align: right;\n",
       "    }\n",
       "</style>\n",
       "<table border=\"1\" class=\"dataframe\">\n",
       "  <thead>\n",
       "    <tr style=\"text-align: right;\">\n",
       "      <th></th>\n",
       "      <th>A</th>\n",
       "      <th>B</th>\n",
       "      <th>C</th>\n",
       "      <th>D</th>\n",
       "    </tr>\n",
       "  </thead>\n",
       "  <tbody>\n",
       "    <tr>\n",
       "      <th>2023-01-01</th>\n",
       "      <td>0.758088</td>\n",
       "      <td>0.854673</td>\n",
       "      <td>0.432484</td>\n",
       "      <td>0.914823</td>\n",
       "    </tr>\n",
       "    <tr>\n",
       "      <th>2023-01-02</th>\n",
       "      <td>0.509351</td>\n",
       "      <td>0.348552</td>\n",
       "      <td>0.221522</td>\n",
       "      <td>0.830087</td>\n",
       "    </tr>\n",
       "    <tr>\n",
       "      <th>2023-01-03</th>\n",
       "      <td>0.451705</td>\n",
       "      <td>0.536114</td>\n",
       "      <td>0.996157</td>\n",
       "      <td>0.400197</td>\n",
       "    </tr>\n",
       "    <tr>\n",
       "      <th>2023-01-04</th>\n",
       "      <td>0.835500</td>\n",
       "      <td>0.644957</td>\n",
       "      <td>0.127148</td>\n",
       "      <td>0.284533</td>\n",
       "    </tr>\n",
       "    <tr>\n",
       "      <th>2023-01-05</th>\n",
       "      <td>0.527048</td>\n",
       "      <td>0.147405</td>\n",
       "      <td>0.867396</td>\n",
       "      <td>0.429417</td>\n",
       "    </tr>\n",
       "    <tr>\n",
       "      <th>2023-01-06</th>\n",
       "      <td>0.492675</td>\n",
       "      <td>0.524191</td>\n",
       "      <td>0.629641</td>\n",
       "      <td>0.253977</td>\n",
       "    </tr>\n",
       "  </tbody>\n",
       "</table>\n",
       "</div>"
      ],
      "text/plain": [
       "                   A         B         C         D\n",
       "2023-01-01  0.758088  0.854673  0.432484  0.914823\n",
       "2023-01-02  0.509351  0.348552  0.221522  0.830087\n",
       "2023-01-03  0.451705  0.536114  0.996157  0.400197\n",
       "2023-01-04  0.835500  0.644957  0.127148  0.284533\n",
       "2023-01-05  0.527048  0.147405  0.867396  0.429417\n",
       "2023-01-06  0.492675  0.524191  0.629641  0.253977"
      ]
     },
     "execution_count": 34,
     "metadata": {},
     "output_type": "execute_result"
    }
   ],
   "source": [
    "df[df['A']>0]"
   ]
  },
  {
   "cell_type": "code",
   "execution_count": 35,
   "id": "fd3cdf64",
   "metadata": {},
   "outputs": [
    {
     "data": {
      "text/html": [
       "<div>\n",
       "<style scoped>\n",
       "    .dataframe tbody tr th:only-of-type {\n",
       "        vertical-align: middle;\n",
       "    }\n",
       "\n",
       "    .dataframe tbody tr th {\n",
       "        vertical-align: top;\n",
       "    }\n",
       "\n",
       "    .dataframe thead th {\n",
       "        text-align: right;\n",
       "    }\n",
       "</style>\n",
       "<table border=\"1\" class=\"dataframe\">\n",
       "  <thead>\n",
       "    <tr style=\"text-align: right;\">\n",
       "      <th></th>\n",
       "      <th>A</th>\n",
       "      <th>B</th>\n",
       "      <th>C</th>\n",
       "      <th>D</th>\n",
       "    </tr>\n",
       "  </thead>\n",
       "  <tbody>\n",
       "    <tr>\n",
       "      <th>2023-01-01</th>\n",
       "      <td>0.758088</td>\n",
       "      <td>0.854673</td>\n",
       "      <td>0.432484</td>\n",
       "      <td>0.914823</td>\n",
       "    </tr>\n",
       "    <tr>\n",
       "      <th>2023-01-02</th>\n",
       "      <td>0.509351</td>\n",
       "      <td>0.348552</td>\n",
       "      <td>0.221522</td>\n",
       "      <td>0.830087</td>\n",
       "    </tr>\n",
       "    <tr>\n",
       "      <th>2023-01-03</th>\n",
       "      <td>0.451705</td>\n",
       "      <td>0.536114</td>\n",
       "      <td>0.996157</td>\n",
       "      <td>0.400197</td>\n",
       "    </tr>\n",
       "    <tr>\n",
       "      <th>2023-01-04</th>\n",
       "      <td>0.835500</td>\n",
       "      <td>0.644957</td>\n",
       "      <td>0.127148</td>\n",
       "      <td>0.284533</td>\n",
       "    </tr>\n",
       "    <tr>\n",
       "      <th>2023-01-05</th>\n",
       "      <td>0.527048</td>\n",
       "      <td>0.147405</td>\n",
       "      <td>0.867396</td>\n",
       "      <td>0.429417</td>\n",
       "    </tr>\n",
       "    <tr>\n",
       "      <th>2023-01-06</th>\n",
       "      <td>0.492675</td>\n",
       "      <td>0.524191</td>\n",
       "      <td>0.629641</td>\n",
       "      <td>0.253977</td>\n",
       "    </tr>\n",
       "  </tbody>\n",
       "</table>\n",
       "</div>"
      ],
      "text/plain": [
       "                   A         B         C         D\n",
       "2023-01-01  0.758088  0.854673  0.432484  0.914823\n",
       "2023-01-02  0.509351  0.348552  0.221522  0.830087\n",
       "2023-01-03  0.451705  0.536114  0.996157  0.400197\n",
       "2023-01-04  0.835500  0.644957  0.127148  0.284533\n",
       "2023-01-05  0.527048  0.147405  0.867396  0.429417\n",
       "2023-01-06  0.492675  0.524191  0.629641  0.253977"
      ]
     },
     "execution_count": 35,
     "metadata": {},
     "output_type": "execute_result"
    }
   ],
   "source": [
    "df[df>0]"
   ]
  },
  {
   "cell_type": "code",
   "execution_count": 36,
   "id": "58bf57e5",
   "metadata": {},
   "outputs": [
    {
     "data": {
      "text/html": [
       "<div>\n",
       "<style scoped>\n",
       "    .dataframe tbody tr th:only-of-type {\n",
       "        vertical-align: middle;\n",
       "    }\n",
       "\n",
       "    .dataframe tbody tr th {\n",
       "        vertical-align: top;\n",
       "    }\n",
       "\n",
       "    .dataframe thead th {\n",
       "        text-align: right;\n",
       "    }\n",
       "</style>\n",
       "<table border=\"1\" class=\"dataframe\">\n",
       "  <thead>\n",
       "    <tr style=\"text-align: right;\">\n",
       "      <th></th>\n",
       "      <th>0</th>\n",
       "      <th>1</th>\n",
       "      <th>2</th>\n",
       "      <th>3</th>\n",
       "      <th>4</th>\n",
       "      <th>5</th>\n",
       "    </tr>\n",
       "  </thead>\n",
       "  <tbody>\n",
       "    <tr>\n",
       "      <th>0</th>\n",
       "      <td>NaN</td>\n",
       "      <td>NaN</td>\n",
       "      <td>NaN</td>\n",
       "      <td>NaN</td>\n",
       "      <td>NaN</td>\n",
       "      <td>NaN</td>\n",
       "    </tr>\n",
       "  </tbody>\n",
       "</table>\n",
       "</div>"
      ],
      "text/plain": [
       "     0    1    2    3    4    5\n",
       "0  NaN  NaN  NaN  NaN  NaN  NaN"
      ]
     },
     "execution_count": 36,
     "metadata": {},
     "output_type": "execute_result"
    }
   ],
   "source": [
    "df_g =[\"Alpha\",\"Beta\",\"Gamma\",\"Deleta\",\"Eplison\",\"Zeta\"]\n",
    "df4 = pd.DataFrame([df_g])\n",
    "df4\n",
    "df4[df4.isin([\"two\",\"three\"])]"
   ]
  },
  {
   "cell_type": "code",
   "execution_count": 37,
   "id": "8dae9e92",
   "metadata": {},
   "outputs": [
    {
     "data": {
      "text/html": [
       "<div>\n",
       "<style scoped>\n",
       "    .dataframe tbody tr th:only-of-type {\n",
       "        vertical-align: middle;\n",
       "    }\n",
       "\n",
       "    .dataframe tbody tr th {\n",
       "        vertical-align: top;\n",
       "    }\n",
       "\n",
       "    .dataframe thead th {\n",
       "        text-align: right;\n",
       "    }\n",
       "</style>\n",
       "<table border=\"1\" class=\"dataframe\">\n",
       "  <thead>\n",
       "    <tr style=\"text-align: right;\">\n",
       "      <th></th>\n",
       "      <th>0</th>\n",
       "      <th>1</th>\n",
       "      <th>2</th>\n",
       "      <th>3</th>\n",
       "      <th>4</th>\n",
       "      <th>5</th>\n",
       "    </tr>\n",
       "  </thead>\n",
       "  <tbody>\n",
       "    <tr>\n",
       "      <th>0</th>\n",
       "      <td>Alpha</td>\n",
       "      <td>NaN</td>\n",
       "      <td>NaN</td>\n",
       "      <td>NaN</td>\n",
       "      <td>NaN</td>\n",
       "      <td>NaN</td>\n",
       "    </tr>\n",
       "  </tbody>\n",
       "</table>\n",
       "</div>"
      ],
      "text/plain": [
       "       0    1    2    3    4    5\n",
       "0  Alpha  NaN  NaN  NaN  NaN  NaN"
      ]
     },
     "execution_count": 37,
     "metadata": {},
     "output_type": "execute_result"
    }
   ],
   "source": [
    "df4[df4.isin([\"Alpha\"])]"
   ]
  },
  {
   "cell_type": "code",
   "execution_count": 38,
   "id": "e49682c0",
   "metadata": {},
   "outputs": [],
   "source": [
    "df5 = df.copy()\n",
    "df5[\"E\"] =[\"Alpha\",\"Beta\",\"Gamma\",\"Deleta\",\"Eplison\",\"Zeta\"]"
   ]
  },
  {
   "cell_type": "code",
   "execution_count": 39,
   "id": "76a800e7",
   "metadata": {},
   "outputs": [
    {
     "data": {
      "text/html": [
       "<div>\n",
       "<style scoped>\n",
       "    .dataframe tbody tr th:only-of-type {\n",
       "        vertical-align: middle;\n",
       "    }\n",
       "\n",
       "    .dataframe tbody tr th {\n",
       "        vertical-align: top;\n",
       "    }\n",
       "\n",
       "    .dataframe thead th {\n",
       "        text-align: right;\n",
       "    }\n",
       "</style>\n",
       "<table border=\"1\" class=\"dataframe\">\n",
       "  <thead>\n",
       "    <tr style=\"text-align: right;\">\n",
       "      <th></th>\n",
       "      <th>A</th>\n",
       "      <th>B</th>\n",
       "      <th>C</th>\n",
       "      <th>D</th>\n",
       "      <th>E</th>\n",
       "    </tr>\n",
       "  </thead>\n",
       "  <tbody>\n",
       "    <tr>\n",
       "      <th>2023-01-01</th>\n",
       "      <td>0.758088</td>\n",
       "      <td>0.854673</td>\n",
       "      <td>0.432484</td>\n",
       "      <td>0.914823</td>\n",
       "      <td>Alpha</td>\n",
       "    </tr>\n",
       "    <tr>\n",
       "      <th>2023-01-02</th>\n",
       "      <td>0.509351</td>\n",
       "      <td>0.348552</td>\n",
       "      <td>0.221522</td>\n",
       "      <td>0.830087</td>\n",
       "      <td>Beta</td>\n",
       "    </tr>\n",
       "    <tr>\n",
       "      <th>2023-01-03</th>\n",
       "      <td>0.451705</td>\n",
       "      <td>0.536114</td>\n",
       "      <td>0.996157</td>\n",
       "      <td>0.400197</td>\n",
       "      <td>Gamma</td>\n",
       "    </tr>\n",
       "    <tr>\n",
       "      <th>2023-01-04</th>\n",
       "      <td>0.835500</td>\n",
       "      <td>0.644957</td>\n",
       "      <td>0.127148</td>\n",
       "      <td>0.284533</td>\n",
       "      <td>Deleta</td>\n",
       "    </tr>\n",
       "    <tr>\n",
       "      <th>2023-01-05</th>\n",
       "      <td>0.527048</td>\n",
       "      <td>0.147405</td>\n",
       "      <td>0.867396</td>\n",
       "      <td>0.429417</td>\n",
       "      <td>Eplison</td>\n",
       "    </tr>\n",
       "    <tr>\n",
       "      <th>2023-01-06</th>\n",
       "      <td>0.492675</td>\n",
       "      <td>0.524191</td>\n",
       "      <td>0.629641</td>\n",
       "      <td>0.253977</td>\n",
       "      <td>Zeta</td>\n",
       "    </tr>\n",
       "  </tbody>\n",
       "</table>\n",
       "</div>"
      ],
      "text/plain": [
       "                   A         B         C         D        E\n",
       "2023-01-01  0.758088  0.854673  0.432484  0.914823    Alpha\n",
       "2023-01-02  0.509351  0.348552  0.221522  0.830087     Beta\n",
       "2023-01-03  0.451705  0.536114  0.996157  0.400197    Gamma\n",
       "2023-01-04  0.835500  0.644957  0.127148  0.284533   Deleta\n",
       "2023-01-05  0.527048  0.147405  0.867396  0.429417  Eplison\n",
       "2023-01-06  0.492675  0.524191  0.629641  0.253977     Zeta"
      ]
     },
     "execution_count": 39,
     "metadata": {},
     "output_type": "execute_result"
    }
   ],
   "source": [
    "df5"
   ]
  },
  {
   "cell_type": "code",
   "execution_count": 40,
   "id": "de604364",
   "metadata": {},
   "outputs": [
    {
     "data": {
      "text/html": [
       "<div>\n",
       "<style scoped>\n",
       "    .dataframe tbody tr th:only-of-type {\n",
       "        vertical-align: middle;\n",
       "    }\n",
       "\n",
       "    .dataframe tbody tr th {\n",
       "        vertical-align: top;\n",
       "    }\n",
       "\n",
       "    .dataframe thead th {\n",
       "        text-align: right;\n",
       "    }\n",
       "</style>\n",
       "<table border=\"1\" class=\"dataframe\">\n",
       "  <thead>\n",
       "    <tr style=\"text-align: right;\">\n",
       "      <th></th>\n",
       "      <th>A</th>\n",
       "      <th>B</th>\n",
       "      <th>C</th>\n",
       "      <th>D</th>\n",
       "      <th>E</th>\n",
       "    </tr>\n",
       "  </thead>\n",
       "  <tbody>\n",
       "    <tr>\n",
       "      <th>2023-01-06</th>\n",
       "      <td>0.492675</td>\n",
       "      <td>0.524191</td>\n",
       "      <td>0.629641</td>\n",
       "      <td>0.253977</td>\n",
       "      <td>Zeta</td>\n",
       "    </tr>\n",
       "  </tbody>\n",
       "</table>\n",
       "</div>"
      ],
      "text/plain": [
       "                   A         B         C         D     E\n",
       "2023-01-06  0.492675  0.524191  0.629641  0.253977  Zeta"
      ]
     },
     "execution_count": 40,
     "metadata": {},
     "output_type": "execute_result"
    }
   ],
   "source": [
    "df5[df5[\"E\"].isin([\"Zeta\"])]"
   ]
  },
  {
   "cell_type": "markdown",
   "id": "533f015b",
   "metadata": {},
   "source": [
    "__Setting__    \n",
    "\n",
    "Setting a new column automatically aligns the data by the indexes:"
   ]
  },
  {
   "cell_type": "code",
   "execution_count": 41,
   "id": "5fed78e4",
   "metadata": {},
   "outputs": [
    {
     "data": {
      "text/plain": [
       "A    0.595728\n",
       "B    0.509315\n",
       "C    0.545725\n",
       "D    0.518839\n",
       "dtype: float64"
      ]
     },
     "execution_count": 41,
     "metadata": {},
     "output_type": "execute_result"
    }
   ],
   "source": [
    "df.mean()"
   ]
  },
  {
   "cell_type": "code",
   "execution_count": 42,
   "id": "6a83f6c3",
   "metadata": {},
   "outputs": [
    {
     "data": {
      "text/html": [
       "<div>\n",
       "<style scoped>\n",
       "    .dataframe tbody tr th:only-of-type {\n",
       "        vertical-align: middle;\n",
       "    }\n",
       "\n",
       "    .dataframe tbody tr th {\n",
       "        vertical-align: top;\n",
       "    }\n",
       "\n",
       "    .dataframe thead th {\n",
       "        text-align: right;\n",
       "    }\n",
       "</style>\n",
       "<table border=\"1\" class=\"dataframe\">\n",
       "  <thead>\n",
       "    <tr style=\"text-align: right;\">\n",
       "      <th></th>\n",
       "      <th>A</th>\n",
       "      <th>B</th>\n",
       "      <th>C</th>\n",
       "      <th>D</th>\n",
       "    </tr>\n",
       "  </thead>\n",
       "  <tbody>\n",
       "    <tr>\n",
       "      <th>2023-01-01</th>\n",
       "      <td>0.398727</td>\n",
       "      <td>0.014947</td>\n",
       "      <td>0.509706</td>\n",
       "      <td>0.757375</td>\n",
       "    </tr>\n",
       "    <tr>\n",
       "      <th>2023-01-02</th>\n",
       "      <td>0.956574</td>\n",
       "      <td>0.374508</td>\n",
       "      <td>0.145201</td>\n",
       "      <td>0.236831</td>\n",
       "    </tr>\n",
       "    <tr>\n",
       "      <th>2023-01-03</th>\n",
       "      <td>0.571930</td>\n",
       "      <td>0.005769</td>\n",
       "      <td>0.902947</td>\n",
       "      <td>0.062408</td>\n",
       "    </tr>\n",
       "    <tr>\n",
       "      <th>2023-01-04</th>\n",
       "      <td>0.676427</td>\n",
       "      <td>0.821988</td>\n",
       "      <td>0.152398</td>\n",
       "      <td>0.941422</td>\n",
       "    </tr>\n",
       "    <tr>\n",
       "      <th>2023-01-05</th>\n",
       "      <td>0.995931</td>\n",
       "      <td>0.821382</td>\n",
       "      <td>0.707480</td>\n",
       "      <td>0.432666</td>\n",
       "    </tr>\n",
       "    <tr>\n",
       "      <th>2023-01-06</th>\n",
       "      <td>0.854220</td>\n",
       "      <td>0.243216</td>\n",
       "      <td>0.087409</td>\n",
       "      <td>0.816946</td>\n",
       "    </tr>\n",
       "  </tbody>\n",
       "</table>\n",
       "</div>"
      ],
      "text/plain": [
       "                   A         B         C         D\n",
       "2023-01-01  0.398727  0.014947  0.509706  0.757375\n",
       "2023-01-02  0.956574  0.374508  0.145201  0.236831\n",
       "2023-01-03  0.571930  0.005769  0.902947  0.062408\n",
       "2023-01-04  0.676427  0.821988  0.152398  0.941422\n",
       "2023-01-05  0.995931  0.821382  0.707480  0.432666\n",
       "2023-01-06  0.854220  0.243216  0.087409  0.816946"
      ]
     },
     "execution_count": 42,
     "metadata": {},
     "output_type": "execute_result"
    }
   ],
   "source": [
    "dates = pd.date_range(\"20230101\",periods=6)\n",
    "df7 = pd.DataFrame(np.random.rand(6,4),index=dates,columns=list(\"ABCD\"))\n",
    "df7"
   ]
  },
  {
   "cell_type": "code",
   "execution_count": 43,
   "id": "0807351e",
   "metadata": {},
   "outputs": [
    {
     "data": {
      "text/plain": [
       "A    0.742301\n",
       "B    0.380302\n",
       "C    0.417524\n",
       "D    0.541275\n",
       "dtype: float64"
      ]
     },
     "execution_count": 43,
     "metadata": {},
     "output_type": "execute_result"
    }
   ],
   "source": [
    "df7.mean()"
   ]
  },
  {
   "cell_type": "code",
   "execution_count": 44,
   "id": "9e9fb08a",
   "metadata": {},
   "outputs": [
    {
     "data": {
      "text/plain": [
       "2023-01-01    0.420189\n",
       "2023-01-02    0.428278\n",
       "2023-01-03    0.385763\n",
       "2023-01-04    0.648059\n",
       "2023-01-05    0.739365\n",
       "2023-01-06    0.500448\n",
       "Freq: D, dtype: float64"
      ]
     },
     "execution_count": 44,
     "metadata": {},
     "output_type": "execute_result"
    }
   ],
   "source": [
    "df7.mean(1)"
   ]
  },
  {
   "cell_type": "code",
   "execution_count": 47,
   "id": "79ed41dd",
   "metadata": {},
   "outputs": [
    {
     "data": {
      "text/plain": [
       "2023-01-01    NaN\n",
       "2023-01-02    NaN\n",
       "2023-01-03    1.0\n",
       "2023-01-04    3.0\n",
       "2023-01-05    5.0\n",
       "2023-01-06    NaN\n",
       "Freq: D, dtype: float64"
      ]
     },
     "execution_count": 47,
     "metadata": {},
     "output_type": "execute_result"
    }
   ],
   "source": [
    "s = pd.Series([1,3,5,np.nan,6,8],index=dates).shiftt(2)\n",
    "s"
   ]
  },
  {
   "cell_type": "code",
   "execution_count": 48,
   "id": "380f32a0",
   "metadata": {},
   "outputs": [
    {
     "data": {
      "text/html": [
       "<div>\n",
       "<style scoped>\n",
       "    .dataframe tbody tr th:only-of-type {\n",
       "        vertical-align: middle;\n",
       "    }\n",
       "\n",
       "    .dataframe tbody tr th {\n",
       "        vertical-align: top;\n",
       "    }\n",
       "\n",
       "    .dataframe thead th {\n",
       "        text-align: right;\n",
       "    }\n",
       "</style>\n",
       "<table border=\"1\" class=\"dataframe\">\n",
       "  <thead>\n",
       "    <tr style=\"text-align: right;\">\n",
       "      <th></th>\n",
       "      <th>A</th>\n",
       "      <th>B</th>\n",
       "      <th>C</th>\n",
       "      <th>D</th>\n",
       "    </tr>\n",
       "  </thead>\n",
       "  <tbody>\n",
       "    <tr>\n",
       "      <th>2023-01-01</th>\n",
       "      <td>NaN</td>\n",
       "      <td>NaN</td>\n",
       "      <td>NaN</td>\n",
       "      <td>NaN</td>\n",
       "    </tr>\n",
       "    <tr>\n",
       "      <th>2023-01-02</th>\n",
       "      <td>NaN</td>\n",
       "      <td>NaN</td>\n",
       "      <td>NaN</td>\n",
       "      <td>NaN</td>\n",
       "    </tr>\n",
       "    <tr>\n",
       "      <th>2023-01-03</th>\n",
       "      <td>-0.548295</td>\n",
       "      <td>-0.463886</td>\n",
       "      <td>-0.003843</td>\n",
       "      <td>-0.599803</td>\n",
       "    </tr>\n",
       "    <tr>\n",
       "      <th>2023-01-04</th>\n",
       "      <td>-2.164500</td>\n",
       "      <td>-2.355043</td>\n",
       "      <td>-2.872852</td>\n",
       "      <td>-2.715467</td>\n",
       "    </tr>\n",
       "    <tr>\n",
       "      <th>2023-01-05</th>\n",
       "      <td>-4.472952</td>\n",
       "      <td>-4.852595</td>\n",
       "      <td>-4.132604</td>\n",
       "      <td>-4.570583</td>\n",
       "    </tr>\n",
       "    <tr>\n",
       "      <th>2023-01-06</th>\n",
       "      <td>NaN</td>\n",
       "      <td>NaN</td>\n",
       "      <td>NaN</td>\n",
       "      <td>NaN</td>\n",
       "    </tr>\n",
       "  </tbody>\n",
       "</table>\n",
       "</div>"
      ],
      "text/plain": [
       "                   A         B         C         D\n",
       "2023-01-01       NaN       NaN       NaN       NaN\n",
       "2023-01-02       NaN       NaN       NaN       NaN\n",
       "2023-01-03 -0.548295 -0.463886 -0.003843 -0.599803\n",
       "2023-01-04 -2.164500 -2.355043 -2.872852 -2.715467\n",
       "2023-01-05 -4.472952 -4.852595 -4.132604 -4.570583\n",
       "2023-01-06       NaN       NaN       NaN       NaN"
      ]
     },
     "execution_count": 48,
     "metadata": {},
     "output_type": "execute_result"
    }
   ],
   "source": [
    "df.sub(s,axis=\"index\")"
   ]
  },
  {
   "cell_type": "code",
   "execution_count": 50,
   "id": "fffac247",
   "metadata": {},
   "outputs": [
    {
     "data": {
      "text/html": [
       "<div>\n",
       "<style scoped>\n",
       "    .dataframe tbody tr th:only-of-type {\n",
       "        vertical-align: middle;\n",
       "    }\n",
       "\n",
       "    .dataframe tbody tr th {\n",
       "        vertical-align: top;\n",
       "    }\n",
       "\n",
       "    .dataframe thead th {\n",
       "        text-align: right;\n",
       "    }\n",
       "</style>\n",
       "<table border=\"1\" class=\"dataframe\">\n",
       "  <thead>\n",
       "    <tr style=\"text-align: right;\">\n",
       "      <th></th>\n",
       "      <th>A</th>\n",
       "      <th>B</th>\n",
       "      <th>C</th>\n",
       "      <th>D</th>\n",
       "    </tr>\n",
       "  </thead>\n",
       "  <tbody>\n",
       "    <tr>\n",
       "      <th>2023-01-01</th>\n",
       "      <td>0.758088</td>\n",
       "      <td>0.854673</td>\n",
       "      <td>0.432484</td>\n",
       "      <td>0.914823</td>\n",
       "    </tr>\n",
       "    <tr>\n",
       "      <th>2023-01-02</th>\n",
       "      <td>1.267439</td>\n",
       "      <td>1.203226</td>\n",
       "      <td>0.654006</td>\n",
       "      <td>1.744909</td>\n",
       "    </tr>\n",
       "    <tr>\n",
       "      <th>2023-01-03</th>\n",
       "      <td>1.719145</td>\n",
       "      <td>1.739339</td>\n",
       "      <td>1.650163</td>\n",
       "      <td>2.145107</td>\n",
       "    </tr>\n",
       "    <tr>\n",
       "      <th>2023-01-04</th>\n",
       "      <td>2.554644</td>\n",
       "      <td>2.384296</td>\n",
       "      <td>1.777311</td>\n",
       "      <td>2.429640</td>\n",
       "    </tr>\n",
       "    <tr>\n",
       "      <th>2023-01-05</th>\n",
       "      <td>3.081692</td>\n",
       "      <td>2.531701</td>\n",
       "      <td>2.644707</td>\n",
       "      <td>2.859056</td>\n",
       "    </tr>\n",
       "    <tr>\n",
       "      <th>2023-01-06</th>\n",
       "      <td>3.574368</td>\n",
       "      <td>3.055892</td>\n",
       "      <td>3.274348</td>\n",
       "      <td>3.113033</td>\n",
       "    </tr>\n",
       "  </tbody>\n",
       "</table>\n",
       "</div>"
      ],
      "text/plain": [
       "                   A         B         C         D\n",
       "2023-01-01  0.758088  0.854673  0.432484  0.914823\n",
       "2023-01-02  1.267439  1.203226  0.654006  1.744909\n",
       "2023-01-03  1.719145  1.739339  1.650163  2.145107\n",
       "2023-01-04  2.554644  2.384296  1.777311  2.429640\n",
       "2023-01-05  3.081692  2.531701  2.644707  2.859056\n",
       "2023-01-06  3.574368  3.055892  3.274348  3.113033"
      ]
     },
     "execution_count": 50,
     "metadata": {},
     "output_type": "execute_result"
    }
   ],
   "source": [
    "df.apply(np.cumsum)"
   ]
  },
  {
   "cell_type": "code",
   "execution_count": 51,
   "id": "11f6fc2c",
   "metadata": {},
   "outputs": [
    {
     "data": {
      "text/plain": [
       "A    0.383794\n",
       "B    0.707268\n",
       "C    0.869009\n",
       "D    0.660846\n",
       "dtype: float64"
      ]
     },
     "execution_count": 51,
     "metadata": {},
     "output_type": "execute_result"
    }
   ],
   "source": [
    "df.apply(lambda x : x.max()- x.min())\n"
   ]
  },
  {
   "cell_type": "markdown",
   "id": "d2954259",
   "metadata": {},
   "source": [
    "__Histogramming__"
   ]
  },
  {
   "cell_type": "code",
   "execution_count": 54,
   "id": "c2640f8b",
   "metadata": {},
   "outputs": [
    {
     "data": {
      "text/plain": [
       "0    1\n",
       "1    4\n",
       "2    5\n",
       "3    4\n",
       "4    1\n",
       "5    0\n",
       "6    4\n",
       "7    2\n",
       "8    5\n",
       "9    3\n",
       "dtype: int32"
      ]
     },
     "execution_count": 54,
     "metadata": {},
     "output_type": "execute_result"
    }
   ],
   "source": [
    "s2 = pd.Series(np.random.randint(0,7,size=10))\n",
    "s2"
   ]
  },
  {
   "cell_type": "code",
   "execution_count": 55,
   "id": "28e0710e",
   "metadata": {},
   "outputs": [
    {
     "data": {
      "text/plain": [
       "1.0    1\n",
       "3.0    1\n",
       "5.0    1\n",
       "Name: count, dtype: int64"
      ]
     },
     "execution_count": 55,
     "metadata": {},
     "output_type": "execute_result"
    }
   ],
   "source": [
    "s.value_counts()"
   ]
  },
  {
   "cell_type": "markdown",
   "id": "ba5cfaea",
   "metadata": {},
   "source": [
    "__String Methods__"
   ]
  },
  {
   "cell_type": "markdown",
   "id": "2bcb7334",
   "metadata": {},
   "source": [
    "Series is equipped with a set of string processing methods in the str attribute that make it easy to operate on each element of the array, as in the code snippet below. Note that pattern-matching in str generally uses regular expressions by default (and in some cases always uses them). See more at Vectorized String Methods."
   ]
  },
  {
   "cell_type": "code",
   "execution_count": 56,
   "id": "ef122f64",
   "metadata": {},
   "outputs": [
    {
     "data": {
      "text/plain": [
       "0       A\n",
       "1       B\n",
       "2       C\n",
       "3    AaBa\n",
       "4    Baca\n",
       "5     NaN\n",
       "6    CABA\n",
       "7     dog\n",
       "8     cat\n",
       "dtype: object"
      ]
     },
     "execution_count": 56,
     "metadata": {},
     "output_type": "execute_result"
    }
   ],
   "source": [
    "s5 = pd.Series([\"A\",\"B\",\"C\",\"AaBa\",\"Baca\",np.nan,\"CABA\",\"dog\",\"cat\"])\n",
    "s5"
   ]
  },
  {
   "cell_type": "code",
   "execution_count": 57,
   "id": "79627918",
   "metadata": {},
   "outputs": [
    {
     "data": {
      "text/plain": [
       "0       a\n",
       "1       b\n",
       "2       c\n",
       "3    aaba\n",
       "4    baca\n",
       "5     NaN\n",
       "6    caba\n",
       "7     dog\n",
       "8     cat\n",
       "dtype: object"
      ]
     },
     "execution_count": 57,
     "metadata": {},
     "output_type": "execute_result"
    }
   ],
   "source": [
    "s5.str.lower()"
   ]
  },
  {
   "cell_type": "code",
   "execution_count": 59,
   "id": "1f272752",
   "metadata": {},
   "outputs": [
    {
     "data": {
      "text/plain": [
       "0       A\n",
       "1       B\n",
       "2       C\n",
       "3    AABA\n",
       "4    BACA\n",
       "5     NaN\n",
       "6    CABA\n",
       "7     DOG\n",
       "8     CAT\n",
       "dtype: object"
      ]
     },
     "execution_count": 59,
     "metadata": {},
     "output_type": "execute_result"
    }
   ],
   "source": [
    "s5.str.upper()"
   ]
  },
  {
   "cell_type": "code",
   "execution_count": 60,
   "id": "46b7ed35",
   "metadata": {},
   "outputs": [
    {
     "ename": "NameError",
     "evalue": "name '__Merge__' is not defined",
     "output_type": "error",
     "traceback": [
      "\u001b[1;31m---------------------------------------------------------------------------\u001b[0m",
      "\u001b[1;31mNameError\u001b[0m                                 Traceback (most recent call last)",
      "Cell \u001b[1;32mIn[60], line 1\u001b[0m\n\u001b[1;32m----> 1\u001b[0m \u001b[43m__Merge__\u001b[49m\n",
      "\u001b[1;31mNameError\u001b[0m: name '__Merge__' is not defined"
     ]
    }
   ],
   "source": [
    "__Merge__"
   ]
  },
  {
   "cell_type": "markdown",
   "id": "5f87517c",
   "metadata": {},
   "source": [
    "__Merge__"
   ]
  },
  {
   "cell_type": "code",
   "execution_count": null,
   "id": "fee2a4e7",
   "metadata": {},
   "outputs": [],
   "source": []
  }
 ],
 "metadata": {
  "kernelspec": {
   "display_name": "Python 3 (ipykernel)",
   "language": "python",
   "name": "python3"
  },
  "language_info": {
   "codemirror_mode": {
    "name": "ipython",
    "version": 3
   },
   "file_extension": ".py",
   "mimetype": "text/x-python",
   "name": "python",
   "nbconvert_exporter": "python",
   "pygments_lexer": "ipython3",
   "version": "3.11.1"
  }
 },
 "nbformat": 4,
 "nbformat_minor": 5
}
