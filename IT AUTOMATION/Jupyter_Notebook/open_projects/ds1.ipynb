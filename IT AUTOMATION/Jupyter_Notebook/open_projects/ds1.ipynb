{
 "cells": [
  {
   "cell_type": "code",
   "execution_count": 10,
   "id": "56de3bbf",
   "metadata": {},
   "outputs": [],
   "source": [
    "import numpy as np\n"
   ]
  },
  {
   "cell_type": "code",
   "execution_count": 11,
   "id": "9783c557",
   "metadata": {},
   "outputs": [],
   "source": [
    "speed = [1,2,3,43,44,43,89,1000,10000,1896,0,100,99,65]"
   ]
  },
  {
   "cell_type": "markdown",
   "id": "b2b22ab1",
   "metadata": {},
   "source": [
    "***Mean***\n",
    "\n",
    "*The mean value is the average value.*\n",
    "\n",
    "To calculate the mean, find the sum of all values, and divide the sum by the number of values:"
   ]
  },
  {
   "cell_type": "code",
   "execution_count": 12,
   "id": "874ce844",
   "metadata": {},
   "outputs": [
    {
     "name": "stdout",
     "output_type": "stream",
     "text": [
      "956.0714285714286\n"
     ]
    }
   ],
   "source": [
    "x = np.mean(speed)\n",
    "print(x)"
   ]
  },
  {
   "cell_type": "markdown",
   "id": "280cd650",
   "metadata": {},
   "source": [
    "\n",
    "***Median***\n",
    "\n",
    "*The median value is the value in the middle, after you have sorted all the values:*"
   ]
  },
  {
   "cell_type": "code",
   "execution_count": 13,
   "id": "4191f934",
   "metadata": {},
   "outputs": [
    {
     "name": "stdout",
     "output_type": "stream",
     "text": [
      "54.5\n"
     ]
    }
   ],
   "source": [
    "x = np.median(speed)\n",
    "print(x)"
   ]
  },
  {
   "cell_type": "markdown",
   "id": "194815b2",
   "metadata": {},
   "source": [
    "***Mode***\n",
    "\n",
    "*The Mode value is the value that appears the most number of times:*"
   ]
  },
  {
   "cell_type": "code",
   "execution_count": 14,
   "id": "902c3152",
   "metadata": {},
   "outputs": [
    {
     "name": "stdout",
     "output_type": "stream",
     "text": [
      "ModeResult(mode=array([43]), count=array([2]))\n"
     ]
    },
    {
     "name": "stderr",
     "output_type": "stream",
     "text": [
      "C:\\Users\\srini\\AppData\\Local\\Temp\\ipykernel_2676\\2196903628.py:2: FutureWarning: Unlike other reduction functions (e.g. `skew`, `kurtosis`), the default behavior of `mode` typically preserves the axis it acts along. In SciPy 1.11.0, this behavior will change: the default value of `keepdims` will become False, the `axis` over which the statistic is taken will be eliminated, and the value None will no longer be accepted. Set `keepdims` to True or False to avoid this warning.\n",
      "  x = stats.mode(speed)\n"
     ]
    }
   ],
   "source": [
    "from scipy import stats\n",
    "x = stats.mode(speed)\n",
    "print(x)"
   ]
  },
  {
   "cell_type": "code",
   "execution_count": null,
   "id": "ba14e240",
   "metadata": {},
   "outputs": [],
   "source": []
  },
  {
   "cell_type": "code",
   "execution_count": null,
   "id": "6d02f102",
   "metadata": {},
   "outputs": [],
   "source": []
  }
 ],
 "metadata": {
  "kernelspec": {
   "display_name": "Python 3 (ipykernel)",
   "language": "python",
   "name": "python3"
  },
  "language_info": {
   "codemirror_mode": {
    "name": "ipython",
    "version": 3
   },
   "file_extension": ".py",
   "mimetype": "text/x-python",
   "name": "python",
   "nbconvert_exporter": "python",
   "pygments_lexer": "ipython3",
   "version": "3.11.1"
  }
 },
 "nbformat": 4,
 "nbformat_minor": 5
}
