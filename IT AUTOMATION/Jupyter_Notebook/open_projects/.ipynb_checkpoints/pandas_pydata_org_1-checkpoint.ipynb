{
 "cells": [
  {
   "cell_type": "markdown",
   "id": "cb02b8f4",
   "metadata": {},
   "source": [
    "**Object creation**"
   ]
  },
  {
   "cell_type": "markdown",
   "id": "6034819d",
   "metadata": {},
   "source": [
    "(https://pandas.pydata.org/docs/user_guide/10min.html)"
   ]
  },
  {
   "cell_type": "code",
   "execution_count": 1,
   "id": "f051f7a9",
   "metadata": {},
   "outputs": [],
   "source": [
    "import pandas as pd\n",
    "import numpy as np"
   ]
  },
  {
   "cell_type": "code",
   "execution_count": 2,
   "id": "53fa365a",
   "metadata": {},
   "outputs": [
    {
     "data": {
      "text/html": [
       "<div>\n",
       "<style scoped>\n",
       "    .dataframe tbody tr th:only-of-type {\n",
       "        vertical-align: middle;\n",
       "    }\n",
       "\n",
       "    .dataframe tbody tr th {\n",
       "        vertical-align: top;\n",
       "    }\n",
       "\n",
       "    .dataframe thead th {\n",
       "        text-align: right;\n",
       "    }\n",
       "</style>\n",
       "<table border=\"1\" class=\"dataframe\">\n",
       "  <thead>\n",
       "    <tr style=\"text-align: right;\">\n",
       "      <th></th>\n",
       "      <th>A</th>\n",
       "      <th>B</th>\n",
       "      <th>C</th>\n",
       "      <th>D</th>\n",
       "      <th>F</th>\n",
       "    </tr>\n",
       "  </thead>\n",
       "  <tbody>\n",
       "    <tr>\n",
       "      <th>0</th>\n",
       "      <td>1.0</td>\n",
       "      <td>2023-01-01</td>\n",
       "      <td>1.0</td>\n",
       "      <td>3.0</td>\n",
       "      <td>Alpha</td>\n",
       "    </tr>\n",
       "    <tr>\n",
       "      <th>1</th>\n",
       "      <td>1.0</td>\n",
       "      <td>2023-01-01</td>\n",
       "      <td>1.0</td>\n",
       "      <td>3.0</td>\n",
       "      <td>Beta</td>\n",
       "    </tr>\n",
       "    <tr>\n",
       "      <th>2</th>\n",
       "      <td>1.0</td>\n",
       "      <td>2023-01-01</td>\n",
       "      <td>1.0</td>\n",
       "      <td>3.0</td>\n",
       "      <td>Gamma</td>\n",
       "    </tr>\n",
       "    <tr>\n",
       "      <th>3</th>\n",
       "      <td>1.0</td>\n",
       "      <td>2023-01-01</td>\n",
       "      <td>1.0</td>\n",
       "      <td>3.0</td>\n",
       "      <td>Delta</td>\n",
       "    </tr>\n",
       "  </tbody>\n",
       "</table>\n",
       "</div>"
      ],
      "text/plain": [
       "     A          B    C    D      F\n",
       "0  1.0 2023-01-01  1.0  3.0  Alpha\n",
       "1  1.0 2023-01-01  1.0  3.0   Beta\n",
       "2  1.0 2023-01-01  1.0  3.0  Gamma\n",
       "3  1.0 2023-01-01  1.0  3.0  Delta"
      ]
     },
     "execution_count": 2,
     "metadata": {},
     "output_type": "execute_result"
    }
   ],
   "source": [
    "df2 = pd.DataFrame(\n",
    "{\n",
    "    \"A\":1.0,\n",
    "    \"B\":pd.Timestamp(\"20230101\"),\n",
    "    \"C\":pd.Series(1,index=list(range(4)),dtype='float32'),\n",
    "    \"D\":pd.array([3]*4,dtype='float32'),\n",
    "    \"F\":pd.Categorical([\"Alpha\",\"Beta\",\"Gamma\",\"Delta\"])\n",
    "})\n",
    "df2"
   ]
  },
  {
   "cell_type": "code",
   "execution_count": 3,
   "id": "679a531b",
   "metadata": {},
   "outputs": [
    {
     "data": {
      "text/plain": [
       "A           float64\n",
       "B    datetime64[ns]\n",
       "C           float32\n",
       "D           float32\n",
       "F          category\n",
       "dtype: object"
      ]
     },
     "execution_count": 3,
     "metadata": {},
     "output_type": "execute_result"
    }
   ],
   "source": [
    "\n",
    "df2.dtypes"
   ]
  },
  {
   "cell_type": "code",
   "execution_count": 4,
   "id": "f9bbf4cf",
   "metadata": {},
   "outputs": [
    {
     "data": {
      "text/html": [
       "<div>\n",
       "<style scoped>\n",
       "    .dataframe tbody tr th:only-of-type {\n",
       "        vertical-align: middle;\n",
       "    }\n",
       "\n",
       "    .dataframe tbody tr th {\n",
       "        vertical-align: top;\n",
       "    }\n",
       "\n",
       "    .dataframe thead th {\n",
       "        text-align: right;\n",
       "    }\n",
       "</style>\n",
       "<table border=\"1\" class=\"dataframe\">\n",
       "  <thead>\n",
       "    <tr style=\"text-align: right;\">\n",
       "      <th></th>\n",
       "      <th>A</th>\n",
       "      <th>B</th>\n",
       "      <th>C</th>\n",
       "      <th>D</th>\n",
       "    </tr>\n",
       "  </thead>\n",
       "  <tbody>\n",
       "    <tr>\n",
       "      <th>2023-01-01</th>\n",
       "      <td>0.517431</td>\n",
       "      <td>0.114525</td>\n",
       "      <td>0.091373</td>\n",
       "      <td>0.971755</td>\n",
       "    </tr>\n",
       "    <tr>\n",
       "      <th>2023-01-02</th>\n",
       "      <td>0.837076</td>\n",
       "      <td>0.351114</td>\n",
       "      <td>0.946331</td>\n",
       "      <td>0.509177</td>\n",
       "    </tr>\n",
       "    <tr>\n",
       "      <th>2023-01-03</th>\n",
       "      <td>0.198019</td>\n",
       "      <td>0.978646</td>\n",
       "      <td>0.872683</td>\n",
       "      <td>0.024569</td>\n",
       "    </tr>\n",
       "    <tr>\n",
       "      <th>2023-01-04</th>\n",
       "      <td>0.206478</td>\n",
       "      <td>0.170678</td>\n",
       "      <td>0.659245</td>\n",
       "      <td>0.671850</td>\n",
       "    </tr>\n",
       "    <tr>\n",
       "      <th>2023-01-05</th>\n",
       "      <td>0.659888</td>\n",
       "      <td>0.567951</td>\n",
       "      <td>0.722190</td>\n",
       "      <td>0.303111</td>\n",
       "    </tr>\n",
       "    <tr>\n",
       "      <th>2023-01-06</th>\n",
       "      <td>0.399511</td>\n",
       "      <td>0.862525</td>\n",
       "      <td>0.881052</td>\n",
       "      <td>0.925900</td>\n",
       "    </tr>\n",
       "  </tbody>\n",
       "</table>\n",
       "</div>"
      ],
      "text/plain": [
       "                   A         B         C         D\n",
       "2023-01-01  0.517431  0.114525  0.091373  0.971755\n",
       "2023-01-02  0.837076  0.351114  0.946331  0.509177\n",
       "2023-01-03  0.198019  0.978646  0.872683  0.024569\n",
       "2023-01-04  0.206478  0.170678  0.659245  0.671850\n",
       "2023-01-05  0.659888  0.567951  0.722190  0.303111\n",
       "2023-01-06  0.399511  0.862525  0.881052  0.925900"
      ]
     },
     "execution_count": 4,
     "metadata": {},
     "output_type": "execute_result"
    }
   ],
   "source": [
    "dates = pd.date_range(\"20230101\",periods=6)\n",
    "df = pd.DataFrame(np.random.rand(6,4),index=dates,columns=list(\"ABCD\"))\n",
    "df"
   ]
  },
  {
   "cell_type": "markdown",
   "id": "ec4d9938",
   "metadata": {},
   "source": [
    "**Viewing data**"
   ]
  },
  {
   "cell_type": "code",
   "execution_count": 5,
   "id": "30fd18aa",
   "metadata": {},
   "outputs": [
    {
     "data": {
      "text/html": [
       "<div>\n",
       "<style scoped>\n",
       "    .dataframe tbody tr th:only-of-type {\n",
       "        vertical-align: middle;\n",
       "    }\n",
       "\n",
       "    .dataframe tbody tr th {\n",
       "        vertical-align: top;\n",
       "    }\n",
       "\n",
       "    .dataframe thead th {\n",
       "        text-align: right;\n",
       "    }\n",
       "</style>\n",
       "<table border=\"1\" class=\"dataframe\">\n",
       "  <thead>\n",
       "    <tr style=\"text-align: right;\">\n",
       "      <th></th>\n",
       "      <th>A</th>\n",
       "      <th>B</th>\n",
       "      <th>C</th>\n",
       "      <th>D</th>\n",
       "    </tr>\n",
       "  </thead>\n",
       "  <tbody>\n",
       "    <tr>\n",
       "      <th>2023-01-01</th>\n",
       "      <td>0.517431</td>\n",
       "      <td>0.114525</td>\n",
       "      <td>0.091373</td>\n",
       "      <td>0.971755</td>\n",
       "    </tr>\n",
       "    <tr>\n",
       "      <th>2023-01-02</th>\n",
       "      <td>0.837076</td>\n",
       "      <td>0.351114</td>\n",
       "      <td>0.946331</td>\n",
       "      <td>0.509177</td>\n",
       "    </tr>\n",
       "    <tr>\n",
       "      <th>2023-01-03</th>\n",
       "      <td>0.198019</td>\n",
       "      <td>0.978646</td>\n",
       "      <td>0.872683</td>\n",
       "      <td>0.024569</td>\n",
       "    </tr>\n",
       "    <tr>\n",
       "      <th>2023-01-04</th>\n",
       "      <td>0.206478</td>\n",
       "      <td>0.170678</td>\n",
       "      <td>0.659245</td>\n",
       "      <td>0.671850</td>\n",
       "    </tr>\n",
       "    <tr>\n",
       "      <th>2023-01-05</th>\n",
       "      <td>0.659888</td>\n",
       "      <td>0.567951</td>\n",
       "      <td>0.722190</td>\n",
       "      <td>0.303111</td>\n",
       "    </tr>\n",
       "  </tbody>\n",
       "</table>\n",
       "</div>"
      ],
      "text/plain": [
       "                   A         B         C         D\n",
       "2023-01-01  0.517431  0.114525  0.091373  0.971755\n",
       "2023-01-02  0.837076  0.351114  0.946331  0.509177\n",
       "2023-01-03  0.198019  0.978646  0.872683  0.024569\n",
       "2023-01-04  0.206478  0.170678  0.659245  0.671850\n",
       "2023-01-05  0.659888  0.567951  0.722190  0.303111"
      ]
     },
     "execution_count": 5,
     "metadata": {},
     "output_type": "execute_result"
    }
   ],
   "source": [
    "df.head()"
   ]
  },
  {
   "cell_type": "code",
   "execution_count": 6,
   "id": "94e8c412",
   "metadata": {},
   "outputs": [
    {
     "data": {
      "text/html": [
       "<div>\n",
       "<style scoped>\n",
       "    .dataframe tbody tr th:only-of-type {\n",
       "        vertical-align: middle;\n",
       "    }\n",
       "\n",
       "    .dataframe tbody tr th {\n",
       "        vertical-align: top;\n",
       "    }\n",
       "\n",
       "    .dataframe thead th {\n",
       "        text-align: right;\n",
       "    }\n",
       "</style>\n",
       "<table border=\"1\" class=\"dataframe\">\n",
       "  <thead>\n",
       "    <tr style=\"text-align: right;\">\n",
       "      <th></th>\n",
       "      <th>A</th>\n",
       "      <th>B</th>\n",
       "      <th>C</th>\n",
       "      <th>D</th>\n",
       "    </tr>\n",
       "  </thead>\n",
       "  <tbody>\n",
       "    <tr>\n",
       "      <th>2023-01-02</th>\n",
       "      <td>0.837076</td>\n",
       "      <td>0.351114</td>\n",
       "      <td>0.946331</td>\n",
       "      <td>0.509177</td>\n",
       "    </tr>\n",
       "    <tr>\n",
       "      <th>2023-01-03</th>\n",
       "      <td>0.198019</td>\n",
       "      <td>0.978646</td>\n",
       "      <td>0.872683</td>\n",
       "      <td>0.024569</td>\n",
       "    </tr>\n",
       "    <tr>\n",
       "      <th>2023-01-04</th>\n",
       "      <td>0.206478</td>\n",
       "      <td>0.170678</td>\n",
       "      <td>0.659245</td>\n",
       "      <td>0.671850</td>\n",
       "    </tr>\n",
       "    <tr>\n",
       "      <th>2023-01-05</th>\n",
       "      <td>0.659888</td>\n",
       "      <td>0.567951</td>\n",
       "      <td>0.722190</td>\n",
       "      <td>0.303111</td>\n",
       "    </tr>\n",
       "    <tr>\n",
       "      <th>2023-01-06</th>\n",
       "      <td>0.399511</td>\n",
       "      <td>0.862525</td>\n",
       "      <td>0.881052</td>\n",
       "      <td>0.925900</td>\n",
       "    </tr>\n",
       "  </tbody>\n",
       "</table>\n",
       "</div>"
      ],
      "text/plain": [
       "                   A         B         C         D\n",
       "2023-01-02  0.837076  0.351114  0.946331  0.509177\n",
       "2023-01-03  0.198019  0.978646  0.872683  0.024569\n",
       "2023-01-04  0.206478  0.170678  0.659245  0.671850\n",
       "2023-01-05  0.659888  0.567951  0.722190  0.303111\n",
       "2023-01-06  0.399511  0.862525  0.881052  0.925900"
      ]
     },
     "execution_count": 6,
     "metadata": {},
     "output_type": "execute_result"
    }
   ],
   "source": [
    "df.tail()"
   ]
  },
  {
   "cell_type": "code",
   "execution_count": 7,
   "id": "395027ab",
   "metadata": {},
   "outputs": [
    {
     "data": {
      "text/plain": [
       "DatetimeIndex(['2023-01-01', '2023-01-02', '2023-01-03', '2023-01-04',\n",
       "               '2023-01-05', '2023-01-06'],\n",
       "              dtype='datetime64[ns]', freq='D')"
      ]
     },
     "execution_count": 7,
     "metadata": {},
     "output_type": "execute_result"
    }
   ],
   "source": [
    "df.index"
   ]
  },
  {
   "cell_type": "code",
   "execution_count": 8,
   "id": "9611a02a",
   "metadata": {},
   "outputs": [
    {
     "data": {
      "text/plain": [
       "Index(['A', 'B', 'C', 'D'], dtype='object')"
      ]
     },
     "execution_count": 8,
     "metadata": {},
     "output_type": "execute_result"
    }
   ],
   "source": [
    "df.columns"
   ]
  },
  {
   "cell_type": "markdown",
   "id": "e478bc66",
   "metadata": {},
   "source": [
    "**DataFrame.to_numpy()**  gives a NumPy representation of the underlying data. Note that this can be an expensive operation when your DataFrame has columns with different data types, which comes down to a fundamental difference between pandas and NumPy: NumPy arrays have one dtype for the entire array, while pandas DataFrames have one dtype per column. When you call DataFrame.to_numpy(), pandas will find the NumPy dtype that can hold all of the dtypes in the DataFrame. This may end up being object, which requires casting every value to a Python object."
   ]
  },
  {
   "cell_type": "code",
   "execution_count": 9,
   "id": "a1fa7c6a",
   "metadata": {},
   "outputs": [
    {
     "data": {
      "text/plain": [
       "array([[1.0, Timestamp('2023-01-01 00:00:00'), 1.0, 3.0, 'Alpha'],\n",
       "       [1.0, Timestamp('2023-01-01 00:00:00'), 1.0, 3.0, 'Beta'],\n",
       "       [1.0, Timestamp('2023-01-01 00:00:00'), 1.0, 3.0, 'Gamma'],\n",
       "       [1.0, Timestamp('2023-01-01 00:00:00'), 1.0, 3.0, 'Delta']],\n",
       "      dtype=object)"
      ]
     },
     "execution_count": 9,
     "metadata": {},
     "output_type": "execute_result"
    }
   ],
   "source": [
    "df2.to_numpy()"
   ]
  },
  {
   "cell_type": "code",
   "execution_count": 10,
   "id": "275f36d9",
   "metadata": {},
   "outputs": [
    {
     "data": {
      "text/html": [
       "<div>\n",
       "<style scoped>\n",
       "    .dataframe tbody tr th:only-of-type {\n",
       "        vertical-align: middle;\n",
       "    }\n",
       "\n",
       "    .dataframe tbody tr th {\n",
       "        vertical-align: top;\n",
       "    }\n",
       "\n",
       "    .dataframe thead th {\n",
       "        text-align: right;\n",
       "    }\n",
       "</style>\n",
       "<table border=\"1\" class=\"dataframe\">\n",
       "  <thead>\n",
       "    <tr style=\"text-align: right;\">\n",
       "      <th></th>\n",
       "      <th>A</th>\n",
       "      <th>B</th>\n",
       "      <th>C</th>\n",
       "      <th>D</th>\n",
       "    </tr>\n",
       "  </thead>\n",
       "  <tbody>\n",
       "    <tr>\n",
       "      <th>count</th>\n",
       "      <td>6.000000</td>\n",
       "      <td>6.000000</td>\n",
       "      <td>6.000000</td>\n",
       "      <td>6.000000</td>\n",
       "    </tr>\n",
       "    <tr>\n",
       "      <th>mean</th>\n",
       "      <td>0.469734</td>\n",
       "      <td>0.507573</td>\n",
       "      <td>0.695479</td>\n",
       "      <td>0.567727</td>\n",
       "    </tr>\n",
       "    <tr>\n",
       "      <th>std</th>\n",
       "      <td>0.253550</td>\n",
       "      <td>0.358890</td>\n",
       "      <td>0.314876</td>\n",
       "      <td>0.366289</td>\n",
       "    </tr>\n",
       "    <tr>\n",
       "      <th>min</th>\n",
       "      <td>0.198019</td>\n",
       "      <td>0.114525</td>\n",
       "      <td>0.091373</td>\n",
       "      <td>0.024569</td>\n",
       "    </tr>\n",
       "    <tr>\n",
       "      <th>25%</th>\n",
       "      <td>0.254736</td>\n",
       "      <td>0.215787</td>\n",
       "      <td>0.674981</td>\n",
       "      <td>0.354627</td>\n",
       "    </tr>\n",
       "    <tr>\n",
       "      <th>50%</th>\n",
       "      <td>0.458471</td>\n",
       "      <td>0.459533</td>\n",
       "      <td>0.797437</td>\n",
       "      <td>0.590514</td>\n",
       "    </tr>\n",
       "    <tr>\n",
       "      <th>75%</th>\n",
       "      <td>0.624273</td>\n",
       "      <td>0.788881</td>\n",
       "      <td>0.878959</td>\n",
       "      <td>0.862388</td>\n",
       "    </tr>\n",
       "    <tr>\n",
       "      <th>max</th>\n",
       "      <td>0.837076</td>\n",
       "      <td>0.978646</td>\n",
       "      <td>0.946331</td>\n",
       "      <td>0.971755</td>\n",
       "    </tr>\n",
       "  </tbody>\n",
       "</table>\n",
       "</div>"
      ],
      "text/plain": [
       "              A         B         C         D\n",
       "count  6.000000  6.000000  6.000000  6.000000\n",
       "mean   0.469734  0.507573  0.695479  0.567727\n",
       "std    0.253550  0.358890  0.314876  0.366289\n",
       "min    0.198019  0.114525  0.091373  0.024569\n",
       "25%    0.254736  0.215787  0.674981  0.354627\n",
       "50%    0.458471  0.459533  0.797437  0.590514\n",
       "75%    0.624273  0.788881  0.878959  0.862388\n",
       "max    0.837076  0.978646  0.946331  0.971755"
      ]
     },
     "execution_count": 10,
     "metadata": {},
     "output_type": "execute_result"
    }
   ],
   "source": [
    "df.describe()"
   ]
  },
  {
   "cell_type": "code",
   "execution_count": 11,
   "id": "24d1a5ef",
   "metadata": {},
   "outputs": [
    {
     "data": {
      "text/html": [
       "<div>\n",
       "<style scoped>\n",
       "    .dataframe tbody tr th:only-of-type {\n",
       "        vertical-align: middle;\n",
       "    }\n",
       "\n",
       "    .dataframe tbody tr th {\n",
       "        vertical-align: top;\n",
       "    }\n",
       "\n",
       "    .dataframe thead th {\n",
       "        text-align: right;\n",
       "    }\n",
       "</style>\n",
       "<table border=\"1\" class=\"dataframe\">\n",
       "  <thead>\n",
       "    <tr style=\"text-align: right;\">\n",
       "      <th></th>\n",
       "      <th>2023-01-01</th>\n",
       "      <th>2023-01-02</th>\n",
       "      <th>2023-01-03</th>\n",
       "      <th>2023-01-04</th>\n",
       "      <th>2023-01-05</th>\n",
       "      <th>2023-01-06</th>\n",
       "    </tr>\n",
       "  </thead>\n",
       "  <tbody>\n",
       "    <tr>\n",
       "      <th>A</th>\n",
       "      <td>0.517431</td>\n",
       "      <td>0.837076</td>\n",
       "      <td>0.198019</td>\n",
       "      <td>0.206478</td>\n",
       "      <td>0.659888</td>\n",
       "      <td>0.399511</td>\n",
       "    </tr>\n",
       "    <tr>\n",
       "      <th>B</th>\n",
       "      <td>0.114525</td>\n",
       "      <td>0.351114</td>\n",
       "      <td>0.978646</td>\n",
       "      <td>0.170678</td>\n",
       "      <td>0.567951</td>\n",
       "      <td>0.862525</td>\n",
       "    </tr>\n",
       "    <tr>\n",
       "      <th>C</th>\n",
       "      <td>0.091373</td>\n",
       "      <td>0.946331</td>\n",
       "      <td>0.872683</td>\n",
       "      <td>0.659245</td>\n",
       "      <td>0.722190</td>\n",
       "      <td>0.881052</td>\n",
       "    </tr>\n",
       "    <tr>\n",
       "      <th>D</th>\n",
       "      <td>0.971755</td>\n",
       "      <td>0.509177</td>\n",
       "      <td>0.024569</td>\n",
       "      <td>0.671850</td>\n",
       "      <td>0.303111</td>\n",
       "      <td>0.925900</td>\n",
       "    </tr>\n",
       "  </tbody>\n",
       "</table>\n",
       "</div>"
      ],
      "text/plain": [
       "   2023-01-01  2023-01-02  2023-01-03  2023-01-04  2023-01-05  2023-01-06\n",
       "A    0.517431    0.837076    0.198019    0.206478    0.659888    0.399511\n",
       "B    0.114525    0.351114    0.978646    0.170678    0.567951    0.862525\n",
       "C    0.091373    0.946331    0.872683    0.659245    0.722190    0.881052\n",
       "D    0.971755    0.509177    0.024569    0.671850    0.303111    0.925900"
      ]
     },
     "execution_count": 11,
     "metadata": {},
     "output_type": "execute_result"
    }
   ],
   "source": [
    "df.T"
   ]
  },
  {
   "cell_type": "code",
   "execution_count": 12,
   "id": "2d32ac3c",
   "metadata": {},
   "outputs": [
    {
     "data": {
      "text/html": [
       "<div>\n",
       "<style scoped>\n",
       "    .dataframe tbody tr th:only-of-type {\n",
       "        vertical-align: middle;\n",
       "    }\n",
       "\n",
       "    .dataframe tbody tr th {\n",
       "        vertical-align: top;\n",
       "    }\n",
       "\n",
       "    .dataframe thead th {\n",
       "        text-align: right;\n",
       "    }\n",
       "</style>\n",
       "<table border=\"1\" class=\"dataframe\">\n",
       "  <thead>\n",
       "    <tr style=\"text-align: right;\">\n",
       "      <th></th>\n",
       "      <th>D</th>\n",
       "      <th>C</th>\n",
       "      <th>B</th>\n",
       "      <th>A</th>\n",
       "    </tr>\n",
       "  </thead>\n",
       "  <tbody>\n",
       "    <tr>\n",
       "      <th>2023-01-01</th>\n",
       "      <td>0.971755</td>\n",
       "      <td>0.091373</td>\n",
       "      <td>0.114525</td>\n",
       "      <td>0.517431</td>\n",
       "    </tr>\n",
       "    <tr>\n",
       "      <th>2023-01-02</th>\n",
       "      <td>0.509177</td>\n",
       "      <td>0.946331</td>\n",
       "      <td>0.351114</td>\n",
       "      <td>0.837076</td>\n",
       "    </tr>\n",
       "    <tr>\n",
       "      <th>2023-01-03</th>\n",
       "      <td>0.024569</td>\n",
       "      <td>0.872683</td>\n",
       "      <td>0.978646</td>\n",
       "      <td>0.198019</td>\n",
       "    </tr>\n",
       "    <tr>\n",
       "      <th>2023-01-04</th>\n",
       "      <td>0.671850</td>\n",
       "      <td>0.659245</td>\n",
       "      <td>0.170678</td>\n",
       "      <td>0.206478</td>\n",
       "    </tr>\n",
       "    <tr>\n",
       "      <th>2023-01-05</th>\n",
       "      <td>0.303111</td>\n",
       "      <td>0.722190</td>\n",
       "      <td>0.567951</td>\n",
       "      <td>0.659888</td>\n",
       "    </tr>\n",
       "    <tr>\n",
       "      <th>2023-01-06</th>\n",
       "      <td>0.925900</td>\n",
       "      <td>0.881052</td>\n",
       "      <td>0.862525</td>\n",
       "      <td>0.399511</td>\n",
       "    </tr>\n",
       "  </tbody>\n",
       "</table>\n",
       "</div>"
      ],
      "text/plain": [
       "                   D         C         B         A\n",
       "2023-01-01  0.971755  0.091373  0.114525  0.517431\n",
       "2023-01-02  0.509177  0.946331  0.351114  0.837076\n",
       "2023-01-03  0.024569  0.872683  0.978646  0.198019\n",
       "2023-01-04  0.671850  0.659245  0.170678  0.206478\n",
       "2023-01-05  0.303111  0.722190  0.567951  0.659888\n",
       "2023-01-06  0.925900  0.881052  0.862525  0.399511"
      ]
     },
     "execution_count": 12,
     "metadata": {},
     "output_type": "execute_result"
    }
   ],
   "source": [
    "df.sort_index(axis=1,ascending=False)"
   ]
  },
  {
   "cell_type": "code",
   "execution_count": 13,
   "id": "e23d6ef5",
   "metadata": {},
   "outputs": [
    {
     "data": {
      "text/html": [
       "<div>\n",
       "<style scoped>\n",
       "    .dataframe tbody tr th:only-of-type {\n",
       "        vertical-align: middle;\n",
       "    }\n",
       "\n",
       "    .dataframe tbody tr th {\n",
       "        vertical-align: top;\n",
       "    }\n",
       "\n",
       "    .dataframe thead th {\n",
       "        text-align: right;\n",
       "    }\n",
       "</style>\n",
       "<table border=\"1\" class=\"dataframe\">\n",
       "  <thead>\n",
       "    <tr style=\"text-align: right;\">\n",
       "      <th></th>\n",
       "      <th>A</th>\n",
       "      <th>B</th>\n",
       "      <th>C</th>\n",
       "      <th>D</th>\n",
       "    </tr>\n",
       "  </thead>\n",
       "  <tbody>\n",
       "    <tr>\n",
       "      <th>2023-01-01</th>\n",
       "      <td>0.517431</td>\n",
       "      <td>0.114525</td>\n",
       "      <td>0.091373</td>\n",
       "      <td>0.971755</td>\n",
       "    </tr>\n",
       "    <tr>\n",
       "      <th>2023-01-04</th>\n",
       "      <td>0.206478</td>\n",
       "      <td>0.170678</td>\n",
       "      <td>0.659245</td>\n",
       "      <td>0.671850</td>\n",
       "    </tr>\n",
       "    <tr>\n",
       "      <th>2023-01-02</th>\n",
       "      <td>0.837076</td>\n",
       "      <td>0.351114</td>\n",
       "      <td>0.946331</td>\n",
       "      <td>0.509177</td>\n",
       "    </tr>\n",
       "    <tr>\n",
       "      <th>2023-01-05</th>\n",
       "      <td>0.659888</td>\n",
       "      <td>0.567951</td>\n",
       "      <td>0.722190</td>\n",
       "      <td>0.303111</td>\n",
       "    </tr>\n",
       "    <tr>\n",
       "      <th>2023-01-06</th>\n",
       "      <td>0.399511</td>\n",
       "      <td>0.862525</td>\n",
       "      <td>0.881052</td>\n",
       "      <td>0.925900</td>\n",
       "    </tr>\n",
       "    <tr>\n",
       "      <th>2023-01-03</th>\n",
       "      <td>0.198019</td>\n",
       "      <td>0.978646</td>\n",
       "      <td>0.872683</td>\n",
       "      <td>0.024569</td>\n",
       "    </tr>\n",
       "  </tbody>\n",
       "</table>\n",
       "</div>"
      ],
      "text/plain": [
       "                   A         B         C         D\n",
       "2023-01-01  0.517431  0.114525  0.091373  0.971755\n",
       "2023-01-04  0.206478  0.170678  0.659245  0.671850\n",
       "2023-01-02  0.837076  0.351114  0.946331  0.509177\n",
       "2023-01-05  0.659888  0.567951  0.722190  0.303111\n",
       "2023-01-06  0.399511  0.862525  0.881052  0.925900\n",
       "2023-01-03  0.198019  0.978646  0.872683  0.024569"
      ]
     },
     "execution_count": 13,
     "metadata": {},
     "output_type": "execute_result"
    }
   ],
   "source": [
    "df.sort_values(by='B')"
   ]
  },
  {
   "cell_type": "markdown",
   "id": "d5e2a250",
   "metadata": {},
   "source": [
    "__Selection__"
   ]
  },
  {
   "cell_type": "code",
   "execution_count": 14,
   "id": "ab0da0ab",
   "metadata": {},
   "outputs": [
    {
     "data": {
      "text/plain": [
       "2023-01-01    0.517431\n",
       "2023-01-02    0.837076\n",
       "2023-01-03    0.198019\n",
       "2023-01-04    0.206478\n",
       "2023-01-05    0.659888\n",
       "2023-01-06    0.399511\n",
       "Freq: D, Name: A, dtype: float64"
      ]
     },
     "execution_count": 14,
     "metadata": {},
     "output_type": "execute_result"
    }
   ],
   "source": [
    "df['A']"
   ]
  },
  {
   "cell_type": "code",
   "execution_count": 15,
   "id": "11b60988",
   "metadata": {},
   "outputs": [
    {
     "data": {
      "text/html": [
       "<div>\n",
       "<style scoped>\n",
       "    .dataframe tbody tr th:only-of-type {\n",
       "        vertical-align: middle;\n",
       "    }\n",
       "\n",
       "    .dataframe tbody tr th {\n",
       "        vertical-align: top;\n",
       "    }\n",
       "\n",
       "    .dataframe thead th {\n",
       "        text-align: right;\n",
       "    }\n",
       "</style>\n",
       "<table border=\"1\" class=\"dataframe\">\n",
       "  <thead>\n",
       "    <tr style=\"text-align: right;\">\n",
       "      <th></th>\n",
       "      <th>A</th>\n",
       "      <th>B</th>\n",
       "      <th>C</th>\n",
       "      <th>D</th>\n",
       "    </tr>\n",
       "  </thead>\n",
       "  <tbody>\n",
       "    <tr>\n",
       "      <th>2023-01-01</th>\n",
       "      <td>0.517431</td>\n",
       "      <td>0.114525</td>\n",
       "      <td>0.091373</td>\n",
       "      <td>0.971755</td>\n",
       "    </tr>\n",
       "    <tr>\n",
       "      <th>2023-01-02</th>\n",
       "      <td>0.837076</td>\n",
       "      <td>0.351114</td>\n",
       "      <td>0.946331</td>\n",
       "      <td>0.509177</td>\n",
       "    </tr>\n",
       "    <tr>\n",
       "      <th>2023-01-03</th>\n",
       "      <td>0.198019</td>\n",
       "      <td>0.978646</td>\n",
       "      <td>0.872683</td>\n",
       "      <td>0.024569</td>\n",
       "    </tr>\n",
       "  </tbody>\n",
       "</table>\n",
       "</div>"
      ],
      "text/plain": [
       "                   A         B         C         D\n",
       "2023-01-01  0.517431  0.114525  0.091373  0.971755\n",
       "2023-01-02  0.837076  0.351114  0.946331  0.509177\n",
       "2023-01-03  0.198019  0.978646  0.872683  0.024569"
      ]
     },
     "execution_count": 15,
     "metadata": {},
     "output_type": "execute_result"
    }
   ],
   "source": [
    "df[0:3]"
   ]
  },
  {
   "cell_type": "code",
   "execution_count": 16,
   "id": "e84d9c25",
   "metadata": {},
   "outputs": [
    {
     "data": {
      "text/html": [
       "<div>\n",
       "<style scoped>\n",
       "    .dataframe tbody tr th:only-of-type {\n",
       "        vertical-align: middle;\n",
       "    }\n",
       "\n",
       "    .dataframe tbody tr th {\n",
       "        vertical-align: top;\n",
       "    }\n",
       "\n",
       "    .dataframe thead th {\n",
       "        text-align: right;\n",
       "    }\n",
       "</style>\n",
       "<table border=\"1\" class=\"dataframe\">\n",
       "  <thead>\n",
       "    <tr style=\"text-align: right;\">\n",
       "      <th></th>\n",
       "      <th>A</th>\n",
       "      <th>B</th>\n",
       "      <th>C</th>\n",
       "      <th>D</th>\n",
       "    </tr>\n",
       "  </thead>\n",
       "  <tbody>\n",
       "    <tr>\n",
       "      <th>2023-01-01</th>\n",
       "      <td>0.517431</td>\n",
       "      <td>0.114525</td>\n",
       "      <td>0.091373</td>\n",
       "      <td>0.971755</td>\n",
       "    </tr>\n",
       "    <tr>\n",
       "      <th>2023-01-02</th>\n",
       "      <td>0.837076</td>\n",
       "      <td>0.351114</td>\n",
       "      <td>0.946331</td>\n",
       "      <td>0.509177</td>\n",
       "    </tr>\n",
       "    <tr>\n",
       "      <th>2023-01-03</th>\n",
       "      <td>0.198019</td>\n",
       "      <td>0.978646</td>\n",
       "      <td>0.872683</td>\n",
       "      <td>0.024569</td>\n",
       "    </tr>\n",
       "  </tbody>\n",
       "</table>\n",
       "</div>"
      ],
      "text/plain": [
       "                   A         B         C         D\n",
       "2023-01-01  0.517431  0.114525  0.091373  0.971755\n",
       "2023-01-02  0.837076  0.351114  0.946331  0.509177\n",
       "2023-01-03  0.198019  0.978646  0.872683  0.024569"
      ]
     },
     "execution_count": 16,
     "metadata": {},
     "output_type": "execute_result"
    }
   ],
   "source": [
    "df['2023-01-01':'2023-01-03']"
   ]
  },
  {
   "cell_type": "markdown",
   "id": "8be321de",
   "metadata": {},
   "source": [
    "<b>Selection by label</b>"
   ]
  },
  {
   "cell_type": "code",
   "execution_count": 17,
   "id": "58454c3f",
   "metadata": {},
   "outputs": [
    {
     "data": {
      "text/plain": [
       "A    0.517431\n",
       "B    0.114525\n",
       "C    0.091373\n",
       "D    0.971755\n",
       "Name: 2023-01-01 00:00:00, dtype: float64"
      ]
     },
     "execution_count": 17,
     "metadata": {},
     "output_type": "execute_result"
    }
   ],
   "source": [
    "df.loc[dates[0]]"
   ]
  },
  {
   "cell_type": "code",
   "execution_count": 18,
   "id": "17d3fa4b",
   "metadata": {},
   "outputs": [
    {
     "data": {
      "text/html": [
       "<div>\n",
       "<style scoped>\n",
       "    .dataframe tbody tr th:only-of-type {\n",
       "        vertical-align: middle;\n",
       "    }\n",
       "\n",
       "    .dataframe tbody tr th {\n",
       "        vertical-align: top;\n",
       "    }\n",
       "\n",
       "    .dataframe thead th {\n",
       "        text-align: right;\n",
       "    }\n",
       "</style>\n",
       "<table border=\"1\" class=\"dataframe\">\n",
       "  <thead>\n",
       "    <tr style=\"text-align: right;\">\n",
       "      <th></th>\n",
       "      <th>A</th>\n",
       "      <th>B</th>\n",
       "    </tr>\n",
       "  </thead>\n",
       "  <tbody>\n",
       "    <tr>\n",
       "      <th>2023-01-01</th>\n",
       "      <td>0.517431</td>\n",
       "      <td>0.114525</td>\n",
       "    </tr>\n",
       "    <tr>\n",
       "      <th>2023-01-02</th>\n",
       "      <td>0.837076</td>\n",
       "      <td>0.351114</td>\n",
       "    </tr>\n",
       "    <tr>\n",
       "      <th>2023-01-03</th>\n",
       "      <td>0.198019</td>\n",
       "      <td>0.978646</td>\n",
       "    </tr>\n",
       "    <tr>\n",
       "      <th>2023-01-04</th>\n",
       "      <td>0.206478</td>\n",
       "      <td>0.170678</td>\n",
       "    </tr>\n",
       "    <tr>\n",
       "      <th>2023-01-05</th>\n",
       "      <td>0.659888</td>\n",
       "      <td>0.567951</td>\n",
       "    </tr>\n",
       "    <tr>\n",
       "      <th>2023-01-06</th>\n",
       "      <td>0.399511</td>\n",
       "      <td>0.862525</td>\n",
       "    </tr>\n",
       "  </tbody>\n",
       "</table>\n",
       "</div>"
      ],
      "text/plain": [
       "                   A         B\n",
       "2023-01-01  0.517431  0.114525\n",
       "2023-01-02  0.837076  0.351114\n",
       "2023-01-03  0.198019  0.978646\n",
       "2023-01-04  0.206478  0.170678\n",
       "2023-01-05  0.659888  0.567951\n",
       "2023-01-06  0.399511  0.862525"
      ]
     },
     "execution_count": 18,
     "metadata": {},
     "output_type": "execute_result"
    }
   ],
   "source": [
    "df.loc[:,[\"A\",\"B\"]]"
   ]
  },
  {
   "cell_type": "code",
   "execution_count": 19,
   "id": "a2db810e",
   "metadata": {},
   "outputs": [
    {
     "data": {
      "text/html": [
       "<div>\n",
       "<style scoped>\n",
       "    .dataframe tbody tr th:only-of-type {\n",
       "        vertical-align: middle;\n",
       "    }\n",
       "\n",
       "    .dataframe tbody tr th {\n",
       "        vertical-align: top;\n",
       "    }\n",
       "\n",
       "    .dataframe thead th {\n",
       "        text-align: right;\n",
       "    }\n",
       "</style>\n",
       "<table border=\"1\" class=\"dataframe\">\n",
       "  <thead>\n",
       "    <tr style=\"text-align: right;\">\n",
       "      <th></th>\n",
       "      <th>A</th>\n",
       "      <th>B</th>\n",
       "    </tr>\n",
       "  </thead>\n",
       "  <tbody>\n",
       "    <tr>\n",
       "      <th>2023-01-01</th>\n",
       "      <td>0.517431</td>\n",
       "      <td>0.114525</td>\n",
       "    </tr>\n",
       "    <tr>\n",
       "      <th>2023-01-02</th>\n",
       "      <td>0.837076</td>\n",
       "      <td>0.351114</td>\n",
       "    </tr>\n",
       "    <tr>\n",
       "      <th>2023-01-03</th>\n",
       "      <td>0.198019</td>\n",
       "      <td>0.978646</td>\n",
       "    </tr>\n",
       "  </tbody>\n",
       "</table>\n",
       "</div>"
      ],
      "text/plain": [
       "                   A         B\n",
       "2023-01-01  0.517431  0.114525\n",
       "2023-01-02  0.837076  0.351114\n",
       "2023-01-03  0.198019  0.978646"
      ]
     },
     "execution_count": 19,
     "metadata": {},
     "output_type": "execute_result"
    }
   ],
   "source": [
    "df.loc[\"2023-01-01\":\"2023-01-03\",[\"A\",\"B\"]]"
   ]
  },
  {
   "cell_type": "code",
   "execution_count": 20,
   "id": "f3d1e7ef",
   "metadata": {},
   "outputs": [
    {
     "data": {
      "text/plain": [
       "A    0.517431\n",
       "B    0.114525\n",
       "Name: 2023-01-01 00:00:00, dtype: float64"
      ]
     },
     "execution_count": 20,
     "metadata": {},
     "output_type": "execute_result"
    }
   ],
   "source": [
    "df.loc[\"2023-01-01\",[\"A\",\"B\"]]"
   ]
  },
  {
   "cell_type": "code",
   "execution_count": 21,
   "id": "5cfed7a5",
   "metadata": {},
   "outputs": [
    {
     "data": {
      "text/plain": [
       "0.5174305181838549"
      ]
     },
     "execution_count": 21,
     "metadata": {},
     "output_type": "execute_result"
    }
   ],
   "source": [
    "df.loc[dates[0],\"A\"]"
   ]
  },
  {
   "cell_type": "code",
   "execution_count": 22,
   "id": "4a0fb8ce",
   "metadata": {},
   "outputs": [
    {
     "ename": "SyntaxError",
     "evalue": "invalid syntax (1536854253.py, line 1)",
     "output_type": "error",
     "traceback": [
      "\u001b[1;36m  Cell \u001b[1;32mIn[22], line 1\u001b[1;36m\u001b[0m\n\u001b[1;33m    <b>Selection by position</b>\u001b[0m\n\u001b[1;37m    ^\u001b[0m\n\u001b[1;31mSyntaxError\u001b[0m\u001b[1;31m:\u001b[0m invalid syntax\n"
     ]
    }
   ],
   "source": [
    "<b>Selection by position</b>"
   ]
  },
  {
   "cell_type": "markdown",
   "id": "3485dd04",
   "metadata": {},
   "source": [
    "<b>Selection by position</b>"
   ]
  },
  {
   "cell_type": "code",
   "execution_count": null,
   "id": "5bf9bc3f",
   "metadata": {},
   "outputs": [],
   "source": [
    "df.iloc[3]"
   ]
  },
  {
   "cell_type": "code",
   "execution_count": null,
   "id": "c6592e00",
   "metadata": {},
   "outputs": [],
   "source": [
    "df.iloc[3:5,0:2]"
   ]
  },
  {
   "cell_type": "code",
   "execution_count": null,
   "id": "7858a3bb",
   "metadata": {},
   "outputs": [],
   "source": [
    "df.iloc[[1,2,4],[0,2]]"
   ]
  },
  {
   "cell_type": "code",
   "execution_count": null,
   "id": "adeb4caa",
   "metadata": {},
   "outputs": [],
   "source": [
    "df.iloc[:,1:3]"
   ]
  },
  {
   "cell_type": "code",
   "execution_count": null,
   "id": "5d183977",
   "metadata": {},
   "outputs": [],
   "source": [
    "df"
   ]
  },
  {
   "cell_type": "code",
   "execution_count": null,
   "id": "a343ff4b",
   "metadata": {},
   "outputs": [],
   "source": [
    "df.iloc[1:3,:]"
   ]
  },
  {
   "cell_type": "code",
   "execution_count": null,
   "id": "b4d34675",
   "metadata": {},
   "outputs": [],
   "source": [
    "df.iloc[:,1:3]"
   ]
  },
  {
   "cell_type": "code",
   "execution_count": null,
   "id": "2d38710d",
   "metadata": {},
   "outputs": [],
   "source": [
    "#For getting a value explicitly:\n",
    "df.iloc[1,1]"
   ]
  },
  {
   "cell_type": "code",
   "execution_count": null,
   "id": "93ece32d",
   "metadata": {},
   "outputs": [],
   "source": [
    "#For getting fast access to a scalar (equivalent to the prior method):\n",
    "df.iat[1,1]"
   ]
  },
  {
   "cell_type": "code",
   "execution_count": null,
   "id": "f9c3b391",
   "metadata": {},
   "outputs": [],
   "source": [
    "#diff between loc vs iloc vs iat\n",
    "#https://stackoverflow.com/questions/28757389/pandas-loc-vs-iloc-vs-at-vs-iat"
   ]
  },
  {
   "cell_type": "markdown",
   "id": "6a8f3033",
   "metadata": {},
   "source": [
    "__Boolean indexing__"
   ]
  },
  {
   "cell_type": "code",
   "execution_count": null,
   "id": "27e3374c",
   "metadata": {},
   "outputs": [],
   "source": [
    "df[df['A']>0]"
   ]
  },
  {
   "cell_type": "code",
   "execution_count": null,
   "id": "fd3cdf64",
   "metadata": {},
   "outputs": [],
   "source": [
    "df[df>0]"
   ]
  },
  {
   "cell_type": "code",
   "execution_count": null,
   "id": "58bf57e5",
   "metadata": {},
   "outputs": [],
   "source": [
    "df_g =[\"Alpha\",\"Beta\",\"Gamma\",\"Deleta\",\"Eplison\",\"Zeta\"]\n",
    "df4 = pd.DataFrame([df_g])\n",
    "df4\n",
    "df4[df4.isin([\"two\",\"three\"])]"
   ]
  },
  {
   "cell_type": "code",
   "execution_count": null,
   "id": "8dae9e92",
   "metadata": {},
   "outputs": [],
   "source": [
    "df4[df4.isin([\"Alpha\"])]"
   ]
  },
  {
   "cell_type": "code",
   "execution_count": null,
   "id": "e49682c0",
   "metadata": {},
   "outputs": [],
   "source": [
    "df5 = df.copy()\n",
    "df5[\"E\"] =[\"Alpha\",\"Beta\",\"Gamma\",\"Deleta\",\"Eplison\",\"Zeta\"]"
   ]
  },
  {
   "cell_type": "code",
   "execution_count": null,
   "id": "76a800e7",
   "metadata": {},
   "outputs": [],
   "source": [
    "df5"
   ]
  },
  {
   "cell_type": "code",
   "execution_count": null,
   "id": "de604364",
   "metadata": {},
   "outputs": [],
   "source": [
    "df5[df5[\"E\"].isin([\"Zeta\"])]"
   ]
  },
  {
   "cell_type": "markdown",
   "id": "533f015b",
   "metadata": {},
   "source": [
    "__Setting__    \n",
    "\n",
    "Setting a new column automatically aligns the data by the indexes:"
   ]
  },
  {
   "cell_type": "code",
   "execution_count": null,
   "id": "5fed78e4",
   "metadata": {},
   "outputs": [],
   "source": [
    "df.mean()"
   ]
  },
  {
   "cell_type": "code",
   "execution_count": null,
   "id": "6a83f6c3",
   "metadata": {},
   "outputs": [],
   "source": [
    "dates = pd.date_range(\"20230101\",periods=6)\n",
    "df7 = pd.DataFrame(np.random.rand(6,4),index=dates,columns=list(\"ABCD\"))\n",
    "df7"
   ]
  },
  {
   "cell_type": "code",
   "execution_count": null,
   "id": "0807351e",
   "metadata": {},
   "outputs": [],
   "source": [
    "df7.mean()"
   ]
  },
  {
   "cell_type": "code",
   "execution_count": null,
   "id": "9e9fb08a",
   "metadata": {},
   "outputs": [],
   "source": [
    "df7.mean(1)"
   ]
  },
  {
   "cell_type": "code",
   "execution_count": null,
   "id": "79ed41dd",
   "metadata": {},
   "outputs": [],
   "source": [
    "s = pd.Series([1,3,5,np.nan,6,8],index=dates).shiftt(2)\n",
    "s"
   ]
  },
  {
   "cell_type": "code",
   "execution_count": null,
   "id": "380f32a0",
   "metadata": {},
   "outputs": [],
   "source": [
    "df.sub(s,axis=\"index\")"
   ]
  },
  {
   "cell_type": "code",
   "execution_count": null,
   "id": "fffac247",
   "metadata": {},
   "outputs": [],
   "source": [
    "df.apply(np.cumsum)"
   ]
  },
  {
   "cell_type": "code",
   "execution_count": null,
   "id": "11f6fc2c",
   "metadata": {},
   "outputs": [],
   "source": [
    "df.apply(lambda x : x.max()- x.min())\n"
   ]
  },
  {
   "cell_type": "markdown",
   "id": "d2954259",
   "metadata": {},
   "source": [
    "__Histogramming__"
   ]
  },
  {
   "cell_type": "code",
   "execution_count": null,
   "id": "c2640f8b",
   "metadata": {},
   "outputs": [],
   "source": [
    "s2 = pd.Series(np.random.randint(0,7,size=10))\n",
    "s2"
   ]
  },
  {
   "cell_type": "code",
   "execution_count": null,
   "id": "28e0710e",
   "metadata": {},
   "outputs": [],
   "source": [
    "s.value_counts()"
   ]
  },
  {
   "cell_type": "markdown",
   "id": "ba5cfaea",
   "metadata": {},
   "source": [
    "__String Methods__"
   ]
  },
  {
   "cell_type": "markdown",
   "id": "2bcb7334",
   "metadata": {},
   "source": [
    "Series is equipped with a set of string processing methods in the str attribute that make it easy to operate on each element of the array, as in the code snippet below. Note that pattern-matching in str generally uses regular expressions by default (and in some cases always uses them). See more at Vectorized String Methods."
   ]
  },
  {
   "cell_type": "code",
   "execution_count": null,
   "id": "ef122f64",
   "metadata": {},
   "outputs": [],
   "source": [
    "s5 = pd.Series([\"A\",\"B\",\"C\",\"AaBa\",\"Baca\",np.nan,\"CABA\",\"dog\",\"cat\"])\n",
    "s5"
   ]
  },
  {
   "cell_type": "code",
   "execution_count": null,
   "id": "79627918",
   "metadata": {},
   "outputs": [],
   "source": [
    "s5.str.lower()"
   ]
  },
  {
   "cell_type": "code",
   "execution_count": null,
   "id": "1f272752",
   "metadata": {},
   "outputs": [],
   "source": [
    "s5.str.upper()"
   ]
  },
  {
   "cell_type": "code",
   "execution_count": null,
   "id": "46b7ed35",
   "metadata": {},
   "outputs": [],
   "source": [
    "__Merge__"
   ]
  },
  {
   "cell_type": "markdown",
   "id": "5f87517c",
   "metadata": {},
   "source": [
    "__Merge__"
   ]
  },
  {
   "cell_type": "markdown",
   "id": "51c1bd13",
   "metadata": {},
   "source": [
    "Concat\n",
    "pandas provides various facilities for easily combining together Series and DataFrame objects with various kinds of set logic for the indexes and relational algebra functionality in the case of join / merge-type operations."
   ]
  },
  {
   "cell_type": "code",
   "execution_count": null,
   "id": "fc348f19",
   "metadata": {},
   "outputs": [],
   "source": [
    "df_merge = pd.DataFrame(np.random.randn(10,4))\n",
    "df"
   ]
  },
  {
   "cell_type": "code",
   "execution_count": null,
   "id": "fa4027e4",
   "metadata": {},
   "outputs": [],
   "source": [
    "#Concatenating pandas objects together along an axis with concat():"
   ]
  },
  {
   "cell_type": "code",
   "execution_count": null,
   "id": "fd00f2ba",
   "metadata": {},
   "outputs": [],
   "source": [
    "piece = [df[:3],df[3:7],df[7:]]\n",
    "piece"
   ]
  },
  {
   "cell_type": "code",
   "execution_count": null,
   "id": "48048c36",
   "metadata": {},
   "outputs": [],
   "source": [
    "pd.concat(piece)"
   ]
  },
  {
   "cell_type": "markdown",
   "id": "461b9b46",
   "metadata": {},
   "source": [
    "__Join__\n",
    "\n",
    "merge() enables SQL style join types along specific columns. See the Database style joining section"
   ]
  },
  {
   "cell_type": "code",
   "execution_count": null,
   "id": "7b69aea6",
   "metadata": {},
   "outputs": [],
   "source": [
    "left = pd.DataFrame({\"key\":['foo','foo'],\"lval\":[1,2]})\n",
    "right = pd.DataFrame({\"key\":['foo','foo'],\"rval\":[4,5]})"
   ]
  },
  {
   "cell_type": "code",
   "execution_count": null,
   "id": "dd953aa3",
   "metadata": {},
   "outputs": [],
   "source": [
    "left"
   ]
  },
  {
   "cell_type": "code",
   "execution_count": null,
   "id": "8b21c4b0",
   "metadata": {},
   "outputs": [],
   "source": [
    "right"
   ]
  },
  {
   "cell_type": "code",
   "execution_count": null,
   "id": "cac57195",
   "metadata": {},
   "outputs": [],
   "source": [
    "pd.merge(left,right,on=\"key\")"
   ]
  },
  {
   "cell_type": "code",
   "execution_count": null,
   "id": "5b5d1a40",
   "metadata": {},
   "outputs": [],
   "source": [
    "l1 = pd.DataFrame({\"key\":[\"foo\",\"bar\"],\"lval\":[1,2]})\n",
    "r1 = pd.DataFrame({\"key\":[\"foo\",\"bar\"],\"rval\":[4,5]})"
   ]
  },
  {
   "cell_type": "code",
   "execution_count": null,
   "id": "a4e8d086",
   "metadata": {},
   "outputs": [],
   "source": [
    "l1"
   ]
  },
  {
   "cell_type": "code",
   "execution_count": null,
   "id": "d121e6fc",
   "metadata": {},
   "outputs": [],
   "source": [
    "r1"
   ]
  },
  {
   "cell_type": "code",
   "execution_count": null,
   "id": "0366de33",
   "metadata": {},
   "outputs": [],
   "source": [
    "pd.merge(l1,r1,on='key')"
   ]
  },
  {
   "cell_type": "markdown",
   "id": "9b48b8ec",
   "metadata": {},
   "source": [
    "__Grouping__"
   ]
  },
  {
   "cell_type": "markdown",
   "id": "b2930d56",
   "metadata": {},
   "source": [
    "By “group by” we are referring to a process involving one or more of the following steps:\n",
    "\n",
    "     - Splitting the data into groups based on some criteria\n",
    "     - Applying a function to each group independently\n",
    "     - Combining the results into a data structure\n",
    "    "
   ]
  },
  {
   "cell_type": "code",
   "execution_count": null,
   "id": "cb8870be",
   "metadata": {},
   "outputs": [],
   "source": [
    "gr = pd.DataFrame({\n",
    "    \"A\" : [\"foo\",\"bar\",\"foo\",\"bar\",\"foo\",\"bar\",\"foo\",\"foo\"],\n",
    "    \"B\" :[\"one\",\"one\",\"two\",\"three\",\"two\",\"two\",\"one\",\"three\"],\n",
    "    \"C\" : np.random.randn(8),\n",
    "    \"D\" : np.random.randn(8),\n",
    "})\n",
    "gr"
   ]
  },
  {
   "cell_type": "code",
   "execution_count": null,
   "id": "618c5cf9",
   "metadata": {},
   "outputs": [],
   "source": [
    "#Grouping and then applying the sum() function to the resulting groups:\n",
    "gr.groupby(\"A\")[[\"C\",\"D\"]].sum()"
   ]
  },
  {
   "cell_type": "code",
   "execution_count": null,
   "id": "672054b0",
   "metadata": {},
   "outputs": [],
   "source": [
    "#Grouping by multiple columns forms a hierarchical index, and again we can apply the sum() function:"
   ]
  },
  {
   "cell_type": "code",
   "execution_count": null,
   "id": "41934dc0",
   "metadata": {},
   "outputs": [],
   "source": [
    "gr.groupby([\"A\",\"B\"]).sum()\n"
   ]
  },
  {
   "cell_type": "code",
   "execution_count": null,
   "id": "2e12685e",
   "metadata": {},
   "outputs": [],
   "source": [
    "gr.groupby([\"A\",\"B\"]).mean()"
   ]
  },
  {
   "cell_type": "markdown",
   "id": "9f48d8f4",
   "metadata": {},
   "source": [
    "__Reshaping__"
   ]
  },
  {
   "cell_type": "markdown",
   "id": "9dbafdd6",
   "metadata": {},
   "source": [
    "See the sections on Hierarchical Indexing and Reshaping."
   ]
  },
  {
   "cell_type": "code",
   "execution_count": null,
   "id": "e673f8ce",
   "metadata": {},
   "outputs": [],
   "source": [
    "#zip example\n",
    "Name = ['tom','jerry','nick']\n",
    "Age = [25,23,21]\n",
    "list_tuple = list(zip(Name,Age))\n",
    "list_tuple"
   ]
  },
  {
   "cell_type": "code",
   "execution_count": null,
   "id": "353f4448",
   "metadata": {},
   "outputs": [],
   "source": [
    "# Converting lists of tuples into\n",
    "# pandas Dataframe.\n",
    "z = pd.DataFrame(list_tuple,columns=['Name','Age'])\n",
    "z"
   ]
  },
  {
   "cell_type": "code",
   "execution_count": null,
   "id": "c6b5a927",
   "metadata": {},
   "outputs": [],
   "source": [
    "tup = list(zip([\"bar\", \"bar\", \"baz\", \"baz\", \"foo\", \"foo\", \"qux\", \"qux\"],\n",
    "        [\"one\", \"two\", \"one\", \"two\", \"one\", \"two\", \"one\", \"two\"],))\n",
    "tup"
   ]
  },
  {
   "cell_type": "code",
   "execution_count": null,
   "id": "e3dc83e7",
   "metadata": {},
   "outputs": [],
   "source": [
    "inde = pd.MultiIndex.from_tuples(tup,names=['first','second'])\n",
    "inde"
   ]
  },
  {
   "cell_type": "code",
   "execution_count": null,
   "id": "df1e050c",
   "metadata": {},
   "outputs": [],
   "source": [
    "p = pd.DataFrame(np.random.randn(8,2),index=inde,columns=[\"A\",\"B\"])\n",
    "p"
   ]
  },
  {
   "cell_type": "code",
   "execution_count": null,
   "id": "41bdacfa",
   "metadata": {},
   "outputs": [],
   "source": [
    "#The stack() method “compresses” a level in the DataFrame’s columns:\n",
    "s = p.stack()\n",
    "s"
   ]
  },
  {
   "cell_type": "code",
   "execution_count": null,
   "id": "663eac1a",
   "metadata": {},
   "outputs": [],
   "source": [
    "#With a “stacked” DataFrame or Series (having a MultiIndex as the index), the inverse operation of stack() is unstack(), which by default unstacks the last level:\n",
    "s.unstack()"
   ]
  },
  {
   "cell_type": "code",
   "execution_count": null,
   "id": "676e0747",
   "metadata": {},
   "outputs": [],
   "source": [
    "s.unstack(1)"
   ]
  },
  {
   "cell_type": "code",
   "execution_count": null,
   "id": "424923bd",
   "metadata": {},
   "outputs": [],
   "source": [
    "s.unstack(0)"
   ]
  },
  {
   "cell_type": "markdown",
   "id": "fc2b8f13",
   "metadata": {},
   "source": [
    "**Pivot tables**"
   ]
  },
  {
   "cell_type": "code",
   "execution_count": null,
   "id": "5f166cf7",
   "metadata": {},
   "outputs": [],
   "source": [
    "df_p = pd.DataFrame({\n",
    "    \"A\" : [\"one\",\"one\",\"two\",\"three\"]*3,\n",
    "    \"B\" : [\"A\",\"B\",\"C\"]*4,\n",
    "    \"C\" : [\"foo\",\"foo\",\"foo\",\"bar\",\"bar\",\"bar\"]*2,\n",
    "    \"D\" : np.random.randn(12),\n",
    "    \"E\" : np.random.randn(12),\n",
    " })\n",
    "df_p"
   ]
  },
  {
   "cell_type": "code",
   "execution_count": null,
   "id": "80c73dce",
   "metadata": {},
   "outputs": [],
   "source": [
    "# for more : https://pandas.pydata.org/docs/user_guide/reshaping.html#reshaping-pivot\n",
    "piv = pd.pivot_table(df,values=\"D\",index=[\"A\",\"B\"],columns=[\"C\"])\n",
    "piv"
   ]
  },
  {
   "cell_type": "markdown",
   "id": "91b42f2d",
   "metadata": {},
   "source": [
    "**Time series**\n",
    "\n",
    "pandas has simple, powerful, and efficient functionality for performing resampling operations during frequency conversion (e.g., converting secondly data into 5-minutely data). This is extremely common in, but not limited to, financial applications. See the Time Series section."
   ]
  },
  {
   "cell_type": "code",
   "execution_count": null,
   "id": "bc4c3450",
   "metadata": {},
   "outputs": [],
   "source": [
    "rng  = pd.date_range(\"1/1/2023\",periods=100,freq=\"S\")\n",
    "rng"
   ]
  },
  {
   "cell_type": "code",
   "execution_count": null,
   "id": "c0c07698",
   "metadata": {},
   "outputs": [],
   "source": [
    "time_s = pd.Series(np.random.randint(0,500,len(rng)),index=rng)\n",
    "time_s"
   ]
  },
  {
   "cell_type": "code",
   "execution_count": null,
   "id": "d6b8ad59",
   "metadata": {},
   "outputs": [],
   "source": [
    "#https://stackoverflow.com/questions/35339139/what-values-are-valid-in-pandas-freq-tags"
   ]
  },
  {
   "cell_type": "code",
   "execution_count": null,
   "id": "15114f85",
   "metadata": {},
   "outputs": [],
   "source": [
    "ts1 = pd.date_range(\"2023-01-01\", periods=10,freq='S')\n",
    "ts1"
   ]
  },
  {
   "cell_type": "code",
   "execution_count": null,
   "id": "ce15476b",
   "metadata": {},
   "outputs": [],
   "source": [
    "ser = pd.Series(np.random.randint(0,500,len(ts1)),index=ts1)\n",
    "ser\n",
    "ser.resample('5Min').min()"
   ]
  },
  {
   "cell_type": "code",
   "execution_count": null,
   "id": "c98db277",
   "metadata": {},
   "outputs": [],
   "source": [
    "ts1_utc = ser.tz_localize(\"UTC\")\n",
    "ts1_utc"
   ]
  },
  {
   "cell_type": "code",
   "execution_count": null,
   "id": "8322040e",
   "metadata": {},
   "outputs": [],
   "source": [
    "ts1_utc.tz_convert(\"Asia/Kolkata\")"
   ]
  },
  {
   "cell_type": "code",
   "execution_count": null,
   "id": "28978285",
   "metadata": {},
   "outputs": [],
   "source": [
    "tz_2 = pd.date_range(\"2023-01-01\",periods=5,freq='M')\n",
    "ser2 = pd.Series(np.random.randn(len(tz_2)),index = tz_2)\n",
    "ser2"
   ]
  },
  {
   "cell_type": "code",
   "execution_count": null,
   "id": "f2ee9b58",
   "metadata": {},
   "outputs": [],
   "source": [
    "ps = tz_2.to_period()\n",
    "ps"
   ]
  },
  {
   "cell_type": "code",
   "execution_count": null,
   "id": "287e0a8e",
   "metadata": {},
   "outputs": [],
   "source": [
    "ps.to_timestamp()"
   ]
  },
  {
   "cell_type": "code",
   "execution_count": null,
   "id": "c5e2a2fe",
   "metadata": {},
   "outputs": [],
   "source": [
    "con = pd.period_range(\"2022Q1\",\"2022Q4\",freq='Q-Nov')\n",
    "con"
   ]
  },
  {
   "cell_type": "code",
   "execution_count": null,
   "id": "8665aa3c",
   "metadata": {},
   "outputs": [],
   "source": [
    "st = pd.Series(np.random.randn(len(con)),con)\n",
    "st"
   ]
  },
  {
   "cell_type": "code",
   "execution_count": null,
   "id": "234f7d8d",
   "metadata": {},
   "outputs": [],
   "source": [
    "st.index = (con.asfreq(\"M\",\"e\") + 1).asfreq(\"H\",\"s\") + 9\n",
    "st.head()"
   ]
  },
  {
   "cell_type": "markdown",
   "id": "43bd68c3",
   "metadata": {},
   "source": [
    "**Categoricals**"
   ]
  },
  {
   "cell_type": "code",
   "execution_count": 51,
   "id": "489883f9",
   "metadata": {},
   "outputs": [
    {
     "data": {
      "text/html": [
       "<div>\n",
       "<style scoped>\n",
       "    .dataframe tbody tr th:only-of-type {\n",
       "        vertical-align: middle;\n",
       "    }\n",
       "\n",
       "    .dataframe tbody tr th {\n",
       "        vertical-align: top;\n",
       "    }\n",
       "\n",
       "    .dataframe thead th {\n",
       "        text-align: right;\n",
       "    }\n",
       "</style>\n",
       "<table border=\"1\" class=\"dataframe\">\n",
       "  <thead>\n",
       "    <tr style=\"text-align: right;\">\n",
       "      <th></th>\n",
       "      <th>ID</th>\n",
       "      <th>Raw_Grade</th>\n",
       "    </tr>\n",
       "  </thead>\n",
       "  <tbody>\n",
       "    <tr>\n",
       "      <th>0</th>\n",
       "      <td>1</td>\n",
       "      <td>a</td>\n",
       "    </tr>\n",
       "    <tr>\n",
       "      <th>1</th>\n",
       "      <td>2</td>\n",
       "      <td>a</td>\n",
       "    </tr>\n",
       "    <tr>\n",
       "      <th>2</th>\n",
       "      <td>3</td>\n",
       "      <td>b</td>\n",
       "    </tr>\n",
       "    <tr>\n",
       "      <th>3</th>\n",
       "      <td>4</td>\n",
       "      <td>b</td>\n",
       "    </tr>\n",
       "    <tr>\n",
       "      <th>4</th>\n",
       "      <td>5</td>\n",
       "      <td>a</td>\n",
       "    </tr>\n",
       "    <tr>\n",
       "      <th>5</th>\n",
       "      <td>6</td>\n",
       "      <td>e</td>\n",
       "    </tr>\n",
       "  </tbody>\n",
       "</table>\n",
       "</div>"
      ],
      "text/plain": [
       "   ID Raw_Grade\n",
       "0   1         a\n",
       "1   2         a\n",
       "2   3         b\n",
       "3   4         b\n",
       "4   5         a\n",
       "5   6         e"
      ]
     },
     "execution_count": 51,
     "metadata": {},
     "output_type": "execute_result"
    }
   ],
   "source": [
    "df_cat = pd.DataFrame({\n",
    "    \"ID\":[1,2,3,4,5,6],\n",
    "    \"Raw_Grade\":[\"a\",\"a\",\"b\",\"b\",\"a\",\"e\"]\n",
    "  })\n",
    "df_cat"
   ]
  },
  {
   "cell_type": "code",
   "execution_count": 54,
   "id": "b2a32d8c",
   "metadata": {},
   "outputs": [
    {
     "data": {
      "text/plain": [
       "0    a\n",
       "1    a\n",
       "2    b\n",
       "3    b\n",
       "4    a\n",
       "5    e\n",
       "Name: New_grade, dtype: category\n",
       "Categories (3, object): ['a', 'b', 'e']"
      ]
     },
     "execution_count": 54,
     "metadata": {},
     "output_type": "execute_result"
    }
   ],
   "source": [
    "df_cat[\"New_grade\"] = df_cat[\"Raw_Grade\"].astype(\"category\")\n",
    "df_cat[\"New_grade\"]"
   ]
  },
  {
   "cell_type": "markdown",
   "id": "d1e4cbad",
   "metadata": {},
   "source": [
    "Rename the categories to more meaningful names:"
   ]
  },
  {
   "cell_type": "code",
   "execution_count": 57,
   "id": "aa5f25f1",
   "metadata": {},
   "outputs": [
    {
     "data": {
      "text/plain": [
       "0    1Fuck\n",
       "1    1Fuck\n",
       "2    2Fuck\n",
       "3    2Fuck\n",
       "4    1Fuck\n",
       "5    3Fuck\n",
       "Name: New_grade, dtype: category\n",
       "Categories (3, object): ['1Fuck', '2Fuck', '3Fuck']"
      ]
     },
     "execution_count": 57,
     "metadata": {},
     "output_type": "execute_result"
    }
   ],
   "source": [
    "brand_new_values = [\"1Fuck\",\"2Fuck\",\"3Fuck\"]\n",
    "df_cat[\"New_grade\"] = df_cat[\"New_grade\"].cat.rename_categories(brand_new_values)\n",
    "df_cat[\"New_grade\"]"
   ]
  },
  {
   "cell_type": "code",
   "execution_count": 59,
   "id": "b9638e91",
   "metadata": {},
   "outputs": [],
   "source": [
    "df_cat[\"New_grade\"] = df_cat[\"New_grade\"].cat.set_categories([\"1Fck\",\"2Fcuk\",\"3Fuck\",\"4Fuck\",\"5Fuck\"])"
   ]
  },
  {
   "cell_type": "code",
   "execution_count": 60,
   "id": "1d276367",
   "metadata": {},
   "outputs": [
    {
     "data": {
      "text/plain": [
       "0      NaN\n",
       "1      NaN\n",
       "2      NaN\n",
       "3      NaN\n",
       "4      NaN\n",
       "5    3Fuck\n",
       "Name: New_grade, dtype: category\n",
       "Categories (5, object): ['1Fck', '2Fcuk', '3Fuck', '4Fuck', '5Fuck']"
      ]
     },
     "execution_count": 60,
     "metadata": {},
     "output_type": "execute_result"
    }
   ],
   "source": [
    "df_cat[\"New_grade\"]"
   ]
  },
  {
   "cell_type": "code",
   "execution_count": 62,
   "id": "805bd467",
   "metadata": {},
   "outputs": [
    {
     "data": {
      "text/html": [
       "<div>\n",
       "<style scoped>\n",
       "    .dataframe tbody tr th:only-of-type {\n",
       "        vertical-align: middle;\n",
       "    }\n",
       "\n",
       "    .dataframe tbody tr th {\n",
       "        vertical-align: top;\n",
       "    }\n",
       "\n",
       "    .dataframe thead th {\n",
       "        text-align: right;\n",
       "    }\n",
       "</style>\n",
       "<table border=\"1\" class=\"dataframe\">\n",
       "  <thead>\n",
       "    <tr style=\"text-align: right;\">\n",
       "      <th></th>\n",
       "      <th>ID</th>\n",
       "      <th>Raw_Grade</th>\n",
       "      <th>New_grade</th>\n",
       "    </tr>\n",
       "  </thead>\n",
       "  <tbody>\n",
       "    <tr>\n",
       "      <th>5</th>\n",
       "      <td>6</td>\n",
       "      <td>e</td>\n",
       "      <td>3Fuck</td>\n",
       "    </tr>\n",
       "    <tr>\n",
       "      <th>0</th>\n",
       "      <td>1</td>\n",
       "      <td>a</td>\n",
       "      <td>NaN</td>\n",
       "    </tr>\n",
       "    <tr>\n",
       "      <th>1</th>\n",
       "      <td>2</td>\n",
       "      <td>a</td>\n",
       "      <td>NaN</td>\n",
       "    </tr>\n",
       "    <tr>\n",
       "      <th>2</th>\n",
       "      <td>3</td>\n",
       "      <td>b</td>\n",
       "      <td>NaN</td>\n",
       "    </tr>\n",
       "    <tr>\n",
       "      <th>3</th>\n",
       "      <td>4</td>\n",
       "      <td>b</td>\n",
       "      <td>NaN</td>\n",
       "    </tr>\n",
       "    <tr>\n",
       "      <th>4</th>\n",
       "      <td>5</td>\n",
       "      <td>a</td>\n",
       "      <td>NaN</td>\n",
       "    </tr>\n",
       "  </tbody>\n",
       "</table>\n",
       "</div>"
      ],
      "text/plain": [
       "   ID Raw_Grade New_grade\n",
       "5   6         e     3Fuck\n",
       "0   1         a       NaN\n",
       "1   2         a       NaN\n",
       "2   3         b       NaN\n",
       "3   4         b       NaN\n",
       "4   5         a       NaN"
      ]
     },
     "execution_count": 62,
     "metadata": {},
     "output_type": "execute_result"
    }
   ],
   "source": [
    "df_cat.sort_values(by=\"New_grade\")"
   ]
  },
  {
   "cell_type": "code",
   "execution_count": 63,
   "id": "1707c789",
   "metadata": {},
   "outputs": [
    {
     "data": {
      "text/plain": [
       "New_grade\n",
       "1Fck     0\n",
       "2Fcuk    0\n",
       "3Fuck    1\n",
       "4Fuck    0\n",
       "5Fuck    0\n",
       "dtype: int64"
      ]
     },
     "execution_count": 63,
     "metadata": {},
     "output_type": "execute_result"
    }
   ],
   "source": [
    "df_cat.groupby(\"New_grade\").size()"
   ]
  },
  {
   "cell_type": "markdown",
   "id": "3b02a521",
   "metadata": {},
   "source": [
    "__Plotting__"
   ]
  },
  {
   "cell_type": "code",
   "execution_count": 65,
   "id": "99124e27",
   "metadata": {},
   "outputs": [],
   "source": [
    "import matplotlib.pyplot as plt\n",
    "plt.close() #The plt.close method is used to close a figure window:"
   ]
  },
  {
   "cell_type": "code",
   "execution_count": 77,
   "id": "c02616a5",
   "metadata": {},
   "outputs": [],
   "source": [
    "ts = pd.Series(np.random.randn(10),index=pd.date_range(\"1/1/2000\",periods=10))"
   ]
  },
  {
   "cell_type": "code",
   "execution_count": 78,
   "id": "5b1cb098",
   "metadata": {},
   "outputs": [
    {
     "data": {
      "text/plain": [
       "2000-01-01   -0.552880\n",
       "2000-01-02   -1.312312\n",
       "2000-01-03    0.492065\n",
       "2000-01-04    0.828390\n",
       "2000-01-05    1.700115\n",
       "2000-01-06    0.873384\n",
       "2000-01-07    0.300203\n",
       "2000-01-08    0.538141\n",
       "2000-01-09    0.491844\n",
       "2000-01-10   -0.944098\n",
       "Freq: D, dtype: float64"
      ]
     },
     "execution_count": 78,
     "metadata": {},
     "output_type": "execute_result"
    }
   ],
   "source": [
    "ts = ts.cumsum()\n",
    "ts"
   ]
  },
  {
   "cell_type": "code",
   "execution_count": 79,
   "id": "34546a68",
   "metadata": {},
   "outputs": [
    {
     "data": {
      "text/plain": [
       "<AxesSubplot: >"
      ]
     },
     "execution_count": 79,
     "metadata": {},
     "output_type": "execute_result"
    },
    {
     "data": {
      "image/png": "[encoded data removed]",
      "text/plain": [
       "<Figure size 640x480 with 1 Axes>"
      ]
     },
     "metadata": {},
     "output_type": "display_data"
    }
   ],
   "source": [
    "ts.plot()"
   ]
  },
  {
   "cell_type": "code",
   "execution_count": 81,
   "id": "27ec45ed",
   "metadata": {},
   "outputs": [],
   "source": [
    "df_pl = pd.DataFrame(np.random.rand(10,4),index=ts.index,columns=[\"A\",\"B\",\"C\",\"D\"])"
   ]
  },
  {
   "cell_type": "code",
   "execution_count": 82,
   "id": "9811a6c5",
   "metadata": {},
   "outputs": [],
   "source": [
    "df_pl = df.cumsum()"
   ]
  },
  {
   "cell_type": "code",
   "execution_count": 83,
   "id": "ddf5d836",
   "metadata": {},
   "outputs": [
    {
     "data": {
      "text/plain": [
       "<Figure size 640x480 with 0 Axes>"
      ]
     },
     "metadata": {},
     "output_type": "display_data"
    }
   ],
   "source": [
    "plt.figure();"
   ]
  },
  {
   "cell_type": "code",
   "execution_count": 74,
   "id": "c2bc9c0b",
   "metadata": {},
   "outputs": [
    {
     "data": {
      "text/plain": [
       "<matplotlib.legend.Legend at 0x14a2dc34c90>"
      ]
     },
     "execution_count": 74,
     "metadata": {},
     "output_type": "execute_result"
    },
    {
     "data": {
      "image/png": "[encoded data removed]",
      "text/plain": [
       "<Figure size 640x480 with 1 Axes>"
      ]
     },
     "metadata": {},
     "output_type": "display_data"
    }
   ],
   "source": [
    "df_pl.plot()\n",
    "plt.legend(loc=\"best\")"
   ]
  },
  {
   "cell_type": "markdown",
   "id": "2a922630",
   "metadata": {},
   "source": [
    "__Importing and exporting data__"
   ]
  },
  {
   "cell_type": "code",
   "execution_count": null,
   "id": "5443eecc",
   "metadata": {},
   "outputs": [],
   "source": []
  }
 ],
 "metadata": {
  "kernelspec": {
   "display_name": "Python 3 (ipykernel)",
   "language": "python",
   "name": "python3"
  },
  "language_info": {
   "codemirror_mode": {
    "name": "ipython",
    "version": 3
   },
   "file_extension": ".py",
   "mimetype": "text/x-python",
   "name": "python",
   "nbconvert_exporter": "python",
   "pygments_lexer": "ipython3",
   "version": "3.11.1"
  }
 },
 "nbformat": 4,
 "nbformat_minor": 5
}
